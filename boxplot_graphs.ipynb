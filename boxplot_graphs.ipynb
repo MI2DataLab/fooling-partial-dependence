{
 "cells": [
  {
   "cell_type": "code",
   "execution_count": 236,
   "metadata": {},
   "outputs": [],
   "source": [
    "import pandas as pd\n",
    "import plotly.express as px\n",
    "import plotly.graph_objects as go"
   ]
  },
  {
   "cell_type": "code",
   "execution_count": 237,
   "metadata": {},
   "outputs": [],
   "source": [
    "ALE_COLOR = 'rgba(30,144,255,1)'\n",
    "PD_COLOR = 'rgba(220,20,60,1)'\n",
    "ALE_COLOR_LIGHT = 'rgba(30,144,255,0.2)'\n",
    "PD_COLOR_LIGHT = 'rgba(220,20,60,0.2)'"
   ]
  },
  {
   "cell_type": "code",
   "execution_count": 238,
   "metadata": {},
   "outputs": [],
   "source": [
    "CSV_PATH = \"results_final/all_rows.csv\"\n",
    "METRIC_NAMES = {\n",
    "    \"rho\": \"Spearman rho\",\n",
    "    \"l1\": \"L1\",\n",
    "    \"l2\": \"L2\",\n",
    "    \"max_diff\": \"maximum distance (Linf)\"    \n",
    "}"
   ]
  },
  {
   "cell_type": "code",
   "execution_count": 239,
   "metadata": {},
   "outputs": [
    {
     "data": {
      "text/html": [
       "<div>\n",
       "<style scoped>\n",
       "    .dataframe tbody tr th:only-of-type {\n",
       "        vertical-align: middle;\n",
       "    }\n",
       "\n",
       "    .dataframe tbody tr th {\n",
       "        vertical-align: top;\n",
       "    }\n",
       "\n",
       "    .dataframe thead th {\n",
       "        text-align: right;\n",
       "    }\n",
       "</style>\n",
       "<table border=\"1\" class=\"dataframe\">\n",
       "  <thead>\n",
       "    <tr style=\"text-align: right;\">\n",
       "      <th></th>\n",
       "      <th>name</th>\n",
       "      <th>path</th>\n",
       "      <th>variable</th>\n",
       "      <th>size</th>\n",
       "      <th>seed</th>\n",
       "      <th>lr</th>\n",
       "      <th>iter</th>\n",
       "      <th>constrain</th>\n",
       "      <th>dist_weight</th>\n",
       "      <th>ale_l2</th>\n",
       "      <th>ale_l1</th>\n",
       "      <th>ale_max_diff</th>\n",
       "      <th>ale_rho</th>\n",
       "      <th>pd_l2</th>\n",
       "      <th>pd_l1</th>\n",
       "      <th>pd_max_diff</th>\n",
       "      <th>pd_rho</th>\n",
       "    </tr>\n",
       "  </thead>\n",
       "  <tbody>\n",
       "    <tr>\n",
       "      <th>0</th>\n",
       "      <td>heart</td>\n",
       "      <td>results_final/heart/age_512_0_gradient_0.1_50_...</td>\n",
       "      <td>age</td>\n",
       "      <td>512</td>\n",
       "      <td>0</td>\n",
       "      <td>0.1</td>\n",
       "      <td>50</td>\n",
       "      <td>False</td>\n",
       "      <td>0.01</td>\n",
       "      <td>0.025600</td>\n",
       "      <td>0.025600</td>\n",
       "      <td>0.067292</td>\n",
       "      <td>-0.859558</td>\n",
       "      <td>0.038559</td>\n",
       "      <td>0.038559</td>\n",
       "      <td>0.078188</td>\n",
       "      <td>-0.994805</td>\n",
       "    </tr>\n",
       "    <tr>\n",
       "      <th>1</th>\n",
       "      <td>heart</td>\n",
       "      <td>results_final/heart/age_256_0_gradient_0.1_50_...</td>\n",
       "      <td>age</td>\n",
       "      <td>256</td>\n",
       "      <td>0</td>\n",
       "      <td>0.1</td>\n",
       "      <td>50</td>\n",
       "      <td>False</td>\n",
       "      <td>0.01</td>\n",
       "      <td>0.020159</td>\n",
       "      <td>0.020159</td>\n",
       "      <td>0.043379</td>\n",
       "      <td>-0.842653</td>\n",
       "      <td>0.041103</td>\n",
       "      <td>0.041103</td>\n",
       "      <td>0.104379</td>\n",
       "      <td>-0.885714</td>\n",
       "    </tr>\n",
       "    <tr>\n",
       "      <th>2</th>\n",
       "      <td>heart</td>\n",
       "      <td>results_final/heart/age_128_0_gradient_0.1_50_...</td>\n",
       "      <td>age</td>\n",
       "      <td>128</td>\n",
       "      <td>0</td>\n",
       "      <td>0.1</td>\n",
       "      <td>50</td>\n",
       "      <td>False</td>\n",
       "      <td>0.01</td>\n",
       "      <td>0.018468</td>\n",
       "      <td>0.018468</td>\n",
       "      <td>0.044442</td>\n",
       "      <td>-0.434330</td>\n",
       "      <td>0.025585</td>\n",
       "      <td>0.025585</td>\n",
       "      <td>0.052349</td>\n",
       "      <td>-0.984416</td>\n",
       "    </tr>\n",
       "    <tr>\n",
       "      <th>3</th>\n",
       "      <td>heart</td>\n",
       "      <td>results_final/heart/age_64_0_gradient_0.1_50_0...</td>\n",
       "      <td>age</td>\n",
       "      <td>64</td>\n",
       "      <td>0</td>\n",
       "      <td>0.1</td>\n",
       "      <td>50</td>\n",
       "      <td>False</td>\n",
       "      <td>0.01</td>\n",
       "      <td>0.011359</td>\n",
       "      <td>0.011359</td>\n",
       "      <td>0.023311</td>\n",
       "      <td>-0.304291</td>\n",
       "      <td>0.011301</td>\n",
       "      <td>0.011301</td>\n",
       "      <td>0.028792</td>\n",
       "      <td>-0.976623</td>\n",
       "    </tr>\n",
       "    <tr>\n",
       "      <th>5</th>\n",
       "      <td>heart</td>\n",
       "      <td>results_final/heart/age_32_0_gradient_0.1_50_0...</td>\n",
       "      <td>age</td>\n",
       "      <td>32</td>\n",
       "      <td>0</td>\n",
       "      <td>0.1</td>\n",
       "      <td>50</td>\n",
       "      <td>False</td>\n",
       "      <td>0.01</td>\n",
       "      <td>0.024567</td>\n",
       "      <td>0.024567</td>\n",
       "      <td>0.087358</td>\n",
       "      <td>-0.890767</td>\n",
       "      <td>0.033288</td>\n",
       "      <td>0.033288</td>\n",
       "      <td>0.084878</td>\n",
       "      <td>-0.942857</td>\n",
       "    </tr>\n",
       "  </tbody>\n",
       "</table>\n",
       "</div>"
      ],
      "text/plain": [
       "    name  ...    pd_rho\n",
       "0  heart  ... -0.994805\n",
       "1  heart  ... -0.885714\n",
       "2  heart  ... -0.984416\n",
       "3  heart  ... -0.976623\n",
       "5  heart  ... -0.942857\n",
       "\n",
       "[5 rows x 17 columns]"
      ]
     },
     "execution_count": 239,
     "metadata": {},
     "output_type": "execute_result"
    }
   ],
   "source": [
    "df = pd.read_csv(CSV_PATH).drop(columns=['Unnamed: 0']).drop_duplicates()\n",
    "df.head()"
   ]
  },
  {
   "cell_type": "code",
   "execution_count": 240,
   "metadata": {},
   "outputs": [],
   "source": [
    "df = df[df[\"size\"].isin([32, 64, 128])]\n",
    "df = df[df.dist_weight.isin([0, 0.0001, 0.001, 0.01, 0.1, 1])]"
   ]
  },
  {
   "cell_type": "code",
   "execution_count": 241,
   "metadata": {},
   "outputs": [],
   "source": [
    "def split_rows(df):    \n",
    "    orig_len = len(df)\n",
    "    for metric in (\"l1\", \"l2\", \"max_diff\", \"rho\"):\n",
    "        df[metric] = df[[f\"ale_{metric}\", f\"pd_{metric}\"]].values.tolist()\n",
    "        df = df.explode(metric)\n",
    "\n",
    "    cond_ale = (df.l1 == df.ale_l1) & (df.l2 == df.ale_l2) & (df.ale_max_diff == df.max_diff) & (df.ale_rho == df.rho) \n",
    "    cond_pd = (df.l1 == df.pd_l1) & (df.l2 == df.pd_l2) & (df.pd_max_diff == df.max_diff) & (df.pd_rho == df.rho) \n",
    "\n",
    "    df = df[cond_ale | cond_pd]\n",
    "    # assert len(df) == 2 * orig_len, f\"{len(df)}, {2 *orig_len}\"\n",
    "\n",
    "    cond_ale = (df.l1 == df.ale_l1) & (df.l2 == df.ale_l2) & (df.ale_max_diff == df.max_diff) & (df.ale_rho == df.rho) \n",
    "    cond_pd = (df.l1 == df.pd_l1) & (df.l2 == df.pd_l2) & (df.pd_max_diff == df.max_diff) & (df.pd_rho == df.rho)\n",
    "    df.loc[cond_ale, \"explanation\"] = \"ale\"\n",
    "    df.loc[cond_pd, \"explanation\"] = \"pd\"\n",
    "\n",
    "    return df"
   ]
  },
  {
   "cell_type": "code",
   "execution_count": 242,
   "metadata": {},
   "outputs": [],
   "source": [
    "df = split_rows(df)"
   ]
  },
  {
   "cell_type": "code",
   "execution_count": 243,
   "metadata": {},
   "outputs": [],
   "source": [
    "def boxplots(variable, metric=\"rho\", df=df):\n",
    "    df[\"split variable\"] = f\"{variable} \" + df[variable].astype(str)\n",
    "    df = df.sort_values(by=[\"name\", \"variable\", variable])\n",
    "    groups = df.groupby([\"name\", \"variable\"])\n",
    "    for (n, v), group in groups:\n",
    "        group.variable = group.variable.astype(str)\n",
    "        fig = px.box(group, x=\"split variable\", y=metric, color=\"explanation\", title=f\"{n}, variable {v}, split by {variable}\")\n",
    "        fig.update_traces(quartilemethod=\"exclusive\") # or \"inclusive\", or \"linear\" by default\n",
    "        fig.show()"
   ]
  },
  {
   "cell_type": "code",
   "execution_count": 244,
   "metadata": {},
   "outputs": [
    {
     "data": {
      "application/vnd.plotly.v1+json": {
       "config": {
        "plotlyServerURL": "https://plot.ly"
       },
       "data": [
        {
         "alignmentgroup": "True",
         "hovertemplate": "explanation=ale<br>split variable=%{x}<br>rho=%{y}<extra></extra>",
         "legendgroup": "ale",
         "marker": {
          "color": "#636efa"
         },
         "name": "ale",
         "notched": false,
         "offsetgroup": "ale",
         "orientation": "v",
         "quartilemethod": "exclusive",
         "showlegend": true,
         "type": "box",
         "x": [
          "size 32",
          "size 32",
          "size 32",
          "size 32",
          "size 32",
          "size 32",
          "size 32",
          "size 32",
          "size 32",
          "size 32",
          "size 32",
          "size 32",
          "size 32",
          "size 32",
          "size 32",
          "size 32",
          "size 32",
          "size 32",
          "size 32",
          "size 32",
          "size 32",
          "size 32",
          "size 32",
          "size 32",
          "size 32",
          "size 32",
          "size 32",
          "size 32",
          "size 32",
          "size 32",
          "size 64",
          "size 64",
          "size 64",
          "size 64",
          "size 64",
          "size 64",
          "size 64",
          "size 64",
          "size 64",
          "size 64",
          "size 64",
          "size 64",
          "size 64",
          "size 64",
          "size 64",
          "size 64",
          "size 64",
          "size 64",
          "size 64",
          "size 64",
          "size 64",
          "size 64",
          "size 64",
          "size 64",
          "size 64",
          "size 64",
          "size 64",
          "size 64",
          "size 64",
          "size 64",
          "size 128",
          "size 128",
          "size 128",
          "size 128",
          "size 128",
          "size 128",
          "size 128",
          "size 128",
          "size 128",
          "size 128",
          "size 128",
          "size 128",
          "size 128",
          "size 128",
          "size 128",
          "size 128",
          "size 128",
          "size 128",
          "size 128",
          "size 128",
          "size 128",
          "size 128",
          "size 128",
          "size 128",
          "size 128",
          "size 128",
          "size 128",
          "size 128",
          "size 128",
          "size 128"
         ],
         "x0": " ",
         "xaxis": "x",
         "y": [
          -0.7141000649772579,
          -0.7244964262508121,
          -0.7543859649122806,
          0.0799220272904483,
          0.9116309291747888,
          -0.8609486679662117,
          -0.7790773229369721,
          -0.7244964262508121,
          -0.3788174139051332,
          0.8830409356725145,
          -0.5945419103313839,
          -0.4827810266406757,
          -0.49317738791423,
          -0.48408057179987,
          0.8531513970110461,
          -0.7426900584795322,
          -0.6933073424301494,
          -0.5789473684210527,
          -0.0526315789473684,
          0.9428200129954516,
          -0.8310591293047433,
          -0.8726445743989604,
          -0.8375568551007148,
          -0.4879792072774529,
          0.9831059129304744,
          -0.5074723846653671,
          -0.6972059779077323,
          -0.603638726445744,
          -0.1085120207927225,
          0.9207277452891488,
          -0.1319038336582196,
          -0.1228070175438596,
          -0.3346328784925276,
          -0.3424301494476933,
          0.8531513970110461,
          -0.4398960363872644,
          -0.6400259909031838,
          -0.5269655620532814,
          -0.4502923976608187,
          0.7946718648473036,
          -0.7244964262508121,
          -0.7296946068875894,
          -0.6829109811565952,
          -0.4230019493177388,
          0.8830409356725145,
          -0.7569850552306693,
          -0.7115009746588693,
          -0.7205977907732294,
          0.0006497725795971,
          0.985705003248863,
          -0.7894736842105263,
          -0.7296946068875894,
          -0.7478882391163093,
          -0.603638726445744,
          0.8739441195581545,
          -0.5685510071474983,
          -0.6075373619233267,
          -0.6270305393112411,
          -0.4217024041585445,
          0.9155295646523716,
          -0.7712800519818063,
          -0.7426900584795322,
          -0.6621182586094867,
          -0.6504223521767382,
          0.1526965562053281,
          -0.49317738791423,
          -0.6192332683560754,
          -0.5906432748538011,
          -0.4035087719298245,
          0.802469135802469,
          -0.52046783625731,
          -0.5633528265107213,
          -0.5737491877842755,
          -0.3476283300844703,
          0.8401559454191033,
          -0.5152696556205328,
          -0.695906432748538,
          -0.6244314489928525,
          -0.3866146848602989,
          0.8310591293047433,
          -0.0097465886939571,
          -0.0162443144899285,
          -0.1371020142949967,
          0.120207927225471,
          0.9142300194931776,
          -0.7725795971410006,
          -0.7205977907732294,
          -0.6673164392462638,
          -0.6374269005847953,
          0.8037686809616633
         ],
         "y0": " ",
         "yaxis": "y"
        },
        {
         "alignmentgroup": "True",
         "hovertemplate": "explanation=pd<br>split variable=%{x}<br>rho=%{y}<extra></extra>",
         "legendgroup": "pd",
         "marker": {
          "color": "#EF553B"
         },
         "name": "pd",
         "notched": false,
         "offsetgroup": "pd",
         "orientation": "v",
         "quartilemethod": "exclusive",
         "showlegend": true,
         "type": "box",
         "x": [
          "size 32",
          "size 32",
          "size 32",
          "size 32",
          "size 32",
          "size 32",
          "size 32",
          "size 32",
          "size 32",
          "size 32",
          "size 32",
          "size 32",
          "size 32",
          "size 32",
          "size 32",
          "size 32",
          "size 32",
          "size 32",
          "size 32",
          "size 32",
          "size 32",
          "size 32",
          "size 32",
          "size 32",
          "size 32",
          "size 32",
          "size 32",
          "size 32",
          "size 32",
          "size 32",
          "size 64",
          "size 64",
          "size 64",
          "size 64",
          "size 64",
          "size 64",
          "size 64",
          "size 64",
          "size 64",
          "size 64",
          "size 64",
          "size 64",
          "size 64",
          "size 64",
          "size 64",
          "size 64",
          "size 64",
          "size 64",
          "size 64",
          "size 64",
          "size 64",
          "size 64",
          "size 64",
          "size 64",
          "size 64",
          "size 64",
          "size 64",
          "size 64",
          "size 64",
          "size 64",
          "size 128",
          "size 128",
          "size 128",
          "size 128",
          "size 128",
          "size 128",
          "size 128",
          "size 128",
          "size 128",
          "size 128",
          "size 128",
          "size 128",
          "size 128",
          "size 128",
          "size 128",
          "size 128",
          "size 128",
          "size 128",
          "size 128",
          "size 128",
          "size 128",
          "size 128",
          "size 128",
          "size 128",
          "size 128",
          "size 128",
          "size 128",
          "size 128",
          "size 128",
          "size 128"
         ],
         "x0": " ",
         "xaxis": "x",
         "y": [
          -0.8701298701298701,
          -0.8415584415584414,
          -0.6324675324675325,
          0.5584415584415584,
          0.9896103896103896,
          -0.9922077922077924,
          -0.9922077922077924,
          -0.9805194805194803,
          -0.5662337662337662,
          0.9649350649350648,
          -0.996103896103896,
          -0.9935064935064932,
          -0.9831168831168832,
          -0.6051948051948052,
          0.944155844155844,
          -0.9454545454545454,
          -0.9389610389610388,
          -0.8974025974025974,
          0.4636363636363636,
          0.9870129870129868,
          -0.9948051948051948,
          -0.9935064935064932,
          -0.9727272727272728,
          -0.2623376623376623,
          0.9922077922077924,
          -0.9805194805194803,
          -0.9636363636363636,
          -0.916883116883117,
          0.1025974025974025,
          0.9831168831168832,
          -0.9779220779220776,
          -0.9675324675324676,
          -0.9155844155844156,
          -0.3584415584415584,
          0.8792207792207792,
          -0.9792207792207792,
          -0.9766233766233766,
          -0.951948051948052,
          -0.4831168831168831,
          0.9506493506493506,
          -0.9792207792207792,
          -0.9701298701298702,
          -0.9545454545454546,
          -0.0519480519480519,
          0.9896103896103896,
          -0.8999999999999999,
          -0.9129870129870128,
          -0.8870129870129868,
          0.3805194805194805,
          0.9935064935064932,
          -0.9818181818181818,
          -0.9818181818181818,
          -0.9688311688311688,
          -0.3116883116883117,
          0.9896103896103896,
          -0.9922077922077924,
          -0.9805194805194803,
          -0.9545454545454546,
          -0.3714285714285714,
          0.9727272727272728,
          -1,
          -1,
          -0.9818181818181818,
          -0.851948051948052,
          0.748051948051948,
          -0.9337662337662336,
          -0.9311688311688312,
          -0.9064935064935064,
          -0.2311688311688312,
          0.9714285714285712,
          -0.9194805194805192,
          -0.918181818181818,
          -0.8948051948051948,
          -0.2454545454545454,
          0.9545454545454546,
          -0.9506493506493506,
          -0.951948051948052,
          -0.9077922077922078,
          -0.4727272727272727,
          0.9896103896103896,
          -0.8974025974025974,
          -0.8999999999999999,
          -0.8610389610389609,
          -0.2415584415584415,
          0.948051948051948,
          -0.9805194805194803,
          -0.9714285714285712,
          -0.9467532467532468,
          -0.4948051948051948,
          0.961038961038961
         ],
         "y0": " ",
         "yaxis": "y"
        }
       ],
       "layout": {
        "boxmode": "group",
        "legend": {
         "title": {
          "text": "explanation"
         },
         "tracegroupgap": 0
        },
        "template": {
         "data": {
          "bar": [
           {
            "error_x": {
             "color": "#2a3f5f"
            },
            "error_y": {
             "color": "#2a3f5f"
            },
            "marker": {
             "line": {
              "color": "#E5ECF6",
              "width": 0.5
             },
             "pattern": {
              "fillmode": "overlay",
              "size": 10,
              "solidity": 0.2
             }
            },
            "type": "bar"
           }
          ],
          "barpolar": [
           {
            "marker": {
             "line": {
              "color": "#E5ECF6",
              "width": 0.5
             },
             "pattern": {
              "fillmode": "overlay",
              "size": 10,
              "solidity": 0.2
             }
            },
            "type": "barpolar"
           }
          ],
          "carpet": [
           {
            "aaxis": {
             "endlinecolor": "#2a3f5f",
             "gridcolor": "white",
             "linecolor": "white",
             "minorgridcolor": "white",
             "startlinecolor": "#2a3f5f"
            },
            "baxis": {
             "endlinecolor": "#2a3f5f",
             "gridcolor": "white",
             "linecolor": "white",
             "minorgridcolor": "white",
             "startlinecolor": "#2a3f5f"
            },
            "type": "carpet"
           }
          ],
          "choropleth": [
           {
            "colorbar": {
             "outlinewidth": 0,
             "ticks": ""
            },
            "type": "choropleth"
           }
          ],
          "contour": [
           {
            "colorbar": {
             "outlinewidth": 0,
             "ticks": ""
            },
            "colorscale": [
             [
              0,
              "#0d0887"
             ],
             [
              0.1111111111111111,
              "#46039f"
             ],
             [
              0.2222222222222222,
              "#7201a8"
             ],
             [
              0.3333333333333333,
              "#9c179e"
             ],
             [
              0.4444444444444444,
              "#bd3786"
             ],
             [
              0.5555555555555556,
              "#d8576b"
             ],
             [
              0.6666666666666666,
              "#ed7953"
             ],
             [
              0.7777777777777778,
              "#fb9f3a"
             ],
             [
              0.8888888888888888,
              "#fdca26"
             ],
             [
              1,
              "#f0f921"
             ]
            ],
            "type": "contour"
           }
          ],
          "contourcarpet": [
           {
            "colorbar": {
             "outlinewidth": 0,
             "ticks": ""
            },
            "type": "contourcarpet"
           }
          ],
          "heatmap": [
           {
            "colorbar": {
             "outlinewidth": 0,
             "ticks": ""
            },
            "colorscale": [
             [
              0,
              "#0d0887"
             ],
             [
              0.1111111111111111,
              "#46039f"
             ],
             [
              0.2222222222222222,
              "#7201a8"
             ],
             [
              0.3333333333333333,
              "#9c179e"
             ],
             [
              0.4444444444444444,
              "#bd3786"
             ],
             [
              0.5555555555555556,
              "#d8576b"
             ],
             [
              0.6666666666666666,
              "#ed7953"
             ],
             [
              0.7777777777777778,
              "#fb9f3a"
             ],
             [
              0.8888888888888888,
              "#fdca26"
             ],
             [
              1,
              "#f0f921"
             ]
            ],
            "type": "heatmap"
           }
          ],
          "heatmapgl": [
           {
            "colorbar": {
             "outlinewidth": 0,
             "ticks": ""
            },
            "colorscale": [
             [
              0,
              "#0d0887"
             ],
             [
              0.1111111111111111,
              "#46039f"
             ],
             [
              0.2222222222222222,
              "#7201a8"
             ],
             [
              0.3333333333333333,
              "#9c179e"
             ],
             [
              0.4444444444444444,
              "#bd3786"
             ],
             [
              0.5555555555555556,
              "#d8576b"
             ],
             [
              0.6666666666666666,
              "#ed7953"
             ],
             [
              0.7777777777777778,
              "#fb9f3a"
             ],
             [
              0.8888888888888888,
              "#fdca26"
             ],
             [
              1,
              "#f0f921"
             ]
            ],
            "type": "heatmapgl"
           }
          ],
          "histogram": [
           {
            "marker": {
             "pattern": {
              "fillmode": "overlay",
              "size": 10,
              "solidity": 0.2
             }
            },
            "type": "histogram"
           }
          ],
          "histogram2d": [
           {
            "colorbar": {
             "outlinewidth": 0,
             "ticks": ""
            },
            "colorscale": [
             [
              0,
              "#0d0887"
             ],
             [
              0.1111111111111111,
              "#46039f"
             ],
             [
              0.2222222222222222,
              "#7201a8"
             ],
             [
              0.3333333333333333,
              "#9c179e"
             ],
             [
              0.4444444444444444,
              "#bd3786"
             ],
             [
              0.5555555555555556,
              "#d8576b"
             ],
             [
              0.6666666666666666,
              "#ed7953"
             ],
             [
              0.7777777777777778,
              "#fb9f3a"
             ],
             [
              0.8888888888888888,
              "#fdca26"
             ],
             [
              1,
              "#f0f921"
             ]
            ],
            "type": "histogram2d"
           }
          ],
          "histogram2dcontour": [
           {
            "colorbar": {
             "outlinewidth": 0,
             "ticks": ""
            },
            "colorscale": [
             [
              0,
              "#0d0887"
             ],
             [
              0.1111111111111111,
              "#46039f"
             ],
             [
              0.2222222222222222,
              "#7201a8"
             ],
             [
              0.3333333333333333,
              "#9c179e"
             ],
             [
              0.4444444444444444,
              "#bd3786"
             ],
             [
              0.5555555555555556,
              "#d8576b"
             ],
             [
              0.6666666666666666,
              "#ed7953"
             ],
             [
              0.7777777777777778,
              "#fb9f3a"
             ],
             [
              0.8888888888888888,
              "#fdca26"
             ],
             [
              1,
              "#f0f921"
             ]
            ],
            "type": "histogram2dcontour"
           }
          ],
          "mesh3d": [
           {
            "colorbar": {
             "outlinewidth": 0,
             "ticks": ""
            },
            "type": "mesh3d"
           }
          ],
          "parcoords": [
           {
            "line": {
             "colorbar": {
              "outlinewidth": 0,
              "ticks": ""
             }
            },
            "type": "parcoords"
           }
          ],
          "pie": [
           {
            "automargin": true,
            "type": "pie"
           }
          ],
          "scatter": [
           {
            "fillpattern": {
             "fillmode": "overlay",
             "size": 10,
             "solidity": 0.2
            },
            "type": "scatter"
           }
          ],
          "scatter3d": [
           {
            "line": {
             "colorbar": {
              "outlinewidth": 0,
              "ticks": ""
             }
            },
            "marker": {
             "colorbar": {
              "outlinewidth": 0,
              "ticks": ""
             }
            },
            "type": "scatter3d"
           }
          ],
          "scattercarpet": [
           {
            "marker": {
             "colorbar": {
              "outlinewidth": 0,
              "ticks": ""
             }
            },
            "type": "scattercarpet"
           }
          ],
          "scattergeo": [
           {
            "marker": {
             "colorbar": {
              "outlinewidth": 0,
              "ticks": ""
             }
            },
            "type": "scattergeo"
           }
          ],
          "scattergl": [
           {
            "marker": {
             "colorbar": {
              "outlinewidth": 0,
              "ticks": ""
             }
            },
            "type": "scattergl"
           }
          ],
          "scattermapbox": [
           {
            "marker": {
             "colorbar": {
              "outlinewidth": 0,
              "ticks": ""
             }
            },
            "type": "scattermapbox"
           }
          ],
          "scatterpolar": [
           {
            "marker": {
             "colorbar": {
              "outlinewidth": 0,
              "ticks": ""
             }
            },
            "type": "scatterpolar"
           }
          ],
          "scatterpolargl": [
           {
            "marker": {
             "colorbar": {
              "outlinewidth": 0,
              "ticks": ""
             }
            },
            "type": "scatterpolargl"
           }
          ],
          "scatterternary": [
           {
            "marker": {
             "colorbar": {
              "outlinewidth": 0,
              "ticks": ""
             }
            },
            "type": "scatterternary"
           }
          ],
          "surface": [
           {
            "colorbar": {
             "outlinewidth": 0,
             "ticks": ""
            },
            "colorscale": [
             [
              0,
              "#0d0887"
             ],
             [
              0.1111111111111111,
              "#46039f"
             ],
             [
              0.2222222222222222,
              "#7201a8"
             ],
             [
              0.3333333333333333,
              "#9c179e"
             ],
             [
              0.4444444444444444,
              "#bd3786"
             ],
             [
              0.5555555555555556,
              "#d8576b"
             ],
             [
              0.6666666666666666,
              "#ed7953"
             ],
             [
              0.7777777777777778,
              "#fb9f3a"
             ],
             [
              0.8888888888888888,
              "#fdca26"
             ],
             [
              1,
              "#f0f921"
             ]
            ],
            "type": "surface"
           }
          ],
          "table": [
           {
            "cells": {
             "fill": {
              "color": "#EBF0F8"
             },
             "line": {
              "color": "white"
             }
            },
            "header": {
             "fill": {
              "color": "#C8D4E3"
             },
             "line": {
              "color": "white"
             }
            },
            "type": "table"
           }
          ]
         },
         "layout": {
          "annotationdefaults": {
           "arrowcolor": "#2a3f5f",
           "arrowhead": 0,
           "arrowwidth": 1
          },
          "autotypenumbers": "strict",
          "coloraxis": {
           "colorbar": {
            "outlinewidth": 0,
            "ticks": ""
           }
          },
          "colorscale": {
           "diverging": [
            [
             0,
             "#8e0152"
            ],
            [
             0.1,
             "#c51b7d"
            ],
            [
             0.2,
             "#de77ae"
            ],
            [
             0.3,
             "#f1b6da"
            ],
            [
             0.4,
             "#fde0ef"
            ],
            [
             0.5,
             "#f7f7f7"
            ],
            [
             0.6,
             "#e6f5d0"
            ],
            [
             0.7,
             "#b8e186"
            ],
            [
             0.8,
             "#7fbc41"
            ],
            [
             0.9,
             "#4d9221"
            ],
            [
             1,
             "#276419"
            ]
           ],
           "sequential": [
            [
             0,
             "#0d0887"
            ],
            [
             0.1111111111111111,
             "#46039f"
            ],
            [
             0.2222222222222222,
             "#7201a8"
            ],
            [
             0.3333333333333333,
             "#9c179e"
            ],
            [
             0.4444444444444444,
             "#bd3786"
            ],
            [
             0.5555555555555556,
             "#d8576b"
            ],
            [
             0.6666666666666666,
             "#ed7953"
            ],
            [
             0.7777777777777778,
             "#fb9f3a"
            ],
            [
             0.8888888888888888,
             "#fdca26"
            ],
            [
             1,
             "#f0f921"
            ]
           ],
           "sequentialminus": [
            [
             0,
             "#0d0887"
            ],
            [
             0.1111111111111111,
             "#46039f"
            ],
            [
             0.2222222222222222,
             "#7201a8"
            ],
            [
             0.3333333333333333,
             "#9c179e"
            ],
            [
             0.4444444444444444,
             "#bd3786"
            ],
            [
             0.5555555555555556,
             "#d8576b"
            ],
            [
             0.6666666666666666,
             "#ed7953"
            ],
            [
             0.7777777777777778,
             "#fb9f3a"
            ],
            [
             0.8888888888888888,
             "#fdca26"
            ],
            [
             1,
             "#f0f921"
            ]
           ]
          },
          "colorway": [
           "#636efa",
           "#EF553B",
           "#00cc96",
           "#ab63fa",
           "#FFA15A",
           "#19d3f3",
           "#FF6692",
           "#B6E880",
           "#FF97FF",
           "#FECB52"
          ],
          "font": {
           "color": "#2a3f5f"
          },
          "geo": {
           "bgcolor": "white",
           "lakecolor": "white",
           "landcolor": "#E5ECF6",
           "showlakes": true,
           "showland": true,
           "subunitcolor": "white"
          },
          "hoverlabel": {
           "align": "left"
          },
          "hovermode": "closest",
          "mapbox": {
           "style": "light"
          },
          "paper_bgcolor": "white",
          "plot_bgcolor": "#E5ECF6",
          "polar": {
           "angularaxis": {
            "gridcolor": "white",
            "linecolor": "white",
            "ticks": ""
           },
           "bgcolor": "#E5ECF6",
           "radialaxis": {
            "gridcolor": "white",
            "linecolor": "white",
            "ticks": ""
           }
          },
          "scene": {
           "xaxis": {
            "backgroundcolor": "#E5ECF6",
            "gridcolor": "white",
            "gridwidth": 2,
            "linecolor": "white",
            "showbackground": true,
            "ticks": "",
            "zerolinecolor": "white"
           },
           "yaxis": {
            "backgroundcolor": "#E5ECF6",
            "gridcolor": "white",
            "gridwidth": 2,
            "linecolor": "white",
            "showbackground": true,
            "ticks": "",
            "zerolinecolor": "white"
           },
           "zaxis": {
            "backgroundcolor": "#E5ECF6",
            "gridcolor": "white",
            "gridwidth": 2,
            "linecolor": "white",
            "showbackground": true,
            "ticks": "",
            "zerolinecolor": "white"
           }
          },
          "shapedefaults": {
           "line": {
            "color": "#2a3f5f"
           }
          },
          "ternary": {
           "aaxis": {
            "gridcolor": "white",
            "linecolor": "white",
            "ticks": ""
           },
           "baxis": {
            "gridcolor": "white",
            "linecolor": "white",
            "ticks": ""
           },
           "bgcolor": "#E5ECF6",
           "caxis": {
            "gridcolor": "white",
            "linecolor": "white",
            "ticks": ""
           }
          },
          "title": {
           "x": 0.05
          },
          "xaxis": {
           "automargin": true,
           "gridcolor": "white",
           "linecolor": "white",
           "ticks": "",
           "title": {
            "standoff": 15
           },
           "zerolinecolor": "white",
           "zerolinewidth": 2
          },
          "yaxis": {
           "automargin": true,
           "gridcolor": "white",
           "linecolor": "white",
           "ticks": "",
           "title": {
            "standoff": 15
           },
           "zerolinecolor": "white",
           "zerolinewidth": 2
          }
         }
        },
        "title": {
         "text": "adult, variable age, split by size"
        },
        "xaxis": {
         "anchor": "y",
         "domain": [
          0,
          1
         ],
         "title": {
          "text": "split variable"
         }
        },
        "yaxis": {
         "anchor": "x",
         "domain": [
          0,
          1
         ],
         "title": {
          "text": "rho"
         }
        }
       }
      }
     },
     "metadata": {},
     "output_type": "display_data"
    },
    {
     "data": {
      "application/vnd.plotly.v1+json": {
       "config": {
        "plotlyServerURL": "https://plot.ly"
       },
       "data": [
        {
         "alignmentgroup": "True",
         "hovertemplate": "explanation=ale<br>split variable=%{x}<br>rho=%{y}<extra></extra>",
         "legendgroup": "ale",
         "marker": {
          "color": "#636efa"
         },
         "name": "ale",
         "notched": false,
         "offsetgroup": "ale",
         "orientation": "v",
         "quartilemethod": "exclusive",
         "showlegend": true,
         "type": "box",
         "x": [
          "size 32",
          "size 32",
          "size 32",
          "size 32",
          "size 32",
          "size 32",
          "size 32",
          "size 32",
          "size 32",
          "size 32",
          "size 32",
          "size 32",
          "size 32",
          "size 32",
          "size 32",
          "size 32",
          "size 32",
          "size 32",
          "size 32",
          "size 32",
          "size 32",
          "size 32",
          "size 32",
          "size 32",
          "size 32",
          "size 32",
          "size 32",
          "size 32",
          "size 32",
          "size 32",
          "size 64",
          "size 64",
          "size 64",
          "size 64",
          "size 64",
          "size 64",
          "size 64",
          "size 64",
          "size 64",
          "size 64",
          "size 64",
          "size 64",
          "size 64",
          "size 64",
          "size 64",
          "size 64",
          "size 64",
          "size 64",
          "size 64",
          "size 64",
          "size 64",
          "size 64",
          "size 64",
          "size 64",
          "size 64",
          "size 64",
          "size 64",
          "size 64",
          "size 64",
          "size 64",
          "size 128",
          "size 128",
          "size 128",
          "size 128",
          "size 128",
          "size 128",
          "size 128",
          "size 128",
          "size 128",
          "size 128",
          "size 128",
          "size 128",
          "size 128",
          "size 128",
          "size 128",
          "size 128",
          "size 128",
          "size 128",
          "size 128",
          "size 128",
          "size 128",
          "size 128",
          "size 128",
          "size 128",
          "size 128",
          "size 128",
          "size 128",
          "size 128",
          "size 128",
          "size 128"
         ],
         "x0": " ",
         "xaxis": "x",
         "y": [
          -0.1986977430358487,
          -0.1877842755035737,
          -0.1877842755035737,
          -0.5984405458089669,
          -0.1020142949967511,
          -0.6384916824265867,
          -0.4278284389375703,
          -0.2202729044834308,
          -0.7842755035737491,
          0.1176088369070825,
          -0.6213844982035942,
          -0.6192332683560754,
          -0.6543209876543209,
          -0.7153996101364521,
          -0.4736842105263158,
          -0.5659519168291098,
          -0.5347628330084471,
          -0.6023391812865497,
          -0.6023391812865497,
          -0.4502923976608187,
          -0.2977893997468194,
          -0.2800519818063677,
          -0.4204028589993502,
          -0.3840155945419103,
          0.3996101364522417,
          0.3249918923658965,
          0.854078693137576,
          0.5880441845354125,
          -0.6491228070175439,
          0.4048083170890188,
          -0.2501624431448992,
          -0.1306042884990253,
          -0.129304743339831,
          -0.552956465237167,
          -0.129304743339831,
          -0.1885566068265887,
          0.087719298245614,
          -0.3021442495126705,
          -0.5061728395061729,
          0.1617933723196881,
          -0.1854173236569275,
          -0.1125570243743225,
          -0.1098115659519168,
          -0.5269655620532814,
          -0.0435347628330084,
          0.046284470114779,
          -0.3593242365172189,
          -0.3593242365172189,
          -0.3073424301494477,
          -0.0162443144899285,
          0.272431787104623,
          0.2748538011695907,
          0.2748538011695907,
          -0.5997400909681612,
          0.1669915529564652,
          -0.243173003286704,
          -0.0162495946182948,
          -0.2033788174139051,
          -0.4684860298895387,
          -0.2553606237816764,
          0.3385315139701104,
          0.3385315139701104,
          0.3229369720597791,
          -0.0916179337231968,
          0.0604288499025341,
          0.1716515317317911,
          0.170890188434048,
          0.4970760233918128,
          0.0110461338531513,
          0.1591942820012995,
          0.2687930665039368,
          0.5646523716699156,
          0.2709551656920078,
          -0.0825211176088369,
          0.0357374918778427,
          0.2224391302506523,
          0.5269655620532814,
          -0.0682261208576998,
          -0.1760883690708252,
          0.2215724496426251,
          0.1359792953423897,
          0.1390965299326037,
          -0.2748538011695907,
          -0.4087069525666017,
          -0.424301494476933,
          -0.200844989482124,
          0.0214424951267056,
          -0.3554256010396361,
          -0.4022092267706302,
          0.0214424951267056
         ],
         "y0": " ",
         "yaxis": "y"
        },
        {
         "alignmentgroup": "True",
         "hovertemplate": "explanation=pd<br>split variable=%{x}<br>rho=%{y}<extra></extra>",
         "legendgroup": "pd",
         "marker": {
          "color": "#EF553B"
         },
         "name": "pd",
         "notched": false,
         "offsetgroup": "pd",
         "orientation": "v",
         "quartilemethod": "exclusive",
         "showlegend": true,
         "type": "box",
         "x": [
          "size 32",
          "size 32",
          "size 32",
          "size 32",
          "size 32",
          "size 32",
          "size 32",
          "size 32",
          "size 32",
          "size 32",
          "size 32",
          "size 32",
          "size 32",
          "size 32",
          "size 32",
          "size 32",
          "size 32",
          "size 32",
          "size 32",
          "size 32",
          "size 32",
          "size 32",
          "size 32",
          "size 32",
          "size 32",
          "size 32",
          "size 32",
          "size 32",
          "size 32",
          "size 32",
          "size 64",
          "size 64",
          "size 64",
          "size 64",
          "size 64",
          "size 64",
          "size 64",
          "size 64",
          "size 64",
          "size 64",
          "size 64",
          "size 64",
          "size 64",
          "size 64",
          "size 64",
          "size 64",
          "size 64",
          "size 64",
          "size 64",
          "size 64",
          "size 64",
          "size 64",
          "size 64",
          "size 64",
          "size 64",
          "size 64",
          "size 64",
          "size 64",
          "size 64",
          "size 64",
          "size 128",
          "size 128",
          "size 128",
          "size 128",
          "size 128",
          "size 128",
          "size 128",
          "size 128",
          "size 128",
          "size 128",
          "size 128",
          "size 128",
          "size 128",
          "size 128",
          "size 128",
          "size 128",
          "size 128",
          "size 128",
          "size 128",
          "size 128",
          "size 128",
          "size 128",
          "size 128",
          "size 128",
          "size 128",
          "size 128",
          "size 128",
          "size 128",
          "size 128",
          "size 128"
         ],
         "x0": " ",
         "xaxis": "x",
         "y": [
          -0.9415584415584416,
          -0.9415584415584416,
          -0.9415584415584416,
          -0.9246753246753248,
          -0.7376623376623377,
          -1,
          -1,
          -1,
          -0.9571428571428572,
          0.6714285714285714,
          -0.9987012987012988,
          -0.9987012987012988,
          -0.9987012987012988,
          -0.9753246753246754,
          -0.8402597402597403,
          -0.955844155844156,
          -0.955844155844156,
          -0.955844155844156,
          -0.9467532467532468,
          -0.8,
          -0.7753246753246753,
          -0.7753246753246753,
          -0.7753246753246753,
          -0.7584415584415585,
          -0.4818181818181817,
          0.6067798762169179,
          0.9659019797212346,
          0.9779220779220776,
          -0.7285714285714285,
          0.7610389610389611,
          -0.9779220779220776,
          -0.9779220779220776,
          -0.9779220779220776,
          -0.9493506493506494,
          -0.8103896103896104,
          -0.918181818181818,
          -0.918181818181818,
          -0.918181818181818,
          -0.8064935064935065,
          -0.5623376623376624,
          -0.9688311688311688,
          -0.9688311688311688,
          -0.9688311688311688,
          -0.903896103896104,
          -0.6831168831168831,
          -0.9272727272727272,
          -0.9272727272727272,
          -0.9272727272727272,
          -0.8545454545454545,
          -0.6012987012987013,
          -0.9688311688311688,
          -0.9688311688311688,
          -0.9675324675324676,
          -0.7441558441558441,
          -0.3597402597402597,
          -0.8883116883116883,
          -0.8883116883116883,
          -0.8883116883116883,
          -0.8064935064935065,
          -0.5389610389610389,
          -0.9506493506493506,
          -0.9506493506493506,
          -0.9506493506493506,
          -0.903896103896104,
          -0.7233766233766233,
          -0.7909090909090909,
          -0.7896103896103897,
          -0.7896103896103897,
          -0.8558441558441559,
          -0.5012987012987012,
          -0.9194805194805192,
          -0.9194805194805192,
          -0.9155844155844156,
          -0.8597402597402597,
          -0.6584415584415585,
          -0.8506493506493505,
          -0.8506493506493505,
          -0.8506493506493505,
          -0.8064935064935065,
          -0.5857142857142857,
          -0.9753246753246754,
          -0.9753246753246754,
          -0.974025974025974,
          -0.896103896103896,
          -0.7623376623376623,
          -0.944155844155844,
          -0.944155844155844,
          -0.944155844155844,
          -0.92987012987013,
          -0.8402597402597403
         ],
         "y0": " ",
         "yaxis": "y"
        }
       ],
       "layout": {
        "boxmode": "group",
        "legend": {
         "title": {
          "text": "explanation"
         },
         "tracegroupgap": 0
        },
        "template": {
         "data": {
          "bar": [
           {
            "error_x": {
             "color": "#2a3f5f"
            },
            "error_y": {
             "color": "#2a3f5f"
            },
            "marker": {
             "line": {
              "color": "#E5ECF6",
              "width": 0.5
             },
             "pattern": {
              "fillmode": "overlay",
              "size": 10,
              "solidity": 0.2
             }
            },
            "type": "bar"
           }
          ],
          "barpolar": [
           {
            "marker": {
             "line": {
              "color": "#E5ECF6",
              "width": 0.5
             },
             "pattern": {
              "fillmode": "overlay",
              "size": 10,
              "solidity": 0.2
             }
            },
            "type": "barpolar"
           }
          ],
          "carpet": [
           {
            "aaxis": {
             "endlinecolor": "#2a3f5f",
             "gridcolor": "white",
             "linecolor": "white",
             "minorgridcolor": "white",
             "startlinecolor": "#2a3f5f"
            },
            "baxis": {
             "endlinecolor": "#2a3f5f",
             "gridcolor": "white",
             "linecolor": "white",
             "minorgridcolor": "white",
             "startlinecolor": "#2a3f5f"
            },
            "type": "carpet"
           }
          ],
          "choropleth": [
           {
            "colorbar": {
             "outlinewidth": 0,
             "ticks": ""
            },
            "type": "choropleth"
           }
          ],
          "contour": [
           {
            "colorbar": {
             "outlinewidth": 0,
             "ticks": ""
            },
            "colorscale": [
             [
              0,
              "#0d0887"
             ],
             [
              0.1111111111111111,
              "#46039f"
             ],
             [
              0.2222222222222222,
              "#7201a8"
             ],
             [
              0.3333333333333333,
              "#9c179e"
             ],
             [
              0.4444444444444444,
              "#bd3786"
             ],
             [
              0.5555555555555556,
              "#d8576b"
             ],
             [
              0.6666666666666666,
              "#ed7953"
             ],
             [
              0.7777777777777778,
              "#fb9f3a"
             ],
             [
              0.8888888888888888,
              "#fdca26"
             ],
             [
              1,
              "#f0f921"
             ]
            ],
            "type": "contour"
           }
          ],
          "contourcarpet": [
           {
            "colorbar": {
             "outlinewidth": 0,
             "ticks": ""
            },
            "type": "contourcarpet"
           }
          ],
          "heatmap": [
           {
            "colorbar": {
             "outlinewidth": 0,
             "ticks": ""
            },
            "colorscale": [
             [
              0,
              "#0d0887"
             ],
             [
              0.1111111111111111,
              "#46039f"
             ],
             [
              0.2222222222222222,
              "#7201a8"
             ],
             [
              0.3333333333333333,
              "#9c179e"
             ],
             [
              0.4444444444444444,
              "#bd3786"
             ],
             [
              0.5555555555555556,
              "#d8576b"
             ],
             [
              0.6666666666666666,
              "#ed7953"
             ],
             [
              0.7777777777777778,
              "#fb9f3a"
             ],
             [
              0.8888888888888888,
              "#fdca26"
             ],
             [
              1,
              "#f0f921"
             ]
            ],
            "type": "heatmap"
           }
          ],
          "heatmapgl": [
           {
            "colorbar": {
             "outlinewidth": 0,
             "ticks": ""
            },
            "colorscale": [
             [
              0,
              "#0d0887"
             ],
             [
              0.1111111111111111,
              "#46039f"
             ],
             [
              0.2222222222222222,
              "#7201a8"
             ],
             [
              0.3333333333333333,
              "#9c179e"
             ],
             [
              0.4444444444444444,
              "#bd3786"
             ],
             [
              0.5555555555555556,
              "#d8576b"
             ],
             [
              0.6666666666666666,
              "#ed7953"
             ],
             [
              0.7777777777777778,
              "#fb9f3a"
             ],
             [
              0.8888888888888888,
              "#fdca26"
             ],
             [
              1,
              "#f0f921"
             ]
            ],
            "type": "heatmapgl"
           }
          ],
          "histogram": [
           {
            "marker": {
             "pattern": {
              "fillmode": "overlay",
              "size": 10,
              "solidity": 0.2
             }
            },
            "type": "histogram"
           }
          ],
          "histogram2d": [
           {
            "colorbar": {
             "outlinewidth": 0,
             "ticks": ""
            },
            "colorscale": [
             [
              0,
              "#0d0887"
             ],
             [
              0.1111111111111111,
              "#46039f"
             ],
             [
              0.2222222222222222,
              "#7201a8"
             ],
             [
              0.3333333333333333,
              "#9c179e"
             ],
             [
              0.4444444444444444,
              "#bd3786"
             ],
             [
              0.5555555555555556,
              "#d8576b"
             ],
             [
              0.6666666666666666,
              "#ed7953"
             ],
             [
              0.7777777777777778,
              "#fb9f3a"
             ],
             [
              0.8888888888888888,
              "#fdca26"
             ],
             [
              1,
              "#f0f921"
             ]
            ],
            "type": "histogram2d"
           }
          ],
          "histogram2dcontour": [
           {
            "colorbar": {
             "outlinewidth": 0,
             "ticks": ""
            },
            "colorscale": [
             [
              0,
              "#0d0887"
             ],
             [
              0.1111111111111111,
              "#46039f"
             ],
             [
              0.2222222222222222,
              "#7201a8"
             ],
             [
              0.3333333333333333,
              "#9c179e"
             ],
             [
              0.4444444444444444,
              "#bd3786"
             ],
             [
              0.5555555555555556,
              "#d8576b"
             ],
             [
              0.6666666666666666,
              "#ed7953"
             ],
             [
              0.7777777777777778,
              "#fb9f3a"
             ],
             [
              0.8888888888888888,
              "#fdca26"
             ],
             [
              1,
              "#f0f921"
             ]
            ],
            "type": "histogram2dcontour"
           }
          ],
          "mesh3d": [
           {
            "colorbar": {
             "outlinewidth": 0,
             "ticks": ""
            },
            "type": "mesh3d"
           }
          ],
          "parcoords": [
           {
            "line": {
             "colorbar": {
              "outlinewidth": 0,
              "ticks": ""
             }
            },
            "type": "parcoords"
           }
          ],
          "pie": [
           {
            "automargin": true,
            "type": "pie"
           }
          ],
          "scatter": [
           {
            "fillpattern": {
             "fillmode": "overlay",
             "size": 10,
             "solidity": 0.2
            },
            "type": "scatter"
           }
          ],
          "scatter3d": [
           {
            "line": {
             "colorbar": {
              "outlinewidth": 0,
              "ticks": ""
             }
            },
            "marker": {
             "colorbar": {
              "outlinewidth": 0,
              "ticks": ""
             }
            },
            "type": "scatter3d"
           }
          ],
          "scattercarpet": [
           {
            "marker": {
             "colorbar": {
              "outlinewidth": 0,
              "ticks": ""
             }
            },
            "type": "scattercarpet"
           }
          ],
          "scattergeo": [
           {
            "marker": {
             "colorbar": {
              "outlinewidth": 0,
              "ticks": ""
             }
            },
            "type": "scattergeo"
           }
          ],
          "scattergl": [
           {
            "marker": {
             "colorbar": {
              "outlinewidth": 0,
              "ticks": ""
             }
            },
            "type": "scattergl"
           }
          ],
          "scattermapbox": [
           {
            "marker": {
             "colorbar": {
              "outlinewidth": 0,
              "ticks": ""
             }
            },
            "type": "scattermapbox"
           }
          ],
          "scatterpolar": [
           {
            "marker": {
             "colorbar": {
              "outlinewidth": 0,
              "ticks": ""
             }
            },
            "type": "scatterpolar"
           }
          ],
          "scatterpolargl": [
           {
            "marker": {
             "colorbar": {
              "outlinewidth": 0,
              "ticks": ""
             }
            },
            "type": "scatterpolargl"
           }
          ],
          "scatterternary": [
           {
            "marker": {
             "colorbar": {
              "outlinewidth": 0,
              "ticks": ""
             }
            },
            "type": "scatterternary"
           }
          ],
          "surface": [
           {
            "colorbar": {
             "outlinewidth": 0,
             "ticks": ""
            },
            "colorscale": [
             [
              0,
              "#0d0887"
             ],
             [
              0.1111111111111111,
              "#46039f"
             ],
             [
              0.2222222222222222,
              "#7201a8"
             ],
             [
              0.3333333333333333,
              "#9c179e"
             ],
             [
              0.4444444444444444,
              "#bd3786"
             ],
             [
              0.5555555555555556,
              "#d8576b"
             ],
             [
              0.6666666666666666,
              "#ed7953"
             ],
             [
              0.7777777777777778,
              "#fb9f3a"
             ],
             [
              0.8888888888888888,
              "#fdca26"
             ],
             [
              1,
              "#f0f921"
             ]
            ],
            "type": "surface"
           }
          ],
          "table": [
           {
            "cells": {
             "fill": {
              "color": "#EBF0F8"
             },
             "line": {
              "color": "white"
             }
            },
            "header": {
             "fill": {
              "color": "#C8D4E3"
             },
             "line": {
              "color": "white"
             }
            },
            "type": "table"
           }
          ]
         },
         "layout": {
          "annotationdefaults": {
           "arrowcolor": "#2a3f5f",
           "arrowhead": 0,
           "arrowwidth": 1
          },
          "autotypenumbers": "strict",
          "coloraxis": {
           "colorbar": {
            "outlinewidth": 0,
            "ticks": ""
           }
          },
          "colorscale": {
           "diverging": [
            [
             0,
             "#8e0152"
            ],
            [
             0.1,
             "#c51b7d"
            ],
            [
             0.2,
             "#de77ae"
            ],
            [
             0.3,
             "#f1b6da"
            ],
            [
             0.4,
             "#fde0ef"
            ],
            [
             0.5,
             "#f7f7f7"
            ],
            [
             0.6,
             "#e6f5d0"
            ],
            [
             0.7,
             "#b8e186"
            ],
            [
             0.8,
             "#7fbc41"
            ],
            [
             0.9,
             "#4d9221"
            ],
            [
             1,
             "#276419"
            ]
           ],
           "sequential": [
            [
             0,
             "#0d0887"
            ],
            [
             0.1111111111111111,
             "#46039f"
            ],
            [
             0.2222222222222222,
             "#7201a8"
            ],
            [
             0.3333333333333333,
             "#9c179e"
            ],
            [
             0.4444444444444444,
             "#bd3786"
            ],
            [
             0.5555555555555556,
             "#d8576b"
            ],
            [
             0.6666666666666666,
             "#ed7953"
            ],
            [
             0.7777777777777778,
             "#fb9f3a"
            ],
            [
             0.8888888888888888,
             "#fdca26"
            ],
            [
             1,
             "#f0f921"
            ]
           ],
           "sequentialminus": [
            [
             0,
             "#0d0887"
            ],
            [
             0.1111111111111111,
             "#46039f"
            ],
            [
             0.2222222222222222,
             "#7201a8"
            ],
            [
             0.3333333333333333,
             "#9c179e"
            ],
            [
             0.4444444444444444,
             "#bd3786"
            ],
            [
             0.5555555555555556,
             "#d8576b"
            ],
            [
             0.6666666666666666,
             "#ed7953"
            ],
            [
             0.7777777777777778,
             "#fb9f3a"
            ],
            [
             0.8888888888888888,
             "#fdca26"
            ],
            [
             1,
             "#f0f921"
            ]
           ]
          },
          "colorway": [
           "#636efa",
           "#EF553B",
           "#00cc96",
           "#ab63fa",
           "#FFA15A",
           "#19d3f3",
           "#FF6692",
           "#B6E880",
           "#FF97FF",
           "#FECB52"
          ],
          "font": {
           "color": "#2a3f5f"
          },
          "geo": {
           "bgcolor": "white",
           "lakecolor": "white",
           "landcolor": "#E5ECF6",
           "showlakes": true,
           "showland": true,
           "subunitcolor": "white"
          },
          "hoverlabel": {
           "align": "left"
          },
          "hovermode": "closest",
          "mapbox": {
           "style": "light"
          },
          "paper_bgcolor": "white",
          "plot_bgcolor": "#E5ECF6",
          "polar": {
           "angularaxis": {
            "gridcolor": "white",
            "linecolor": "white",
            "ticks": ""
           },
           "bgcolor": "#E5ECF6",
           "radialaxis": {
            "gridcolor": "white",
            "linecolor": "white",
            "ticks": ""
           }
          },
          "scene": {
           "xaxis": {
            "backgroundcolor": "#E5ECF6",
            "gridcolor": "white",
            "gridwidth": 2,
            "linecolor": "white",
            "showbackground": true,
            "ticks": "",
            "zerolinecolor": "white"
           },
           "yaxis": {
            "backgroundcolor": "#E5ECF6",
            "gridcolor": "white",
            "gridwidth": 2,
            "linecolor": "white",
            "showbackground": true,
            "ticks": "",
            "zerolinecolor": "white"
           },
           "zaxis": {
            "backgroundcolor": "#E5ECF6",
            "gridcolor": "white",
            "gridwidth": 2,
            "linecolor": "white",
            "showbackground": true,
            "ticks": "",
            "zerolinecolor": "white"
           }
          },
          "shapedefaults": {
           "line": {
            "color": "#2a3f5f"
           }
          },
          "ternary": {
           "aaxis": {
            "gridcolor": "white",
            "linecolor": "white",
            "ticks": ""
           },
           "baxis": {
            "gridcolor": "white",
            "linecolor": "white",
            "ticks": ""
           },
           "bgcolor": "#E5ECF6",
           "caxis": {
            "gridcolor": "white",
            "linecolor": "white",
            "ticks": ""
           }
          },
          "title": {
           "x": 0.05
          },
          "xaxis": {
           "automargin": true,
           "gridcolor": "white",
           "linecolor": "white",
           "ticks": "",
           "title": {
            "standoff": 15
           },
           "zerolinecolor": "white",
           "zerolinewidth": 2
          },
          "yaxis": {
           "automargin": true,
           "gridcolor": "white",
           "linecolor": "white",
           "ticks": "",
           "title": {
            "standoff": 15
           },
           "zerolinecolor": "white",
           "zerolinewidth": 2
          }
         }
        },
        "title": {
         "text": "bike, variable atemp, split by size"
        },
        "xaxis": {
         "anchor": "y",
         "domain": [
          0,
          1
         ],
         "title": {
          "text": "split variable"
         }
        },
        "yaxis": {
         "anchor": "x",
         "domain": [
          0,
          1
         ],
         "title": {
          "text": "rho"
         }
        }
       }
      }
     },
     "metadata": {},
     "output_type": "display_data"
    },
    {
     "data": {
      "application/vnd.plotly.v1+json": {
       "config": {
        "plotlyServerURL": "https://plot.ly"
       },
       "data": [
        {
         "alignmentgroup": "True",
         "hovertemplate": "explanation=ale<br>split variable=%{x}<br>rho=%{y}<extra></extra>",
         "legendgroup": "ale",
         "marker": {
          "color": "#636efa"
         },
         "name": "ale",
         "notched": false,
         "offsetgroup": "ale",
         "orientation": "v",
         "quartilemethod": "exclusive",
         "showlegend": true,
         "type": "box",
         "x": [
          "size 32",
          "size 32",
          "size 32",
          "size 32",
          "size 32",
          "size 32",
          "size 32",
          "size 32",
          "size 32",
          "size 32",
          "size 32",
          "size 32",
          "size 32",
          "size 32",
          "size 32",
          "size 32",
          "size 32",
          "size 32",
          "size 32",
          "size 32",
          "size 32",
          "size 32",
          "size 32",
          "size 32",
          "size 32",
          "size 32",
          "size 32",
          "size 32",
          "size 32",
          "size 32",
          "size 32",
          "size 32",
          "size 32",
          "size 32",
          "size 32",
          "size 32",
          "size 64",
          "size 64",
          "size 64",
          "size 64",
          "size 64",
          "size 64",
          "size 64",
          "size 64",
          "size 64",
          "size 64",
          "size 64",
          "size 64",
          "size 64",
          "size 64",
          "size 64",
          "size 64",
          "size 64",
          "size 64",
          "size 64",
          "size 64",
          "size 64",
          "size 64",
          "size 64",
          "size 64",
          "size 64",
          "size 64",
          "size 64",
          "size 64",
          "size 64",
          "size 64",
          "size 64",
          "size 64",
          "size 64",
          "size 64",
          "size 64",
          "size 64",
          "size 128",
          "size 128",
          "size 128",
          "size 128",
          "size 128",
          "size 128",
          "size 128",
          "size 128",
          "size 128",
          "size 128",
          "size 128",
          "size 128",
          "size 128",
          "size 128",
          "size 128",
          "size 128",
          "size 128",
          "size 128",
          "size 128",
          "size 128",
          "size 128",
          "size 128",
          "size 128",
          "size 128",
          "size 128",
          "size 128",
          "size 128",
          "size 128",
          "size 128",
          "size 128",
          "size 128",
          "size 128",
          "size 128",
          "size 128",
          "size 128",
          "size 128"
         ],
         "x0": " ",
         "xaxis": "x",
         "y": [
          -0.8907672301690506,
          -0.8426527958387514,
          -0.3758127438231469,
          -0.7893368010403121,
          -0.6488946684005201,
          -0.5812743823146944,
          -0.908972691807542,
          -0.8582574772431728,
          -0.8413524057217165,
          -0.5851755526657997,
          0.9128738621586476,
          -0.7763328998699609,
          -0.7724317295188555,
          -0.8673602080624188,
          -0.4629388816644993,
          0.9232769830949284,
          -0.4408322496749024,
          -0.5032509752925878,
          -0.3927178153446033,
          0.0572171651495448,
          0.8738621586475942,
          -0.7880364109232769,
          -0.7919375812743823,
          -0.7971391417425226,
          -0.7035110533159948,
          0.3719115734720415,
          -0.9024707412223668,
          -0.8868660598179453,
          -0.8465539661898569,
          -0.6436931079323797,
          0.7724317295188555,
          -0.6449934980494147,
          -0.6384915474642392,
          -0.6254876462938881,
          -0.3849154746423927,
          0.9609882964889466,
          -0.3042912873862158,
          -0.3940182054616384,
          -0.906371911573472,
          -0.5812743823146944,
          0.9895968790637192,
          -0.188556566970091,
          -0.8556566970091026,
          -0.7659297789336801,
          -0.41222366710013,
          0.7074122236671001,
          0.9167750325097528,
          -0.3368010403120936,
          -0.3407022106631989,
          -0.3576072821846554,
          -0.1989596879063719,
          0.682704811443433,
          -0.7984395318595577,
          -0.801040312093628,
          -0.8660598179453836,
          -0.635890767230169,
          0.9388816644993496,
          -0.6684005201560469,
          -0.3719115734720415,
          -0.377113133940182,
          -0.0078023407022106,
          0.7620286085825747,
          0.6840052015604681,
          0.6280884265279584,
          0.6723016905071522,
          0.9622886866059815,
          0.94148244473342,
          -0.1508452535760728,
          0.1378413524057217,
          -0.3172951885565669,
          0.1378413524057217,
          0.5188556566970092,
          -0.4343302990897268,
          -0.0351105331599479,
          0.036410923276983,
          -0.3823146944083225,
          -0.3849154746423927,
          -0.2054616384915474,
          -0.5248780765352946,
          -0.5149544863459038,
          -0.7802340702210662,
          -0.4551365409622886,
          -0.1937581274382314,
          -0.6449934980494147,
          -0.1937581274382314,
          -0.8699609882964889,
          0.3211963589076723,
          0.5786736020806241,
          -0.5344603381014303,
          -0.5253576072821846,
          -0.5266579973992197,
          0.3159947984395318,
          -0.0520156046814044,
          -0.4564369310793237,
          -0.459037711313394,
          -0.4837451235370611,
          -0.4629388816644993,
          -0.3029908972691807,
          -0.5019505851755527,
          -0.2171651495448634,
          -0.2665799739921976,
          -0.165149544863459,
          -0.1014304291287386,
          -0.4000000211514326,
          -0.4403252265358048,
          -0.3745123537061118,
          -0.2912873862158647,
          -0.2769830949284785
         ],
         "y0": " ",
         "yaxis": "y"
        },
        {
         "alignmentgroup": "True",
         "hovertemplate": "explanation=pd<br>split variable=%{x}<br>rho=%{y}<extra></extra>",
         "legendgroup": "pd",
         "marker": {
          "color": "#EF553B"
         },
         "name": "pd",
         "notched": false,
         "offsetgroup": "pd",
         "orientation": "v",
         "quartilemethod": "exclusive",
         "showlegend": true,
         "type": "box",
         "x": [
          "size 32",
          "size 32",
          "size 32",
          "size 32",
          "size 32",
          "size 32",
          "size 32",
          "size 32",
          "size 32",
          "size 32",
          "size 32",
          "size 32",
          "size 32",
          "size 32",
          "size 32",
          "size 32",
          "size 32",
          "size 32",
          "size 32",
          "size 32",
          "size 32",
          "size 32",
          "size 32",
          "size 32",
          "size 32",
          "size 32",
          "size 32",
          "size 32",
          "size 32",
          "size 32",
          "size 32",
          "size 32",
          "size 32",
          "size 32",
          "size 32",
          "size 32",
          "size 64",
          "size 64",
          "size 64",
          "size 64",
          "size 64",
          "size 64",
          "size 64",
          "size 64",
          "size 64",
          "size 64",
          "size 64",
          "size 64",
          "size 64",
          "size 64",
          "size 64",
          "size 64",
          "size 64",
          "size 64",
          "size 64",
          "size 64",
          "size 64",
          "size 64",
          "size 64",
          "size 64",
          "size 64",
          "size 64",
          "size 64",
          "size 64",
          "size 64",
          "size 64",
          "size 64",
          "size 64",
          "size 64",
          "size 64",
          "size 64",
          "size 64",
          "size 128",
          "size 128",
          "size 128",
          "size 128",
          "size 128",
          "size 128",
          "size 128",
          "size 128",
          "size 128",
          "size 128",
          "size 128",
          "size 128",
          "size 128",
          "size 128",
          "size 128",
          "size 128",
          "size 128",
          "size 128",
          "size 128",
          "size 128",
          "size 128",
          "size 128",
          "size 128",
          "size 128",
          "size 128",
          "size 128",
          "size 128",
          "size 128",
          "size 128",
          "size 128",
          "size 128",
          "size 128",
          "size 128",
          "size 128",
          "size 128",
          "size 128"
         ],
         "x0": " ",
         "xaxis": "x",
         "y": [
          -0.9428571428571428,
          -0.9103896103896104,
          -0.9636363636363636,
          -0.9922077922077924,
          -0.9246753246753248,
          -0.8220779220779221,
          -0.9974025974025976,
          -0.9974025974025976,
          -0.9974025974025976,
          -0.2818181818181818,
          0.9714285714285712,
          -0.9753246753246754,
          -0.9779220779220776,
          -0.9844155844155844,
          0.5935064935064935,
          0.9662337662337662,
          -0.9636363636363636,
          -0.9636363636363636,
          -0.9636363636363636,
          -0.8753246753246753,
          0.9779220779220776,
          -0.996103896103896,
          -0.996103896103896,
          -0.996103896103896,
          -0.9012987012987014,
          0.9974025974025976,
          -0.9207792207792208,
          -0.9935064935064932,
          -0.9883116883116884,
          -0.8181818181818182,
          0.944155844155844,
          -0.9974025974025976,
          -0.9974025974025976,
          -0.9987012987012988,
          -0.4181818181818181,
          0.9805194805194803,
          -0.9766233766233766,
          -0.9883116883116884,
          -0.9714285714285712,
          -0.9701298701298702,
          -0.9350649350649348,
          -0.8740259740259739,
          -0.9922077922077924,
          -0.9909090909090909,
          -0.9857142857142858,
          -0.4909090909090909,
          0.9623376623376624,
          -0.9935064935064932,
          -0.9987012987012988,
          -0.9987012987012988,
          -0.6844155844155844,
          0.8636363636363636,
          -0.9974025974025976,
          -0.9987012987012988,
          -0.9948051948051948,
          0.074025974025974,
          0.9974025974025976,
          -0.9974025974025976,
          -0.9974025974025976,
          -0.9922077922077924,
          -0.5363636363636364,
          0.9623376623376624,
          -0.9857142857142858,
          -0.9805194805194803,
          -0.974025974025974,
          -0.7545454545454545,
          -0.835064935064935,
          -0.9753246753246754,
          -0.9857142857142858,
          -0.9857142857142858,
          -0.5428571428571428,
          0.7103896103896103,
          -0.9844155844155844,
          -0.9844155844155844,
          -0.9805194805194803,
          -0.9870129870129868,
          -0.9909090909090909,
          -0.9948051948051948,
          -0.9948051948051948,
          -0.9987012987012988,
          -0.9974025974025976,
          -0.8207792207792207,
          0.8818181818181818,
          -0.9948051948051948,
          -0.996103896103896,
          -0.9974025974025976,
          -0.8272727272727272,
          0.9662337662337662,
          -0.9818181818181818,
          -0.9896103896103896,
          -0.9883116883116884,
          -0.8727272727272727,
          0.8831168831168831,
          -1,
          -1,
          -0.9883116883116884,
          -0.9272727272727272,
          -0.625974025974026,
          -0.996103896103896,
          -0.9922077922077924,
          -0.996103896103896,
          -0.8857142857142857,
          0.6779220779220779,
          -0.9974025974025976,
          -0.9974025974025976,
          -0.9974025974025976,
          -0.948051948051948,
          0.7662337662337663
         ],
         "y0": " ",
         "yaxis": "y"
        }
       ],
       "layout": {
        "boxmode": "group",
        "legend": {
         "title": {
          "text": "explanation"
         },
         "tracegroupgap": 0
        },
        "template": {
         "data": {
          "bar": [
           {
            "error_x": {
             "color": "#2a3f5f"
            },
            "error_y": {
             "color": "#2a3f5f"
            },
            "marker": {
             "line": {
              "color": "#E5ECF6",
              "width": 0.5
             },
             "pattern": {
              "fillmode": "overlay",
              "size": 10,
              "solidity": 0.2
             }
            },
            "type": "bar"
           }
          ],
          "barpolar": [
           {
            "marker": {
             "line": {
              "color": "#E5ECF6",
              "width": 0.5
             },
             "pattern": {
              "fillmode": "overlay",
              "size": 10,
              "solidity": 0.2
             }
            },
            "type": "barpolar"
           }
          ],
          "carpet": [
           {
            "aaxis": {
             "endlinecolor": "#2a3f5f",
             "gridcolor": "white",
             "linecolor": "white",
             "minorgridcolor": "white",
             "startlinecolor": "#2a3f5f"
            },
            "baxis": {
             "endlinecolor": "#2a3f5f",
             "gridcolor": "white",
             "linecolor": "white",
             "minorgridcolor": "white",
             "startlinecolor": "#2a3f5f"
            },
            "type": "carpet"
           }
          ],
          "choropleth": [
           {
            "colorbar": {
             "outlinewidth": 0,
             "ticks": ""
            },
            "type": "choropleth"
           }
          ],
          "contour": [
           {
            "colorbar": {
             "outlinewidth": 0,
             "ticks": ""
            },
            "colorscale": [
             [
              0,
              "#0d0887"
             ],
             [
              0.1111111111111111,
              "#46039f"
             ],
             [
              0.2222222222222222,
              "#7201a8"
             ],
             [
              0.3333333333333333,
              "#9c179e"
             ],
             [
              0.4444444444444444,
              "#bd3786"
             ],
             [
              0.5555555555555556,
              "#d8576b"
             ],
             [
              0.6666666666666666,
              "#ed7953"
             ],
             [
              0.7777777777777778,
              "#fb9f3a"
             ],
             [
              0.8888888888888888,
              "#fdca26"
             ],
             [
              1,
              "#f0f921"
             ]
            ],
            "type": "contour"
           }
          ],
          "contourcarpet": [
           {
            "colorbar": {
             "outlinewidth": 0,
             "ticks": ""
            },
            "type": "contourcarpet"
           }
          ],
          "heatmap": [
           {
            "colorbar": {
             "outlinewidth": 0,
             "ticks": ""
            },
            "colorscale": [
             [
              0,
              "#0d0887"
             ],
             [
              0.1111111111111111,
              "#46039f"
             ],
             [
              0.2222222222222222,
              "#7201a8"
             ],
             [
              0.3333333333333333,
              "#9c179e"
             ],
             [
              0.4444444444444444,
              "#bd3786"
             ],
             [
              0.5555555555555556,
              "#d8576b"
             ],
             [
              0.6666666666666666,
              "#ed7953"
             ],
             [
              0.7777777777777778,
              "#fb9f3a"
             ],
             [
              0.8888888888888888,
              "#fdca26"
             ],
             [
              1,
              "#f0f921"
             ]
            ],
            "type": "heatmap"
           }
          ],
          "heatmapgl": [
           {
            "colorbar": {
             "outlinewidth": 0,
             "ticks": ""
            },
            "colorscale": [
             [
              0,
              "#0d0887"
             ],
             [
              0.1111111111111111,
              "#46039f"
             ],
             [
              0.2222222222222222,
              "#7201a8"
             ],
             [
              0.3333333333333333,
              "#9c179e"
             ],
             [
              0.4444444444444444,
              "#bd3786"
             ],
             [
              0.5555555555555556,
              "#d8576b"
             ],
             [
              0.6666666666666666,
              "#ed7953"
             ],
             [
              0.7777777777777778,
              "#fb9f3a"
             ],
             [
              0.8888888888888888,
              "#fdca26"
             ],
             [
              1,
              "#f0f921"
             ]
            ],
            "type": "heatmapgl"
           }
          ],
          "histogram": [
           {
            "marker": {
             "pattern": {
              "fillmode": "overlay",
              "size": 10,
              "solidity": 0.2
             }
            },
            "type": "histogram"
           }
          ],
          "histogram2d": [
           {
            "colorbar": {
             "outlinewidth": 0,
             "ticks": ""
            },
            "colorscale": [
             [
              0,
              "#0d0887"
             ],
             [
              0.1111111111111111,
              "#46039f"
             ],
             [
              0.2222222222222222,
              "#7201a8"
             ],
             [
              0.3333333333333333,
              "#9c179e"
             ],
             [
              0.4444444444444444,
              "#bd3786"
             ],
             [
              0.5555555555555556,
              "#d8576b"
             ],
             [
              0.6666666666666666,
              "#ed7953"
             ],
             [
              0.7777777777777778,
              "#fb9f3a"
             ],
             [
              0.8888888888888888,
              "#fdca26"
             ],
             [
              1,
              "#f0f921"
             ]
            ],
            "type": "histogram2d"
           }
          ],
          "histogram2dcontour": [
           {
            "colorbar": {
             "outlinewidth": 0,
             "ticks": ""
            },
            "colorscale": [
             [
              0,
              "#0d0887"
             ],
             [
              0.1111111111111111,
              "#46039f"
             ],
             [
              0.2222222222222222,
              "#7201a8"
             ],
             [
              0.3333333333333333,
              "#9c179e"
             ],
             [
              0.4444444444444444,
              "#bd3786"
             ],
             [
              0.5555555555555556,
              "#d8576b"
             ],
             [
              0.6666666666666666,
              "#ed7953"
             ],
             [
              0.7777777777777778,
              "#fb9f3a"
             ],
             [
              0.8888888888888888,
              "#fdca26"
             ],
             [
              1,
              "#f0f921"
             ]
            ],
            "type": "histogram2dcontour"
           }
          ],
          "mesh3d": [
           {
            "colorbar": {
             "outlinewidth": 0,
             "ticks": ""
            },
            "type": "mesh3d"
           }
          ],
          "parcoords": [
           {
            "line": {
             "colorbar": {
              "outlinewidth": 0,
              "ticks": ""
             }
            },
            "type": "parcoords"
           }
          ],
          "pie": [
           {
            "automargin": true,
            "type": "pie"
           }
          ],
          "scatter": [
           {
            "fillpattern": {
             "fillmode": "overlay",
             "size": 10,
             "solidity": 0.2
            },
            "type": "scatter"
           }
          ],
          "scatter3d": [
           {
            "line": {
             "colorbar": {
              "outlinewidth": 0,
              "ticks": ""
             }
            },
            "marker": {
             "colorbar": {
              "outlinewidth": 0,
              "ticks": ""
             }
            },
            "type": "scatter3d"
           }
          ],
          "scattercarpet": [
           {
            "marker": {
             "colorbar": {
              "outlinewidth": 0,
              "ticks": ""
             }
            },
            "type": "scattercarpet"
           }
          ],
          "scattergeo": [
           {
            "marker": {
             "colorbar": {
              "outlinewidth": 0,
              "ticks": ""
             }
            },
            "type": "scattergeo"
           }
          ],
          "scattergl": [
           {
            "marker": {
             "colorbar": {
              "outlinewidth": 0,
              "ticks": ""
             }
            },
            "type": "scattergl"
           }
          ],
          "scattermapbox": [
           {
            "marker": {
             "colorbar": {
              "outlinewidth": 0,
              "ticks": ""
             }
            },
            "type": "scattermapbox"
           }
          ],
          "scatterpolar": [
           {
            "marker": {
             "colorbar": {
              "outlinewidth": 0,
              "ticks": ""
             }
            },
            "type": "scatterpolar"
           }
          ],
          "scatterpolargl": [
           {
            "marker": {
             "colorbar": {
              "outlinewidth": 0,
              "ticks": ""
             }
            },
            "type": "scatterpolargl"
           }
          ],
          "scatterternary": [
           {
            "marker": {
             "colorbar": {
              "outlinewidth": 0,
              "ticks": ""
             }
            },
            "type": "scatterternary"
           }
          ],
          "surface": [
           {
            "colorbar": {
             "outlinewidth": 0,
             "ticks": ""
            },
            "colorscale": [
             [
              0,
              "#0d0887"
             ],
             [
              0.1111111111111111,
              "#46039f"
             ],
             [
              0.2222222222222222,
              "#7201a8"
             ],
             [
              0.3333333333333333,
              "#9c179e"
             ],
             [
              0.4444444444444444,
              "#bd3786"
             ],
             [
              0.5555555555555556,
              "#d8576b"
             ],
             [
              0.6666666666666666,
              "#ed7953"
             ],
             [
              0.7777777777777778,
              "#fb9f3a"
             ],
             [
              0.8888888888888888,
              "#fdca26"
             ],
             [
              1,
              "#f0f921"
             ]
            ],
            "type": "surface"
           }
          ],
          "table": [
           {
            "cells": {
             "fill": {
              "color": "#EBF0F8"
             },
             "line": {
              "color": "white"
             }
            },
            "header": {
             "fill": {
              "color": "#C8D4E3"
             },
             "line": {
              "color": "white"
             }
            },
            "type": "table"
           }
          ]
         },
         "layout": {
          "annotationdefaults": {
           "arrowcolor": "#2a3f5f",
           "arrowhead": 0,
           "arrowwidth": 1
          },
          "autotypenumbers": "strict",
          "coloraxis": {
           "colorbar": {
            "outlinewidth": 0,
            "ticks": ""
           }
          },
          "colorscale": {
           "diverging": [
            [
             0,
             "#8e0152"
            ],
            [
             0.1,
             "#c51b7d"
            ],
            [
             0.2,
             "#de77ae"
            ],
            [
             0.3,
             "#f1b6da"
            ],
            [
             0.4,
             "#fde0ef"
            ],
            [
             0.5,
             "#f7f7f7"
            ],
            [
             0.6,
             "#e6f5d0"
            ],
            [
             0.7,
             "#b8e186"
            ],
            [
             0.8,
             "#7fbc41"
            ],
            [
             0.9,
             "#4d9221"
            ],
            [
             1,
             "#276419"
            ]
           ],
           "sequential": [
            [
             0,
             "#0d0887"
            ],
            [
             0.1111111111111111,
             "#46039f"
            ],
            [
             0.2222222222222222,
             "#7201a8"
            ],
            [
             0.3333333333333333,
             "#9c179e"
            ],
            [
             0.4444444444444444,
             "#bd3786"
            ],
            [
             0.5555555555555556,
             "#d8576b"
            ],
            [
             0.6666666666666666,
             "#ed7953"
            ],
            [
             0.7777777777777778,
             "#fb9f3a"
            ],
            [
             0.8888888888888888,
             "#fdca26"
            ],
            [
             1,
             "#f0f921"
            ]
           ],
           "sequentialminus": [
            [
             0,
             "#0d0887"
            ],
            [
             0.1111111111111111,
             "#46039f"
            ],
            [
             0.2222222222222222,
             "#7201a8"
            ],
            [
             0.3333333333333333,
             "#9c179e"
            ],
            [
             0.4444444444444444,
             "#bd3786"
            ],
            [
             0.5555555555555556,
             "#d8576b"
            ],
            [
             0.6666666666666666,
             "#ed7953"
            ],
            [
             0.7777777777777778,
             "#fb9f3a"
            ],
            [
             0.8888888888888888,
             "#fdca26"
            ],
            [
             1,
             "#f0f921"
            ]
           ]
          },
          "colorway": [
           "#636efa",
           "#EF553B",
           "#00cc96",
           "#ab63fa",
           "#FFA15A",
           "#19d3f3",
           "#FF6692",
           "#B6E880",
           "#FF97FF",
           "#FECB52"
          ],
          "font": {
           "color": "#2a3f5f"
          },
          "geo": {
           "bgcolor": "white",
           "lakecolor": "white",
           "landcolor": "#E5ECF6",
           "showlakes": true,
           "showland": true,
           "subunitcolor": "white"
          },
          "hoverlabel": {
           "align": "left"
          },
          "hovermode": "closest",
          "mapbox": {
           "style": "light"
          },
          "paper_bgcolor": "white",
          "plot_bgcolor": "#E5ECF6",
          "polar": {
           "angularaxis": {
            "gridcolor": "white",
            "linecolor": "white",
            "ticks": ""
           },
           "bgcolor": "#E5ECF6",
           "radialaxis": {
            "gridcolor": "white",
            "linecolor": "white",
            "ticks": ""
           }
          },
          "scene": {
           "xaxis": {
            "backgroundcolor": "#E5ECF6",
            "gridcolor": "white",
            "gridwidth": 2,
            "linecolor": "white",
            "showbackground": true,
            "ticks": "",
            "zerolinecolor": "white"
           },
           "yaxis": {
            "backgroundcolor": "#E5ECF6",
            "gridcolor": "white",
            "gridwidth": 2,
            "linecolor": "white",
            "showbackground": true,
            "ticks": "",
            "zerolinecolor": "white"
           },
           "zaxis": {
            "backgroundcolor": "#E5ECF6",
            "gridcolor": "white",
            "gridwidth": 2,
            "linecolor": "white",
            "showbackground": true,
            "ticks": "",
            "zerolinecolor": "white"
           }
          },
          "shapedefaults": {
           "line": {
            "color": "#2a3f5f"
           }
          },
          "ternary": {
           "aaxis": {
            "gridcolor": "white",
            "linecolor": "white",
            "ticks": ""
           },
           "baxis": {
            "gridcolor": "white",
            "linecolor": "white",
            "ticks": ""
           },
           "bgcolor": "#E5ECF6",
           "caxis": {
            "gridcolor": "white",
            "linecolor": "white",
            "ticks": ""
           }
          },
          "title": {
           "x": 0.05
          },
          "xaxis": {
           "automargin": true,
           "gridcolor": "white",
           "linecolor": "white",
           "ticks": "",
           "title": {
            "standoff": 15
           },
           "zerolinecolor": "white",
           "zerolinewidth": 2
          },
          "yaxis": {
           "automargin": true,
           "gridcolor": "white",
           "linecolor": "white",
           "ticks": "",
           "title": {
            "standoff": 15
           },
           "zerolinecolor": "white",
           "zerolinewidth": 2
          }
         }
        },
        "title": {
         "text": "heart, variable age, split by size"
        },
        "xaxis": {
         "anchor": "y",
         "domain": [
          0,
          1
         ],
         "title": {
          "text": "split variable"
         }
        },
        "yaxis": {
         "anchor": "x",
         "domain": [
          0,
          1
         ],
         "title": {
          "text": "rho"
         }
        }
       }
      }
     },
     "metadata": {},
     "output_type": "display_data"
    },
    {
     "data": {
      "application/vnd.plotly.v1+json": {
       "config": {
        "plotlyServerURL": "https://plot.ly"
       },
       "data": [
        {
         "alignmentgroup": "True",
         "hovertemplate": "explanation=ale<br>split variable=%{x}<br>rho=%{y}<extra></extra>",
         "legendgroup": "ale",
         "marker": {
          "color": "#636efa"
         },
         "name": "ale",
         "notched": false,
         "offsetgroup": "ale",
         "orientation": "v",
         "quartilemethod": "exclusive",
         "showlegend": true,
         "type": "box",
         "x": [
          "size 32",
          "size 32",
          "size 32",
          "size 32",
          "size 32",
          "size 32",
          "size 32",
          "size 32",
          "size 32",
          "size 32",
          "size 32",
          "size 32",
          "size 32",
          "size 32",
          "size 32",
          "size 32",
          "size 32",
          "size 32",
          "size 32",
          "size 32",
          "size 32",
          "size 32",
          "size 32",
          "size 32",
          "size 32",
          "size 32",
          "size 32",
          "size 32",
          "size 32",
          "size 32",
          "size 32",
          "size 32",
          "size 32",
          "size 64",
          "size 64",
          "size 64",
          "size 64",
          "size 64",
          "size 64",
          "size 64",
          "size 64",
          "size 64",
          "size 64",
          "size 64",
          "size 64",
          "size 64",
          "size 64",
          "size 64",
          "size 64",
          "size 64",
          "size 64",
          "size 64",
          "size 64",
          "size 64",
          "size 64",
          "size 64",
          "size 64",
          "size 64",
          "size 64",
          "size 64",
          "size 64",
          "size 64",
          "size 64",
          "size 64",
          "size 128",
          "size 128",
          "size 128",
          "size 128",
          "size 128",
          "size 128",
          "size 128",
          "size 128",
          "size 128",
          "size 128",
          "size 128",
          "size 128",
          "size 128",
          "size 128",
          "size 128",
          "size 128",
          "size 128",
          "size 128",
          "size 128",
          "size 128",
          "size 128",
          "size 128",
          "size 128",
          "size 128",
          "size 128",
          "size 128",
          "size 128",
          "size 128",
          "size 128",
          "size 128"
         ],
         "x0": " ",
         "xaxis": "x",
         "y": [
          -0.9597141000649771,
          -0.9545159194282,
          -0.7102014294996751,
          0.8999350227420402,
          1,
          1,
          -0.9870045484080572,
          -0.9623131903833656,
          -0.8791423001949318,
          -0.1968810916179337,
          0.9948018193632228,
          -0.9493177387914228,
          -0.9493177387914228,
          -0.9493177387914228,
          -0.5763482781026641,
          0.9766081871345028,
          -0.993821611178353,
          -0.9870045484080572,
          -0.9220272904483432,
          0.7166991552956465,
          0.996101364522417,
          -0.98180636777128,
          -0.9753086419753084,
          -0.871345029239766,
          0.9987004548408056,
          1,
          1,
          -0.9753086419753084,
          -0.9116309291747888,
          -0.6725146198830408,
          0.7530864197530863,
          1,
          1,
          -0.9467186484730346,
          -0.96361273554256,
          -0.903833658219623,
          -0.4632878492527614,
          0.96361273554256,
          -0.9597141000649771,
          -0.9597141000649771,
          -0.8388564002599089,
          -0.5165692007797271,
          0.996101364522417,
          -0.9311241065627032,
          -0.866146848602989,
          -0.8596491228070176,
          -0.9376218323586744,
          0.9896036387264456,
          -0.9766081871345028,
          -0.9753086419753084,
          -0.9363222871994802,
          -0.5945419103313839,
          1,
          1,
          -0.9753086419753084,
          -0.9753086419753084,
          -0.9753086419753084,
          -0.9506172839506172,
          0.9935022742040284,
          -0.9142300194931776,
          -0.7946718648473036,
          -0.8232618583495775,
          -0.50227420402859,
          0.9714100064977256,
          -0.9597141000649771,
          -0.9597141000649771,
          -0.8739441195581545,
          -0.7582846003898636,
          0.9883040935672512,
          -0.8674463937621832,
          -0.8778427550357373,
          -0.7907732293697206,
          -0.5932423651721898,
          0.9558154645873944,
          -0.8505523066926576,
          -0.9363222871994802,
          -0.8206627680311891,
          -0.7024041585445094,
          0.9649122807017544,
          -0.8726445743989604,
          -0.8167641325536062,
          -0.8115659519168291,
          -0.8583495776478232,
          0.9194282001299544,
          -0.9051332033788172,
          -0.9051332033788172,
          -0.898635477582846,
          -0.788174139051332,
          0.9753086419753084,
          -0.9688109161793372,
          -0.8765432098765432,
          -0.8401559454191033,
          -0.8414554905782975,
          0.9558154645873944
         ],
         "y0": " ",
         "yaxis": "y"
        },
        {
         "alignmentgroup": "True",
         "hovertemplate": "explanation=pd<br>split variable=%{x}<br>rho=%{y}<extra></extra>",
         "legendgroup": "pd",
         "marker": {
          "color": "#EF553B"
         },
         "name": "pd",
         "notched": false,
         "offsetgroup": "pd",
         "orientation": "v",
         "quartilemethod": "exclusive",
         "showlegend": true,
         "type": "box",
         "x": [
          "size 32",
          "size 32",
          "size 32",
          "size 32",
          "size 32",
          "size 32",
          "size 32",
          "size 32",
          "size 32",
          "size 32",
          "size 32",
          "size 32",
          "size 32",
          "size 32",
          "size 32",
          "size 32",
          "size 32",
          "size 32",
          "size 32",
          "size 32",
          "size 32",
          "size 32",
          "size 32",
          "size 32",
          "size 32",
          "size 32",
          "size 32",
          "size 32",
          "size 32",
          "size 32",
          "size 32",
          "size 32",
          "size 32",
          "size 64",
          "size 64",
          "size 64",
          "size 64",
          "size 64",
          "size 64",
          "size 64",
          "size 64",
          "size 64",
          "size 64",
          "size 64",
          "size 64",
          "size 64",
          "size 64",
          "size 64",
          "size 64",
          "size 64",
          "size 64",
          "size 64",
          "size 64",
          "size 64",
          "size 64",
          "size 64",
          "size 64",
          "size 64",
          "size 64",
          "size 64",
          "size 64",
          "size 64",
          "size 64",
          "size 64",
          "size 128",
          "size 128",
          "size 128",
          "size 128",
          "size 128",
          "size 128",
          "size 128",
          "size 128",
          "size 128",
          "size 128",
          "size 128",
          "size 128",
          "size 128",
          "size 128",
          "size 128",
          "size 128",
          "size 128",
          "size 128",
          "size 128",
          "size 128",
          "size 128",
          "size 128",
          "size 128",
          "size 128",
          "size 128",
          "size 128",
          "size 128",
          "size 128",
          "size 128",
          "size 128"
         ],
         "x0": " ",
         "xaxis": "x",
         "y": [
          -1,
          -1,
          -0.8532467532467533,
          0.9376623376623376,
          1,
          1,
          -1,
          -1,
          -0.9142857142857144,
          -0.0675324675324675,
          1,
          -1,
          -1,
          -0.9818181818181818,
          0.6545454545454545,
          1,
          -1,
          -1,
          -0.9389610389610388,
          0.835064935064935,
          1,
          -1,
          -1,
          -0.7870129870129869,
          1,
          1,
          1,
          -0.9987012987012988,
          -0.9727272727272728,
          -0.8623376623376624,
          0.8259740259740259,
          1,
          1,
          -0.9584415584415584,
          -0.9584415584415584,
          -0.944155844155844,
          -0.6350649350649351,
          0.9597402597402598,
          -1,
          -1,
          -0.8597402597402597,
          -0.3519480519480519,
          1,
          -0.996103896103896,
          -0.9779220779220776,
          -0.8870129870129868,
          -0.5623376623376624,
          1,
          -1,
          -1,
          -0.9922077922077924,
          -0.5714285714285714,
          1,
          1,
          -1,
          -1,
          -0.9363636363636364,
          -0.7584415584415585,
          1,
          -0.9909090909090909,
          -0.9350649350649348,
          -0.8480519480519481,
          -0.3844155844155844,
          0.9909090909090909,
          -0.9948051948051948,
          -0.9805194805194803,
          -0.8714285714285716,
          -0.6363636363636362,
          0.9974025974025976,
          -0.9688311688311688,
          -0.9272727272727272,
          -0.7961038961038961,
          -0.6012987012987013,
          0.9948051948051948,
          -0.9909090909090909,
          -0.9831168831168832,
          -0.8844155844155844,
          -0.6220779220779221,
          0.9909090909090909,
          -0.944155844155844,
          -0.9259740259740258,
          -0.9909090909090909,
          -0.9207792207792208,
          0.9948051948051948,
          -0.9909090909090909,
          -0.996103896103896,
          -0.9870129870129868,
          -0.9064935064935064,
          0.9844155844155844,
          -0.9103896103896104,
          -0.9064935064935064,
          -0.8584415584415584,
          -0.7701298701298702,
          0.9779220779220776
         ],
         "y0": " ",
         "yaxis": "y"
        }
       ],
       "layout": {
        "boxmode": "group",
        "legend": {
         "title": {
          "text": "explanation"
         },
         "tracegroupgap": 0
        },
        "template": {
         "data": {
          "bar": [
           {
            "error_x": {
             "color": "#2a3f5f"
            },
            "error_y": {
             "color": "#2a3f5f"
            },
            "marker": {
             "line": {
              "color": "#E5ECF6",
              "width": 0.5
             },
             "pattern": {
              "fillmode": "overlay",
              "size": 10,
              "solidity": 0.2
             }
            },
            "type": "bar"
           }
          ],
          "barpolar": [
           {
            "marker": {
             "line": {
              "color": "#E5ECF6",
              "width": 0.5
             },
             "pattern": {
              "fillmode": "overlay",
              "size": 10,
              "solidity": 0.2
             }
            },
            "type": "barpolar"
           }
          ],
          "carpet": [
           {
            "aaxis": {
             "endlinecolor": "#2a3f5f",
             "gridcolor": "white",
             "linecolor": "white",
             "minorgridcolor": "white",
             "startlinecolor": "#2a3f5f"
            },
            "baxis": {
             "endlinecolor": "#2a3f5f",
             "gridcolor": "white",
             "linecolor": "white",
             "minorgridcolor": "white",
             "startlinecolor": "#2a3f5f"
            },
            "type": "carpet"
           }
          ],
          "choropleth": [
           {
            "colorbar": {
             "outlinewidth": 0,
             "ticks": ""
            },
            "type": "choropleth"
           }
          ],
          "contour": [
           {
            "colorbar": {
             "outlinewidth": 0,
             "ticks": ""
            },
            "colorscale": [
             [
              0,
              "#0d0887"
             ],
             [
              0.1111111111111111,
              "#46039f"
             ],
             [
              0.2222222222222222,
              "#7201a8"
             ],
             [
              0.3333333333333333,
              "#9c179e"
             ],
             [
              0.4444444444444444,
              "#bd3786"
             ],
             [
              0.5555555555555556,
              "#d8576b"
             ],
             [
              0.6666666666666666,
              "#ed7953"
             ],
             [
              0.7777777777777778,
              "#fb9f3a"
             ],
             [
              0.8888888888888888,
              "#fdca26"
             ],
             [
              1,
              "#f0f921"
             ]
            ],
            "type": "contour"
           }
          ],
          "contourcarpet": [
           {
            "colorbar": {
             "outlinewidth": 0,
             "ticks": ""
            },
            "type": "contourcarpet"
           }
          ],
          "heatmap": [
           {
            "colorbar": {
             "outlinewidth": 0,
             "ticks": ""
            },
            "colorscale": [
             [
              0,
              "#0d0887"
             ],
             [
              0.1111111111111111,
              "#46039f"
             ],
             [
              0.2222222222222222,
              "#7201a8"
             ],
             [
              0.3333333333333333,
              "#9c179e"
             ],
             [
              0.4444444444444444,
              "#bd3786"
             ],
             [
              0.5555555555555556,
              "#d8576b"
             ],
             [
              0.6666666666666666,
              "#ed7953"
             ],
             [
              0.7777777777777778,
              "#fb9f3a"
             ],
             [
              0.8888888888888888,
              "#fdca26"
             ],
             [
              1,
              "#f0f921"
             ]
            ],
            "type": "heatmap"
           }
          ],
          "heatmapgl": [
           {
            "colorbar": {
             "outlinewidth": 0,
             "ticks": ""
            },
            "colorscale": [
             [
              0,
              "#0d0887"
             ],
             [
              0.1111111111111111,
              "#46039f"
             ],
             [
              0.2222222222222222,
              "#7201a8"
             ],
             [
              0.3333333333333333,
              "#9c179e"
             ],
             [
              0.4444444444444444,
              "#bd3786"
             ],
             [
              0.5555555555555556,
              "#d8576b"
             ],
             [
              0.6666666666666666,
              "#ed7953"
             ],
             [
              0.7777777777777778,
              "#fb9f3a"
             ],
             [
              0.8888888888888888,
              "#fdca26"
             ],
             [
              1,
              "#f0f921"
             ]
            ],
            "type": "heatmapgl"
           }
          ],
          "histogram": [
           {
            "marker": {
             "pattern": {
              "fillmode": "overlay",
              "size": 10,
              "solidity": 0.2
             }
            },
            "type": "histogram"
           }
          ],
          "histogram2d": [
           {
            "colorbar": {
             "outlinewidth": 0,
             "ticks": ""
            },
            "colorscale": [
             [
              0,
              "#0d0887"
             ],
             [
              0.1111111111111111,
              "#46039f"
             ],
             [
              0.2222222222222222,
              "#7201a8"
             ],
             [
              0.3333333333333333,
              "#9c179e"
             ],
             [
              0.4444444444444444,
              "#bd3786"
             ],
             [
              0.5555555555555556,
              "#d8576b"
             ],
             [
              0.6666666666666666,
              "#ed7953"
             ],
             [
              0.7777777777777778,
              "#fb9f3a"
             ],
             [
              0.8888888888888888,
              "#fdca26"
             ],
             [
              1,
              "#f0f921"
             ]
            ],
            "type": "histogram2d"
           }
          ],
          "histogram2dcontour": [
           {
            "colorbar": {
             "outlinewidth": 0,
             "ticks": ""
            },
            "colorscale": [
             [
              0,
              "#0d0887"
             ],
             [
              0.1111111111111111,
              "#46039f"
             ],
             [
              0.2222222222222222,
              "#7201a8"
             ],
             [
              0.3333333333333333,
              "#9c179e"
             ],
             [
              0.4444444444444444,
              "#bd3786"
             ],
             [
              0.5555555555555556,
              "#d8576b"
             ],
             [
              0.6666666666666666,
              "#ed7953"
             ],
             [
              0.7777777777777778,
              "#fb9f3a"
             ],
             [
              0.8888888888888888,
              "#fdca26"
             ],
             [
              1,
              "#f0f921"
             ]
            ],
            "type": "histogram2dcontour"
           }
          ],
          "mesh3d": [
           {
            "colorbar": {
             "outlinewidth": 0,
             "ticks": ""
            },
            "type": "mesh3d"
           }
          ],
          "parcoords": [
           {
            "line": {
             "colorbar": {
              "outlinewidth": 0,
              "ticks": ""
             }
            },
            "type": "parcoords"
           }
          ],
          "pie": [
           {
            "automargin": true,
            "type": "pie"
           }
          ],
          "scatter": [
           {
            "fillpattern": {
             "fillmode": "overlay",
             "size": 10,
             "solidity": 0.2
            },
            "type": "scatter"
           }
          ],
          "scatter3d": [
           {
            "line": {
             "colorbar": {
              "outlinewidth": 0,
              "ticks": ""
             }
            },
            "marker": {
             "colorbar": {
              "outlinewidth": 0,
              "ticks": ""
             }
            },
            "type": "scatter3d"
           }
          ],
          "scattercarpet": [
           {
            "marker": {
             "colorbar": {
              "outlinewidth": 0,
              "ticks": ""
             }
            },
            "type": "scattercarpet"
           }
          ],
          "scattergeo": [
           {
            "marker": {
             "colorbar": {
              "outlinewidth": 0,
              "ticks": ""
             }
            },
            "type": "scattergeo"
           }
          ],
          "scattergl": [
           {
            "marker": {
             "colorbar": {
              "outlinewidth": 0,
              "ticks": ""
             }
            },
            "type": "scattergl"
           }
          ],
          "scattermapbox": [
           {
            "marker": {
             "colorbar": {
              "outlinewidth": 0,
              "ticks": ""
             }
            },
            "type": "scattermapbox"
           }
          ],
          "scatterpolar": [
           {
            "marker": {
             "colorbar": {
              "outlinewidth": 0,
              "ticks": ""
             }
            },
            "type": "scatterpolar"
           }
          ],
          "scatterpolargl": [
           {
            "marker": {
             "colorbar": {
              "outlinewidth": 0,
              "ticks": ""
             }
            },
            "type": "scatterpolargl"
           }
          ],
          "scatterternary": [
           {
            "marker": {
             "colorbar": {
              "outlinewidth": 0,
              "ticks": ""
             }
            },
            "type": "scatterternary"
           }
          ],
          "surface": [
           {
            "colorbar": {
             "outlinewidth": 0,
             "ticks": ""
            },
            "colorscale": [
             [
              0,
              "#0d0887"
             ],
             [
              0.1111111111111111,
              "#46039f"
             ],
             [
              0.2222222222222222,
              "#7201a8"
             ],
             [
              0.3333333333333333,
              "#9c179e"
             ],
             [
              0.4444444444444444,
              "#bd3786"
             ],
             [
              0.5555555555555556,
              "#d8576b"
             ],
             [
              0.6666666666666666,
              "#ed7953"
             ],
             [
              0.7777777777777778,
              "#fb9f3a"
             ],
             [
              0.8888888888888888,
              "#fdca26"
             ],
             [
              1,
              "#f0f921"
             ]
            ],
            "type": "surface"
           }
          ],
          "table": [
           {
            "cells": {
             "fill": {
              "color": "#EBF0F8"
             },
             "line": {
              "color": "white"
             }
            },
            "header": {
             "fill": {
              "color": "#C8D4E3"
             },
             "line": {
              "color": "white"
             }
            },
            "type": "table"
           }
          ]
         },
         "layout": {
          "annotationdefaults": {
           "arrowcolor": "#2a3f5f",
           "arrowhead": 0,
           "arrowwidth": 1
          },
          "autotypenumbers": "strict",
          "coloraxis": {
           "colorbar": {
            "outlinewidth": 0,
            "ticks": ""
           }
          },
          "colorscale": {
           "diverging": [
            [
             0,
             "#8e0152"
            ],
            [
             0.1,
             "#c51b7d"
            ],
            [
             0.2,
             "#de77ae"
            ],
            [
             0.3,
             "#f1b6da"
            ],
            [
             0.4,
             "#fde0ef"
            ],
            [
             0.5,
             "#f7f7f7"
            ],
            [
             0.6,
             "#e6f5d0"
            ],
            [
             0.7,
             "#b8e186"
            ],
            [
             0.8,
             "#7fbc41"
            ],
            [
             0.9,
             "#4d9221"
            ],
            [
             1,
             "#276419"
            ]
           ],
           "sequential": [
            [
             0,
             "#0d0887"
            ],
            [
             0.1111111111111111,
             "#46039f"
            ],
            [
             0.2222222222222222,
             "#7201a8"
            ],
            [
             0.3333333333333333,
             "#9c179e"
            ],
            [
             0.4444444444444444,
             "#bd3786"
            ],
            [
             0.5555555555555556,
             "#d8576b"
            ],
            [
             0.6666666666666666,
             "#ed7953"
            ],
            [
             0.7777777777777778,
             "#fb9f3a"
            ],
            [
             0.8888888888888888,
             "#fdca26"
            ],
            [
             1,
             "#f0f921"
            ]
           ],
           "sequentialminus": [
            [
             0,
             "#0d0887"
            ],
            [
             0.1111111111111111,
             "#46039f"
            ],
            [
             0.2222222222222222,
             "#7201a8"
            ],
            [
             0.3333333333333333,
             "#9c179e"
            ],
            [
             0.4444444444444444,
             "#bd3786"
            ],
            [
             0.5555555555555556,
             "#d8576b"
            ],
            [
             0.6666666666666666,
             "#ed7953"
            ],
            [
             0.7777777777777778,
             "#fb9f3a"
            ],
            [
             0.8888888888888888,
             "#fdca26"
            ],
            [
             1,
             "#f0f921"
            ]
           ]
          },
          "colorway": [
           "#636efa",
           "#EF553B",
           "#00cc96",
           "#ab63fa",
           "#FFA15A",
           "#19d3f3",
           "#FF6692",
           "#B6E880",
           "#FF97FF",
           "#FECB52"
          ],
          "font": {
           "color": "#2a3f5f"
          },
          "geo": {
           "bgcolor": "white",
           "lakecolor": "white",
           "landcolor": "#E5ECF6",
           "showlakes": true,
           "showland": true,
           "subunitcolor": "white"
          },
          "hoverlabel": {
           "align": "left"
          },
          "hovermode": "closest",
          "mapbox": {
           "style": "light"
          },
          "paper_bgcolor": "white",
          "plot_bgcolor": "#E5ECF6",
          "polar": {
           "angularaxis": {
            "gridcolor": "white",
            "linecolor": "white",
            "ticks": ""
           },
           "bgcolor": "#E5ECF6",
           "radialaxis": {
            "gridcolor": "white",
            "linecolor": "white",
            "ticks": ""
           }
          },
          "scene": {
           "xaxis": {
            "backgroundcolor": "#E5ECF6",
            "gridcolor": "white",
            "gridwidth": 2,
            "linecolor": "white",
            "showbackground": true,
            "ticks": "",
            "zerolinecolor": "white"
           },
           "yaxis": {
            "backgroundcolor": "#E5ECF6",
            "gridcolor": "white",
            "gridwidth": 2,
            "linecolor": "white",
            "showbackground": true,
            "ticks": "",
            "zerolinecolor": "white"
           },
           "zaxis": {
            "backgroundcolor": "#E5ECF6",
            "gridcolor": "white",
            "gridwidth": 2,
            "linecolor": "white",
            "showbackground": true,
            "ticks": "",
            "zerolinecolor": "white"
           }
          },
          "shapedefaults": {
           "line": {
            "color": "#2a3f5f"
           }
          },
          "ternary": {
           "aaxis": {
            "gridcolor": "white",
            "linecolor": "white",
            "ticks": ""
           },
           "baxis": {
            "gridcolor": "white",
            "linecolor": "white",
            "ticks": ""
           },
           "bgcolor": "#E5ECF6",
           "caxis": {
            "gridcolor": "white",
            "linecolor": "white",
            "ticks": ""
           }
          },
          "title": {
           "x": 0.05
          },
          "xaxis": {
           "automargin": true,
           "gridcolor": "white",
           "linecolor": "white",
           "ticks": "",
           "title": {
            "standoff": 15
           },
           "zerolinecolor": "white",
           "zerolinewidth": 2
          },
          "yaxis": {
           "automargin": true,
           "gridcolor": "white",
           "linecolor": "white",
           "ticks": "",
           "title": {
            "standoff": 15
           },
           "zerolinecolor": "white",
           "zerolinewidth": 2
          }
         }
        },
        "title": {
         "text": "titanic, variable Age, split by size"
        },
        "xaxis": {
         "anchor": "y",
         "domain": [
          0,
          1
         ],
         "title": {
          "text": "split variable"
         }
        },
        "yaxis": {
         "anchor": "x",
         "domain": [
          0,
          1
         ],
         "title": {
          "text": "rho"
         }
        }
       }
      }
     },
     "metadata": {},
     "output_type": "display_data"
    },
    {
     "data": {
      "application/vnd.plotly.v1+json": {
       "config": {
        "plotlyServerURL": "https://plot.ly"
       },
       "data": [
        {
         "alignmentgroup": "True",
         "hovertemplate": "explanation=ale<br>split variable=%{x}<br>rho=%{y}<extra></extra>",
         "legendgroup": "ale",
         "marker": {
          "color": "#636efa"
         },
         "name": "ale",
         "notched": false,
         "offsetgroup": "ale",
         "orientation": "v",
         "quartilemethod": "exclusive",
         "showlegend": true,
         "type": "box",
         "x": [
          "size 32",
          "size 32",
          "size 32",
          "size 32",
          "size 32",
          "size 32",
          "size 32",
          "size 32",
          "size 32",
          "size 32",
          "size 32",
          "size 32",
          "size 32",
          "size 32",
          "size 32",
          "size 32",
          "size 32",
          "size 32",
          "size 32",
          "size 32",
          "size 32",
          "size 32",
          "size 32",
          "size 32",
          "size 32",
          "size 32",
          "size 32",
          "size 32",
          "size 32",
          "size 32",
          "size 64",
          "size 64",
          "size 64",
          "size 64",
          "size 64",
          "size 64",
          "size 64",
          "size 64",
          "size 64",
          "size 64",
          "size 64",
          "size 64",
          "size 64",
          "size 64",
          "size 64",
          "size 64",
          "size 64",
          "size 64",
          "size 64",
          "size 64",
          "size 64",
          "size 64",
          "size 64",
          "size 64",
          "size 64",
          "size 64",
          "size 64",
          "size 64",
          "size 64",
          "size 64",
          "size 128",
          "size 128",
          "size 128",
          "size 128",
          "size 128",
          "size 128",
          "size 128",
          "size 128",
          "size 128",
          "size 128",
          "size 128",
          "size 128",
          "size 128",
          "size 128",
          "size 128",
          "size 128",
          "size 128",
          "size 128",
          "size 128",
          "size 128",
          "size 128",
          "size 128",
          "size 128",
          "size 128",
          "size 128",
          "size 128",
          "size 128",
          "size 128",
          "size 128",
          "size 128",
          "size 128"
         ],
         "x0": " ",
         "xaxis": "x",
         "y": [
          0.2722143864598025,
          0.2961918194640338,
          0.2961918194640338,
          0.2961918194640338,
          0.9322990126939352,
          0.0741264093695957,
          0.0719322990126939,
          0.0761636107193229,
          0.3638928067700986,
          0.922425952045134,
          -0.0253878702397743,
          -0.0211565585331452,
          -0.0225669957686882,
          0.1396332863187588,
          0.9181946403385048,
          0.2722143864598025,
          0.2722143864598025,
          0.2722143864598025,
          0.2722143864598025,
          0.9322990126939352,
          0.3554301833568405,
          0.5712270803949223,
          0.5712270803949223,
          0.5712270803949223,
          0.7447108603667135,
          0.1029619181946403,
          0.1071932299012693,
          0.1114245416078984,
          0.8829337094499293,
          0.9844851904090264,
          0.4499294781382228,
          0.4386459802538786,
          0.4541607898448518,
          0.4964739069111424,
          0.995768688293371,
          0.2214386459802538,
          0.3610719322990126,
          0.3610719322990126,
          0.3610719322990126,
          0.8265162200282086,
          0.0437235543018335,
          0.0437235543018335,
          0.1833568406205923,
          0.1833568406205923,
          0.9181946403385048,
          0.1071932299012693,
          0.1071932299012693,
          0.2722143864598025,
          0.2722143864598025,
          0.4499294781382228,
          0.2411847672778561,
          0.4315937940761635,
          0.4315937940761635,
          0.4386459802538786,
          0.928067700987306,
          0.2849083215796897,
          0.2849083215796897,
          0.4541607898448518,
          0.5684062059238364,
          0.6558533145275035,
          0.2214386459802538,
          0.2214386459802538,
          0.3610719322990126,
          0.5007052186177714,
          0.7700987306064879,
          0.2129760225669957,
          0.2129760225669957,
          0.3526093088857545,
          0.3526093088857545,
          0.9915373765867416,
          0.2270803949224259,
          0.3568406205923836,
          0.3526093088857545,
          0.5387870239774329,
          0.9322990126939352,
          0.2172073342736248,
          0.2172073342736248,
          0.3568406205923836,
          0.4978843441466855,
          0.9943582510578278,
          0.2129760225669957,
          0.2172073342736248,
          0.3568406205923836,
          0.5275035260930887,
          1,
          1,
          0.2214386459802538,
          0.3610719322990126,
          0.3610719322990126,
          0.5049365303244006,
          0.9181946403385048
         ],
         "y0": " ",
         "yaxis": "y"
        },
        {
         "alignmentgroup": "True",
         "hovertemplate": "explanation=pd<br>split variable=%{x}<br>rho=%{y}<extra></extra>",
         "legendgroup": "pd",
         "marker": {
          "color": "#EF553B"
         },
         "name": "pd",
         "notched": false,
         "offsetgroup": "pd",
         "orientation": "v",
         "quartilemethod": "exclusive",
         "showlegend": true,
         "type": "box",
         "x": [
          "size 32",
          "size 32",
          "size 32",
          "size 32",
          "size 32",
          "size 32",
          "size 32",
          "size 32",
          "size 32",
          "size 32",
          "size 32",
          "size 32",
          "size 32",
          "size 32",
          "size 32",
          "size 32",
          "size 32",
          "size 32",
          "size 32",
          "size 32",
          "size 32",
          "size 32",
          "size 32",
          "size 32",
          "size 32",
          "size 32",
          "size 32",
          "size 32",
          "size 32",
          "size 32",
          "size 64",
          "size 64",
          "size 64",
          "size 64",
          "size 64",
          "size 64",
          "size 64",
          "size 64",
          "size 64",
          "size 64",
          "size 64",
          "size 64",
          "size 64",
          "size 64",
          "size 64",
          "size 64",
          "size 64",
          "size 64",
          "size 64",
          "size 64",
          "size 64",
          "size 64",
          "size 64",
          "size 64",
          "size 64",
          "size 64",
          "size 64",
          "size 64",
          "size 64",
          "size 64",
          "size 128",
          "size 128",
          "size 128",
          "size 128",
          "size 128",
          "size 128",
          "size 128",
          "size 128",
          "size 128",
          "size 128",
          "size 128",
          "size 128",
          "size 128",
          "size 128",
          "size 128",
          "size 128",
          "size 128",
          "size 128",
          "size 128",
          "size 128",
          "size 128",
          "size 128",
          "size 128",
          "size 128",
          "size 128",
          "size 128",
          "size 128",
          "size 128",
          "size 128",
          "size 128",
          "size 128"
         ],
         "x0": " ",
         "xaxis": "x",
         "y": [
          -0.9389610389610388,
          -0.9545454545454546,
          -0.8948051948051948,
          0.0558441558441558,
          0.9987012987012988,
          -0.996103896103896,
          -0.9831168831168832,
          -0.9064935064935064,
          0.1298701298701298,
          1,
          -1,
          -0.9974025974025976,
          -0.9285714285714284,
          -0.0467532467532467,
          1,
          -1,
          -1,
          -0.8688311688311688,
          0.4974025974025974,
          1,
          -1,
          -0.9831168831168832,
          -0.7883116883116883,
          0.9389610389610388,
          1,
          -0.9831168831168832,
          -0.9818181818181818,
          -0.890909090909091,
          0.2454545454545454,
          0.9792207792207792,
          -0.9545454545454546,
          -0.916883116883117,
          -0.8441558441558441,
          -0.1233766233766233,
          0.9870129870129868,
          -1,
          -0.9948051948051948,
          -0.8688311688311688,
          0.135064935064935,
          1,
          -1,
          -0.9922077922077924,
          -0.8298701298701299,
          0.1337662337662337,
          1,
          -1,
          -1,
          -0.8974025974025974,
          0.1233766233766233,
          1,
          -0.9831168831168832,
          -0.9688311688311688,
          -0.7753246753246753,
          0.2701298701298701,
          1,
          -0.9909090909090909,
          -0.974025974025974,
          -0.8311688311688311,
          -0.1168831168831168,
          1,
          -0.9818181818181818,
          -0.9623376623376624,
          -0.8285714285714286,
          -0.2441558441558441,
          1,
          -0.9415584415584416,
          -0.8883116883116883,
          -0.8077922077922077,
          -0.2584415584415584,
          1,
          -0.9948051948051948,
          -0.7922077922077921,
          -0.764935064935065,
          -0.4129870129870129,
          1,
          -0.9779220779220776,
          -0.961038961038961,
          -0.8324675324675326,
          -0.4077922077922078,
          1,
          -0.9623376623376624,
          -0.8610389610389609,
          -0.803896103896104,
          -0.5558441558441559,
          1,
          1,
          -0.9831168831168832,
          -0.944155844155844,
          -0.8415584415584414,
          -0.4532467532467532,
          1
         ],
         "y0": " ",
         "yaxis": "y"
        }
       ],
       "layout": {
        "boxmode": "group",
        "legend": {
         "title": {
          "text": "explanation"
         },
         "tracegroupgap": 0
        },
        "template": {
         "data": {
          "bar": [
           {
            "error_x": {
             "color": "#2a3f5f"
            },
            "error_y": {
             "color": "#2a3f5f"
            },
            "marker": {
             "line": {
              "color": "#E5ECF6",
              "width": 0.5
             },
             "pattern": {
              "fillmode": "overlay",
              "size": 10,
              "solidity": 0.2
             }
            },
            "type": "bar"
           }
          ],
          "barpolar": [
           {
            "marker": {
             "line": {
              "color": "#E5ECF6",
              "width": 0.5
             },
             "pattern": {
              "fillmode": "overlay",
              "size": 10,
              "solidity": 0.2
             }
            },
            "type": "barpolar"
           }
          ],
          "carpet": [
           {
            "aaxis": {
             "endlinecolor": "#2a3f5f",
             "gridcolor": "white",
             "linecolor": "white",
             "minorgridcolor": "white",
             "startlinecolor": "#2a3f5f"
            },
            "baxis": {
             "endlinecolor": "#2a3f5f",
             "gridcolor": "white",
             "linecolor": "white",
             "minorgridcolor": "white",
             "startlinecolor": "#2a3f5f"
            },
            "type": "carpet"
           }
          ],
          "choropleth": [
           {
            "colorbar": {
             "outlinewidth": 0,
             "ticks": ""
            },
            "type": "choropleth"
           }
          ],
          "contour": [
           {
            "colorbar": {
             "outlinewidth": 0,
             "ticks": ""
            },
            "colorscale": [
             [
              0,
              "#0d0887"
             ],
             [
              0.1111111111111111,
              "#46039f"
             ],
             [
              0.2222222222222222,
              "#7201a8"
             ],
             [
              0.3333333333333333,
              "#9c179e"
             ],
             [
              0.4444444444444444,
              "#bd3786"
             ],
             [
              0.5555555555555556,
              "#d8576b"
             ],
             [
              0.6666666666666666,
              "#ed7953"
             ],
             [
              0.7777777777777778,
              "#fb9f3a"
             ],
             [
              0.8888888888888888,
              "#fdca26"
             ],
             [
              1,
              "#f0f921"
             ]
            ],
            "type": "contour"
           }
          ],
          "contourcarpet": [
           {
            "colorbar": {
             "outlinewidth": 0,
             "ticks": ""
            },
            "type": "contourcarpet"
           }
          ],
          "heatmap": [
           {
            "colorbar": {
             "outlinewidth": 0,
             "ticks": ""
            },
            "colorscale": [
             [
              0,
              "#0d0887"
             ],
             [
              0.1111111111111111,
              "#46039f"
             ],
             [
              0.2222222222222222,
              "#7201a8"
             ],
             [
              0.3333333333333333,
              "#9c179e"
             ],
             [
              0.4444444444444444,
              "#bd3786"
             ],
             [
              0.5555555555555556,
              "#d8576b"
             ],
             [
              0.6666666666666666,
              "#ed7953"
             ],
             [
              0.7777777777777778,
              "#fb9f3a"
             ],
             [
              0.8888888888888888,
              "#fdca26"
             ],
             [
              1,
              "#f0f921"
             ]
            ],
            "type": "heatmap"
           }
          ],
          "heatmapgl": [
           {
            "colorbar": {
             "outlinewidth": 0,
             "ticks": ""
            },
            "colorscale": [
             [
              0,
              "#0d0887"
             ],
             [
              0.1111111111111111,
              "#46039f"
             ],
             [
              0.2222222222222222,
              "#7201a8"
             ],
             [
              0.3333333333333333,
              "#9c179e"
             ],
             [
              0.4444444444444444,
              "#bd3786"
             ],
             [
              0.5555555555555556,
              "#d8576b"
             ],
             [
              0.6666666666666666,
              "#ed7953"
             ],
             [
              0.7777777777777778,
              "#fb9f3a"
             ],
             [
              0.8888888888888888,
              "#fdca26"
             ],
             [
              1,
              "#f0f921"
             ]
            ],
            "type": "heatmapgl"
           }
          ],
          "histogram": [
           {
            "marker": {
             "pattern": {
              "fillmode": "overlay",
              "size": 10,
              "solidity": 0.2
             }
            },
            "type": "histogram"
           }
          ],
          "histogram2d": [
           {
            "colorbar": {
             "outlinewidth": 0,
             "ticks": ""
            },
            "colorscale": [
             [
              0,
              "#0d0887"
             ],
             [
              0.1111111111111111,
              "#46039f"
             ],
             [
              0.2222222222222222,
              "#7201a8"
             ],
             [
              0.3333333333333333,
              "#9c179e"
             ],
             [
              0.4444444444444444,
              "#bd3786"
             ],
             [
              0.5555555555555556,
              "#d8576b"
             ],
             [
              0.6666666666666666,
              "#ed7953"
             ],
             [
              0.7777777777777778,
              "#fb9f3a"
             ],
             [
              0.8888888888888888,
              "#fdca26"
             ],
             [
              1,
              "#f0f921"
             ]
            ],
            "type": "histogram2d"
           }
          ],
          "histogram2dcontour": [
           {
            "colorbar": {
             "outlinewidth": 0,
             "ticks": ""
            },
            "colorscale": [
             [
              0,
              "#0d0887"
             ],
             [
              0.1111111111111111,
              "#46039f"
             ],
             [
              0.2222222222222222,
              "#7201a8"
             ],
             [
              0.3333333333333333,
              "#9c179e"
             ],
             [
              0.4444444444444444,
              "#bd3786"
             ],
             [
              0.5555555555555556,
              "#d8576b"
             ],
             [
              0.6666666666666666,
              "#ed7953"
             ],
             [
              0.7777777777777778,
              "#fb9f3a"
             ],
             [
              0.8888888888888888,
              "#fdca26"
             ],
             [
              1,
              "#f0f921"
             ]
            ],
            "type": "histogram2dcontour"
           }
          ],
          "mesh3d": [
           {
            "colorbar": {
             "outlinewidth": 0,
             "ticks": ""
            },
            "type": "mesh3d"
           }
          ],
          "parcoords": [
           {
            "line": {
             "colorbar": {
              "outlinewidth": 0,
              "ticks": ""
             }
            },
            "type": "parcoords"
           }
          ],
          "pie": [
           {
            "automargin": true,
            "type": "pie"
           }
          ],
          "scatter": [
           {
            "fillpattern": {
             "fillmode": "overlay",
             "size": 10,
             "solidity": 0.2
            },
            "type": "scatter"
           }
          ],
          "scatter3d": [
           {
            "line": {
             "colorbar": {
              "outlinewidth": 0,
              "ticks": ""
             }
            },
            "marker": {
             "colorbar": {
              "outlinewidth": 0,
              "ticks": ""
             }
            },
            "type": "scatter3d"
           }
          ],
          "scattercarpet": [
           {
            "marker": {
             "colorbar": {
              "outlinewidth": 0,
              "ticks": ""
             }
            },
            "type": "scattercarpet"
           }
          ],
          "scattergeo": [
           {
            "marker": {
             "colorbar": {
              "outlinewidth": 0,
              "ticks": ""
             }
            },
            "type": "scattergeo"
           }
          ],
          "scattergl": [
           {
            "marker": {
             "colorbar": {
              "outlinewidth": 0,
              "ticks": ""
             }
            },
            "type": "scattergl"
           }
          ],
          "scattermapbox": [
           {
            "marker": {
             "colorbar": {
              "outlinewidth": 0,
              "ticks": ""
             }
            },
            "type": "scattermapbox"
           }
          ],
          "scatterpolar": [
           {
            "marker": {
             "colorbar": {
              "outlinewidth": 0,
              "ticks": ""
             }
            },
            "type": "scatterpolar"
           }
          ],
          "scatterpolargl": [
           {
            "marker": {
             "colorbar": {
              "outlinewidth": 0,
              "ticks": ""
             }
            },
            "type": "scatterpolargl"
           }
          ],
          "scatterternary": [
           {
            "marker": {
             "colorbar": {
              "outlinewidth": 0,
              "ticks": ""
             }
            },
            "type": "scatterternary"
           }
          ],
          "surface": [
           {
            "colorbar": {
             "outlinewidth": 0,
             "ticks": ""
            },
            "colorscale": [
             [
              0,
              "#0d0887"
             ],
             [
              0.1111111111111111,
              "#46039f"
             ],
             [
              0.2222222222222222,
              "#7201a8"
             ],
             [
              0.3333333333333333,
              "#9c179e"
             ],
             [
              0.4444444444444444,
              "#bd3786"
             ],
             [
              0.5555555555555556,
              "#d8576b"
             ],
             [
              0.6666666666666666,
              "#ed7953"
             ],
             [
              0.7777777777777778,
              "#fb9f3a"
             ],
             [
              0.8888888888888888,
              "#fdca26"
             ],
             [
              1,
              "#f0f921"
             ]
            ],
            "type": "surface"
           }
          ],
          "table": [
           {
            "cells": {
             "fill": {
              "color": "#EBF0F8"
             },
             "line": {
              "color": "white"
             }
            },
            "header": {
             "fill": {
              "color": "#C8D4E3"
             },
             "line": {
              "color": "white"
             }
            },
            "type": "table"
           }
          ]
         },
         "layout": {
          "annotationdefaults": {
           "arrowcolor": "#2a3f5f",
           "arrowhead": 0,
           "arrowwidth": 1
          },
          "autotypenumbers": "strict",
          "coloraxis": {
           "colorbar": {
            "outlinewidth": 0,
            "ticks": ""
           }
          },
          "colorscale": {
           "diverging": [
            [
             0,
             "#8e0152"
            ],
            [
             0.1,
             "#c51b7d"
            ],
            [
             0.2,
             "#de77ae"
            ],
            [
             0.3,
             "#f1b6da"
            ],
            [
             0.4,
             "#fde0ef"
            ],
            [
             0.5,
             "#f7f7f7"
            ],
            [
             0.6,
             "#e6f5d0"
            ],
            [
             0.7,
             "#b8e186"
            ],
            [
             0.8,
             "#7fbc41"
            ],
            [
             0.9,
             "#4d9221"
            ],
            [
             1,
             "#276419"
            ]
           ],
           "sequential": [
            [
             0,
             "#0d0887"
            ],
            [
             0.1111111111111111,
             "#46039f"
            ],
            [
             0.2222222222222222,
             "#7201a8"
            ],
            [
             0.3333333333333333,
             "#9c179e"
            ],
            [
             0.4444444444444444,
             "#bd3786"
            ],
            [
             0.5555555555555556,
             "#d8576b"
            ],
            [
             0.6666666666666666,
             "#ed7953"
            ],
            [
             0.7777777777777778,
             "#fb9f3a"
            ],
            [
             0.8888888888888888,
             "#fdca26"
            ],
            [
             1,
             "#f0f921"
            ]
           ],
           "sequentialminus": [
            [
             0,
             "#0d0887"
            ],
            [
             0.1111111111111111,
             "#46039f"
            ],
            [
             0.2222222222222222,
             "#7201a8"
            ],
            [
             0.3333333333333333,
             "#9c179e"
            ],
            [
             0.4444444444444444,
             "#bd3786"
            ],
            [
             0.5555555555555556,
             "#d8576b"
            ],
            [
             0.6666666666666666,
             "#ed7953"
            ],
            [
             0.7777777777777778,
             "#fb9f3a"
            ],
            [
             0.8888888888888888,
             "#fdca26"
            ],
            [
             1,
             "#f0f921"
            ]
           ]
          },
          "colorway": [
           "#636efa",
           "#EF553B",
           "#00cc96",
           "#ab63fa",
           "#FFA15A",
           "#19d3f3",
           "#FF6692",
           "#B6E880",
           "#FF97FF",
           "#FECB52"
          ],
          "font": {
           "color": "#2a3f5f"
          },
          "geo": {
           "bgcolor": "white",
           "lakecolor": "white",
           "landcolor": "#E5ECF6",
           "showlakes": true,
           "showland": true,
           "subunitcolor": "white"
          },
          "hoverlabel": {
           "align": "left"
          },
          "hovermode": "closest",
          "mapbox": {
           "style": "light"
          },
          "paper_bgcolor": "white",
          "plot_bgcolor": "#E5ECF6",
          "polar": {
           "angularaxis": {
            "gridcolor": "white",
            "linecolor": "white",
            "ticks": ""
           },
           "bgcolor": "#E5ECF6",
           "radialaxis": {
            "gridcolor": "white",
            "linecolor": "white",
            "ticks": ""
           }
          },
          "scene": {
           "xaxis": {
            "backgroundcolor": "#E5ECF6",
            "gridcolor": "white",
            "gridwidth": 2,
            "linecolor": "white",
            "showbackground": true,
            "ticks": "",
            "zerolinecolor": "white"
           },
           "yaxis": {
            "backgroundcolor": "#E5ECF6",
            "gridcolor": "white",
            "gridwidth": 2,
            "linecolor": "white",
            "showbackground": true,
            "ticks": "",
            "zerolinecolor": "white"
           },
           "zaxis": {
            "backgroundcolor": "#E5ECF6",
            "gridcolor": "white",
            "gridwidth": 2,
            "linecolor": "white",
            "showbackground": true,
            "ticks": "",
            "zerolinecolor": "white"
           }
          },
          "shapedefaults": {
           "line": {
            "color": "#2a3f5f"
           }
          },
          "ternary": {
           "aaxis": {
            "gridcolor": "white",
            "linecolor": "white",
            "ticks": ""
           },
           "baxis": {
            "gridcolor": "white",
            "linecolor": "white",
            "ticks": ""
           },
           "bgcolor": "#E5ECF6",
           "caxis": {
            "gridcolor": "white",
            "linecolor": "white",
            "ticks": ""
           }
          },
          "title": {
           "x": 0.05
          },
          "xaxis": {
           "automargin": true,
           "gridcolor": "white",
           "linecolor": "white",
           "ticks": "",
           "title": {
            "standoff": 15
           },
           "zerolinecolor": "white",
           "zerolinewidth": 2
          },
          "yaxis": {
           "automargin": true,
           "gridcolor": "white",
           "linecolor": "white",
           "ticks": "",
           "title": {
            "standoff": 15
           },
           "zerolinecolor": "white",
           "zerolinewidth": 2
          }
         }
        },
        "title": {
         "text": "titanic, variable Fare, split by size"
        },
        "xaxis": {
         "anchor": "y",
         "domain": [
          0,
          1
         ],
         "title": {
          "text": "split variable"
         }
        },
        "yaxis": {
         "anchor": "x",
         "domain": [
          0,
          1
         ],
         "title": {
          "text": "rho"
         }
        }
       }
      }
     },
     "metadata": {},
     "output_type": "display_data"
    },
    {
     "data": {
      "application/vnd.plotly.v1+json": {
       "config": {
        "plotlyServerURL": "https://plot.ly"
       },
       "data": [
        {
         "alignmentgroup": "True",
         "hovertemplate": "explanation=ale<br>split variable=%{x}<br>rho=%{y}<extra></extra>",
         "legendgroup": "ale",
         "marker": {
          "color": "#636efa"
         },
         "name": "ale",
         "notched": false,
         "offsetgroup": "ale",
         "orientation": "v",
         "quartilemethod": "exclusive",
         "showlegend": true,
         "type": "box",
         "x": [
          "size 32",
          "size 32",
          "size 32",
          "size 32",
          "size 32",
          "size 32",
          "size 32",
          "size 32",
          "size 32",
          "size 32",
          "size 32",
          "size 32",
          "size 32",
          "size 32",
          "size 32",
          "size 32",
          "size 32",
          "size 32",
          "size 32",
          "size 32",
          "size 32",
          "size 32",
          "size 32",
          "size 32",
          "size 32",
          "size 32",
          "size 32",
          "size 32",
          "size 32",
          "size 32",
          "size 64",
          "size 64",
          "size 64",
          "size 64",
          "size 64",
          "size 64",
          "size 64",
          "size 64",
          "size 64",
          "size 64",
          "size 64",
          "size 64",
          "size 64",
          "size 64",
          "size 64",
          "size 64",
          "size 64",
          "size 64",
          "size 64",
          "size 64",
          "size 64",
          "size 64",
          "size 64",
          "size 64",
          "size 64",
          "size 64",
          "size 64",
          "size 64",
          "size 64",
          "size 64",
          "size 128",
          "size 128",
          "size 128",
          "size 128",
          "size 128",
          "size 128",
          "size 128",
          "size 128",
          "size 128",
          "size 128",
          "size 128",
          "size 128",
          "size 128",
          "size 128",
          "size 128",
          "size 128",
          "size 128",
          "size 128",
          "size 128",
          "size 128",
          "size 128",
          "size 128",
          "size 128",
          "size 128",
          "size 128",
          "size 128",
          "size 128",
          "size 128",
          "size 128",
          "size 128",
          "size 128"
         ],
         "x0": " ",
         "xaxis": "x",
         "y": [
          -0.6840052015604681,
          -0.5253576072821846,
          -0.3511053315994797,
          -0.4265279583875163,
          -0.3237971391417425,
          -0.8309492847854356,
          -0.7880364109232769,
          -0.7217165149544863,
          -0.4512353706111833,
          -0.3693107932379714,
          -0.6814044213263979,
          -0.7399219765929779,
          -0.5851755526657997,
          -0.5487646293888166,
          -0.4096228868660598,
          -0.7126137841352406,
          -0.482444733420026,
          -0.3120936280884265,
          0.2639791937581274,
          0.6488946684005201,
          -0.755526657997399,
          -0.6605981794538361,
          -0.553966189856957,
          -0.2704811443433029,
          0.2366710013003901,
          -0.7490247074122236,
          -0.6566970091027308,
          -0.3459037711313393,
          -0.0286085825747724,
          0.976592977893368,
          -0.6293888166449936,
          0.6723016905071522,
          0.8283485045513653,
          0.9505851755526658,
          0.0065019505851755,
          -0.8101430429128739,
          -0.7958387516254876,
          -0.6280884265279584,
          -0.6306892067620286,
          0.7360208062418725,
          -0.5487646293888166,
          0.8972691807542261,
          0.9167750325097528,
          0.8920676202860858,
          0.9973992197659296,
          -0.7178153446033809,
          -0.0962288686605981,
          0.741222366710013,
          0.7906371911573472,
          0.5721716514954486,
          -0.8101430429128739,
          -0.6423927178153446,
          -0.6736020806241872,
          0.4798439531859557,
          -0.1313394018205461,
          0.3927178153446033,
          0.7919375812743823,
          0.635890767230169,
          0.920676202860858,
          0.9596879063719114,
          0.6046814044213263,
          0.6046814044213263,
          0.6840052015604681,
          0.7165149544863458,
          0.8465539661898569,
          -0.460338101430429,
          -0.52925877763329,
          -0.4447334200260078,
          0.6840052015604681,
          -0.7126137841352406,
          0.7477243172951885,
          -0.7581274382314694,
          0.5994798439531859,
          0.5825747724317295,
          0.5851755526657997,
          0.871261378413524,
          0.6072821846553965,
          0.5786736020806241,
          0.6137841352405722,
          0.6749024707412223,
          0.6605981794538361,
          -0.7815344603381013,
          0.6840052015604681,
          0.6697009102730818,
          0.7958387516254876,
          0.9219765929778934,
          0.5331599479843953,
          0.5357607282184655,
          0.5227568270481144,
          0.7087126137841352,
          0.8140442132639791
         ],
         "y0": " ",
         "yaxis": "y"
        },
        {
         "alignmentgroup": "True",
         "hovertemplate": "explanation=pd<br>split variable=%{x}<br>rho=%{y}<extra></extra>",
         "legendgroup": "pd",
         "marker": {
          "color": "#EF553B"
         },
         "name": "pd",
         "notched": false,
         "offsetgroup": "pd",
         "orientation": "v",
         "quartilemethod": "exclusive",
         "showlegend": true,
         "type": "box",
         "x": [
          "size 32",
          "size 32",
          "size 32",
          "size 32",
          "size 32",
          "size 32",
          "size 32",
          "size 32",
          "size 32",
          "size 32",
          "size 32",
          "size 32",
          "size 32",
          "size 32",
          "size 32",
          "size 32",
          "size 32",
          "size 32",
          "size 32",
          "size 32",
          "size 32",
          "size 32",
          "size 32",
          "size 32",
          "size 32",
          "size 32",
          "size 32",
          "size 32",
          "size 32",
          "size 32",
          "size 64",
          "size 64",
          "size 64",
          "size 64",
          "size 64",
          "size 64",
          "size 64",
          "size 64",
          "size 64",
          "size 64",
          "size 64",
          "size 64",
          "size 64",
          "size 64",
          "size 64",
          "size 64",
          "size 64",
          "size 64",
          "size 64",
          "size 64",
          "size 64",
          "size 64",
          "size 64",
          "size 64",
          "size 64",
          "size 64",
          "size 64",
          "size 64",
          "size 64",
          "size 64",
          "size 128",
          "size 128",
          "size 128",
          "size 128",
          "size 128",
          "size 128",
          "size 128",
          "size 128",
          "size 128",
          "size 128",
          "size 128",
          "size 128",
          "size 128",
          "size 128",
          "size 128",
          "size 128",
          "size 128",
          "size 128",
          "size 128",
          "size 128",
          "size 128",
          "size 128",
          "size 128",
          "size 128",
          "size 128",
          "size 128",
          "size 128",
          "size 128",
          "size 128",
          "size 128",
          "size 128"
         ],
         "x0": " ",
         "xaxis": "x",
         "y": [
          -0.8454545454545455,
          -0.6987012987012987,
          -0.5909090909090908,
          -0.3103896103896104,
          -0.1246753246753246,
          -0.9194805194805192,
          -0.9116883116883115,
          -0.8103896103896104,
          -0.5753246753246753,
          -0.4103896103896103,
          -0.9844155844155844,
          -0.877922077922078,
          -0.7246753246753247,
          -0.4753246753246753,
          -0.3597402597402597,
          -0.8597402597402597,
          -0.3909090909090909,
          -0.1506493506493506,
          0.2688311688311688,
          0.3909090909090909,
          -0.9532467532467532,
          -0.8025974025974025,
          -0.6571428571428571,
          -0.5077922077922078,
          -0.1974025974025974,
          -0.7987012987012986,
          -0.6207792207792208,
          -0.551948051948052,
          -0.5389610389610389,
          -0.2987012987012987,
          -0.9727272727272728,
          -0.8272727272727272,
          -0.4064935064935064,
          -0.2753246753246753,
          0.0038961038961038,
          -0.9987012987012988,
          -0.7415584415584415,
          -0.5688311688311689,
          -0.5,
          -0.4272727272727272,
          -0.8974025974025974,
          -0.4194805194805195,
          -0.222077922077922,
          -0.0493506493506493,
          0.1909090909090909,
          -0.8662337662337661,
          -0.8558441558441559,
          -0.638961038961039,
          -0.5077922077922078,
          -0.2454545454545454,
          -0.9064935064935064,
          -0.8922077922077922,
          -0.8168831168831169,
          -0.5753246753246753,
          -0.212987012987013,
          -0.9454545454545454,
          -0.6597402597402597,
          -0.4857142857142856,
          -0.287012987012987,
          -0.0675324675324675,
          -0.9974025974025976,
          -0.9974025974025976,
          -0.961038961038961,
          -0.8740259740259739,
          -0.5337662337662338,
          -0.3831168831168831,
          -0.9584415584415584,
          -0.8376623376623376,
          -0.8064935064935065,
          -0.6454545454545455,
          -0.3077922077922078,
          -0.9870129870129868,
          -0.9649350649350648,
          -0.961038961038961,
          -0.8597402597402597,
          -0.3987012987012987,
          -0.9844155844155844,
          -0.9714285714285712,
          -0.9662337662337662,
          -0.8077922077922077,
          -0.396103896103896,
          -1,
          -0.9337662337662336,
          -0.9246753246753248,
          -0.7012987012987012,
          -0.4636363636363636,
          -0.9948051948051948,
          -0.9922077922077924,
          -0.9376623376623376,
          -0.8337662337662338,
          -0.1181818181818181
         ],
         "y0": " ",
         "yaxis": "y"
        }
       ],
       "layout": {
        "boxmode": "group",
        "legend": {
         "title": {
          "text": "explanation"
         },
         "tracegroupgap": 0
        },
        "template": {
         "data": {
          "bar": [
           {
            "error_x": {
             "color": "#2a3f5f"
            },
            "error_y": {
             "color": "#2a3f5f"
            },
            "marker": {
             "line": {
              "color": "#E5ECF6",
              "width": 0.5
             },
             "pattern": {
              "fillmode": "overlay",
              "size": 10,
              "solidity": 0.2
             }
            },
            "type": "bar"
           }
          ],
          "barpolar": [
           {
            "marker": {
             "line": {
              "color": "#E5ECF6",
              "width": 0.5
             },
             "pattern": {
              "fillmode": "overlay",
              "size": 10,
              "solidity": 0.2
             }
            },
            "type": "barpolar"
           }
          ],
          "carpet": [
           {
            "aaxis": {
             "endlinecolor": "#2a3f5f",
             "gridcolor": "white",
             "linecolor": "white",
             "minorgridcolor": "white",
             "startlinecolor": "#2a3f5f"
            },
            "baxis": {
             "endlinecolor": "#2a3f5f",
             "gridcolor": "white",
             "linecolor": "white",
             "minorgridcolor": "white",
             "startlinecolor": "#2a3f5f"
            },
            "type": "carpet"
           }
          ],
          "choropleth": [
           {
            "colorbar": {
             "outlinewidth": 0,
             "ticks": ""
            },
            "type": "choropleth"
           }
          ],
          "contour": [
           {
            "colorbar": {
             "outlinewidth": 0,
             "ticks": ""
            },
            "colorscale": [
             [
              0,
              "#0d0887"
             ],
             [
              0.1111111111111111,
              "#46039f"
             ],
             [
              0.2222222222222222,
              "#7201a8"
             ],
             [
              0.3333333333333333,
              "#9c179e"
             ],
             [
              0.4444444444444444,
              "#bd3786"
             ],
             [
              0.5555555555555556,
              "#d8576b"
             ],
             [
              0.6666666666666666,
              "#ed7953"
             ],
             [
              0.7777777777777778,
              "#fb9f3a"
             ],
             [
              0.8888888888888888,
              "#fdca26"
             ],
             [
              1,
              "#f0f921"
             ]
            ],
            "type": "contour"
           }
          ],
          "contourcarpet": [
           {
            "colorbar": {
             "outlinewidth": 0,
             "ticks": ""
            },
            "type": "contourcarpet"
           }
          ],
          "heatmap": [
           {
            "colorbar": {
             "outlinewidth": 0,
             "ticks": ""
            },
            "colorscale": [
             [
              0,
              "#0d0887"
             ],
             [
              0.1111111111111111,
              "#46039f"
             ],
             [
              0.2222222222222222,
              "#7201a8"
             ],
             [
              0.3333333333333333,
              "#9c179e"
             ],
             [
              0.4444444444444444,
              "#bd3786"
             ],
             [
              0.5555555555555556,
              "#d8576b"
             ],
             [
              0.6666666666666666,
              "#ed7953"
             ],
             [
              0.7777777777777778,
              "#fb9f3a"
             ],
             [
              0.8888888888888888,
              "#fdca26"
             ],
             [
              1,
              "#f0f921"
             ]
            ],
            "type": "heatmap"
           }
          ],
          "heatmapgl": [
           {
            "colorbar": {
             "outlinewidth": 0,
             "ticks": ""
            },
            "colorscale": [
             [
              0,
              "#0d0887"
             ],
             [
              0.1111111111111111,
              "#46039f"
             ],
             [
              0.2222222222222222,
              "#7201a8"
             ],
             [
              0.3333333333333333,
              "#9c179e"
             ],
             [
              0.4444444444444444,
              "#bd3786"
             ],
             [
              0.5555555555555556,
              "#d8576b"
             ],
             [
              0.6666666666666666,
              "#ed7953"
             ],
             [
              0.7777777777777778,
              "#fb9f3a"
             ],
             [
              0.8888888888888888,
              "#fdca26"
             ],
             [
              1,
              "#f0f921"
             ]
            ],
            "type": "heatmapgl"
           }
          ],
          "histogram": [
           {
            "marker": {
             "pattern": {
              "fillmode": "overlay",
              "size": 10,
              "solidity": 0.2
             }
            },
            "type": "histogram"
           }
          ],
          "histogram2d": [
           {
            "colorbar": {
             "outlinewidth": 0,
             "ticks": ""
            },
            "colorscale": [
             [
              0,
              "#0d0887"
             ],
             [
              0.1111111111111111,
              "#46039f"
             ],
             [
              0.2222222222222222,
              "#7201a8"
             ],
             [
              0.3333333333333333,
              "#9c179e"
             ],
             [
              0.4444444444444444,
              "#bd3786"
             ],
             [
              0.5555555555555556,
              "#d8576b"
             ],
             [
              0.6666666666666666,
              "#ed7953"
             ],
             [
              0.7777777777777778,
              "#fb9f3a"
             ],
             [
              0.8888888888888888,
              "#fdca26"
             ],
             [
              1,
              "#f0f921"
             ]
            ],
            "type": "histogram2d"
           }
          ],
          "histogram2dcontour": [
           {
            "colorbar": {
             "outlinewidth": 0,
             "ticks": ""
            },
            "colorscale": [
             [
              0,
              "#0d0887"
             ],
             [
              0.1111111111111111,
              "#46039f"
             ],
             [
              0.2222222222222222,
              "#7201a8"
             ],
             [
              0.3333333333333333,
              "#9c179e"
             ],
             [
              0.4444444444444444,
              "#bd3786"
             ],
             [
              0.5555555555555556,
              "#d8576b"
             ],
             [
              0.6666666666666666,
              "#ed7953"
             ],
             [
              0.7777777777777778,
              "#fb9f3a"
             ],
             [
              0.8888888888888888,
              "#fdca26"
             ],
             [
              1,
              "#f0f921"
             ]
            ],
            "type": "histogram2dcontour"
           }
          ],
          "mesh3d": [
           {
            "colorbar": {
             "outlinewidth": 0,
             "ticks": ""
            },
            "type": "mesh3d"
           }
          ],
          "parcoords": [
           {
            "line": {
             "colorbar": {
              "outlinewidth": 0,
              "ticks": ""
             }
            },
            "type": "parcoords"
           }
          ],
          "pie": [
           {
            "automargin": true,
            "type": "pie"
           }
          ],
          "scatter": [
           {
            "fillpattern": {
             "fillmode": "overlay",
             "size": 10,
             "solidity": 0.2
            },
            "type": "scatter"
           }
          ],
          "scatter3d": [
           {
            "line": {
             "colorbar": {
              "outlinewidth": 0,
              "ticks": ""
             }
            },
            "marker": {
             "colorbar": {
              "outlinewidth": 0,
              "ticks": ""
             }
            },
            "type": "scatter3d"
           }
          ],
          "scattercarpet": [
           {
            "marker": {
             "colorbar": {
              "outlinewidth": 0,
              "ticks": ""
             }
            },
            "type": "scattercarpet"
           }
          ],
          "scattergeo": [
           {
            "marker": {
             "colorbar": {
              "outlinewidth": 0,
              "ticks": ""
             }
            },
            "type": "scattergeo"
           }
          ],
          "scattergl": [
           {
            "marker": {
             "colorbar": {
              "outlinewidth": 0,
              "ticks": ""
             }
            },
            "type": "scattergl"
           }
          ],
          "scattermapbox": [
           {
            "marker": {
             "colorbar": {
              "outlinewidth": 0,
              "ticks": ""
             }
            },
            "type": "scattermapbox"
           }
          ],
          "scatterpolar": [
           {
            "marker": {
             "colorbar": {
              "outlinewidth": 0,
              "ticks": ""
             }
            },
            "type": "scatterpolar"
           }
          ],
          "scatterpolargl": [
           {
            "marker": {
             "colorbar": {
              "outlinewidth": 0,
              "ticks": ""
             }
            },
            "type": "scatterpolargl"
           }
          ],
          "scatterternary": [
           {
            "marker": {
             "colorbar": {
              "outlinewidth": 0,
              "ticks": ""
             }
            },
            "type": "scatterternary"
           }
          ],
          "surface": [
           {
            "colorbar": {
             "outlinewidth": 0,
             "ticks": ""
            },
            "colorscale": [
             [
              0,
              "#0d0887"
             ],
             [
              0.1111111111111111,
              "#46039f"
             ],
             [
              0.2222222222222222,
              "#7201a8"
             ],
             [
              0.3333333333333333,
              "#9c179e"
             ],
             [
              0.4444444444444444,
              "#bd3786"
             ],
             [
              0.5555555555555556,
              "#d8576b"
             ],
             [
              0.6666666666666666,
              "#ed7953"
             ],
             [
              0.7777777777777778,
              "#fb9f3a"
             ],
             [
              0.8888888888888888,
              "#fdca26"
             ],
             [
              1,
              "#f0f921"
             ]
            ],
            "type": "surface"
           }
          ],
          "table": [
           {
            "cells": {
             "fill": {
              "color": "#EBF0F8"
             },
             "line": {
              "color": "white"
             }
            },
            "header": {
             "fill": {
              "color": "#C8D4E3"
             },
             "line": {
              "color": "white"
             }
            },
            "type": "table"
           }
          ]
         },
         "layout": {
          "annotationdefaults": {
           "arrowcolor": "#2a3f5f",
           "arrowhead": 0,
           "arrowwidth": 1
          },
          "autotypenumbers": "strict",
          "coloraxis": {
           "colorbar": {
            "outlinewidth": 0,
            "ticks": ""
           }
          },
          "colorscale": {
           "diverging": [
            [
             0,
             "#8e0152"
            ],
            [
             0.1,
             "#c51b7d"
            ],
            [
             0.2,
             "#de77ae"
            ],
            [
             0.3,
             "#f1b6da"
            ],
            [
             0.4,
             "#fde0ef"
            ],
            [
             0.5,
             "#f7f7f7"
            ],
            [
             0.6,
             "#e6f5d0"
            ],
            [
             0.7,
             "#b8e186"
            ],
            [
             0.8,
             "#7fbc41"
            ],
            [
             0.9,
             "#4d9221"
            ],
            [
             1,
             "#276419"
            ]
           ],
           "sequential": [
            [
             0,
             "#0d0887"
            ],
            [
             0.1111111111111111,
             "#46039f"
            ],
            [
             0.2222222222222222,
             "#7201a8"
            ],
            [
             0.3333333333333333,
             "#9c179e"
            ],
            [
             0.4444444444444444,
             "#bd3786"
            ],
            [
             0.5555555555555556,
             "#d8576b"
            ],
            [
             0.6666666666666666,
             "#ed7953"
            ],
            [
             0.7777777777777778,
             "#fb9f3a"
            ],
            [
             0.8888888888888888,
             "#fdca26"
            ],
            [
             1,
             "#f0f921"
            ]
           ],
           "sequentialminus": [
            [
             0,
             "#0d0887"
            ],
            [
             0.1111111111111111,
             "#46039f"
            ],
            [
             0.2222222222222222,
             "#7201a8"
            ],
            [
             0.3333333333333333,
             "#9c179e"
            ],
            [
             0.4444444444444444,
             "#bd3786"
            ],
            [
             0.5555555555555556,
             "#d8576b"
            ],
            [
             0.6666666666666666,
             "#ed7953"
            ],
            [
             0.7777777777777778,
             "#fb9f3a"
            ],
            [
             0.8888888888888888,
             "#fdca26"
            ],
            [
             1,
             "#f0f921"
            ]
           ]
          },
          "colorway": [
           "#636efa",
           "#EF553B",
           "#00cc96",
           "#ab63fa",
           "#FFA15A",
           "#19d3f3",
           "#FF6692",
           "#B6E880",
           "#FF97FF",
           "#FECB52"
          ],
          "font": {
           "color": "#2a3f5f"
          },
          "geo": {
           "bgcolor": "white",
           "lakecolor": "white",
           "landcolor": "#E5ECF6",
           "showlakes": true,
           "showland": true,
           "subunitcolor": "white"
          },
          "hoverlabel": {
           "align": "left"
          },
          "hovermode": "closest",
          "mapbox": {
           "style": "light"
          },
          "paper_bgcolor": "white",
          "plot_bgcolor": "#E5ECF6",
          "polar": {
           "angularaxis": {
            "gridcolor": "white",
            "linecolor": "white",
            "ticks": ""
           },
           "bgcolor": "#E5ECF6",
           "radialaxis": {
            "gridcolor": "white",
            "linecolor": "white",
            "ticks": ""
           }
          },
          "scene": {
           "xaxis": {
            "backgroundcolor": "#E5ECF6",
            "gridcolor": "white",
            "gridwidth": 2,
            "linecolor": "white",
            "showbackground": true,
            "ticks": "",
            "zerolinecolor": "white"
           },
           "yaxis": {
            "backgroundcolor": "#E5ECF6",
            "gridcolor": "white",
            "gridwidth": 2,
            "linecolor": "white",
            "showbackground": true,
            "ticks": "",
            "zerolinecolor": "white"
           },
           "zaxis": {
            "backgroundcolor": "#E5ECF6",
            "gridcolor": "white",
            "gridwidth": 2,
            "linecolor": "white",
            "showbackground": true,
            "ticks": "",
            "zerolinecolor": "white"
           }
          },
          "shapedefaults": {
           "line": {
            "color": "#2a3f5f"
           }
          },
          "ternary": {
           "aaxis": {
            "gridcolor": "white",
            "linecolor": "white",
            "ticks": ""
           },
           "baxis": {
            "gridcolor": "white",
            "linecolor": "white",
            "ticks": ""
           },
           "bgcolor": "#E5ECF6",
           "caxis": {
            "gridcolor": "white",
            "linecolor": "white",
            "ticks": ""
           }
          },
          "title": {
           "x": 0.05
          },
          "xaxis": {
           "automargin": true,
           "gridcolor": "white",
           "linecolor": "white",
           "ticks": "",
           "title": {
            "standoff": 15
           },
           "zerolinecolor": "white",
           "zerolinewidth": 2
          },
          "yaxis": {
           "automargin": true,
           "gridcolor": "white",
           "linecolor": "white",
           "ticks": "",
           "title": {
            "standoff": 15
           },
           "zerolinecolor": "white",
           "zerolinewidth": 2
          }
         }
        },
        "title": {
         "text": "xor, variable x1, split by size"
        },
        "xaxis": {
         "anchor": "y",
         "domain": [
          0,
          1
         ],
         "title": {
          "text": "split variable"
         }
        },
        "yaxis": {
         "anchor": "x",
         "domain": [
          0,
          1
         ],
         "title": {
          "text": "rho"
         }
        }
       }
      }
     },
     "metadata": {},
     "output_type": "display_data"
    }
   ],
   "source": [
    "boxplots(\"size\")"
   ]
  },
  {
   "cell_type": "code",
   "execution_count": 245,
   "metadata": {},
   "outputs": [
    {
     "data": {
      "application/vnd.plotly.v1+json": {
       "config": {
        "plotlyServerURL": "https://plot.ly"
       },
       "data": [
        {
         "alignmentgroup": "True",
         "hovertemplate": "explanation=ale<br>split variable=%{x}<br>rho=%{y}<extra></extra>",
         "legendgroup": "ale",
         "marker": {
          "color": "#636efa"
         },
         "name": "ale",
         "notched": false,
         "offsetgroup": "ale",
         "orientation": "v",
         "quartilemethod": "exclusive",
         "showlegend": true,
         "type": "box",
         "x": [
          "dist_weight 0.0",
          "dist_weight 0.0",
          "dist_weight 0.0",
          "dist_weight 0.0",
          "dist_weight 0.0",
          "dist_weight 0.0",
          "dist_weight 0.0",
          "dist_weight 0.0",
          "dist_weight 0.0",
          "dist_weight 0.0",
          "dist_weight 0.0",
          "dist_weight 0.0",
          "dist_weight 0.0",
          "dist_weight 0.0",
          "dist_weight 0.0",
          "dist_weight 0.0",
          "dist_weight 0.0",
          "dist_weight 0.0",
          "dist_weight 0.001",
          "dist_weight 0.001",
          "dist_weight 0.001",
          "dist_weight 0.001",
          "dist_weight 0.001",
          "dist_weight 0.001",
          "dist_weight 0.001",
          "dist_weight 0.001",
          "dist_weight 0.001",
          "dist_weight 0.001",
          "dist_weight 0.001",
          "dist_weight 0.001",
          "dist_weight 0.001",
          "dist_weight 0.001",
          "dist_weight 0.001",
          "dist_weight 0.001",
          "dist_weight 0.001",
          "dist_weight 0.001",
          "dist_weight 0.01",
          "dist_weight 0.01",
          "dist_weight 0.01",
          "dist_weight 0.01",
          "dist_weight 0.01",
          "dist_weight 0.01",
          "dist_weight 0.01",
          "dist_weight 0.01",
          "dist_weight 0.01",
          "dist_weight 0.01",
          "dist_weight 0.01",
          "dist_weight 0.01",
          "dist_weight 0.01",
          "dist_weight 0.01",
          "dist_weight 0.01",
          "dist_weight 0.01",
          "dist_weight 0.01",
          "dist_weight 0.01",
          "dist_weight 0.1",
          "dist_weight 0.1",
          "dist_weight 0.1",
          "dist_weight 0.1",
          "dist_weight 0.1",
          "dist_weight 0.1",
          "dist_weight 0.1",
          "dist_weight 0.1",
          "dist_weight 0.1",
          "dist_weight 0.1",
          "dist_weight 0.1",
          "dist_weight 0.1",
          "dist_weight 0.1",
          "dist_weight 0.1",
          "dist_weight 0.1",
          "dist_weight 0.1",
          "dist_weight 0.1",
          "dist_weight 0.1",
          "dist_weight 1.0",
          "dist_weight 1.0",
          "dist_weight 1.0",
          "dist_weight 1.0",
          "dist_weight 1.0",
          "dist_weight 1.0",
          "dist_weight 1.0",
          "dist_weight 1.0",
          "dist_weight 1.0",
          "dist_weight 1.0",
          "dist_weight 1.0",
          "dist_weight 1.0",
          "dist_weight 1.0",
          "dist_weight 1.0",
          "dist_weight 1.0",
          "dist_weight 1.0",
          "dist_weight 1.0",
          "dist_weight 1.0"
         ],
         "x0": " ",
         "xaxis": "x",
         "y": [
          -0.7141000649772579,
          -0.1319038336582196,
          -0.7712800519818063,
          -0.8609486679662117,
          -0.4398960363872644,
          -0.49317738791423,
          -0.5945419103313839,
          -0.7244964262508121,
          -0.52046783625731,
          -0.7426900584795322,
          -0.7569850552306693,
          -0.5152696556205328,
          -0.8310591293047433,
          -0.7894736842105263,
          -0.0097465886939571,
          -0.5074723846653671,
          -0.5685510071474983,
          -0.7725795971410006,
          -0.7244964262508121,
          -0.1228070175438596,
          -0.7426900584795322,
          -0.7790773229369721,
          -0.6400259909031838,
          -0.6192332683560754,
          -0.4827810266406757,
          -0.7296946068875894,
          -0.5633528265107213,
          -0.6933073424301494,
          -0.7115009746588693,
          -0.695906432748538,
          -0.8726445743989604,
          -0.7296946068875894,
          -0.0162443144899285,
          -0.6972059779077323,
          -0.6075373619233267,
          -0.7205977907732294,
          -0.7543859649122806,
          -0.3346328784925276,
          -0.6621182586094867,
          -0.7244964262508121,
          -0.5269655620532814,
          -0.5906432748538011,
          -0.49317738791423,
          -0.6829109811565952,
          -0.5737491877842755,
          -0.5789473684210527,
          -0.7205977907732294,
          -0.6244314489928525,
          -0.8375568551007148,
          -0.7478882391163093,
          -0.1371020142949967,
          -0.603638726445744,
          -0.6270305393112411,
          -0.6673164392462638,
          0.0799220272904483,
          -0.3424301494476933,
          -0.6504223521767382,
          -0.3788174139051332,
          -0.4502923976608187,
          -0.4035087719298245,
          -0.48408057179987,
          -0.4230019493177388,
          -0.3476283300844703,
          -0.0526315789473684,
          0.0006497725795971,
          -0.3866146848602989,
          -0.4879792072774529,
          -0.603638726445744,
          0.120207927225471,
          -0.1085120207927225,
          -0.4217024041585445,
          -0.6374269005847953,
          0.9116309291747888,
          0.8531513970110461,
          0.1526965562053281,
          0.8830409356725145,
          0.7946718648473036,
          0.802469135802469,
          0.8531513970110461,
          0.8830409356725145,
          0.8401559454191033,
          0.9428200129954516,
          0.985705003248863,
          0.8310591293047433,
          0.9831059129304744,
          0.8739441195581545,
          0.9142300194931776,
          0.9207277452891488,
          0.9155295646523716,
          0.8037686809616633
         ],
         "y0": " ",
         "yaxis": "y"
        },
        {
         "alignmentgroup": "True",
         "hovertemplate": "explanation=pd<br>split variable=%{x}<br>rho=%{y}<extra></extra>",
         "legendgroup": "pd",
         "marker": {
          "color": "#EF553B"
         },
         "name": "pd",
         "notched": false,
         "offsetgroup": "pd",
         "orientation": "v",
         "quartilemethod": "exclusive",
         "showlegend": true,
         "type": "box",
         "x": [
          "dist_weight 0.0",
          "dist_weight 0.0",
          "dist_weight 0.0",
          "dist_weight 0.0",
          "dist_weight 0.0",
          "dist_weight 0.0",
          "dist_weight 0.0",
          "dist_weight 0.0",
          "dist_weight 0.0",
          "dist_weight 0.0",
          "dist_weight 0.0",
          "dist_weight 0.0",
          "dist_weight 0.0",
          "dist_weight 0.0",
          "dist_weight 0.0",
          "dist_weight 0.0",
          "dist_weight 0.0",
          "dist_weight 0.0",
          "dist_weight 0.001",
          "dist_weight 0.001",
          "dist_weight 0.001",
          "dist_weight 0.001",
          "dist_weight 0.001",
          "dist_weight 0.001",
          "dist_weight 0.001",
          "dist_weight 0.001",
          "dist_weight 0.001",
          "dist_weight 0.001",
          "dist_weight 0.001",
          "dist_weight 0.001",
          "dist_weight 0.001",
          "dist_weight 0.001",
          "dist_weight 0.001",
          "dist_weight 0.001",
          "dist_weight 0.001",
          "dist_weight 0.001",
          "dist_weight 0.01",
          "dist_weight 0.01",
          "dist_weight 0.01",
          "dist_weight 0.01",
          "dist_weight 0.01",
          "dist_weight 0.01",
          "dist_weight 0.01",
          "dist_weight 0.01",
          "dist_weight 0.01",
          "dist_weight 0.01",
          "dist_weight 0.01",
          "dist_weight 0.01",
          "dist_weight 0.01",
          "dist_weight 0.01",
          "dist_weight 0.01",
          "dist_weight 0.01",
          "dist_weight 0.01",
          "dist_weight 0.01",
          "dist_weight 0.1",
          "dist_weight 0.1",
          "dist_weight 0.1",
          "dist_weight 0.1",
          "dist_weight 0.1",
          "dist_weight 0.1",
          "dist_weight 0.1",
          "dist_weight 0.1",
          "dist_weight 0.1",
          "dist_weight 0.1",
          "dist_weight 0.1",
          "dist_weight 0.1",
          "dist_weight 0.1",
          "dist_weight 0.1",
          "dist_weight 0.1",
          "dist_weight 0.1",
          "dist_weight 0.1",
          "dist_weight 0.1",
          "dist_weight 1.0",
          "dist_weight 1.0",
          "dist_weight 1.0",
          "dist_weight 1.0",
          "dist_weight 1.0",
          "dist_weight 1.0",
          "dist_weight 1.0",
          "dist_weight 1.0",
          "dist_weight 1.0",
          "dist_weight 1.0",
          "dist_weight 1.0",
          "dist_weight 1.0",
          "dist_weight 1.0",
          "dist_weight 1.0",
          "dist_weight 1.0",
          "dist_weight 1.0",
          "dist_weight 1.0",
          "dist_weight 1.0"
         ],
         "x0": " ",
         "xaxis": "x",
         "y": [
          -0.8701298701298701,
          -0.9779220779220776,
          -1,
          -0.9922077922077924,
          -0.9792207792207792,
          -0.9337662337662336,
          -0.996103896103896,
          -0.9792207792207792,
          -0.9194805194805192,
          -0.9454545454545454,
          -0.8999999999999999,
          -0.9506493506493506,
          -0.9948051948051948,
          -0.9818181818181818,
          -0.8974025974025974,
          -0.9805194805194803,
          -0.9922077922077924,
          -0.9805194805194803,
          -0.8415584415584414,
          -0.9675324675324676,
          -1,
          -0.9922077922077924,
          -0.9766233766233766,
          -0.9311688311688312,
          -0.9935064935064932,
          -0.9701298701298702,
          -0.918181818181818,
          -0.9389610389610388,
          -0.9129870129870128,
          -0.951948051948052,
          -0.9935064935064932,
          -0.9818181818181818,
          -0.8999999999999999,
          -0.9636363636363636,
          -0.9805194805194803,
          -0.9714285714285712,
          -0.6324675324675325,
          -0.9155844155844156,
          -0.9818181818181818,
          -0.9805194805194803,
          -0.951948051948052,
          -0.9064935064935064,
          -0.9831168831168832,
          -0.9545454545454546,
          -0.8948051948051948,
          -0.8974025974025974,
          -0.8870129870129868,
          -0.9077922077922078,
          -0.9727272727272728,
          -0.9688311688311688,
          -0.8610389610389609,
          -0.916883116883117,
          -0.9545454545454546,
          -0.9467532467532468,
          0.5584415584415584,
          -0.3584415584415584,
          -0.851948051948052,
          -0.5662337662337662,
          -0.4831168831168831,
          -0.2311688311688312,
          -0.6051948051948052,
          -0.0519480519480519,
          -0.2454545454545454,
          0.4636363636363636,
          0.3805194805194805,
          -0.4727272727272727,
          -0.2623376623376623,
          -0.3116883116883117,
          -0.2415584415584415,
          0.1025974025974025,
          -0.3714285714285714,
          -0.4948051948051948,
          0.9896103896103896,
          0.8792207792207792,
          0.748051948051948,
          0.9649350649350648,
          0.9506493506493506,
          0.9714285714285712,
          0.944155844155844,
          0.9896103896103896,
          0.9545454545454546,
          0.9870129870129868,
          0.9935064935064932,
          0.9896103896103896,
          0.9922077922077924,
          0.9896103896103896,
          0.948051948051948,
          0.9831168831168832,
          0.9727272727272728,
          0.961038961038961
         ],
         "y0": " ",
         "yaxis": "y"
        }
       ],
       "layout": {
        "boxmode": "group",
        "legend": {
         "title": {
          "text": "explanation"
         },
         "tracegroupgap": 0
        },
        "template": {
         "data": {
          "bar": [
           {
            "error_x": {
             "color": "#2a3f5f"
            },
            "error_y": {
             "color": "#2a3f5f"
            },
            "marker": {
             "line": {
              "color": "#E5ECF6",
              "width": 0.5
             },
             "pattern": {
              "fillmode": "overlay",
              "size": 10,
              "solidity": 0.2
             }
            },
            "type": "bar"
           }
          ],
          "barpolar": [
           {
            "marker": {
             "line": {
              "color": "#E5ECF6",
              "width": 0.5
             },
             "pattern": {
              "fillmode": "overlay",
              "size": 10,
              "solidity": 0.2
             }
            },
            "type": "barpolar"
           }
          ],
          "carpet": [
           {
            "aaxis": {
             "endlinecolor": "#2a3f5f",
             "gridcolor": "white",
             "linecolor": "white",
             "minorgridcolor": "white",
             "startlinecolor": "#2a3f5f"
            },
            "baxis": {
             "endlinecolor": "#2a3f5f",
             "gridcolor": "white",
             "linecolor": "white",
             "minorgridcolor": "white",
             "startlinecolor": "#2a3f5f"
            },
            "type": "carpet"
           }
          ],
          "choropleth": [
           {
            "colorbar": {
             "outlinewidth": 0,
             "ticks": ""
            },
            "type": "choropleth"
           }
          ],
          "contour": [
           {
            "colorbar": {
             "outlinewidth": 0,
             "ticks": ""
            },
            "colorscale": [
             [
              0,
              "#0d0887"
             ],
             [
              0.1111111111111111,
              "#46039f"
             ],
             [
              0.2222222222222222,
              "#7201a8"
             ],
             [
              0.3333333333333333,
              "#9c179e"
             ],
             [
              0.4444444444444444,
              "#bd3786"
             ],
             [
              0.5555555555555556,
              "#d8576b"
             ],
             [
              0.6666666666666666,
              "#ed7953"
             ],
             [
              0.7777777777777778,
              "#fb9f3a"
             ],
             [
              0.8888888888888888,
              "#fdca26"
             ],
             [
              1,
              "#f0f921"
             ]
            ],
            "type": "contour"
           }
          ],
          "contourcarpet": [
           {
            "colorbar": {
             "outlinewidth": 0,
             "ticks": ""
            },
            "type": "contourcarpet"
           }
          ],
          "heatmap": [
           {
            "colorbar": {
             "outlinewidth": 0,
             "ticks": ""
            },
            "colorscale": [
             [
              0,
              "#0d0887"
             ],
             [
              0.1111111111111111,
              "#46039f"
             ],
             [
              0.2222222222222222,
              "#7201a8"
             ],
             [
              0.3333333333333333,
              "#9c179e"
             ],
             [
              0.4444444444444444,
              "#bd3786"
             ],
             [
              0.5555555555555556,
              "#d8576b"
             ],
             [
              0.6666666666666666,
              "#ed7953"
             ],
             [
              0.7777777777777778,
              "#fb9f3a"
             ],
             [
              0.8888888888888888,
              "#fdca26"
             ],
             [
              1,
              "#f0f921"
             ]
            ],
            "type": "heatmap"
           }
          ],
          "heatmapgl": [
           {
            "colorbar": {
             "outlinewidth": 0,
             "ticks": ""
            },
            "colorscale": [
             [
              0,
              "#0d0887"
             ],
             [
              0.1111111111111111,
              "#46039f"
             ],
             [
              0.2222222222222222,
              "#7201a8"
             ],
             [
              0.3333333333333333,
              "#9c179e"
             ],
             [
              0.4444444444444444,
              "#bd3786"
             ],
             [
              0.5555555555555556,
              "#d8576b"
             ],
             [
              0.6666666666666666,
              "#ed7953"
             ],
             [
              0.7777777777777778,
              "#fb9f3a"
             ],
             [
              0.8888888888888888,
              "#fdca26"
             ],
             [
              1,
              "#f0f921"
             ]
            ],
            "type": "heatmapgl"
           }
          ],
          "histogram": [
           {
            "marker": {
             "pattern": {
              "fillmode": "overlay",
              "size": 10,
              "solidity": 0.2
             }
            },
            "type": "histogram"
           }
          ],
          "histogram2d": [
           {
            "colorbar": {
             "outlinewidth": 0,
             "ticks": ""
            },
            "colorscale": [
             [
              0,
              "#0d0887"
             ],
             [
              0.1111111111111111,
              "#46039f"
             ],
             [
              0.2222222222222222,
              "#7201a8"
             ],
             [
              0.3333333333333333,
              "#9c179e"
             ],
             [
              0.4444444444444444,
              "#bd3786"
             ],
             [
              0.5555555555555556,
              "#d8576b"
             ],
             [
              0.6666666666666666,
              "#ed7953"
             ],
             [
              0.7777777777777778,
              "#fb9f3a"
             ],
             [
              0.8888888888888888,
              "#fdca26"
             ],
             [
              1,
              "#f0f921"
             ]
            ],
            "type": "histogram2d"
           }
          ],
          "histogram2dcontour": [
           {
            "colorbar": {
             "outlinewidth": 0,
             "ticks": ""
            },
            "colorscale": [
             [
              0,
              "#0d0887"
             ],
             [
              0.1111111111111111,
              "#46039f"
             ],
             [
              0.2222222222222222,
              "#7201a8"
             ],
             [
              0.3333333333333333,
              "#9c179e"
             ],
             [
              0.4444444444444444,
              "#bd3786"
             ],
             [
              0.5555555555555556,
              "#d8576b"
             ],
             [
              0.6666666666666666,
              "#ed7953"
             ],
             [
              0.7777777777777778,
              "#fb9f3a"
             ],
             [
              0.8888888888888888,
              "#fdca26"
             ],
             [
              1,
              "#f0f921"
             ]
            ],
            "type": "histogram2dcontour"
           }
          ],
          "mesh3d": [
           {
            "colorbar": {
             "outlinewidth": 0,
             "ticks": ""
            },
            "type": "mesh3d"
           }
          ],
          "parcoords": [
           {
            "line": {
             "colorbar": {
              "outlinewidth": 0,
              "ticks": ""
             }
            },
            "type": "parcoords"
           }
          ],
          "pie": [
           {
            "automargin": true,
            "type": "pie"
           }
          ],
          "scatter": [
           {
            "fillpattern": {
             "fillmode": "overlay",
             "size": 10,
             "solidity": 0.2
            },
            "type": "scatter"
           }
          ],
          "scatter3d": [
           {
            "line": {
             "colorbar": {
              "outlinewidth": 0,
              "ticks": ""
             }
            },
            "marker": {
             "colorbar": {
              "outlinewidth": 0,
              "ticks": ""
             }
            },
            "type": "scatter3d"
           }
          ],
          "scattercarpet": [
           {
            "marker": {
             "colorbar": {
              "outlinewidth": 0,
              "ticks": ""
             }
            },
            "type": "scattercarpet"
           }
          ],
          "scattergeo": [
           {
            "marker": {
             "colorbar": {
              "outlinewidth": 0,
              "ticks": ""
             }
            },
            "type": "scattergeo"
           }
          ],
          "scattergl": [
           {
            "marker": {
             "colorbar": {
              "outlinewidth": 0,
              "ticks": ""
             }
            },
            "type": "scattergl"
           }
          ],
          "scattermapbox": [
           {
            "marker": {
             "colorbar": {
              "outlinewidth": 0,
              "ticks": ""
             }
            },
            "type": "scattermapbox"
           }
          ],
          "scatterpolar": [
           {
            "marker": {
             "colorbar": {
              "outlinewidth": 0,
              "ticks": ""
             }
            },
            "type": "scatterpolar"
           }
          ],
          "scatterpolargl": [
           {
            "marker": {
             "colorbar": {
              "outlinewidth": 0,
              "ticks": ""
             }
            },
            "type": "scatterpolargl"
           }
          ],
          "scatterternary": [
           {
            "marker": {
             "colorbar": {
              "outlinewidth": 0,
              "ticks": ""
             }
            },
            "type": "scatterternary"
           }
          ],
          "surface": [
           {
            "colorbar": {
             "outlinewidth": 0,
             "ticks": ""
            },
            "colorscale": [
             [
              0,
              "#0d0887"
             ],
             [
              0.1111111111111111,
              "#46039f"
             ],
             [
              0.2222222222222222,
              "#7201a8"
             ],
             [
              0.3333333333333333,
              "#9c179e"
             ],
             [
              0.4444444444444444,
              "#bd3786"
             ],
             [
              0.5555555555555556,
              "#d8576b"
             ],
             [
              0.6666666666666666,
              "#ed7953"
             ],
             [
              0.7777777777777778,
              "#fb9f3a"
             ],
             [
              0.8888888888888888,
              "#fdca26"
             ],
             [
              1,
              "#f0f921"
             ]
            ],
            "type": "surface"
           }
          ],
          "table": [
           {
            "cells": {
             "fill": {
              "color": "#EBF0F8"
             },
             "line": {
              "color": "white"
             }
            },
            "header": {
             "fill": {
              "color": "#C8D4E3"
             },
             "line": {
              "color": "white"
             }
            },
            "type": "table"
           }
          ]
         },
         "layout": {
          "annotationdefaults": {
           "arrowcolor": "#2a3f5f",
           "arrowhead": 0,
           "arrowwidth": 1
          },
          "autotypenumbers": "strict",
          "coloraxis": {
           "colorbar": {
            "outlinewidth": 0,
            "ticks": ""
           }
          },
          "colorscale": {
           "diverging": [
            [
             0,
             "#8e0152"
            ],
            [
             0.1,
             "#c51b7d"
            ],
            [
             0.2,
             "#de77ae"
            ],
            [
             0.3,
             "#f1b6da"
            ],
            [
             0.4,
             "#fde0ef"
            ],
            [
             0.5,
             "#f7f7f7"
            ],
            [
             0.6,
             "#e6f5d0"
            ],
            [
             0.7,
             "#b8e186"
            ],
            [
             0.8,
             "#7fbc41"
            ],
            [
             0.9,
             "#4d9221"
            ],
            [
             1,
             "#276419"
            ]
           ],
           "sequential": [
            [
             0,
             "#0d0887"
            ],
            [
             0.1111111111111111,
             "#46039f"
            ],
            [
             0.2222222222222222,
             "#7201a8"
            ],
            [
             0.3333333333333333,
             "#9c179e"
            ],
            [
             0.4444444444444444,
             "#bd3786"
            ],
            [
             0.5555555555555556,
             "#d8576b"
            ],
            [
             0.6666666666666666,
             "#ed7953"
            ],
            [
             0.7777777777777778,
             "#fb9f3a"
            ],
            [
             0.8888888888888888,
             "#fdca26"
            ],
            [
             1,
             "#f0f921"
            ]
           ],
           "sequentialminus": [
            [
             0,
             "#0d0887"
            ],
            [
             0.1111111111111111,
             "#46039f"
            ],
            [
             0.2222222222222222,
             "#7201a8"
            ],
            [
             0.3333333333333333,
             "#9c179e"
            ],
            [
             0.4444444444444444,
             "#bd3786"
            ],
            [
             0.5555555555555556,
             "#d8576b"
            ],
            [
             0.6666666666666666,
             "#ed7953"
            ],
            [
             0.7777777777777778,
             "#fb9f3a"
            ],
            [
             0.8888888888888888,
             "#fdca26"
            ],
            [
             1,
             "#f0f921"
            ]
           ]
          },
          "colorway": [
           "#636efa",
           "#EF553B",
           "#00cc96",
           "#ab63fa",
           "#FFA15A",
           "#19d3f3",
           "#FF6692",
           "#B6E880",
           "#FF97FF",
           "#FECB52"
          ],
          "font": {
           "color": "#2a3f5f"
          },
          "geo": {
           "bgcolor": "white",
           "lakecolor": "white",
           "landcolor": "#E5ECF6",
           "showlakes": true,
           "showland": true,
           "subunitcolor": "white"
          },
          "hoverlabel": {
           "align": "left"
          },
          "hovermode": "closest",
          "mapbox": {
           "style": "light"
          },
          "paper_bgcolor": "white",
          "plot_bgcolor": "#E5ECF6",
          "polar": {
           "angularaxis": {
            "gridcolor": "white",
            "linecolor": "white",
            "ticks": ""
           },
           "bgcolor": "#E5ECF6",
           "radialaxis": {
            "gridcolor": "white",
            "linecolor": "white",
            "ticks": ""
           }
          },
          "scene": {
           "xaxis": {
            "backgroundcolor": "#E5ECF6",
            "gridcolor": "white",
            "gridwidth": 2,
            "linecolor": "white",
            "showbackground": true,
            "ticks": "",
            "zerolinecolor": "white"
           },
           "yaxis": {
            "backgroundcolor": "#E5ECF6",
            "gridcolor": "white",
            "gridwidth": 2,
            "linecolor": "white",
            "showbackground": true,
            "ticks": "",
            "zerolinecolor": "white"
           },
           "zaxis": {
            "backgroundcolor": "#E5ECF6",
            "gridcolor": "white",
            "gridwidth": 2,
            "linecolor": "white",
            "showbackground": true,
            "ticks": "",
            "zerolinecolor": "white"
           }
          },
          "shapedefaults": {
           "line": {
            "color": "#2a3f5f"
           }
          },
          "ternary": {
           "aaxis": {
            "gridcolor": "white",
            "linecolor": "white",
            "ticks": ""
           },
           "baxis": {
            "gridcolor": "white",
            "linecolor": "white",
            "ticks": ""
           },
           "bgcolor": "#E5ECF6",
           "caxis": {
            "gridcolor": "white",
            "linecolor": "white",
            "ticks": ""
           }
          },
          "title": {
           "x": 0.05
          },
          "xaxis": {
           "automargin": true,
           "gridcolor": "white",
           "linecolor": "white",
           "ticks": "",
           "title": {
            "standoff": 15
           },
           "zerolinecolor": "white",
           "zerolinewidth": 2
          },
          "yaxis": {
           "automargin": true,
           "gridcolor": "white",
           "linecolor": "white",
           "ticks": "",
           "title": {
            "standoff": 15
           },
           "zerolinecolor": "white",
           "zerolinewidth": 2
          }
         }
        },
        "title": {
         "text": "adult, variable age, split by dist_weight"
        },
        "xaxis": {
         "anchor": "y",
         "domain": [
          0,
          1
         ],
         "title": {
          "text": "split variable"
         }
        },
        "yaxis": {
         "anchor": "x",
         "domain": [
          0,
          1
         ],
         "title": {
          "text": "rho"
         }
        }
       }
      }
     },
     "metadata": {},
     "output_type": "display_data"
    },
    {
     "data": {
      "application/vnd.plotly.v1+json": {
       "config": {
        "plotlyServerURL": "https://plot.ly"
       },
       "data": [
        {
         "alignmentgroup": "True",
         "hovertemplate": "explanation=ale<br>split variable=%{x}<br>rho=%{y}<extra></extra>",
         "legendgroup": "ale",
         "marker": {
          "color": "#636efa"
         },
         "name": "ale",
         "notched": false,
         "offsetgroup": "ale",
         "orientation": "v",
         "quartilemethod": "exclusive",
         "showlegend": true,
         "type": "box",
         "x": [
          "dist_weight 0.0",
          "dist_weight 0.0",
          "dist_weight 0.0",
          "dist_weight 0.0",
          "dist_weight 0.0",
          "dist_weight 0.0",
          "dist_weight 0.0",
          "dist_weight 0.0",
          "dist_weight 0.0",
          "dist_weight 0.0",
          "dist_weight 0.0",
          "dist_weight 0.0",
          "dist_weight 0.0",
          "dist_weight 0.0",
          "dist_weight 0.0",
          "dist_weight 0.0",
          "dist_weight 0.0",
          "dist_weight 0.0",
          "dist_weight 0.001",
          "dist_weight 0.001",
          "dist_weight 0.001",
          "dist_weight 0.001",
          "dist_weight 0.001",
          "dist_weight 0.001",
          "dist_weight 0.001",
          "dist_weight 0.001",
          "dist_weight 0.001",
          "dist_weight 0.001",
          "dist_weight 0.001",
          "dist_weight 0.001",
          "dist_weight 0.001",
          "dist_weight 0.001",
          "dist_weight 0.001",
          "dist_weight 0.001",
          "dist_weight 0.001",
          "dist_weight 0.001",
          "dist_weight 0.01",
          "dist_weight 0.01",
          "dist_weight 0.01",
          "dist_weight 0.01",
          "dist_weight 0.01",
          "dist_weight 0.01",
          "dist_weight 0.01",
          "dist_weight 0.01",
          "dist_weight 0.01",
          "dist_weight 0.01",
          "dist_weight 0.01",
          "dist_weight 0.01",
          "dist_weight 0.01",
          "dist_weight 0.01",
          "dist_weight 0.01",
          "dist_weight 0.01",
          "dist_weight 0.01",
          "dist_weight 0.01",
          "dist_weight 0.1",
          "dist_weight 0.1",
          "dist_weight 0.1",
          "dist_weight 0.1",
          "dist_weight 0.1",
          "dist_weight 0.1",
          "dist_weight 0.1",
          "dist_weight 0.1",
          "dist_weight 0.1",
          "dist_weight 0.1",
          "dist_weight 0.1",
          "dist_weight 0.1",
          "dist_weight 0.1",
          "dist_weight 0.1",
          "dist_weight 0.1",
          "dist_weight 0.1",
          "dist_weight 0.1",
          "dist_weight 0.1",
          "dist_weight 1.0",
          "dist_weight 1.0",
          "dist_weight 1.0",
          "dist_weight 1.0",
          "dist_weight 1.0",
          "dist_weight 1.0",
          "dist_weight 1.0",
          "dist_weight 1.0",
          "dist_weight 1.0",
          "dist_weight 1.0",
          "dist_weight 1.0",
          "dist_weight 1.0",
          "dist_weight 1.0",
          "dist_weight 1.0",
          "dist_weight 1.0",
          "dist_weight 1.0",
          "dist_weight 1.0",
          "dist_weight 1.0"
         ],
         "x0": " ",
         "xaxis": "x",
         "y": [
          -0.1986977430358487,
          -0.2501624431448992,
          0.3385315139701104,
          -0.6384916824265867,
          -0.1885566068265887,
          0.1716515317317911,
          -0.6213844982035942,
          -0.1854173236569275,
          0.2687930665039368,
          -0.5659519168291098,
          0.046284470114779,
          0.2224391302506523,
          -0.2977893997468194,
          0.272431787104623,
          0.1359792953423897,
          0.3249918923658965,
          -0.243173003286704,
          -0.200844989482124,
          -0.1877842755035737,
          -0.1306042884990253,
          0.3385315139701104,
          -0.4278284389375703,
          0.087719298245614,
          0.170890188434048,
          -0.6192332683560754,
          -0.1125570243743225,
          0.5646523716699156,
          -0.5347628330084471,
          -0.3593242365172189,
          0.5269655620532814,
          -0.2800519818063677,
          0.2748538011695907,
          0.1390965299326037,
          0.854078693137576,
          -0.0162495946182948,
          0.0214424951267056,
          -0.1877842755035737,
          -0.129304743339831,
          0.3229369720597791,
          -0.2202729044834308,
          -0.3021442495126705,
          0.4970760233918128,
          -0.6543209876543209,
          -0.1098115659519168,
          0.2709551656920078,
          -0.6023391812865497,
          -0.3593242365172189,
          -0.0682261208576998,
          -0.4204028589993502,
          0.2748538011695907,
          -0.2748538011695907,
          0.5880441845354125,
          -0.2033788174139051,
          -0.3554256010396361,
          -0.5984405458089669,
          -0.552956465237167,
          -0.0916179337231968,
          -0.7842755035737491,
          -0.5061728395061729,
          0.0110461338531513,
          -0.7153996101364521,
          -0.5269655620532814,
          -0.0825211176088369,
          -0.6023391812865497,
          -0.3073424301494477,
          -0.1760883690708252,
          -0.3840155945419103,
          -0.5997400909681612,
          -0.4087069525666017,
          -0.6491228070175439,
          -0.4684860298895387,
          -0.4022092267706302,
          -0.1020142949967511,
          -0.129304743339831,
          0.0604288499025341,
          0.1176088369070825,
          0.1617933723196881,
          0.1591942820012995,
          -0.4736842105263158,
          -0.0435347628330084,
          0.0357374918778427,
          -0.4502923976608187,
          -0.0162443144899285,
          0.2215724496426251,
          0.3996101364522417,
          0.1669915529564652,
          -0.424301494476933,
          0.4048083170890188,
          -0.2553606237816764,
          0.0214424951267056
         ],
         "y0": " ",
         "yaxis": "y"
        },
        {
         "alignmentgroup": "True",
         "hovertemplate": "explanation=pd<br>split variable=%{x}<br>rho=%{y}<extra></extra>",
         "legendgroup": "pd",
         "marker": {
          "color": "#EF553B"
         },
         "name": "pd",
         "notched": false,
         "offsetgroup": "pd",
         "orientation": "v",
         "quartilemethod": "exclusive",
         "showlegend": true,
         "type": "box",
         "x": [
          "dist_weight 0.0",
          "dist_weight 0.0",
          "dist_weight 0.0",
          "dist_weight 0.0",
          "dist_weight 0.0",
          "dist_weight 0.0",
          "dist_weight 0.0",
          "dist_weight 0.0",
          "dist_weight 0.0",
          "dist_weight 0.0",
          "dist_weight 0.0",
          "dist_weight 0.0",
          "dist_weight 0.0",
          "dist_weight 0.0",
          "dist_weight 0.0",
          "dist_weight 0.0",
          "dist_weight 0.0",
          "dist_weight 0.0",
          "dist_weight 0.001",
          "dist_weight 0.001",
          "dist_weight 0.001",
          "dist_weight 0.001",
          "dist_weight 0.001",
          "dist_weight 0.001",
          "dist_weight 0.001",
          "dist_weight 0.001",
          "dist_weight 0.001",
          "dist_weight 0.001",
          "dist_weight 0.001",
          "dist_weight 0.001",
          "dist_weight 0.001",
          "dist_weight 0.001",
          "dist_weight 0.001",
          "dist_weight 0.001",
          "dist_weight 0.001",
          "dist_weight 0.001",
          "dist_weight 0.01",
          "dist_weight 0.01",
          "dist_weight 0.01",
          "dist_weight 0.01",
          "dist_weight 0.01",
          "dist_weight 0.01",
          "dist_weight 0.01",
          "dist_weight 0.01",
          "dist_weight 0.01",
          "dist_weight 0.01",
          "dist_weight 0.01",
          "dist_weight 0.01",
          "dist_weight 0.01",
          "dist_weight 0.01",
          "dist_weight 0.01",
          "dist_weight 0.01",
          "dist_weight 0.01",
          "dist_weight 0.01",
          "dist_weight 0.1",
          "dist_weight 0.1",
          "dist_weight 0.1",
          "dist_weight 0.1",
          "dist_weight 0.1",
          "dist_weight 0.1",
          "dist_weight 0.1",
          "dist_weight 0.1",
          "dist_weight 0.1",
          "dist_weight 0.1",
          "dist_weight 0.1",
          "dist_weight 0.1",
          "dist_weight 0.1",
          "dist_weight 0.1",
          "dist_weight 0.1",
          "dist_weight 0.1",
          "dist_weight 0.1",
          "dist_weight 0.1",
          "dist_weight 1.0",
          "dist_weight 1.0",
          "dist_weight 1.0",
          "dist_weight 1.0",
          "dist_weight 1.0",
          "dist_weight 1.0",
          "dist_weight 1.0",
          "dist_weight 1.0",
          "dist_weight 1.0",
          "dist_weight 1.0",
          "dist_weight 1.0",
          "dist_weight 1.0",
          "dist_weight 1.0",
          "dist_weight 1.0",
          "dist_weight 1.0",
          "dist_weight 1.0",
          "dist_weight 1.0",
          "dist_weight 1.0"
         ],
         "x0": " ",
         "xaxis": "x",
         "y": [
          -0.9415584415584416,
          -0.9779220779220776,
          -0.9506493506493506,
          -1,
          -0.918181818181818,
          -0.7909090909090909,
          -0.9987012987012988,
          -0.9688311688311688,
          -0.9194805194805192,
          -0.955844155844156,
          -0.9272727272727272,
          -0.8506493506493505,
          -0.7753246753246753,
          -0.9688311688311688,
          -0.9753246753246754,
          0.6067798762169179,
          -0.8883116883116883,
          -0.944155844155844,
          -0.9415584415584416,
          -0.9779220779220776,
          -0.9506493506493506,
          -1,
          -0.918181818181818,
          -0.7896103896103897,
          -0.9987012987012988,
          -0.9688311688311688,
          -0.9194805194805192,
          -0.955844155844156,
          -0.9272727272727272,
          -0.8506493506493505,
          -0.7753246753246753,
          -0.9688311688311688,
          -0.9753246753246754,
          0.9659019797212346,
          -0.8883116883116883,
          -0.944155844155844,
          -0.9415584415584416,
          -0.9779220779220776,
          -0.9506493506493506,
          -1,
          -0.918181818181818,
          -0.7896103896103897,
          -0.9987012987012988,
          -0.9688311688311688,
          -0.9155844155844156,
          -0.955844155844156,
          -0.9272727272727272,
          -0.8506493506493505,
          -0.7753246753246753,
          -0.9675324675324676,
          -0.974025974025974,
          0.9779220779220776,
          -0.8883116883116883,
          -0.944155844155844,
          -0.9246753246753248,
          -0.9493506493506494,
          -0.903896103896104,
          -0.9571428571428572,
          -0.8064935064935065,
          -0.8558441558441559,
          -0.9753246753246754,
          -0.903896103896104,
          -0.8597402597402597,
          -0.9467532467532468,
          -0.8545454545454545,
          -0.8064935064935065,
          -0.7584415584415585,
          -0.7441558441558441,
          -0.896103896103896,
          -0.7285714285714285,
          -0.8064935064935065,
          -0.92987012987013,
          -0.7376623376623377,
          -0.8103896103896104,
          -0.7233766233766233,
          0.6714285714285714,
          -0.5623376623376624,
          -0.5012987012987012,
          -0.8402597402597403,
          -0.6831168831168831,
          -0.6584415584415585,
          -0.8,
          -0.6012987012987013,
          -0.5857142857142857,
          -0.4818181818181817,
          -0.3597402597402597,
          -0.7623376623376623,
          0.7610389610389611,
          -0.5389610389610389,
          -0.8402597402597403
         ],
         "y0": " ",
         "yaxis": "y"
        }
       ],
       "layout": {
        "boxmode": "group",
        "legend": {
         "title": {
          "text": "explanation"
         },
         "tracegroupgap": 0
        },
        "template": {
         "data": {
          "bar": [
           {
            "error_x": {
             "color": "#2a3f5f"
            },
            "error_y": {
             "color": "#2a3f5f"
            },
            "marker": {
             "line": {
              "color": "#E5ECF6",
              "width": 0.5
             },
             "pattern": {
              "fillmode": "overlay",
              "size": 10,
              "solidity": 0.2
             }
            },
            "type": "bar"
           }
          ],
          "barpolar": [
           {
            "marker": {
             "line": {
              "color": "#E5ECF6",
              "width": 0.5
             },
             "pattern": {
              "fillmode": "overlay",
              "size": 10,
              "solidity": 0.2
             }
            },
            "type": "barpolar"
           }
          ],
          "carpet": [
           {
            "aaxis": {
             "endlinecolor": "#2a3f5f",
             "gridcolor": "white",
             "linecolor": "white",
             "minorgridcolor": "white",
             "startlinecolor": "#2a3f5f"
            },
            "baxis": {
             "endlinecolor": "#2a3f5f",
             "gridcolor": "white",
             "linecolor": "white",
             "minorgridcolor": "white",
             "startlinecolor": "#2a3f5f"
            },
            "type": "carpet"
           }
          ],
          "choropleth": [
           {
            "colorbar": {
             "outlinewidth": 0,
             "ticks": ""
            },
            "type": "choropleth"
           }
          ],
          "contour": [
           {
            "colorbar": {
             "outlinewidth": 0,
             "ticks": ""
            },
            "colorscale": [
             [
              0,
              "#0d0887"
             ],
             [
              0.1111111111111111,
              "#46039f"
             ],
             [
              0.2222222222222222,
              "#7201a8"
             ],
             [
              0.3333333333333333,
              "#9c179e"
             ],
             [
              0.4444444444444444,
              "#bd3786"
             ],
             [
              0.5555555555555556,
              "#d8576b"
             ],
             [
              0.6666666666666666,
              "#ed7953"
             ],
             [
              0.7777777777777778,
              "#fb9f3a"
             ],
             [
              0.8888888888888888,
              "#fdca26"
             ],
             [
              1,
              "#f0f921"
             ]
            ],
            "type": "contour"
           }
          ],
          "contourcarpet": [
           {
            "colorbar": {
             "outlinewidth": 0,
             "ticks": ""
            },
            "type": "contourcarpet"
           }
          ],
          "heatmap": [
           {
            "colorbar": {
             "outlinewidth": 0,
             "ticks": ""
            },
            "colorscale": [
             [
              0,
              "#0d0887"
             ],
             [
              0.1111111111111111,
              "#46039f"
             ],
             [
              0.2222222222222222,
              "#7201a8"
             ],
             [
              0.3333333333333333,
              "#9c179e"
             ],
             [
              0.4444444444444444,
              "#bd3786"
             ],
             [
              0.5555555555555556,
              "#d8576b"
             ],
             [
              0.6666666666666666,
              "#ed7953"
             ],
             [
              0.7777777777777778,
              "#fb9f3a"
             ],
             [
              0.8888888888888888,
              "#fdca26"
             ],
             [
              1,
              "#f0f921"
             ]
            ],
            "type": "heatmap"
           }
          ],
          "heatmapgl": [
           {
            "colorbar": {
             "outlinewidth": 0,
             "ticks": ""
            },
            "colorscale": [
             [
              0,
              "#0d0887"
             ],
             [
              0.1111111111111111,
              "#46039f"
             ],
             [
              0.2222222222222222,
              "#7201a8"
             ],
             [
              0.3333333333333333,
              "#9c179e"
             ],
             [
              0.4444444444444444,
              "#bd3786"
             ],
             [
              0.5555555555555556,
              "#d8576b"
             ],
             [
              0.6666666666666666,
              "#ed7953"
             ],
             [
              0.7777777777777778,
              "#fb9f3a"
             ],
             [
              0.8888888888888888,
              "#fdca26"
             ],
             [
              1,
              "#f0f921"
             ]
            ],
            "type": "heatmapgl"
           }
          ],
          "histogram": [
           {
            "marker": {
             "pattern": {
              "fillmode": "overlay",
              "size": 10,
              "solidity": 0.2
             }
            },
            "type": "histogram"
           }
          ],
          "histogram2d": [
           {
            "colorbar": {
             "outlinewidth": 0,
             "ticks": ""
            },
            "colorscale": [
             [
              0,
              "#0d0887"
             ],
             [
              0.1111111111111111,
              "#46039f"
             ],
             [
              0.2222222222222222,
              "#7201a8"
             ],
             [
              0.3333333333333333,
              "#9c179e"
             ],
             [
              0.4444444444444444,
              "#bd3786"
             ],
             [
              0.5555555555555556,
              "#d8576b"
             ],
             [
              0.6666666666666666,
              "#ed7953"
             ],
             [
              0.7777777777777778,
              "#fb9f3a"
             ],
             [
              0.8888888888888888,
              "#fdca26"
             ],
             [
              1,
              "#f0f921"
             ]
            ],
            "type": "histogram2d"
           }
          ],
          "histogram2dcontour": [
           {
            "colorbar": {
             "outlinewidth": 0,
             "ticks": ""
            },
            "colorscale": [
             [
              0,
              "#0d0887"
             ],
             [
              0.1111111111111111,
              "#46039f"
             ],
             [
              0.2222222222222222,
              "#7201a8"
             ],
             [
              0.3333333333333333,
              "#9c179e"
             ],
             [
              0.4444444444444444,
              "#bd3786"
             ],
             [
              0.5555555555555556,
              "#d8576b"
             ],
             [
              0.6666666666666666,
              "#ed7953"
             ],
             [
              0.7777777777777778,
              "#fb9f3a"
             ],
             [
              0.8888888888888888,
              "#fdca26"
             ],
             [
              1,
              "#f0f921"
             ]
            ],
            "type": "histogram2dcontour"
           }
          ],
          "mesh3d": [
           {
            "colorbar": {
             "outlinewidth": 0,
             "ticks": ""
            },
            "type": "mesh3d"
           }
          ],
          "parcoords": [
           {
            "line": {
             "colorbar": {
              "outlinewidth": 0,
              "ticks": ""
             }
            },
            "type": "parcoords"
           }
          ],
          "pie": [
           {
            "automargin": true,
            "type": "pie"
           }
          ],
          "scatter": [
           {
            "fillpattern": {
             "fillmode": "overlay",
             "size": 10,
             "solidity": 0.2
            },
            "type": "scatter"
           }
          ],
          "scatter3d": [
           {
            "line": {
             "colorbar": {
              "outlinewidth": 0,
              "ticks": ""
             }
            },
            "marker": {
             "colorbar": {
              "outlinewidth": 0,
              "ticks": ""
             }
            },
            "type": "scatter3d"
           }
          ],
          "scattercarpet": [
           {
            "marker": {
             "colorbar": {
              "outlinewidth": 0,
              "ticks": ""
             }
            },
            "type": "scattercarpet"
           }
          ],
          "scattergeo": [
           {
            "marker": {
             "colorbar": {
              "outlinewidth": 0,
              "ticks": ""
             }
            },
            "type": "scattergeo"
           }
          ],
          "scattergl": [
           {
            "marker": {
             "colorbar": {
              "outlinewidth": 0,
              "ticks": ""
             }
            },
            "type": "scattergl"
           }
          ],
          "scattermapbox": [
           {
            "marker": {
             "colorbar": {
              "outlinewidth": 0,
              "ticks": ""
             }
            },
            "type": "scattermapbox"
           }
          ],
          "scatterpolar": [
           {
            "marker": {
             "colorbar": {
              "outlinewidth": 0,
              "ticks": ""
             }
            },
            "type": "scatterpolar"
           }
          ],
          "scatterpolargl": [
           {
            "marker": {
             "colorbar": {
              "outlinewidth": 0,
              "ticks": ""
             }
            },
            "type": "scatterpolargl"
           }
          ],
          "scatterternary": [
           {
            "marker": {
             "colorbar": {
              "outlinewidth": 0,
              "ticks": ""
             }
            },
            "type": "scatterternary"
           }
          ],
          "surface": [
           {
            "colorbar": {
             "outlinewidth": 0,
             "ticks": ""
            },
            "colorscale": [
             [
              0,
              "#0d0887"
             ],
             [
              0.1111111111111111,
              "#46039f"
             ],
             [
              0.2222222222222222,
              "#7201a8"
             ],
             [
              0.3333333333333333,
              "#9c179e"
             ],
             [
              0.4444444444444444,
              "#bd3786"
             ],
             [
              0.5555555555555556,
              "#d8576b"
             ],
             [
              0.6666666666666666,
              "#ed7953"
             ],
             [
              0.7777777777777778,
              "#fb9f3a"
             ],
             [
              0.8888888888888888,
              "#fdca26"
             ],
             [
              1,
              "#f0f921"
             ]
            ],
            "type": "surface"
           }
          ],
          "table": [
           {
            "cells": {
             "fill": {
              "color": "#EBF0F8"
             },
             "line": {
              "color": "white"
             }
            },
            "header": {
             "fill": {
              "color": "#C8D4E3"
             },
             "line": {
              "color": "white"
             }
            },
            "type": "table"
           }
          ]
         },
         "layout": {
          "annotationdefaults": {
           "arrowcolor": "#2a3f5f",
           "arrowhead": 0,
           "arrowwidth": 1
          },
          "autotypenumbers": "strict",
          "coloraxis": {
           "colorbar": {
            "outlinewidth": 0,
            "ticks": ""
           }
          },
          "colorscale": {
           "diverging": [
            [
             0,
             "#8e0152"
            ],
            [
             0.1,
             "#c51b7d"
            ],
            [
             0.2,
             "#de77ae"
            ],
            [
             0.3,
             "#f1b6da"
            ],
            [
             0.4,
             "#fde0ef"
            ],
            [
             0.5,
             "#f7f7f7"
            ],
            [
             0.6,
             "#e6f5d0"
            ],
            [
             0.7,
             "#b8e186"
            ],
            [
             0.8,
             "#7fbc41"
            ],
            [
             0.9,
             "#4d9221"
            ],
            [
             1,
             "#276419"
            ]
           ],
           "sequential": [
            [
             0,
             "#0d0887"
            ],
            [
             0.1111111111111111,
             "#46039f"
            ],
            [
             0.2222222222222222,
             "#7201a8"
            ],
            [
             0.3333333333333333,
             "#9c179e"
            ],
            [
             0.4444444444444444,
             "#bd3786"
            ],
            [
             0.5555555555555556,
             "#d8576b"
            ],
            [
             0.6666666666666666,
             "#ed7953"
            ],
            [
             0.7777777777777778,
             "#fb9f3a"
            ],
            [
             0.8888888888888888,
             "#fdca26"
            ],
            [
             1,
             "#f0f921"
            ]
           ],
           "sequentialminus": [
            [
             0,
             "#0d0887"
            ],
            [
             0.1111111111111111,
             "#46039f"
            ],
            [
             0.2222222222222222,
             "#7201a8"
            ],
            [
             0.3333333333333333,
             "#9c179e"
            ],
            [
             0.4444444444444444,
             "#bd3786"
            ],
            [
             0.5555555555555556,
             "#d8576b"
            ],
            [
             0.6666666666666666,
             "#ed7953"
            ],
            [
             0.7777777777777778,
             "#fb9f3a"
            ],
            [
             0.8888888888888888,
             "#fdca26"
            ],
            [
             1,
             "#f0f921"
            ]
           ]
          },
          "colorway": [
           "#636efa",
           "#EF553B",
           "#00cc96",
           "#ab63fa",
           "#FFA15A",
           "#19d3f3",
           "#FF6692",
           "#B6E880",
           "#FF97FF",
           "#FECB52"
          ],
          "font": {
           "color": "#2a3f5f"
          },
          "geo": {
           "bgcolor": "white",
           "lakecolor": "white",
           "landcolor": "#E5ECF6",
           "showlakes": true,
           "showland": true,
           "subunitcolor": "white"
          },
          "hoverlabel": {
           "align": "left"
          },
          "hovermode": "closest",
          "mapbox": {
           "style": "light"
          },
          "paper_bgcolor": "white",
          "plot_bgcolor": "#E5ECF6",
          "polar": {
           "angularaxis": {
            "gridcolor": "white",
            "linecolor": "white",
            "ticks": ""
           },
           "bgcolor": "#E5ECF6",
           "radialaxis": {
            "gridcolor": "white",
            "linecolor": "white",
            "ticks": ""
           }
          },
          "scene": {
           "xaxis": {
            "backgroundcolor": "#E5ECF6",
            "gridcolor": "white",
            "gridwidth": 2,
            "linecolor": "white",
            "showbackground": true,
            "ticks": "",
            "zerolinecolor": "white"
           },
           "yaxis": {
            "backgroundcolor": "#E5ECF6",
            "gridcolor": "white",
            "gridwidth": 2,
            "linecolor": "white",
            "showbackground": true,
            "ticks": "",
            "zerolinecolor": "white"
           },
           "zaxis": {
            "backgroundcolor": "#E5ECF6",
            "gridcolor": "white",
            "gridwidth": 2,
            "linecolor": "white",
            "showbackground": true,
            "ticks": "",
            "zerolinecolor": "white"
           }
          },
          "shapedefaults": {
           "line": {
            "color": "#2a3f5f"
           }
          },
          "ternary": {
           "aaxis": {
            "gridcolor": "white",
            "linecolor": "white",
            "ticks": ""
           },
           "baxis": {
            "gridcolor": "white",
            "linecolor": "white",
            "ticks": ""
           },
           "bgcolor": "#E5ECF6",
           "caxis": {
            "gridcolor": "white",
            "linecolor": "white",
            "ticks": ""
           }
          },
          "title": {
           "x": 0.05
          },
          "xaxis": {
           "automargin": true,
           "gridcolor": "white",
           "linecolor": "white",
           "ticks": "",
           "title": {
            "standoff": 15
           },
           "zerolinecolor": "white",
           "zerolinewidth": 2
          },
          "yaxis": {
           "automargin": true,
           "gridcolor": "white",
           "linecolor": "white",
           "ticks": "",
           "title": {
            "standoff": 15
           },
           "zerolinecolor": "white",
           "zerolinewidth": 2
          }
         }
        },
        "title": {
         "text": "bike, variable atemp, split by dist_weight"
        },
        "xaxis": {
         "anchor": "y",
         "domain": [
          0,
          1
         ],
         "title": {
          "text": "split variable"
         }
        },
        "yaxis": {
         "anchor": "x",
         "domain": [
          0,
          1
         ],
         "title": {
          "text": "rho"
         }
        }
       }
      }
     },
     "metadata": {},
     "output_type": "display_data"
    },
    {
     "data": {
      "application/vnd.plotly.v1+json": {
       "config": {
        "plotlyServerURL": "https://plot.ly"
       },
       "data": [
        {
         "alignmentgroup": "True",
         "hovertemplate": "explanation=ale<br>split variable=%{x}<br>rho=%{y}<extra></extra>",
         "legendgroup": "ale",
         "marker": {
          "color": "#636efa"
         },
         "name": "ale",
         "notched": false,
         "offsetgroup": "ale",
         "orientation": "v",
         "quartilemethod": "exclusive",
         "showlegend": true,
         "type": "box",
         "x": [
          "dist_weight 0.0",
          "dist_weight 0.0",
          "dist_weight 0.0",
          "dist_weight 0.0",
          "dist_weight 0.0",
          "dist_weight 0.0",
          "dist_weight 0.0",
          "dist_weight 0.0",
          "dist_weight 0.0",
          "dist_weight 0.0",
          "dist_weight 0.0",
          "dist_weight 0.0",
          "dist_weight 0.0",
          "dist_weight 0.0",
          "dist_weight 0.0",
          "dist_weight 0.0",
          "dist_weight 0.0",
          "dist_weight 0.0",
          "dist_weight 0.0001",
          "dist_weight 0.0001",
          "dist_weight 0.0001",
          "dist_weight 0.0001",
          "dist_weight 0.0001",
          "dist_weight 0.0001",
          "dist_weight 0.0001",
          "dist_weight 0.0001",
          "dist_weight 0.0001",
          "dist_weight 0.0001",
          "dist_weight 0.0001",
          "dist_weight 0.0001",
          "dist_weight 0.0001",
          "dist_weight 0.0001",
          "dist_weight 0.0001",
          "dist_weight 0.0001",
          "dist_weight 0.0001",
          "dist_weight 0.0001",
          "dist_weight 0.001",
          "dist_weight 0.001",
          "dist_weight 0.001",
          "dist_weight 0.001",
          "dist_weight 0.001",
          "dist_weight 0.001",
          "dist_weight 0.001",
          "dist_weight 0.001",
          "dist_weight 0.001",
          "dist_weight 0.001",
          "dist_weight 0.001",
          "dist_weight 0.001",
          "dist_weight 0.001",
          "dist_weight 0.001",
          "dist_weight 0.001",
          "dist_weight 0.001",
          "dist_weight 0.001",
          "dist_weight 0.001",
          "dist_weight 0.01",
          "dist_weight 0.01",
          "dist_weight 0.01",
          "dist_weight 0.01",
          "dist_weight 0.01",
          "dist_weight 0.01",
          "dist_weight 0.01",
          "dist_weight 0.01",
          "dist_weight 0.01",
          "dist_weight 0.01",
          "dist_weight 0.01",
          "dist_weight 0.01",
          "dist_weight 0.01",
          "dist_weight 0.01",
          "dist_weight 0.01",
          "dist_weight 0.01",
          "dist_weight 0.01",
          "dist_weight 0.01",
          "dist_weight 0.1",
          "dist_weight 0.1",
          "dist_weight 0.1",
          "dist_weight 0.1",
          "dist_weight 0.1",
          "dist_weight 0.1",
          "dist_weight 0.1",
          "dist_weight 0.1",
          "dist_weight 0.1",
          "dist_weight 0.1",
          "dist_weight 0.1",
          "dist_weight 0.1",
          "dist_weight 0.1",
          "dist_weight 0.1",
          "dist_weight 0.1",
          "dist_weight 0.1",
          "dist_weight 0.1",
          "dist_weight 0.1",
          "dist_weight 1.0",
          "dist_weight 1.0",
          "dist_weight 1.0",
          "dist_weight 1.0",
          "dist_weight 1.0",
          "dist_weight 1.0",
          "dist_weight 1.0",
          "dist_weight 1.0",
          "dist_weight 1.0",
          "dist_weight 1.0",
          "dist_weight 1.0",
          "dist_weight 1.0",
          "dist_weight 1.0",
          "dist_weight 1.0",
          "dist_weight 1.0",
          "dist_weight 1.0",
          "dist_weight 1.0",
          "dist_weight 1.0"
         ],
         "x0": " ",
         "xaxis": "x",
         "y": [
          -0.5248780765352946,
          -0.6449934980494147,
          -0.908972691807542,
          -0.8556566970091026,
          -0.7763328998699609,
          -0.3368010403120936,
          -0.4408322496749024,
          -0.7984395318595577,
          -0.5344603381014303,
          -0.7880364109232769,
          -0.6684005201560469,
          -0.4564369310793237,
          -0.9024707412223668,
          0.6840052015604681,
          -0.5019505851755527,
          -0.6449934980494147,
          -0.1508452535760728,
          -0.4000000211514326,
          -0.5149544863459038,
          -0.1937581274382314,
          -0.8582574772431728,
          -0.7659297789336801,
          -0.7724317295188555,
          -0.3407022106631989,
          -0.5032509752925878,
          -0.801040312093628,
          -0.5253576072821846,
          -0.7919375812743823,
          -0.3719115734720415,
          -0.459037711313394,
          -0.8868660598179453,
          0.6280884265279584,
          -0.2171651495448634,
          -0.6384915474642392,
          0.1378413524057217,
          -0.4403252265358048,
          -0.7802340702210662,
          -0.8699609882964889,
          -0.8413524057217165,
          -0.41222366710013,
          -0.8673602080624188,
          -0.3576072821846554,
          -0.3927178153446033,
          -0.8660598179453836,
          -0.5266579973992197,
          -0.7971391417425226,
          -0.377113133940182,
          -0.4837451235370611,
          -0.8465539661898569,
          0.6723016905071522,
          -0.2665799739921976,
          -0.6254876462938881,
          -0.3172951885565669,
          -0.3745123537061118,
          -0.4343302990897268,
          -0.3042912873862158,
          -0.8907672301690506,
          -0.8426527958387514,
          -0.3940182054616384,
          -0.0351105331599479,
          -0.3758127438231469,
          -0.906371911573472,
          0.036410923276983,
          -0.7893368010403121,
          -0.5812743823146944,
          -0.3823146944083225,
          -0.6488946684005201,
          0.9895968790637192,
          -0.3849154746423927,
          -0.5812743823146944,
          -0.188556566970091,
          -0.2054616384915474,
          -0.4551365409622886,
          0.3211963589076723,
          -0.5851755526657997,
          0.7074122236671001,
          -0.4629388816644993,
          -0.1989596879063719,
          0.0572171651495448,
          -0.635890767230169,
          0.3159947984395318,
          -0.7035110533159948,
          -0.0078023407022106,
          -0.4629388816644993,
          -0.6436931079323797,
          0.9622886866059815,
          -0.165149544863459,
          -0.3849154746423927,
          0.1378413524057217,
          -0.2912873862158647,
          -0.1937581274382314,
          0.5786736020806241,
          0.9128738621586476,
          0.9167750325097528,
          0.9232769830949284,
          0.682704811443433,
          0.8738621586475942,
          0.9388816644993496,
          -0.0520156046814044,
          0.3719115734720415,
          0.7620286085825747,
          -0.3029908972691807,
          0.7724317295188555,
          0.94148244473342,
          -0.1014304291287386,
          0.9609882964889466,
          0.5188556566970092,
          -0.2769830949284785
         ],
         "y0": " ",
         "yaxis": "y"
        },
        {
         "alignmentgroup": "True",
         "hovertemplate": "explanation=pd<br>split variable=%{x}<br>rho=%{y}<extra></extra>",
         "legendgroup": "pd",
         "marker": {
          "color": "#EF553B"
         },
         "name": "pd",
         "notched": false,
         "offsetgroup": "pd",
         "orientation": "v",
         "quartilemethod": "exclusive",
         "showlegend": true,
         "type": "box",
         "x": [
          "dist_weight 0.0",
          "dist_weight 0.0",
          "dist_weight 0.0",
          "dist_weight 0.0",
          "dist_weight 0.0",
          "dist_weight 0.0",
          "dist_weight 0.0",
          "dist_weight 0.0",
          "dist_weight 0.0",
          "dist_weight 0.0",
          "dist_weight 0.0",
          "dist_weight 0.0",
          "dist_weight 0.0",
          "dist_weight 0.0",
          "dist_weight 0.0",
          "dist_weight 0.0",
          "dist_weight 0.0",
          "dist_weight 0.0",
          "dist_weight 0.0001",
          "dist_weight 0.0001",
          "dist_weight 0.0001",
          "dist_weight 0.0001",
          "dist_weight 0.0001",
          "dist_weight 0.0001",
          "dist_weight 0.0001",
          "dist_weight 0.0001",
          "dist_weight 0.0001",
          "dist_weight 0.0001",
          "dist_weight 0.0001",
          "dist_weight 0.0001",
          "dist_weight 0.0001",
          "dist_weight 0.0001",
          "dist_weight 0.0001",
          "dist_weight 0.0001",
          "dist_weight 0.0001",
          "dist_weight 0.0001",
          "dist_weight 0.001",
          "dist_weight 0.001",
          "dist_weight 0.001",
          "dist_weight 0.001",
          "dist_weight 0.001",
          "dist_weight 0.001",
          "dist_weight 0.001",
          "dist_weight 0.001",
          "dist_weight 0.001",
          "dist_weight 0.001",
          "dist_weight 0.001",
          "dist_weight 0.001",
          "dist_weight 0.001",
          "dist_weight 0.001",
          "dist_weight 0.001",
          "dist_weight 0.001",
          "dist_weight 0.001",
          "dist_weight 0.001",
          "dist_weight 0.01",
          "dist_weight 0.01",
          "dist_weight 0.01",
          "dist_weight 0.01",
          "dist_weight 0.01",
          "dist_weight 0.01",
          "dist_weight 0.01",
          "dist_weight 0.01",
          "dist_weight 0.01",
          "dist_weight 0.01",
          "dist_weight 0.01",
          "dist_weight 0.01",
          "dist_weight 0.01",
          "dist_weight 0.01",
          "dist_weight 0.01",
          "dist_weight 0.01",
          "dist_weight 0.01",
          "dist_weight 0.01",
          "dist_weight 0.1",
          "dist_weight 0.1",
          "dist_weight 0.1",
          "dist_weight 0.1",
          "dist_weight 0.1",
          "dist_weight 0.1",
          "dist_weight 0.1",
          "dist_weight 0.1",
          "dist_weight 0.1",
          "dist_weight 0.1",
          "dist_weight 0.1",
          "dist_weight 0.1",
          "dist_weight 0.1",
          "dist_weight 0.1",
          "dist_weight 0.1",
          "dist_weight 0.1",
          "dist_weight 0.1",
          "dist_weight 0.1",
          "dist_weight 1.0",
          "dist_weight 1.0",
          "dist_weight 1.0",
          "dist_weight 1.0",
          "dist_weight 1.0",
          "dist_weight 1.0",
          "dist_weight 1.0",
          "dist_weight 1.0",
          "dist_weight 1.0",
          "dist_weight 1.0",
          "dist_weight 1.0",
          "dist_weight 1.0",
          "dist_weight 1.0",
          "dist_weight 1.0",
          "dist_weight 1.0",
          "dist_weight 1.0",
          "dist_weight 1.0",
          "dist_weight 1.0"
         ],
         "x0": " ",
         "xaxis": "x",
         "y": [
          -0.9948051948051948,
          -0.9948051948051948,
          -0.9974025974025976,
          -0.9922077922077924,
          -0.9753246753246754,
          -0.9935064935064932,
          -0.9636363636363636,
          -0.9974025974025976,
          -0.9818181818181818,
          -0.996103896103896,
          -0.9974025974025976,
          -1,
          -0.9207792207792208,
          -0.9857142857142858,
          -0.996103896103896,
          -0.9974025974025976,
          -0.9753246753246754,
          -0.9974025974025976,
          -0.9987012987012988,
          -0.996103896103896,
          -0.9974025974025976,
          -0.9909090909090909,
          -0.9779220779220776,
          -0.9987012987012988,
          -0.9636363636363636,
          -0.9987012987012988,
          -0.9896103896103896,
          -0.996103896103896,
          -0.9974025974025976,
          -1,
          -0.9935064935064932,
          -0.9805194805194803,
          -0.9922077922077924,
          -0.9974025974025976,
          -0.9857142857142858,
          -0.9974025974025976,
          -0.9974025974025976,
          -0.9974025974025976,
          -0.9974025974025976,
          -0.9857142857142858,
          -0.9844155844155844,
          -0.9987012987012988,
          -0.9636363636363636,
          -0.9948051948051948,
          -0.9883116883116884,
          -0.996103896103896,
          -0.9922077922077924,
          -0.9883116883116884,
          -0.9883116883116884,
          -0.974025974025974,
          -0.996103896103896,
          -0.9987012987012988,
          -0.9857142857142858,
          -0.9974025974025976,
          -0.9844155844155844,
          -0.9766233766233766,
          -0.9428571428571428,
          -0.9103896103896104,
          -0.9883116883116884,
          -0.9844155844155844,
          -0.9636363636363636,
          -0.9714285714285712,
          -0.9805194805194803,
          -0.9922077922077924,
          -0.9701298701298702,
          -0.9870129870129868,
          -0.9246753246753248,
          -0.9350649350649348,
          -0.9909090909090909,
          -0.8220779220779221,
          -0.8740259740259739,
          -0.9948051948051948,
          -0.8207792207792207,
          -0.8272727272727272,
          -0.2818181818181818,
          -0.4909090909090909,
          0.5935064935064935,
          -0.6844155844155844,
          -0.8753246753246753,
          0.074025974025974,
          -0.8727272727272727,
          -0.9012987012987014,
          -0.5363636363636364,
          -0.9272727272727272,
          -0.8181818181818182,
          -0.7545454545454545,
          -0.8857142857142857,
          -0.4181818181818181,
          -0.5428571428571428,
          -0.948051948051948,
          0.8818181818181818,
          0.9662337662337662,
          0.9714285714285712,
          0.9623376623376624,
          0.9662337662337662,
          0.8636363636363636,
          0.9779220779220776,
          0.9974025974025976,
          0.8831168831168831,
          0.9974025974025976,
          0.9623376623376624,
          -0.625974025974026,
          0.944155844155844,
          -0.835064935064935,
          0.6779220779220779,
          0.9805194805194803,
          0.7103896103896103,
          0.7662337662337663
         ],
         "y0": " ",
         "yaxis": "y"
        }
       ],
       "layout": {
        "boxmode": "group",
        "legend": {
         "title": {
          "text": "explanation"
         },
         "tracegroupgap": 0
        },
        "template": {
         "data": {
          "bar": [
           {
            "error_x": {
             "color": "#2a3f5f"
            },
            "error_y": {
             "color": "#2a3f5f"
            },
            "marker": {
             "line": {
              "color": "#E5ECF6",
              "width": 0.5
             },
             "pattern": {
              "fillmode": "overlay",
              "size": 10,
              "solidity": 0.2
             }
            },
            "type": "bar"
           }
          ],
          "barpolar": [
           {
            "marker": {
             "line": {
              "color": "#E5ECF6",
              "width": 0.5
             },
             "pattern": {
              "fillmode": "overlay",
              "size": 10,
              "solidity": 0.2
             }
            },
            "type": "barpolar"
           }
          ],
          "carpet": [
           {
            "aaxis": {
             "endlinecolor": "#2a3f5f",
             "gridcolor": "white",
             "linecolor": "white",
             "minorgridcolor": "white",
             "startlinecolor": "#2a3f5f"
            },
            "baxis": {
             "endlinecolor": "#2a3f5f",
             "gridcolor": "white",
             "linecolor": "white",
             "minorgridcolor": "white",
             "startlinecolor": "#2a3f5f"
            },
            "type": "carpet"
           }
          ],
          "choropleth": [
           {
            "colorbar": {
             "outlinewidth": 0,
             "ticks": ""
            },
            "type": "choropleth"
           }
          ],
          "contour": [
           {
            "colorbar": {
             "outlinewidth": 0,
             "ticks": ""
            },
            "colorscale": [
             [
              0,
              "#0d0887"
             ],
             [
              0.1111111111111111,
              "#46039f"
             ],
             [
              0.2222222222222222,
              "#7201a8"
             ],
             [
              0.3333333333333333,
              "#9c179e"
             ],
             [
              0.4444444444444444,
              "#bd3786"
             ],
             [
              0.5555555555555556,
              "#d8576b"
             ],
             [
              0.6666666666666666,
              "#ed7953"
             ],
             [
              0.7777777777777778,
              "#fb9f3a"
             ],
             [
              0.8888888888888888,
              "#fdca26"
             ],
             [
              1,
              "#f0f921"
             ]
            ],
            "type": "contour"
           }
          ],
          "contourcarpet": [
           {
            "colorbar": {
             "outlinewidth": 0,
             "ticks": ""
            },
            "type": "contourcarpet"
           }
          ],
          "heatmap": [
           {
            "colorbar": {
             "outlinewidth": 0,
             "ticks": ""
            },
            "colorscale": [
             [
              0,
              "#0d0887"
             ],
             [
              0.1111111111111111,
              "#46039f"
             ],
             [
              0.2222222222222222,
              "#7201a8"
             ],
             [
              0.3333333333333333,
              "#9c179e"
             ],
             [
              0.4444444444444444,
              "#bd3786"
             ],
             [
              0.5555555555555556,
              "#d8576b"
             ],
             [
              0.6666666666666666,
              "#ed7953"
             ],
             [
              0.7777777777777778,
              "#fb9f3a"
             ],
             [
              0.8888888888888888,
              "#fdca26"
             ],
             [
              1,
              "#f0f921"
             ]
            ],
            "type": "heatmap"
           }
          ],
          "heatmapgl": [
           {
            "colorbar": {
             "outlinewidth": 0,
             "ticks": ""
            },
            "colorscale": [
             [
              0,
              "#0d0887"
             ],
             [
              0.1111111111111111,
              "#46039f"
             ],
             [
              0.2222222222222222,
              "#7201a8"
             ],
             [
              0.3333333333333333,
              "#9c179e"
             ],
             [
              0.4444444444444444,
              "#bd3786"
             ],
             [
              0.5555555555555556,
              "#d8576b"
             ],
             [
              0.6666666666666666,
              "#ed7953"
             ],
             [
              0.7777777777777778,
              "#fb9f3a"
             ],
             [
              0.8888888888888888,
              "#fdca26"
             ],
             [
              1,
              "#f0f921"
             ]
            ],
            "type": "heatmapgl"
           }
          ],
          "histogram": [
           {
            "marker": {
             "pattern": {
              "fillmode": "overlay",
              "size": 10,
              "solidity": 0.2
             }
            },
            "type": "histogram"
           }
          ],
          "histogram2d": [
           {
            "colorbar": {
             "outlinewidth": 0,
             "ticks": ""
            },
            "colorscale": [
             [
              0,
              "#0d0887"
             ],
             [
              0.1111111111111111,
              "#46039f"
             ],
             [
              0.2222222222222222,
              "#7201a8"
             ],
             [
              0.3333333333333333,
              "#9c179e"
             ],
             [
              0.4444444444444444,
              "#bd3786"
             ],
             [
              0.5555555555555556,
              "#d8576b"
             ],
             [
              0.6666666666666666,
              "#ed7953"
             ],
             [
              0.7777777777777778,
              "#fb9f3a"
             ],
             [
              0.8888888888888888,
              "#fdca26"
             ],
             [
              1,
              "#f0f921"
             ]
            ],
            "type": "histogram2d"
           }
          ],
          "histogram2dcontour": [
           {
            "colorbar": {
             "outlinewidth": 0,
             "ticks": ""
            },
            "colorscale": [
             [
              0,
              "#0d0887"
             ],
             [
              0.1111111111111111,
              "#46039f"
             ],
             [
              0.2222222222222222,
              "#7201a8"
             ],
             [
              0.3333333333333333,
              "#9c179e"
             ],
             [
              0.4444444444444444,
              "#bd3786"
             ],
             [
              0.5555555555555556,
              "#d8576b"
             ],
             [
              0.6666666666666666,
              "#ed7953"
             ],
             [
              0.7777777777777778,
              "#fb9f3a"
             ],
             [
              0.8888888888888888,
              "#fdca26"
             ],
             [
              1,
              "#f0f921"
             ]
            ],
            "type": "histogram2dcontour"
           }
          ],
          "mesh3d": [
           {
            "colorbar": {
             "outlinewidth": 0,
             "ticks": ""
            },
            "type": "mesh3d"
           }
          ],
          "parcoords": [
           {
            "line": {
             "colorbar": {
              "outlinewidth": 0,
              "ticks": ""
             }
            },
            "type": "parcoords"
           }
          ],
          "pie": [
           {
            "automargin": true,
            "type": "pie"
           }
          ],
          "scatter": [
           {
            "fillpattern": {
             "fillmode": "overlay",
             "size": 10,
             "solidity": 0.2
            },
            "type": "scatter"
           }
          ],
          "scatter3d": [
           {
            "line": {
             "colorbar": {
              "outlinewidth": 0,
              "ticks": ""
             }
            },
            "marker": {
             "colorbar": {
              "outlinewidth": 0,
              "ticks": ""
             }
            },
            "type": "scatter3d"
           }
          ],
          "scattercarpet": [
           {
            "marker": {
             "colorbar": {
              "outlinewidth": 0,
              "ticks": ""
             }
            },
            "type": "scattercarpet"
           }
          ],
          "scattergeo": [
           {
            "marker": {
             "colorbar": {
              "outlinewidth": 0,
              "ticks": ""
             }
            },
            "type": "scattergeo"
           }
          ],
          "scattergl": [
           {
            "marker": {
             "colorbar": {
              "outlinewidth": 0,
              "ticks": ""
             }
            },
            "type": "scattergl"
           }
          ],
          "scattermapbox": [
           {
            "marker": {
             "colorbar": {
              "outlinewidth": 0,
              "ticks": ""
             }
            },
            "type": "scattermapbox"
           }
          ],
          "scatterpolar": [
           {
            "marker": {
             "colorbar": {
              "outlinewidth": 0,
              "ticks": ""
             }
            },
            "type": "scatterpolar"
           }
          ],
          "scatterpolargl": [
           {
            "marker": {
             "colorbar": {
              "outlinewidth": 0,
              "ticks": ""
             }
            },
            "type": "scatterpolargl"
           }
          ],
          "scatterternary": [
           {
            "marker": {
             "colorbar": {
              "outlinewidth": 0,
              "ticks": ""
             }
            },
            "type": "scatterternary"
           }
          ],
          "surface": [
           {
            "colorbar": {
             "outlinewidth": 0,
             "ticks": ""
            },
            "colorscale": [
             [
              0,
              "#0d0887"
             ],
             [
              0.1111111111111111,
              "#46039f"
             ],
             [
              0.2222222222222222,
              "#7201a8"
             ],
             [
              0.3333333333333333,
              "#9c179e"
             ],
             [
              0.4444444444444444,
              "#bd3786"
             ],
             [
              0.5555555555555556,
              "#d8576b"
             ],
             [
              0.6666666666666666,
              "#ed7953"
             ],
             [
              0.7777777777777778,
              "#fb9f3a"
             ],
             [
              0.8888888888888888,
              "#fdca26"
             ],
             [
              1,
              "#f0f921"
             ]
            ],
            "type": "surface"
           }
          ],
          "table": [
           {
            "cells": {
             "fill": {
              "color": "#EBF0F8"
             },
             "line": {
              "color": "white"
             }
            },
            "header": {
             "fill": {
              "color": "#C8D4E3"
             },
             "line": {
              "color": "white"
             }
            },
            "type": "table"
           }
          ]
         },
         "layout": {
          "annotationdefaults": {
           "arrowcolor": "#2a3f5f",
           "arrowhead": 0,
           "arrowwidth": 1
          },
          "autotypenumbers": "strict",
          "coloraxis": {
           "colorbar": {
            "outlinewidth": 0,
            "ticks": ""
           }
          },
          "colorscale": {
           "diverging": [
            [
             0,
             "#8e0152"
            ],
            [
             0.1,
             "#c51b7d"
            ],
            [
             0.2,
             "#de77ae"
            ],
            [
             0.3,
             "#f1b6da"
            ],
            [
             0.4,
             "#fde0ef"
            ],
            [
             0.5,
             "#f7f7f7"
            ],
            [
             0.6,
             "#e6f5d0"
            ],
            [
             0.7,
             "#b8e186"
            ],
            [
             0.8,
             "#7fbc41"
            ],
            [
             0.9,
             "#4d9221"
            ],
            [
             1,
             "#276419"
            ]
           ],
           "sequential": [
            [
             0,
             "#0d0887"
            ],
            [
             0.1111111111111111,
             "#46039f"
            ],
            [
             0.2222222222222222,
             "#7201a8"
            ],
            [
             0.3333333333333333,
             "#9c179e"
            ],
            [
             0.4444444444444444,
             "#bd3786"
            ],
            [
             0.5555555555555556,
             "#d8576b"
            ],
            [
             0.6666666666666666,
             "#ed7953"
            ],
            [
             0.7777777777777778,
             "#fb9f3a"
            ],
            [
             0.8888888888888888,
             "#fdca26"
            ],
            [
             1,
             "#f0f921"
            ]
           ],
           "sequentialminus": [
            [
             0,
             "#0d0887"
            ],
            [
             0.1111111111111111,
             "#46039f"
            ],
            [
             0.2222222222222222,
             "#7201a8"
            ],
            [
             0.3333333333333333,
             "#9c179e"
            ],
            [
             0.4444444444444444,
             "#bd3786"
            ],
            [
             0.5555555555555556,
             "#d8576b"
            ],
            [
             0.6666666666666666,
             "#ed7953"
            ],
            [
             0.7777777777777778,
             "#fb9f3a"
            ],
            [
             0.8888888888888888,
             "#fdca26"
            ],
            [
             1,
             "#f0f921"
            ]
           ]
          },
          "colorway": [
           "#636efa",
           "#EF553B",
           "#00cc96",
           "#ab63fa",
           "#FFA15A",
           "#19d3f3",
           "#FF6692",
           "#B6E880",
           "#FF97FF",
           "#FECB52"
          ],
          "font": {
           "color": "#2a3f5f"
          },
          "geo": {
           "bgcolor": "white",
           "lakecolor": "white",
           "landcolor": "#E5ECF6",
           "showlakes": true,
           "showland": true,
           "subunitcolor": "white"
          },
          "hoverlabel": {
           "align": "left"
          },
          "hovermode": "closest",
          "mapbox": {
           "style": "light"
          },
          "paper_bgcolor": "white",
          "plot_bgcolor": "#E5ECF6",
          "polar": {
           "angularaxis": {
            "gridcolor": "white",
            "linecolor": "white",
            "ticks": ""
           },
           "bgcolor": "#E5ECF6",
           "radialaxis": {
            "gridcolor": "white",
            "linecolor": "white",
            "ticks": ""
           }
          },
          "scene": {
           "xaxis": {
            "backgroundcolor": "#E5ECF6",
            "gridcolor": "white",
            "gridwidth": 2,
            "linecolor": "white",
            "showbackground": true,
            "ticks": "",
            "zerolinecolor": "white"
           },
           "yaxis": {
            "backgroundcolor": "#E5ECF6",
            "gridcolor": "white",
            "gridwidth": 2,
            "linecolor": "white",
            "showbackground": true,
            "ticks": "",
            "zerolinecolor": "white"
           },
           "zaxis": {
            "backgroundcolor": "#E5ECF6",
            "gridcolor": "white",
            "gridwidth": 2,
            "linecolor": "white",
            "showbackground": true,
            "ticks": "",
            "zerolinecolor": "white"
           }
          },
          "shapedefaults": {
           "line": {
            "color": "#2a3f5f"
           }
          },
          "ternary": {
           "aaxis": {
            "gridcolor": "white",
            "linecolor": "white",
            "ticks": ""
           },
           "baxis": {
            "gridcolor": "white",
            "linecolor": "white",
            "ticks": ""
           },
           "bgcolor": "#E5ECF6",
           "caxis": {
            "gridcolor": "white",
            "linecolor": "white",
            "ticks": ""
           }
          },
          "title": {
           "x": 0.05
          },
          "xaxis": {
           "automargin": true,
           "gridcolor": "white",
           "linecolor": "white",
           "ticks": "",
           "title": {
            "standoff": 15
           },
           "zerolinecolor": "white",
           "zerolinewidth": 2
          },
          "yaxis": {
           "automargin": true,
           "gridcolor": "white",
           "linecolor": "white",
           "ticks": "",
           "title": {
            "standoff": 15
           },
           "zerolinecolor": "white",
           "zerolinewidth": 2
          }
         }
        },
        "title": {
         "text": "heart, variable age, split by dist_weight"
        },
        "xaxis": {
         "anchor": "y",
         "domain": [
          0,
          1
         ],
         "title": {
          "text": "split variable"
         }
        },
        "yaxis": {
         "anchor": "x",
         "domain": [
          0,
          1
         ],
         "title": {
          "text": "rho"
         }
        }
       }
      }
     },
     "metadata": {},
     "output_type": "display_data"
    },
    {
     "data": {
      "application/vnd.plotly.v1+json": {
       "config": {
        "plotlyServerURL": "https://plot.ly"
       },
       "data": [
        {
         "alignmentgroup": "True",
         "hovertemplate": "explanation=ale<br>split variable=%{x}<br>rho=%{y}<extra></extra>",
         "legendgroup": "ale",
         "marker": {
          "color": "#636efa"
         },
         "name": "ale",
         "notched": false,
         "offsetgroup": "ale",
         "orientation": "v",
         "quartilemethod": "exclusive",
         "showlegend": true,
         "type": "box",
         "x": [
          "dist_weight 0.0",
          "dist_weight 0.0",
          "dist_weight 0.0",
          "dist_weight 0.0",
          "dist_weight 0.0",
          "dist_weight 0.0",
          "dist_weight 0.0",
          "dist_weight 0.0",
          "dist_weight 0.0",
          "dist_weight 0.0",
          "dist_weight 0.0",
          "dist_weight 0.0",
          "dist_weight 0.0",
          "dist_weight 0.0",
          "dist_weight 0.0",
          "dist_weight 0.0",
          "dist_weight 0.0",
          "dist_weight 0.0",
          "dist_weight 0.001",
          "dist_weight 0.001",
          "dist_weight 0.001",
          "dist_weight 0.001",
          "dist_weight 0.001",
          "dist_weight 0.001",
          "dist_weight 0.001",
          "dist_weight 0.001",
          "dist_weight 0.001",
          "dist_weight 0.001",
          "dist_weight 0.001",
          "dist_weight 0.001",
          "dist_weight 0.001",
          "dist_weight 0.001",
          "dist_weight 0.001",
          "dist_weight 0.001",
          "dist_weight 0.001",
          "dist_weight 0.001",
          "dist_weight 0.01",
          "dist_weight 0.01",
          "dist_weight 0.01",
          "dist_weight 0.01",
          "dist_weight 0.01",
          "dist_weight 0.01",
          "dist_weight 0.01",
          "dist_weight 0.01",
          "dist_weight 0.01",
          "dist_weight 0.01",
          "dist_weight 0.01",
          "dist_weight 0.01",
          "dist_weight 0.01",
          "dist_weight 0.01",
          "dist_weight 0.01",
          "dist_weight 0.01",
          "dist_weight 0.01",
          "dist_weight 0.01",
          "dist_weight 0.1",
          "dist_weight 0.1",
          "dist_weight 0.1",
          "dist_weight 0.1",
          "dist_weight 0.1",
          "dist_weight 0.1",
          "dist_weight 0.1",
          "dist_weight 0.1",
          "dist_weight 0.1",
          "dist_weight 0.1",
          "dist_weight 0.1",
          "dist_weight 0.1",
          "dist_weight 0.1",
          "dist_weight 0.1",
          "dist_weight 0.1",
          "dist_weight 0.1",
          "dist_weight 0.1",
          "dist_weight 0.1",
          "dist_weight 1.0",
          "dist_weight 1.0",
          "dist_weight 1.0",
          "dist_weight 1.0",
          "dist_weight 1.0",
          "dist_weight 1.0",
          "dist_weight 1.0",
          "dist_weight 1.0",
          "dist_weight 1.0",
          "dist_weight 1.0",
          "dist_weight 1.0",
          "dist_weight 1.0",
          "dist_weight 1.0",
          "dist_weight 1.0",
          "dist_weight 1.0",
          "dist_weight 1.0",
          "dist_weight 1.0",
          "dist_weight 1.0",
          "dist_weight 1.0",
          "dist_weight 1.0",
          "dist_weight 1.0",
          "dist_weight 1.0"
         ],
         "x0": " ",
         "xaxis": "x",
         "y": [
          -0.9597141000649771,
          -0.9467186484730346,
          -0.9597141000649771,
          -0.9870045484080572,
          -0.9597141000649771,
          -0.8674463937621832,
          -0.9493177387914228,
          -0.9311241065627032,
          -0.8505523066926576,
          -0.993821611178353,
          -0.9766081871345028,
          -0.8726445743989604,
          -0.98180636777128,
          -0.9753086419753084,
          -0.9051332033788172,
          -0.9753086419753084,
          -0.9142300194931776,
          -0.9688109161793372,
          -0.9545159194282,
          -0.96361273554256,
          -0.9597141000649771,
          -0.9623131903833656,
          -0.9597141000649771,
          -0.8778427550357373,
          -0.9493177387914228,
          -0.866146848602989,
          -0.9363222871994802,
          -0.9870045484080572,
          -0.9753086419753084,
          -0.8167641325536062,
          -0.9753086419753084,
          -0.9753086419753084,
          -0.9051332033788172,
          -0.9116309291747888,
          -0.7946718648473036,
          -0.8765432098765432,
          -0.7102014294996751,
          -0.903833658219623,
          -0.8739441195581545,
          -0.8791423001949318,
          -0.8388564002599089,
          -0.7907732293697206,
          -0.9493177387914228,
          -0.8596491228070176,
          -0.8206627680311891,
          -0.9220272904483432,
          -0.9363222871994802,
          -0.8115659519168291,
          -0.871345029239766,
          -0.9753086419753084,
          -0.898635477582846,
          -0.6725146198830408,
          -0.8232618583495775,
          -0.8401559454191033,
          0.8999350227420402,
          -0.4632878492527614,
          -0.7582846003898636,
          -0.1968810916179337,
          -0.5165692007797271,
          -0.5932423651721898,
          -0.5763482781026641,
          -0.9376218323586744,
          -0.7024041585445094,
          0.7166991552956465,
          -0.5945419103313839,
          -0.8583495776478232,
          0.9987004548408056,
          -0.9506172839506172,
          -0.788174139051332,
          0.7530864197530863,
          -0.50227420402859,
          -0.8414554905782975,
          1,
          1,
          0.96361273554256,
          0.9883040935672512,
          0.9948018193632228,
          0.996101364522417,
          0.9558154645873944,
          0.9766081871345028,
          0.9896036387264456,
          0.9649122807017544,
          0.996101364522417,
          1,
          1,
          0.9194282001299544,
          1,
          1,
          0.9935022742040284,
          0.9753086419753084,
          1,
          1,
          0.9714100064977256,
          0.9558154645873944
         ],
         "y0": " ",
         "yaxis": "y"
        },
        {
         "alignmentgroup": "True",
         "hovertemplate": "explanation=pd<br>split variable=%{x}<br>rho=%{y}<extra></extra>",
         "legendgroup": "pd",
         "marker": {
          "color": "#EF553B"
         },
         "name": "pd",
         "notched": false,
         "offsetgroup": "pd",
         "orientation": "v",
         "quartilemethod": "exclusive",
         "showlegend": true,
         "type": "box",
         "x": [
          "dist_weight 0.0",
          "dist_weight 0.0",
          "dist_weight 0.0",
          "dist_weight 0.0",
          "dist_weight 0.0",
          "dist_weight 0.0",
          "dist_weight 0.0",
          "dist_weight 0.0",
          "dist_weight 0.0",
          "dist_weight 0.0",
          "dist_weight 0.0",
          "dist_weight 0.0",
          "dist_weight 0.0",
          "dist_weight 0.0",
          "dist_weight 0.0",
          "dist_weight 0.0",
          "dist_weight 0.0",
          "dist_weight 0.0",
          "dist_weight 0.001",
          "dist_weight 0.001",
          "dist_weight 0.001",
          "dist_weight 0.001",
          "dist_weight 0.001",
          "dist_weight 0.001",
          "dist_weight 0.001",
          "dist_weight 0.001",
          "dist_weight 0.001",
          "dist_weight 0.001",
          "dist_weight 0.001",
          "dist_weight 0.001",
          "dist_weight 0.001",
          "dist_weight 0.001",
          "dist_weight 0.001",
          "dist_weight 0.001",
          "dist_weight 0.001",
          "dist_weight 0.001",
          "dist_weight 0.01",
          "dist_weight 0.01",
          "dist_weight 0.01",
          "dist_weight 0.01",
          "dist_weight 0.01",
          "dist_weight 0.01",
          "dist_weight 0.01",
          "dist_weight 0.01",
          "dist_weight 0.01",
          "dist_weight 0.01",
          "dist_weight 0.01",
          "dist_weight 0.01",
          "dist_weight 0.01",
          "dist_weight 0.01",
          "dist_weight 0.01",
          "dist_weight 0.01",
          "dist_weight 0.01",
          "dist_weight 0.01",
          "dist_weight 0.1",
          "dist_weight 0.1",
          "dist_weight 0.1",
          "dist_weight 0.1",
          "dist_weight 0.1",
          "dist_weight 0.1",
          "dist_weight 0.1",
          "dist_weight 0.1",
          "dist_weight 0.1",
          "dist_weight 0.1",
          "dist_weight 0.1",
          "dist_weight 0.1",
          "dist_weight 0.1",
          "dist_weight 0.1",
          "dist_weight 0.1",
          "dist_weight 0.1",
          "dist_weight 0.1",
          "dist_weight 0.1",
          "dist_weight 1.0",
          "dist_weight 1.0",
          "dist_weight 1.0",
          "dist_weight 1.0",
          "dist_weight 1.0",
          "dist_weight 1.0",
          "dist_weight 1.0",
          "dist_weight 1.0",
          "dist_weight 1.0",
          "dist_weight 1.0",
          "dist_weight 1.0",
          "dist_weight 1.0",
          "dist_weight 1.0",
          "dist_weight 1.0",
          "dist_weight 1.0",
          "dist_weight 1.0",
          "dist_weight 1.0",
          "dist_weight 1.0",
          "dist_weight 1.0",
          "dist_weight 1.0",
          "dist_weight 1.0",
          "dist_weight 1.0"
         ],
         "x0": " ",
         "xaxis": "x",
         "y": [
          -1,
          -0.9584415584415584,
          -0.9948051948051948,
          -1,
          -1,
          -0.9688311688311688,
          -1,
          -0.996103896103896,
          -0.9909090909090909,
          -1,
          -1,
          -0.944155844155844,
          -1,
          -1,
          -0.9909090909090909,
          -0.9987012987012988,
          -0.9909090909090909,
          -0.9103896103896104,
          -1,
          -0.9584415584415584,
          -0.9805194805194803,
          -1,
          -1,
          -0.9272727272727272,
          -1,
          -0.9779220779220776,
          -0.9831168831168832,
          -1,
          -1,
          -0.9259740259740258,
          -1,
          -1,
          -0.996103896103896,
          -0.9727272727272728,
          -0.9350649350649348,
          -0.9064935064935064,
          -0.8532467532467533,
          -0.944155844155844,
          -0.8714285714285716,
          -0.9142857142857144,
          -0.8597402597402597,
          -0.7961038961038961,
          -0.9818181818181818,
          -0.8870129870129868,
          -0.8844155844155844,
          -0.9389610389610388,
          -0.9922077922077924,
          -0.9909090909090909,
          -0.7870129870129869,
          -0.9363636363636364,
          -0.9870129870129868,
          -0.8623376623376624,
          -0.8480519480519481,
          -0.8584415584415584,
          0.9376623376623376,
          -0.6350649350649351,
          -0.6363636363636362,
          -0.0675324675324675,
          -0.3519480519480519,
          -0.6012987012987013,
          0.6545454545454545,
          -0.5623376623376624,
          -0.6220779220779221,
          0.835064935064935,
          -0.5714285714285714,
          -0.9207792207792208,
          1,
          -0.7584415584415585,
          -0.9064935064935064,
          0.8259740259740259,
          -0.3844155844155844,
          -0.7701298701298702,
          1,
          1,
          0.9597402597402598,
          0.9974025974025976,
          1,
          1,
          0.9948051948051948,
          1,
          1,
          0.9909090909090909,
          1,
          1,
          1,
          0.9948051948051948,
          1,
          1,
          1,
          0.9844155844155844,
          1,
          1,
          0.9909090909090909,
          0.9779220779220776
         ],
         "y0": " ",
         "yaxis": "y"
        }
       ],
       "layout": {
        "boxmode": "group",
        "legend": {
         "title": {
          "text": "explanation"
         },
         "tracegroupgap": 0
        },
        "template": {
         "data": {
          "bar": [
           {
            "error_x": {
             "color": "#2a3f5f"
            },
            "error_y": {
             "color": "#2a3f5f"
            },
            "marker": {
             "line": {
              "color": "#E5ECF6",
              "width": 0.5
             },
             "pattern": {
              "fillmode": "overlay",
              "size": 10,
              "solidity": 0.2
             }
            },
            "type": "bar"
           }
          ],
          "barpolar": [
           {
            "marker": {
             "line": {
              "color": "#E5ECF6",
              "width": 0.5
             },
             "pattern": {
              "fillmode": "overlay",
              "size": 10,
              "solidity": 0.2
             }
            },
            "type": "barpolar"
           }
          ],
          "carpet": [
           {
            "aaxis": {
             "endlinecolor": "#2a3f5f",
             "gridcolor": "white",
             "linecolor": "white",
             "minorgridcolor": "white",
             "startlinecolor": "#2a3f5f"
            },
            "baxis": {
             "endlinecolor": "#2a3f5f",
             "gridcolor": "white",
             "linecolor": "white",
             "minorgridcolor": "white",
             "startlinecolor": "#2a3f5f"
            },
            "type": "carpet"
           }
          ],
          "choropleth": [
           {
            "colorbar": {
             "outlinewidth": 0,
             "ticks": ""
            },
            "type": "choropleth"
           }
          ],
          "contour": [
           {
            "colorbar": {
             "outlinewidth": 0,
             "ticks": ""
            },
            "colorscale": [
             [
              0,
              "#0d0887"
             ],
             [
              0.1111111111111111,
              "#46039f"
             ],
             [
              0.2222222222222222,
              "#7201a8"
             ],
             [
              0.3333333333333333,
              "#9c179e"
             ],
             [
              0.4444444444444444,
              "#bd3786"
             ],
             [
              0.5555555555555556,
              "#d8576b"
             ],
             [
              0.6666666666666666,
              "#ed7953"
             ],
             [
              0.7777777777777778,
              "#fb9f3a"
             ],
             [
              0.8888888888888888,
              "#fdca26"
             ],
             [
              1,
              "#f0f921"
             ]
            ],
            "type": "contour"
           }
          ],
          "contourcarpet": [
           {
            "colorbar": {
             "outlinewidth": 0,
             "ticks": ""
            },
            "type": "contourcarpet"
           }
          ],
          "heatmap": [
           {
            "colorbar": {
             "outlinewidth": 0,
             "ticks": ""
            },
            "colorscale": [
             [
              0,
              "#0d0887"
             ],
             [
              0.1111111111111111,
              "#46039f"
             ],
             [
              0.2222222222222222,
              "#7201a8"
             ],
             [
              0.3333333333333333,
              "#9c179e"
             ],
             [
              0.4444444444444444,
              "#bd3786"
             ],
             [
              0.5555555555555556,
              "#d8576b"
             ],
             [
              0.6666666666666666,
              "#ed7953"
             ],
             [
              0.7777777777777778,
              "#fb9f3a"
             ],
             [
              0.8888888888888888,
              "#fdca26"
             ],
             [
              1,
              "#f0f921"
             ]
            ],
            "type": "heatmap"
           }
          ],
          "heatmapgl": [
           {
            "colorbar": {
             "outlinewidth": 0,
             "ticks": ""
            },
            "colorscale": [
             [
              0,
              "#0d0887"
             ],
             [
              0.1111111111111111,
              "#46039f"
             ],
             [
              0.2222222222222222,
              "#7201a8"
             ],
             [
              0.3333333333333333,
              "#9c179e"
             ],
             [
              0.4444444444444444,
              "#bd3786"
             ],
             [
              0.5555555555555556,
              "#d8576b"
             ],
             [
              0.6666666666666666,
              "#ed7953"
             ],
             [
              0.7777777777777778,
              "#fb9f3a"
             ],
             [
              0.8888888888888888,
              "#fdca26"
             ],
             [
              1,
              "#f0f921"
             ]
            ],
            "type": "heatmapgl"
           }
          ],
          "histogram": [
           {
            "marker": {
             "pattern": {
              "fillmode": "overlay",
              "size": 10,
              "solidity": 0.2
             }
            },
            "type": "histogram"
           }
          ],
          "histogram2d": [
           {
            "colorbar": {
             "outlinewidth": 0,
             "ticks": ""
            },
            "colorscale": [
             [
              0,
              "#0d0887"
             ],
             [
              0.1111111111111111,
              "#46039f"
             ],
             [
              0.2222222222222222,
              "#7201a8"
             ],
             [
              0.3333333333333333,
              "#9c179e"
             ],
             [
              0.4444444444444444,
              "#bd3786"
             ],
             [
              0.5555555555555556,
              "#d8576b"
             ],
             [
              0.6666666666666666,
              "#ed7953"
             ],
             [
              0.7777777777777778,
              "#fb9f3a"
             ],
             [
              0.8888888888888888,
              "#fdca26"
             ],
             [
              1,
              "#f0f921"
             ]
            ],
            "type": "histogram2d"
           }
          ],
          "histogram2dcontour": [
           {
            "colorbar": {
             "outlinewidth": 0,
             "ticks": ""
            },
            "colorscale": [
             [
              0,
              "#0d0887"
             ],
             [
              0.1111111111111111,
              "#46039f"
             ],
             [
              0.2222222222222222,
              "#7201a8"
             ],
             [
              0.3333333333333333,
              "#9c179e"
             ],
             [
              0.4444444444444444,
              "#bd3786"
             ],
             [
              0.5555555555555556,
              "#d8576b"
             ],
             [
              0.6666666666666666,
              "#ed7953"
             ],
             [
              0.7777777777777778,
              "#fb9f3a"
             ],
             [
              0.8888888888888888,
              "#fdca26"
             ],
             [
              1,
              "#f0f921"
             ]
            ],
            "type": "histogram2dcontour"
           }
          ],
          "mesh3d": [
           {
            "colorbar": {
             "outlinewidth": 0,
             "ticks": ""
            },
            "type": "mesh3d"
           }
          ],
          "parcoords": [
           {
            "line": {
             "colorbar": {
              "outlinewidth": 0,
              "ticks": ""
             }
            },
            "type": "parcoords"
           }
          ],
          "pie": [
           {
            "automargin": true,
            "type": "pie"
           }
          ],
          "scatter": [
           {
            "fillpattern": {
             "fillmode": "overlay",
             "size": 10,
             "solidity": 0.2
            },
            "type": "scatter"
           }
          ],
          "scatter3d": [
           {
            "line": {
             "colorbar": {
              "outlinewidth": 0,
              "ticks": ""
             }
            },
            "marker": {
             "colorbar": {
              "outlinewidth": 0,
              "ticks": ""
             }
            },
            "type": "scatter3d"
           }
          ],
          "scattercarpet": [
           {
            "marker": {
             "colorbar": {
              "outlinewidth": 0,
              "ticks": ""
             }
            },
            "type": "scattercarpet"
           }
          ],
          "scattergeo": [
           {
            "marker": {
             "colorbar": {
              "outlinewidth": 0,
              "ticks": ""
             }
            },
            "type": "scattergeo"
           }
          ],
          "scattergl": [
           {
            "marker": {
             "colorbar": {
              "outlinewidth": 0,
              "ticks": ""
             }
            },
            "type": "scattergl"
           }
          ],
          "scattermapbox": [
           {
            "marker": {
             "colorbar": {
              "outlinewidth": 0,
              "ticks": ""
             }
            },
            "type": "scattermapbox"
           }
          ],
          "scatterpolar": [
           {
            "marker": {
             "colorbar": {
              "outlinewidth": 0,
              "ticks": ""
             }
            },
            "type": "scatterpolar"
           }
          ],
          "scatterpolargl": [
           {
            "marker": {
             "colorbar": {
              "outlinewidth": 0,
              "ticks": ""
             }
            },
            "type": "scatterpolargl"
           }
          ],
          "scatterternary": [
           {
            "marker": {
             "colorbar": {
              "outlinewidth": 0,
              "ticks": ""
             }
            },
            "type": "scatterternary"
           }
          ],
          "surface": [
           {
            "colorbar": {
             "outlinewidth": 0,
             "ticks": ""
            },
            "colorscale": [
             [
              0,
              "#0d0887"
             ],
             [
              0.1111111111111111,
              "#46039f"
             ],
             [
              0.2222222222222222,
              "#7201a8"
             ],
             [
              0.3333333333333333,
              "#9c179e"
             ],
             [
              0.4444444444444444,
              "#bd3786"
             ],
             [
              0.5555555555555556,
              "#d8576b"
             ],
             [
              0.6666666666666666,
              "#ed7953"
             ],
             [
              0.7777777777777778,
              "#fb9f3a"
             ],
             [
              0.8888888888888888,
              "#fdca26"
             ],
             [
              1,
              "#f0f921"
             ]
            ],
            "type": "surface"
           }
          ],
          "table": [
           {
            "cells": {
             "fill": {
              "color": "#EBF0F8"
             },
             "line": {
              "color": "white"
             }
            },
            "header": {
             "fill": {
              "color": "#C8D4E3"
             },
             "line": {
              "color": "white"
             }
            },
            "type": "table"
           }
          ]
         },
         "layout": {
          "annotationdefaults": {
           "arrowcolor": "#2a3f5f",
           "arrowhead": 0,
           "arrowwidth": 1
          },
          "autotypenumbers": "strict",
          "coloraxis": {
           "colorbar": {
            "outlinewidth": 0,
            "ticks": ""
           }
          },
          "colorscale": {
           "diverging": [
            [
             0,
             "#8e0152"
            ],
            [
             0.1,
             "#c51b7d"
            ],
            [
             0.2,
             "#de77ae"
            ],
            [
             0.3,
             "#f1b6da"
            ],
            [
             0.4,
             "#fde0ef"
            ],
            [
             0.5,
             "#f7f7f7"
            ],
            [
             0.6,
             "#e6f5d0"
            ],
            [
             0.7,
             "#b8e186"
            ],
            [
             0.8,
             "#7fbc41"
            ],
            [
             0.9,
             "#4d9221"
            ],
            [
             1,
             "#276419"
            ]
           ],
           "sequential": [
            [
             0,
             "#0d0887"
            ],
            [
             0.1111111111111111,
             "#46039f"
            ],
            [
             0.2222222222222222,
             "#7201a8"
            ],
            [
             0.3333333333333333,
             "#9c179e"
            ],
            [
             0.4444444444444444,
             "#bd3786"
            ],
            [
             0.5555555555555556,
             "#d8576b"
            ],
            [
             0.6666666666666666,
             "#ed7953"
            ],
            [
             0.7777777777777778,
             "#fb9f3a"
            ],
            [
             0.8888888888888888,
             "#fdca26"
            ],
            [
             1,
             "#f0f921"
            ]
           ],
           "sequentialminus": [
            [
             0,
             "#0d0887"
            ],
            [
             0.1111111111111111,
             "#46039f"
            ],
            [
             0.2222222222222222,
             "#7201a8"
            ],
            [
             0.3333333333333333,
             "#9c179e"
            ],
            [
             0.4444444444444444,
             "#bd3786"
            ],
            [
             0.5555555555555556,
             "#d8576b"
            ],
            [
             0.6666666666666666,
             "#ed7953"
            ],
            [
             0.7777777777777778,
             "#fb9f3a"
            ],
            [
             0.8888888888888888,
             "#fdca26"
            ],
            [
             1,
             "#f0f921"
            ]
           ]
          },
          "colorway": [
           "#636efa",
           "#EF553B",
           "#00cc96",
           "#ab63fa",
           "#FFA15A",
           "#19d3f3",
           "#FF6692",
           "#B6E880",
           "#FF97FF",
           "#FECB52"
          ],
          "font": {
           "color": "#2a3f5f"
          },
          "geo": {
           "bgcolor": "white",
           "lakecolor": "white",
           "landcolor": "#E5ECF6",
           "showlakes": true,
           "showland": true,
           "subunitcolor": "white"
          },
          "hoverlabel": {
           "align": "left"
          },
          "hovermode": "closest",
          "mapbox": {
           "style": "light"
          },
          "paper_bgcolor": "white",
          "plot_bgcolor": "#E5ECF6",
          "polar": {
           "angularaxis": {
            "gridcolor": "white",
            "linecolor": "white",
            "ticks": ""
           },
           "bgcolor": "#E5ECF6",
           "radialaxis": {
            "gridcolor": "white",
            "linecolor": "white",
            "ticks": ""
           }
          },
          "scene": {
           "xaxis": {
            "backgroundcolor": "#E5ECF6",
            "gridcolor": "white",
            "gridwidth": 2,
            "linecolor": "white",
            "showbackground": true,
            "ticks": "",
            "zerolinecolor": "white"
           },
           "yaxis": {
            "backgroundcolor": "#E5ECF6",
            "gridcolor": "white",
            "gridwidth": 2,
            "linecolor": "white",
            "showbackground": true,
            "ticks": "",
            "zerolinecolor": "white"
           },
           "zaxis": {
            "backgroundcolor": "#E5ECF6",
            "gridcolor": "white",
            "gridwidth": 2,
            "linecolor": "white",
            "showbackground": true,
            "ticks": "",
            "zerolinecolor": "white"
           }
          },
          "shapedefaults": {
           "line": {
            "color": "#2a3f5f"
           }
          },
          "ternary": {
           "aaxis": {
            "gridcolor": "white",
            "linecolor": "white",
            "ticks": ""
           },
           "baxis": {
            "gridcolor": "white",
            "linecolor": "white",
            "ticks": ""
           },
           "bgcolor": "#E5ECF6",
           "caxis": {
            "gridcolor": "white",
            "linecolor": "white",
            "ticks": ""
           }
          },
          "title": {
           "x": 0.05
          },
          "xaxis": {
           "automargin": true,
           "gridcolor": "white",
           "linecolor": "white",
           "ticks": "",
           "title": {
            "standoff": 15
           },
           "zerolinecolor": "white",
           "zerolinewidth": 2
          },
          "yaxis": {
           "automargin": true,
           "gridcolor": "white",
           "linecolor": "white",
           "ticks": "",
           "title": {
            "standoff": 15
           },
           "zerolinecolor": "white",
           "zerolinewidth": 2
          }
         }
        },
        "title": {
         "text": "titanic, variable Age, split by dist_weight"
        },
        "xaxis": {
         "anchor": "y",
         "domain": [
          0,
          1
         ],
         "title": {
          "text": "split variable"
         }
        },
        "yaxis": {
         "anchor": "x",
         "domain": [
          0,
          1
         ],
         "title": {
          "text": "rho"
         }
        }
       }
      }
     },
     "metadata": {},
     "output_type": "display_data"
    },
    {
     "data": {
      "application/vnd.plotly.v1+json": {
       "config": {
        "plotlyServerURL": "https://plot.ly"
       },
       "data": [
        {
         "alignmentgroup": "True",
         "hovertemplate": "explanation=ale<br>split variable=%{x}<br>rho=%{y}<extra></extra>",
         "legendgroup": "ale",
         "marker": {
          "color": "#636efa"
         },
         "name": "ale",
         "notched": false,
         "offsetgroup": "ale",
         "orientation": "v",
         "quartilemethod": "exclusive",
         "showlegend": true,
         "type": "box",
         "x": [
          "dist_weight 0.0",
          "dist_weight 0.0",
          "dist_weight 0.0",
          "dist_weight 0.0",
          "dist_weight 0.0",
          "dist_weight 0.0",
          "dist_weight 0.0",
          "dist_weight 0.0",
          "dist_weight 0.0",
          "dist_weight 0.0",
          "dist_weight 0.0",
          "dist_weight 0.0",
          "dist_weight 0.0",
          "dist_weight 0.0",
          "dist_weight 0.0",
          "dist_weight 0.0",
          "dist_weight 0.0",
          "dist_weight 0.0",
          "dist_weight 0.001",
          "dist_weight 0.001",
          "dist_weight 0.001",
          "dist_weight 0.001",
          "dist_weight 0.001",
          "dist_weight 0.001",
          "dist_weight 0.001",
          "dist_weight 0.001",
          "dist_weight 0.001",
          "dist_weight 0.001",
          "dist_weight 0.001",
          "dist_weight 0.001",
          "dist_weight 0.001",
          "dist_weight 0.001",
          "dist_weight 0.001",
          "dist_weight 0.001",
          "dist_weight 0.001",
          "dist_weight 0.001",
          "dist_weight 0.01",
          "dist_weight 0.01",
          "dist_weight 0.01",
          "dist_weight 0.01",
          "dist_weight 0.01",
          "dist_weight 0.01",
          "dist_weight 0.01",
          "dist_weight 0.01",
          "dist_weight 0.01",
          "dist_weight 0.01",
          "dist_weight 0.01",
          "dist_weight 0.01",
          "dist_weight 0.01",
          "dist_weight 0.01",
          "dist_weight 0.01",
          "dist_weight 0.01",
          "dist_weight 0.01",
          "dist_weight 0.01",
          "dist_weight 0.1",
          "dist_weight 0.1",
          "dist_weight 0.1",
          "dist_weight 0.1",
          "dist_weight 0.1",
          "dist_weight 0.1",
          "dist_weight 0.1",
          "dist_weight 0.1",
          "dist_weight 0.1",
          "dist_weight 0.1",
          "dist_weight 0.1",
          "dist_weight 0.1",
          "dist_weight 0.1",
          "dist_weight 0.1",
          "dist_weight 0.1",
          "dist_weight 0.1",
          "dist_weight 0.1",
          "dist_weight 0.1",
          "dist_weight 1.0",
          "dist_weight 1.0",
          "dist_weight 1.0",
          "dist_weight 1.0",
          "dist_weight 1.0",
          "dist_weight 1.0",
          "dist_weight 1.0",
          "dist_weight 1.0",
          "dist_weight 1.0",
          "dist_weight 1.0",
          "dist_weight 1.0",
          "dist_weight 1.0",
          "dist_weight 1.0",
          "dist_weight 1.0",
          "dist_weight 1.0",
          "dist_weight 1.0",
          "dist_weight 1.0",
          "dist_weight 1.0",
          "dist_weight 1.0"
         ],
         "x0": " ",
         "xaxis": "x",
         "y": [
          0.2722143864598025,
          0.4499294781382228,
          0.2214386459802538,
          0.0741264093695957,
          0.2214386459802538,
          0.2129760225669957,
          -0.0253878702397743,
          0.0437235543018335,
          0.2270803949224259,
          0.2722143864598025,
          0.1071932299012693,
          0.2172073342736248,
          0.3554301833568405,
          0.2411847672778561,
          0.2129760225669957,
          0.1029619181946403,
          0.2849083215796897,
          0.2214386459802538,
          0.2961918194640338,
          0.4386459802538786,
          0.2214386459802538,
          0.0719322990126939,
          0.3610719322990126,
          0.2129760225669957,
          -0.0211565585331452,
          0.0437235543018335,
          0.3568406205923836,
          0.2722143864598025,
          0.1071932299012693,
          0.2172073342736248,
          0.5712270803949223,
          0.4315937940761635,
          0.2172073342736248,
          0.1071932299012693,
          0.2849083215796897,
          0.3610719322990126,
          0.2961918194640338,
          0.4541607898448518,
          0.3610719322990126,
          0.0761636107193229,
          0.3610719322990126,
          0.3526093088857545,
          -0.0225669957686882,
          0.1833568406205923,
          0.3526093088857545,
          0.2722143864598025,
          0.2722143864598025,
          0.3568406205923836,
          0.5712270803949223,
          0.4315937940761635,
          0.3568406205923836,
          0.1114245416078984,
          0.4541607898448518,
          0.3610719322990126,
          0.2961918194640338,
          0.4964739069111424,
          0.5007052186177714,
          0.3638928067700986,
          0.3610719322990126,
          0.3526093088857545,
          0.1396332863187588,
          0.1833568406205923,
          0.5387870239774329,
          0.2722143864598025,
          0.2722143864598025,
          0.4978843441466855,
          0.5712270803949223,
          0.4386459802538786,
          0.5275035260930887,
          0.8829337094499293,
          0.5684062059238364,
          0.5049365303244006,
          0.9322990126939352,
          0.995768688293371,
          0.7700987306064879,
          0.922425952045134,
          0.8265162200282086,
          0.9915373765867416,
          0.9181946403385048,
          0.9181946403385048,
          0.9322990126939352,
          0.9322990126939352,
          0.4499294781382228,
          0.9943582510578278,
          0.7447108603667135,
          0.928067700987306,
          1,
          1,
          0.9844851904090264,
          0.6558533145275035,
          0.9181946403385048
         ],
         "y0": " ",
         "yaxis": "y"
        },
        {
         "alignmentgroup": "True",
         "hovertemplate": "explanation=pd<br>split variable=%{x}<br>rho=%{y}<extra></extra>",
         "legendgroup": "pd",
         "marker": {
          "color": "#EF553B"
         },
         "name": "pd",
         "notched": false,
         "offsetgroup": "pd",
         "orientation": "v",
         "quartilemethod": "exclusive",
         "showlegend": true,
         "type": "box",
         "x": [
          "dist_weight 0.0",
          "dist_weight 0.0",
          "dist_weight 0.0",
          "dist_weight 0.0",
          "dist_weight 0.0",
          "dist_weight 0.0",
          "dist_weight 0.0",
          "dist_weight 0.0",
          "dist_weight 0.0",
          "dist_weight 0.0",
          "dist_weight 0.0",
          "dist_weight 0.0",
          "dist_weight 0.0",
          "dist_weight 0.0",
          "dist_weight 0.0",
          "dist_weight 0.0",
          "dist_weight 0.0",
          "dist_weight 0.0",
          "dist_weight 0.001",
          "dist_weight 0.001",
          "dist_weight 0.001",
          "dist_weight 0.001",
          "dist_weight 0.001",
          "dist_weight 0.001",
          "dist_weight 0.001",
          "dist_weight 0.001",
          "dist_weight 0.001",
          "dist_weight 0.001",
          "dist_weight 0.001",
          "dist_weight 0.001",
          "dist_weight 0.001",
          "dist_weight 0.001",
          "dist_weight 0.001",
          "dist_weight 0.001",
          "dist_weight 0.001",
          "dist_weight 0.001",
          "dist_weight 0.01",
          "dist_weight 0.01",
          "dist_weight 0.01",
          "dist_weight 0.01",
          "dist_weight 0.01",
          "dist_weight 0.01",
          "dist_weight 0.01",
          "dist_weight 0.01",
          "dist_weight 0.01",
          "dist_weight 0.01",
          "dist_weight 0.01",
          "dist_weight 0.01",
          "dist_weight 0.01",
          "dist_weight 0.01",
          "dist_weight 0.01",
          "dist_weight 0.01",
          "dist_weight 0.01",
          "dist_weight 0.01",
          "dist_weight 0.1",
          "dist_weight 0.1",
          "dist_weight 0.1",
          "dist_weight 0.1",
          "dist_weight 0.1",
          "dist_weight 0.1",
          "dist_weight 0.1",
          "dist_weight 0.1",
          "dist_weight 0.1",
          "dist_weight 0.1",
          "dist_weight 0.1",
          "dist_weight 0.1",
          "dist_weight 0.1",
          "dist_weight 0.1",
          "dist_weight 0.1",
          "dist_weight 0.1",
          "dist_weight 0.1",
          "dist_weight 0.1",
          "dist_weight 1.0",
          "dist_weight 1.0",
          "dist_weight 1.0",
          "dist_weight 1.0",
          "dist_weight 1.0",
          "dist_weight 1.0",
          "dist_weight 1.0",
          "dist_weight 1.0",
          "dist_weight 1.0",
          "dist_weight 1.0",
          "dist_weight 1.0",
          "dist_weight 1.0",
          "dist_weight 1.0",
          "dist_weight 1.0",
          "dist_weight 1.0",
          "dist_weight 1.0",
          "dist_weight 1.0",
          "dist_weight 1.0",
          "dist_weight 1.0"
         ],
         "x0": " ",
         "xaxis": "x",
         "y": [
          -0.9389610389610388,
          -0.9545454545454546,
          -0.9818181818181818,
          -0.996103896103896,
          -1,
          -0.9415584415584416,
          -1,
          -1,
          -0.9948051948051948,
          -1,
          -1,
          -0.9779220779220776,
          -1,
          -0.9831168831168832,
          -0.9623376623376624,
          -0.9831168831168832,
          -0.9909090909090909,
          -0.9831168831168832,
          -0.9545454545454546,
          -0.916883116883117,
          -0.9623376623376624,
          -0.9831168831168832,
          -0.9948051948051948,
          -0.8883116883116883,
          -0.9974025974025976,
          -0.9922077922077924,
          -0.7922077922077921,
          -1,
          -1,
          -0.961038961038961,
          -0.9831168831168832,
          -0.9688311688311688,
          -0.8610389610389609,
          -0.9818181818181818,
          -0.974025974025974,
          -0.944155844155844,
          -0.8948051948051948,
          -0.8441558441558441,
          -0.8285714285714286,
          -0.9064935064935064,
          -0.8688311688311688,
          -0.8077922077922077,
          -0.9285714285714284,
          -0.8298701298701299,
          -0.764935064935065,
          -0.8688311688311688,
          -0.8974025974025974,
          -0.8324675324675326,
          -0.7883116883116883,
          -0.7753246753246753,
          -0.803896103896104,
          -0.890909090909091,
          -0.8311688311688311,
          -0.8415584415584414,
          0.0558441558441558,
          -0.1233766233766233,
          -0.2441558441558441,
          0.1298701298701298,
          0.135064935064935,
          -0.2584415584415584,
          -0.0467532467532467,
          0.1337662337662337,
          -0.4129870129870129,
          0.4974025974025974,
          0.1233766233766233,
          -0.4077922077922078,
          0.9389610389610388,
          0.2701298701298701,
          -0.5558441558441559,
          0.2454545454545454,
          -0.1168831168831168,
          -0.4532467532467532,
          0.9987012987012988,
          0.9870129870129868,
          1,
          1,
          1,
          1,
          1,
          1,
          1,
          1,
          1,
          1,
          1,
          1,
          1,
          1,
          0.9792207792207792,
          1,
          1
         ],
         "y0": " ",
         "yaxis": "y"
        }
       ],
       "layout": {
        "boxmode": "group",
        "legend": {
         "title": {
          "text": "explanation"
         },
         "tracegroupgap": 0
        },
        "template": {
         "data": {
          "bar": [
           {
            "error_x": {
             "color": "#2a3f5f"
            },
            "error_y": {
             "color": "#2a3f5f"
            },
            "marker": {
             "line": {
              "color": "#E5ECF6",
              "width": 0.5
             },
             "pattern": {
              "fillmode": "overlay",
              "size": 10,
              "solidity": 0.2
             }
            },
            "type": "bar"
           }
          ],
          "barpolar": [
           {
            "marker": {
             "line": {
              "color": "#E5ECF6",
              "width": 0.5
             },
             "pattern": {
              "fillmode": "overlay",
              "size": 10,
              "solidity": 0.2
             }
            },
            "type": "barpolar"
           }
          ],
          "carpet": [
           {
            "aaxis": {
             "endlinecolor": "#2a3f5f",
             "gridcolor": "white",
             "linecolor": "white",
             "minorgridcolor": "white",
             "startlinecolor": "#2a3f5f"
            },
            "baxis": {
             "endlinecolor": "#2a3f5f",
             "gridcolor": "white",
             "linecolor": "white",
             "minorgridcolor": "white",
             "startlinecolor": "#2a3f5f"
            },
            "type": "carpet"
           }
          ],
          "choropleth": [
           {
            "colorbar": {
             "outlinewidth": 0,
             "ticks": ""
            },
            "type": "choropleth"
           }
          ],
          "contour": [
           {
            "colorbar": {
             "outlinewidth": 0,
             "ticks": ""
            },
            "colorscale": [
             [
              0,
              "#0d0887"
             ],
             [
              0.1111111111111111,
              "#46039f"
             ],
             [
              0.2222222222222222,
              "#7201a8"
             ],
             [
              0.3333333333333333,
              "#9c179e"
             ],
             [
              0.4444444444444444,
              "#bd3786"
             ],
             [
              0.5555555555555556,
              "#d8576b"
             ],
             [
              0.6666666666666666,
              "#ed7953"
             ],
             [
              0.7777777777777778,
              "#fb9f3a"
             ],
             [
              0.8888888888888888,
              "#fdca26"
             ],
             [
              1,
              "#f0f921"
             ]
            ],
            "type": "contour"
           }
          ],
          "contourcarpet": [
           {
            "colorbar": {
             "outlinewidth": 0,
             "ticks": ""
            },
            "type": "contourcarpet"
           }
          ],
          "heatmap": [
           {
            "colorbar": {
             "outlinewidth": 0,
             "ticks": ""
            },
            "colorscale": [
             [
              0,
              "#0d0887"
             ],
             [
              0.1111111111111111,
              "#46039f"
             ],
             [
              0.2222222222222222,
              "#7201a8"
             ],
             [
              0.3333333333333333,
              "#9c179e"
             ],
             [
              0.4444444444444444,
              "#bd3786"
             ],
             [
              0.5555555555555556,
              "#d8576b"
             ],
             [
              0.6666666666666666,
              "#ed7953"
             ],
             [
              0.7777777777777778,
              "#fb9f3a"
             ],
             [
              0.8888888888888888,
              "#fdca26"
             ],
             [
              1,
              "#f0f921"
             ]
            ],
            "type": "heatmap"
           }
          ],
          "heatmapgl": [
           {
            "colorbar": {
             "outlinewidth": 0,
             "ticks": ""
            },
            "colorscale": [
             [
              0,
              "#0d0887"
             ],
             [
              0.1111111111111111,
              "#46039f"
             ],
             [
              0.2222222222222222,
              "#7201a8"
             ],
             [
              0.3333333333333333,
              "#9c179e"
             ],
             [
              0.4444444444444444,
              "#bd3786"
             ],
             [
              0.5555555555555556,
              "#d8576b"
             ],
             [
              0.6666666666666666,
              "#ed7953"
             ],
             [
              0.7777777777777778,
              "#fb9f3a"
             ],
             [
              0.8888888888888888,
              "#fdca26"
             ],
             [
              1,
              "#f0f921"
             ]
            ],
            "type": "heatmapgl"
           }
          ],
          "histogram": [
           {
            "marker": {
             "pattern": {
              "fillmode": "overlay",
              "size": 10,
              "solidity": 0.2
             }
            },
            "type": "histogram"
           }
          ],
          "histogram2d": [
           {
            "colorbar": {
             "outlinewidth": 0,
             "ticks": ""
            },
            "colorscale": [
             [
              0,
              "#0d0887"
             ],
             [
              0.1111111111111111,
              "#46039f"
             ],
             [
              0.2222222222222222,
              "#7201a8"
             ],
             [
              0.3333333333333333,
              "#9c179e"
             ],
             [
              0.4444444444444444,
              "#bd3786"
             ],
             [
              0.5555555555555556,
              "#d8576b"
             ],
             [
              0.6666666666666666,
              "#ed7953"
             ],
             [
              0.7777777777777778,
              "#fb9f3a"
             ],
             [
              0.8888888888888888,
              "#fdca26"
             ],
             [
              1,
              "#f0f921"
             ]
            ],
            "type": "histogram2d"
           }
          ],
          "histogram2dcontour": [
           {
            "colorbar": {
             "outlinewidth": 0,
             "ticks": ""
            },
            "colorscale": [
             [
              0,
              "#0d0887"
             ],
             [
              0.1111111111111111,
              "#46039f"
             ],
             [
              0.2222222222222222,
              "#7201a8"
             ],
             [
              0.3333333333333333,
              "#9c179e"
             ],
             [
              0.4444444444444444,
              "#bd3786"
             ],
             [
              0.5555555555555556,
              "#d8576b"
             ],
             [
              0.6666666666666666,
              "#ed7953"
             ],
             [
              0.7777777777777778,
              "#fb9f3a"
             ],
             [
              0.8888888888888888,
              "#fdca26"
             ],
             [
              1,
              "#f0f921"
             ]
            ],
            "type": "histogram2dcontour"
           }
          ],
          "mesh3d": [
           {
            "colorbar": {
             "outlinewidth": 0,
             "ticks": ""
            },
            "type": "mesh3d"
           }
          ],
          "parcoords": [
           {
            "line": {
             "colorbar": {
              "outlinewidth": 0,
              "ticks": ""
             }
            },
            "type": "parcoords"
           }
          ],
          "pie": [
           {
            "automargin": true,
            "type": "pie"
           }
          ],
          "scatter": [
           {
            "fillpattern": {
             "fillmode": "overlay",
             "size": 10,
             "solidity": 0.2
            },
            "type": "scatter"
           }
          ],
          "scatter3d": [
           {
            "line": {
             "colorbar": {
              "outlinewidth": 0,
              "ticks": ""
             }
            },
            "marker": {
             "colorbar": {
              "outlinewidth": 0,
              "ticks": ""
             }
            },
            "type": "scatter3d"
           }
          ],
          "scattercarpet": [
           {
            "marker": {
             "colorbar": {
              "outlinewidth": 0,
              "ticks": ""
             }
            },
            "type": "scattercarpet"
           }
          ],
          "scattergeo": [
           {
            "marker": {
             "colorbar": {
              "outlinewidth": 0,
              "ticks": ""
             }
            },
            "type": "scattergeo"
           }
          ],
          "scattergl": [
           {
            "marker": {
             "colorbar": {
              "outlinewidth": 0,
              "ticks": ""
             }
            },
            "type": "scattergl"
           }
          ],
          "scattermapbox": [
           {
            "marker": {
             "colorbar": {
              "outlinewidth": 0,
              "ticks": ""
             }
            },
            "type": "scattermapbox"
           }
          ],
          "scatterpolar": [
           {
            "marker": {
             "colorbar": {
              "outlinewidth": 0,
              "ticks": ""
             }
            },
            "type": "scatterpolar"
           }
          ],
          "scatterpolargl": [
           {
            "marker": {
             "colorbar": {
              "outlinewidth": 0,
              "ticks": ""
             }
            },
            "type": "scatterpolargl"
           }
          ],
          "scatterternary": [
           {
            "marker": {
             "colorbar": {
              "outlinewidth": 0,
              "ticks": ""
             }
            },
            "type": "scatterternary"
           }
          ],
          "surface": [
           {
            "colorbar": {
             "outlinewidth": 0,
             "ticks": ""
            },
            "colorscale": [
             [
              0,
              "#0d0887"
             ],
             [
              0.1111111111111111,
              "#46039f"
             ],
             [
              0.2222222222222222,
              "#7201a8"
             ],
             [
              0.3333333333333333,
              "#9c179e"
             ],
             [
              0.4444444444444444,
              "#bd3786"
             ],
             [
              0.5555555555555556,
              "#d8576b"
             ],
             [
              0.6666666666666666,
              "#ed7953"
             ],
             [
              0.7777777777777778,
              "#fb9f3a"
             ],
             [
              0.8888888888888888,
              "#fdca26"
             ],
             [
              1,
              "#f0f921"
             ]
            ],
            "type": "surface"
           }
          ],
          "table": [
           {
            "cells": {
             "fill": {
              "color": "#EBF0F8"
             },
             "line": {
              "color": "white"
             }
            },
            "header": {
             "fill": {
              "color": "#C8D4E3"
             },
             "line": {
              "color": "white"
             }
            },
            "type": "table"
           }
          ]
         },
         "layout": {
          "annotationdefaults": {
           "arrowcolor": "#2a3f5f",
           "arrowhead": 0,
           "arrowwidth": 1
          },
          "autotypenumbers": "strict",
          "coloraxis": {
           "colorbar": {
            "outlinewidth": 0,
            "ticks": ""
           }
          },
          "colorscale": {
           "diverging": [
            [
             0,
             "#8e0152"
            ],
            [
             0.1,
             "#c51b7d"
            ],
            [
             0.2,
             "#de77ae"
            ],
            [
             0.3,
             "#f1b6da"
            ],
            [
             0.4,
             "#fde0ef"
            ],
            [
             0.5,
             "#f7f7f7"
            ],
            [
             0.6,
             "#e6f5d0"
            ],
            [
             0.7,
             "#b8e186"
            ],
            [
             0.8,
             "#7fbc41"
            ],
            [
             0.9,
             "#4d9221"
            ],
            [
             1,
             "#276419"
            ]
           ],
           "sequential": [
            [
             0,
             "#0d0887"
            ],
            [
             0.1111111111111111,
             "#46039f"
            ],
            [
             0.2222222222222222,
             "#7201a8"
            ],
            [
             0.3333333333333333,
             "#9c179e"
            ],
            [
             0.4444444444444444,
             "#bd3786"
            ],
            [
             0.5555555555555556,
             "#d8576b"
            ],
            [
             0.6666666666666666,
             "#ed7953"
            ],
            [
             0.7777777777777778,
             "#fb9f3a"
            ],
            [
             0.8888888888888888,
             "#fdca26"
            ],
            [
             1,
             "#f0f921"
            ]
           ],
           "sequentialminus": [
            [
             0,
             "#0d0887"
            ],
            [
             0.1111111111111111,
             "#46039f"
            ],
            [
             0.2222222222222222,
             "#7201a8"
            ],
            [
             0.3333333333333333,
             "#9c179e"
            ],
            [
             0.4444444444444444,
             "#bd3786"
            ],
            [
             0.5555555555555556,
             "#d8576b"
            ],
            [
             0.6666666666666666,
             "#ed7953"
            ],
            [
             0.7777777777777778,
             "#fb9f3a"
            ],
            [
             0.8888888888888888,
             "#fdca26"
            ],
            [
             1,
             "#f0f921"
            ]
           ]
          },
          "colorway": [
           "#636efa",
           "#EF553B",
           "#00cc96",
           "#ab63fa",
           "#FFA15A",
           "#19d3f3",
           "#FF6692",
           "#B6E880",
           "#FF97FF",
           "#FECB52"
          ],
          "font": {
           "color": "#2a3f5f"
          },
          "geo": {
           "bgcolor": "white",
           "lakecolor": "white",
           "landcolor": "#E5ECF6",
           "showlakes": true,
           "showland": true,
           "subunitcolor": "white"
          },
          "hoverlabel": {
           "align": "left"
          },
          "hovermode": "closest",
          "mapbox": {
           "style": "light"
          },
          "paper_bgcolor": "white",
          "plot_bgcolor": "#E5ECF6",
          "polar": {
           "angularaxis": {
            "gridcolor": "white",
            "linecolor": "white",
            "ticks": ""
           },
           "bgcolor": "#E5ECF6",
           "radialaxis": {
            "gridcolor": "white",
            "linecolor": "white",
            "ticks": ""
           }
          },
          "scene": {
           "xaxis": {
            "backgroundcolor": "#E5ECF6",
            "gridcolor": "white",
            "gridwidth": 2,
            "linecolor": "white",
            "showbackground": true,
            "ticks": "",
            "zerolinecolor": "white"
           },
           "yaxis": {
            "backgroundcolor": "#E5ECF6",
            "gridcolor": "white",
            "gridwidth": 2,
            "linecolor": "white",
            "showbackground": true,
            "ticks": "",
            "zerolinecolor": "white"
           },
           "zaxis": {
            "backgroundcolor": "#E5ECF6",
            "gridcolor": "white",
            "gridwidth": 2,
            "linecolor": "white",
            "showbackground": true,
            "ticks": "",
            "zerolinecolor": "white"
           }
          },
          "shapedefaults": {
           "line": {
            "color": "#2a3f5f"
           }
          },
          "ternary": {
           "aaxis": {
            "gridcolor": "white",
            "linecolor": "white",
            "ticks": ""
           },
           "baxis": {
            "gridcolor": "white",
            "linecolor": "white",
            "ticks": ""
           },
           "bgcolor": "#E5ECF6",
           "caxis": {
            "gridcolor": "white",
            "linecolor": "white",
            "ticks": ""
           }
          },
          "title": {
           "x": 0.05
          },
          "xaxis": {
           "automargin": true,
           "gridcolor": "white",
           "linecolor": "white",
           "ticks": "",
           "title": {
            "standoff": 15
           },
           "zerolinecolor": "white",
           "zerolinewidth": 2
          },
          "yaxis": {
           "automargin": true,
           "gridcolor": "white",
           "linecolor": "white",
           "ticks": "",
           "title": {
            "standoff": 15
           },
           "zerolinecolor": "white",
           "zerolinewidth": 2
          }
         }
        },
        "title": {
         "text": "titanic, variable Fare, split by dist_weight"
        },
        "xaxis": {
         "anchor": "y",
         "domain": [
          0,
          1
         ],
         "title": {
          "text": "split variable"
         }
        },
        "yaxis": {
         "anchor": "x",
         "domain": [
          0,
          1
         ],
         "title": {
          "text": "rho"
         }
        }
       }
      }
     },
     "metadata": {},
     "output_type": "display_data"
    },
    {
     "data": {
      "application/vnd.plotly.v1+json": {
       "config": {
        "plotlyServerURL": "https://plot.ly"
       },
       "data": [
        {
         "alignmentgroup": "True",
         "hovertemplate": "explanation=ale<br>split variable=%{x}<br>rho=%{y}<extra></extra>",
         "legendgroup": "ale",
         "marker": {
          "color": "#636efa"
         },
         "name": "ale",
         "notched": false,
         "offsetgroup": "ale",
         "orientation": "v",
         "quartilemethod": "exclusive",
         "showlegend": true,
         "type": "box",
         "x": [
          "dist_weight 0.0",
          "dist_weight 0.0",
          "dist_weight 0.0",
          "dist_weight 0.0",
          "dist_weight 0.0",
          "dist_weight 0.0",
          "dist_weight 0.0",
          "dist_weight 0.0",
          "dist_weight 0.0",
          "dist_weight 0.0",
          "dist_weight 0.0",
          "dist_weight 0.0",
          "dist_weight 0.0",
          "dist_weight 0.0",
          "dist_weight 0.0",
          "dist_weight 0.0",
          "dist_weight 0.0",
          "dist_weight 0.0",
          "dist_weight 0.0",
          "dist_weight 0.001",
          "dist_weight 0.001",
          "dist_weight 0.001",
          "dist_weight 0.001",
          "dist_weight 0.001",
          "dist_weight 0.001",
          "dist_weight 0.001",
          "dist_weight 0.001",
          "dist_weight 0.001",
          "dist_weight 0.001",
          "dist_weight 0.001",
          "dist_weight 0.001",
          "dist_weight 0.001",
          "dist_weight 0.001",
          "dist_weight 0.001",
          "dist_weight 0.001",
          "dist_weight 0.001",
          "dist_weight 0.001",
          "dist_weight 0.01",
          "dist_weight 0.01",
          "dist_weight 0.01",
          "dist_weight 0.01",
          "dist_weight 0.01",
          "dist_weight 0.01",
          "dist_weight 0.01",
          "dist_weight 0.01",
          "dist_weight 0.01",
          "dist_weight 0.01",
          "dist_weight 0.01",
          "dist_weight 0.01",
          "dist_weight 0.01",
          "dist_weight 0.01",
          "dist_weight 0.01",
          "dist_weight 0.01",
          "dist_weight 0.01",
          "dist_weight 0.01",
          "dist_weight 0.1",
          "dist_weight 0.1",
          "dist_weight 0.1",
          "dist_weight 0.1",
          "dist_weight 0.1",
          "dist_weight 0.1",
          "dist_weight 0.1",
          "dist_weight 0.1",
          "dist_weight 0.1",
          "dist_weight 0.1",
          "dist_weight 0.1",
          "dist_weight 0.1",
          "dist_weight 0.1",
          "dist_weight 0.1",
          "dist_weight 0.1",
          "dist_weight 0.1",
          "dist_weight 0.1",
          "dist_weight 0.1",
          "dist_weight 1.0",
          "dist_weight 1.0",
          "dist_weight 1.0",
          "dist_weight 1.0",
          "dist_weight 1.0",
          "dist_weight 1.0",
          "dist_weight 1.0",
          "dist_weight 1.0",
          "dist_weight 1.0",
          "dist_weight 1.0",
          "dist_weight 1.0",
          "dist_weight 1.0",
          "dist_weight 1.0",
          "dist_weight 1.0",
          "dist_weight 1.0",
          "dist_weight 1.0",
          "dist_weight 1.0",
          "dist_weight 1.0"
         ],
         "x0": " ",
         "xaxis": "x",
         "y": [
          0.6046814044213263,
          -0.6840052015604681,
          -0.6293888166449936,
          0.6046814044213263,
          -0.8309492847854356,
          -0.8101430429128739,
          -0.52925877763329,
          -0.6814044213263979,
          -0.5487646293888166,
          -0.7581274382314694,
          -0.7126137841352406,
          -0.7178153446033809,
          0.6072821846553965,
          -0.755526657997399,
          -0.8101430429128739,
          -0.7815344603381013,
          -0.7490247074122236,
          0.3927178153446033,
          0.5331599479843953,
          -0.5253576072821846,
          0.6723016905071522,
          0.6840052015604681,
          -0.7880364109232769,
          -0.7958387516254876,
          -0.4447334200260078,
          -0.7399219765929779,
          0.8972691807542261,
          0.5994798439531859,
          -0.482444733420026,
          -0.0962288686605981,
          0.5786736020806241,
          -0.6605981794538361,
          -0.6423927178153446,
          0.6840052015604681,
          -0.6566970091027308,
          0.7919375812743823,
          0.5357607282184655,
          -0.3511053315994797,
          0.8283485045513653,
          0.7165149544863458,
          -0.7217165149544863,
          -0.6280884265279584,
          0.6840052015604681,
          -0.5851755526657997,
          0.9167750325097528,
          0.5825747724317295,
          -0.3120936280884265,
          0.741222366710013,
          0.6137841352405722,
          -0.553966189856957,
          -0.6736020806241872,
          0.6697009102730818,
          -0.3459037711313393,
          0.635890767230169,
          0.5227568270481144,
          -0.4265279583875163,
          0.9505851755526658,
          0.8465539661898569,
          -0.4512353706111833,
          -0.6306892067620286,
          -0.7126137841352406,
          -0.5487646293888166,
          0.8920676202860858,
          0.5851755526657997,
          0.2639791937581274,
          0.7906371911573472,
          0.6749024707412223,
          -0.2704811443433029,
          0.4798439531859557,
          0.7958387516254876,
          -0.0286085825747724,
          0.920676202860858,
          0.7087126137841352,
          -0.3237971391417425,
          0.0065019505851755,
          -0.460338101430429,
          -0.3693107932379714,
          0.7360208062418725,
          0.7477243172951885,
          -0.4096228868660598,
          0.9973992197659296,
          0.871261378413524,
          0.6488946684005201,
          0.5721716514954486,
          0.6605981794538361,
          0.2366710013003901,
          -0.1313394018205461,
          0.9219765929778934,
          0.976592977893368,
          0.9596879063719114,
          0.8140442132639791
         ],
         "y0": " ",
         "yaxis": "y"
        },
        {
         "alignmentgroup": "True",
         "hovertemplate": "explanation=pd<br>split variable=%{x}<br>rho=%{y}<extra></extra>",
         "legendgroup": "pd",
         "marker": {
          "color": "#EF553B"
         },
         "name": "pd",
         "notched": false,
         "offsetgroup": "pd",
         "orientation": "v",
         "quartilemethod": "exclusive",
         "showlegend": true,
         "type": "box",
         "x": [
          "dist_weight 0.0",
          "dist_weight 0.0",
          "dist_weight 0.0",
          "dist_weight 0.0",
          "dist_weight 0.0",
          "dist_weight 0.0",
          "dist_weight 0.0",
          "dist_weight 0.0",
          "dist_weight 0.0",
          "dist_weight 0.0",
          "dist_weight 0.0",
          "dist_weight 0.0",
          "dist_weight 0.0",
          "dist_weight 0.0",
          "dist_weight 0.0",
          "dist_weight 0.0",
          "dist_weight 0.0",
          "dist_weight 0.0",
          "dist_weight 0.0",
          "dist_weight 0.001",
          "dist_weight 0.001",
          "dist_weight 0.001",
          "dist_weight 0.001",
          "dist_weight 0.001",
          "dist_weight 0.001",
          "dist_weight 0.001",
          "dist_weight 0.001",
          "dist_weight 0.001",
          "dist_weight 0.001",
          "dist_weight 0.001",
          "dist_weight 0.001",
          "dist_weight 0.001",
          "dist_weight 0.001",
          "dist_weight 0.001",
          "dist_weight 0.001",
          "dist_weight 0.001",
          "dist_weight 0.001",
          "dist_weight 0.01",
          "dist_weight 0.01",
          "dist_weight 0.01",
          "dist_weight 0.01",
          "dist_weight 0.01",
          "dist_weight 0.01",
          "dist_weight 0.01",
          "dist_weight 0.01",
          "dist_weight 0.01",
          "dist_weight 0.01",
          "dist_weight 0.01",
          "dist_weight 0.01",
          "dist_weight 0.01",
          "dist_weight 0.01",
          "dist_weight 0.01",
          "dist_weight 0.01",
          "dist_weight 0.01",
          "dist_weight 0.01",
          "dist_weight 0.1",
          "dist_weight 0.1",
          "dist_weight 0.1",
          "dist_weight 0.1",
          "dist_weight 0.1",
          "dist_weight 0.1",
          "dist_weight 0.1",
          "dist_weight 0.1",
          "dist_weight 0.1",
          "dist_weight 0.1",
          "dist_weight 0.1",
          "dist_weight 0.1",
          "dist_weight 0.1",
          "dist_weight 0.1",
          "dist_weight 0.1",
          "dist_weight 0.1",
          "dist_weight 0.1",
          "dist_weight 0.1",
          "dist_weight 1.0",
          "dist_weight 1.0",
          "dist_weight 1.0",
          "dist_weight 1.0",
          "dist_weight 1.0",
          "dist_weight 1.0",
          "dist_weight 1.0",
          "dist_weight 1.0",
          "dist_weight 1.0",
          "dist_weight 1.0",
          "dist_weight 1.0",
          "dist_weight 1.0",
          "dist_weight 1.0",
          "dist_weight 1.0",
          "dist_weight 1.0",
          "dist_weight 1.0",
          "dist_weight 1.0",
          "dist_weight 1.0"
         ],
         "x0": " ",
         "xaxis": "x",
         "y": [
          -0.9974025974025976,
          -0.8454545454545455,
          -0.9727272727272728,
          -0.9974025974025976,
          -0.9194805194805192,
          -0.9987012987012988,
          -0.9584415584415584,
          -0.9844155844155844,
          -0.8974025974025974,
          -0.9870129870129868,
          -0.8597402597402597,
          -0.8662337662337661,
          -0.9844155844155844,
          -0.9532467532467532,
          -0.9064935064935064,
          -1,
          -0.7987012987012986,
          -0.9454545454545454,
          -0.9948051948051948,
          -0.6987012987012987,
          -0.8272727272727272,
          -0.961038961038961,
          -0.9116883116883115,
          -0.7415584415584415,
          -0.8376623376623376,
          -0.877922077922078,
          -0.4194805194805195,
          -0.9649350649350648,
          -0.3909090909090909,
          -0.8558441558441559,
          -0.9714285714285712,
          -0.8025974025974025,
          -0.8922077922077922,
          -0.9337662337662336,
          -0.6207792207792208,
          -0.6597402597402597,
          -0.9922077922077924,
          -0.5909090909090908,
          -0.4064935064935064,
          -0.8740259740259739,
          -0.8103896103896104,
          -0.5688311688311689,
          -0.8064935064935065,
          -0.7246753246753247,
          -0.222077922077922,
          -0.961038961038961,
          -0.1506493506493506,
          -0.638961038961039,
          -0.9662337662337662,
          -0.6571428571428571,
          -0.8168831168831169,
          -0.9246753246753248,
          -0.551948051948052,
          -0.4857142857142856,
          -0.9376623376623376,
          -0.3103896103896104,
          -0.2753246753246753,
          -0.5337662337662338,
          -0.5753246753246753,
          -0.5,
          -0.6454545454545455,
          -0.4753246753246753,
          -0.0493506493506493,
          -0.8597402597402597,
          0.2688311688311688,
          -0.5077922077922078,
          -0.8077922077922077,
          -0.5077922077922078,
          -0.5753246753246753,
          -0.7012987012987012,
          -0.5389610389610389,
          -0.287012987012987,
          -0.8337662337662338,
          -0.1246753246753246,
          0.0038961038961038,
          -0.3831168831168831,
          -0.4103896103896103,
          -0.4272727272727272,
          -0.3077922077922078,
          -0.3597402597402597,
          0.1909090909090909,
          -0.3987012987012987,
          0.3909090909090909,
          -0.2454545454545454,
          -0.396103896103896,
          -0.1974025974025974,
          -0.212987012987013,
          -0.4636363636363636,
          -0.2987012987012987,
          -0.0675324675324675,
          -0.1181818181818181
         ],
         "y0": " ",
         "yaxis": "y"
        }
       ],
       "layout": {
        "boxmode": "group",
        "legend": {
         "title": {
          "text": "explanation"
         },
         "tracegroupgap": 0
        },
        "template": {
         "data": {
          "bar": [
           {
            "error_x": {
             "color": "#2a3f5f"
            },
            "error_y": {
             "color": "#2a3f5f"
            },
            "marker": {
             "line": {
              "color": "#E5ECF6",
              "width": 0.5
             },
             "pattern": {
              "fillmode": "overlay",
              "size": 10,
              "solidity": 0.2
             }
            },
            "type": "bar"
           }
          ],
          "barpolar": [
           {
            "marker": {
             "line": {
              "color": "#E5ECF6",
              "width": 0.5
             },
             "pattern": {
              "fillmode": "overlay",
              "size": 10,
              "solidity": 0.2
             }
            },
            "type": "barpolar"
           }
          ],
          "carpet": [
           {
            "aaxis": {
             "endlinecolor": "#2a3f5f",
             "gridcolor": "white",
             "linecolor": "white",
             "minorgridcolor": "white",
             "startlinecolor": "#2a3f5f"
            },
            "baxis": {
             "endlinecolor": "#2a3f5f",
             "gridcolor": "white",
             "linecolor": "white",
             "minorgridcolor": "white",
             "startlinecolor": "#2a3f5f"
            },
            "type": "carpet"
           }
          ],
          "choropleth": [
           {
            "colorbar": {
             "outlinewidth": 0,
             "ticks": ""
            },
            "type": "choropleth"
           }
          ],
          "contour": [
           {
            "colorbar": {
             "outlinewidth": 0,
             "ticks": ""
            },
            "colorscale": [
             [
              0,
              "#0d0887"
             ],
             [
              0.1111111111111111,
              "#46039f"
             ],
             [
              0.2222222222222222,
              "#7201a8"
             ],
             [
              0.3333333333333333,
              "#9c179e"
             ],
             [
              0.4444444444444444,
              "#bd3786"
             ],
             [
              0.5555555555555556,
              "#d8576b"
             ],
             [
              0.6666666666666666,
              "#ed7953"
             ],
             [
              0.7777777777777778,
              "#fb9f3a"
             ],
             [
              0.8888888888888888,
              "#fdca26"
             ],
             [
              1,
              "#f0f921"
             ]
            ],
            "type": "contour"
           }
          ],
          "contourcarpet": [
           {
            "colorbar": {
             "outlinewidth": 0,
             "ticks": ""
            },
            "type": "contourcarpet"
           }
          ],
          "heatmap": [
           {
            "colorbar": {
             "outlinewidth": 0,
             "ticks": ""
            },
            "colorscale": [
             [
              0,
              "#0d0887"
             ],
             [
              0.1111111111111111,
              "#46039f"
             ],
             [
              0.2222222222222222,
              "#7201a8"
             ],
             [
              0.3333333333333333,
              "#9c179e"
             ],
             [
              0.4444444444444444,
              "#bd3786"
             ],
             [
              0.5555555555555556,
              "#d8576b"
             ],
             [
              0.6666666666666666,
              "#ed7953"
             ],
             [
              0.7777777777777778,
              "#fb9f3a"
             ],
             [
              0.8888888888888888,
              "#fdca26"
             ],
             [
              1,
              "#f0f921"
             ]
            ],
            "type": "heatmap"
           }
          ],
          "heatmapgl": [
           {
            "colorbar": {
             "outlinewidth": 0,
             "ticks": ""
            },
            "colorscale": [
             [
              0,
              "#0d0887"
             ],
             [
              0.1111111111111111,
              "#46039f"
             ],
             [
              0.2222222222222222,
              "#7201a8"
             ],
             [
              0.3333333333333333,
              "#9c179e"
             ],
             [
              0.4444444444444444,
              "#bd3786"
             ],
             [
              0.5555555555555556,
              "#d8576b"
             ],
             [
              0.6666666666666666,
              "#ed7953"
             ],
             [
              0.7777777777777778,
              "#fb9f3a"
             ],
             [
              0.8888888888888888,
              "#fdca26"
             ],
             [
              1,
              "#f0f921"
             ]
            ],
            "type": "heatmapgl"
           }
          ],
          "histogram": [
           {
            "marker": {
             "pattern": {
              "fillmode": "overlay",
              "size": 10,
              "solidity": 0.2
             }
            },
            "type": "histogram"
           }
          ],
          "histogram2d": [
           {
            "colorbar": {
             "outlinewidth": 0,
             "ticks": ""
            },
            "colorscale": [
             [
              0,
              "#0d0887"
             ],
             [
              0.1111111111111111,
              "#46039f"
             ],
             [
              0.2222222222222222,
              "#7201a8"
             ],
             [
              0.3333333333333333,
              "#9c179e"
             ],
             [
              0.4444444444444444,
              "#bd3786"
             ],
             [
              0.5555555555555556,
              "#d8576b"
             ],
             [
              0.6666666666666666,
              "#ed7953"
             ],
             [
              0.7777777777777778,
              "#fb9f3a"
             ],
             [
              0.8888888888888888,
              "#fdca26"
             ],
             [
              1,
              "#f0f921"
             ]
            ],
            "type": "histogram2d"
           }
          ],
          "histogram2dcontour": [
           {
            "colorbar": {
             "outlinewidth": 0,
             "ticks": ""
            },
            "colorscale": [
             [
              0,
              "#0d0887"
             ],
             [
              0.1111111111111111,
              "#46039f"
             ],
             [
              0.2222222222222222,
              "#7201a8"
             ],
             [
              0.3333333333333333,
              "#9c179e"
             ],
             [
              0.4444444444444444,
              "#bd3786"
             ],
             [
              0.5555555555555556,
              "#d8576b"
             ],
             [
              0.6666666666666666,
              "#ed7953"
             ],
             [
              0.7777777777777778,
              "#fb9f3a"
             ],
             [
              0.8888888888888888,
              "#fdca26"
             ],
             [
              1,
              "#f0f921"
             ]
            ],
            "type": "histogram2dcontour"
           }
          ],
          "mesh3d": [
           {
            "colorbar": {
             "outlinewidth": 0,
             "ticks": ""
            },
            "type": "mesh3d"
           }
          ],
          "parcoords": [
           {
            "line": {
             "colorbar": {
              "outlinewidth": 0,
              "ticks": ""
             }
            },
            "type": "parcoords"
           }
          ],
          "pie": [
           {
            "automargin": true,
            "type": "pie"
           }
          ],
          "scatter": [
           {
            "fillpattern": {
             "fillmode": "overlay",
             "size": 10,
             "solidity": 0.2
            },
            "type": "scatter"
           }
          ],
          "scatter3d": [
           {
            "line": {
             "colorbar": {
              "outlinewidth": 0,
              "ticks": ""
             }
            },
            "marker": {
             "colorbar": {
              "outlinewidth": 0,
              "ticks": ""
             }
            },
            "type": "scatter3d"
           }
          ],
          "scattercarpet": [
           {
            "marker": {
             "colorbar": {
              "outlinewidth": 0,
              "ticks": ""
             }
            },
            "type": "scattercarpet"
           }
          ],
          "scattergeo": [
           {
            "marker": {
             "colorbar": {
              "outlinewidth": 0,
              "ticks": ""
             }
            },
            "type": "scattergeo"
           }
          ],
          "scattergl": [
           {
            "marker": {
             "colorbar": {
              "outlinewidth": 0,
              "ticks": ""
             }
            },
            "type": "scattergl"
           }
          ],
          "scattermapbox": [
           {
            "marker": {
             "colorbar": {
              "outlinewidth": 0,
              "ticks": ""
             }
            },
            "type": "scattermapbox"
           }
          ],
          "scatterpolar": [
           {
            "marker": {
             "colorbar": {
              "outlinewidth": 0,
              "ticks": ""
             }
            },
            "type": "scatterpolar"
           }
          ],
          "scatterpolargl": [
           {
            "marker": {
             "colorbar": {
              "outlinewidth": 0,
              "ticks": ""
             }
            },
            "type": "scatterpolargl"
           }
          ],
          "scatterternary": [
           {
            "marker": {
             "colorbar": {
              "outlinewidth": 0,
              "ticks": ""
             }
            },
            "type": "scatterternary"
           }
          ],
          "surface": [
           {
            "colorbar": {
             "outlinewidth": 0,
             "ticks": ""
            },
            "colorscale": [
             [
              0,
              "#0d0887"
             ],
             [
              0.1111111111111111,
              "#46039f"
             ],
             [
              0.2222222222222222,
              "#7201a8"
             ],
             [
              0.3333333333333333,
              "#9c179e"
             ],
             [
              0.4444444444444444,
              "#bd3786"
             ],
             [
              0.5555555555555556,
              "#d8576b"
             ],
             [
              0.6666666666666666,
              "#ed7953"
             ],
             [
              0.7777777777777778,
              "#fb9f3a"
             ],
             [
              0.8888888888888888,
              "#fdca26"
             ],
             [
              1,
              "#f0f921"
             ]
            ],
            "type": "surface"
           }
          ],
          "table": [
           {
            "cells": {
             "fill": {
              "color": "#EBF0F8"
             },
             "line": {
              "color": "white"
             }
            },
            "header": {
             "fill": {
              "color": "#C8D4E3"
             },
             "line": {
              "color": "white"
             }
            },
            "type": "table"
           }
          ]
         },
         "layout": {
          "annotationdefaults": {
           "arrowcolor": "#2a3f5f",
           "arrowhead": 0,
           "arrowwidth": 1
          },
          "autotypenumbers": "strict",
          "coloraxis": {
           "colorbar": {
            "outlinewidth": 0,
            "ticks": ""
           }
          },
          "colorscale": {
           "diverging": [
            [
             0,
             "#8e0152"
            ],
            [
             0.1,
             "#c51b7d"
            ],
            [
             0.2,
             "#de77ae"
            ],
            [
             0.3,
             "#f1b6da"
            ],
            [
             0.4,
             "#fde0ef"
            ],
            [
             0.5,
             "#f7f7f7"
            ],
            [
             0.6,
             "#e6f5d0"
            ],
            [
             0.7,
             "#b8e186"
            ],
            [
             0.8,
             "#7fbc41"
            ],
            [
             0.9,
             "#4d9221"
            ],
            [
             1,
             "#276419"
            ]
           ],
           "sequential": [
            [
             0,
             "#0d0887"
            ],
            [
             0.1111111111111111,
             "#46039f"
            ],
            [
             0.2222222222222222,
             "#7201a8"
            ],
            [
             0.3333333333333333,
             "#9c179e"
            ],
            [
             0.4444444444444444,
             "#bd3786"
            ],
            [
             0.5555555555555556,
             "#d8576b"
            ],
            [
             0.6666666666666666,
             "#ed7953"
            ],
            [
             0.7777777777777778,
             "#fb9f3a"
            ],
            [
             0.8888888888888888,
             "#fdca26"
            ],
            [
             1,
             "#f0f921"
            ]
           ],
           "sequentialminus": [
            [
             0,
             "#0d0887"
            ],
            [
             0.1111111111111111,
             "#46039f"
            ],
            [
             0.2222222222222222,
             "#7201a8"
            ],
            [
             0.3333333333333333,
             "#9c179e"
            ],
            [
             0.4444444444444444,
             "#bd3786"
            ],
            [
             0.5555555555555556,
             "#d8576b"
            ],
            [
             0.6666666666666666,
             "#ed7953"
            ],
            [
             0.7777777777777778,
             "#fb9f3a"
            ],
            [
             0.8888888888888888,
             "#fdca26"
            ],
            [
             1,
             "#f0f921"
            ]
           ]
          },
          "colorway": [
           "#636efa",
           "#EF553B",
           "#00cc96",
           "#ab63fa",
           "#FFA15A",
           "#19d3f3",
           "#FF6692",
           "#B6E880",
           "#FF97FF",
           "#FECB52"
          ],
          "font": {
           "color": "#2a3f5f"
          },
          "geo": {
           "bgcolor": "white",
           "lakecolor": "white",
           "landcolor": "#E5ECF6",
           "showlakes": true,
           "showland": true,
           "subunitcolor": "white"
          },
          "hoverlabel": {
           "align": "left"
          },
          "hovermode": "closest",
          "mapbox": {
           "style": "light"
          },
          "paper_bgcolor": "white",
          "plot_bgcolor": "#E5ECF6",
          "polar": {
           "angularaxis": {
            "gridcolor": "white",
            "linecolor": "white",
            "ticks": ""
           },
           "bgcolor": "#E5ECF6",
           "radialaxis": {
            "gridcolor": "white",
            "linecolor": "white",
            "ticks": ""
           }
          },
          "scene": {
           "xaxis": {
            "backgroundcolor": "#E5ECF6",
            "gridcolor": "white",
            "gridwidth": 2,
            "linecolor": "white",
            "showbackground": true,
            "ticks": "",
            "zerolinecolor": "white"
           },
           "yaxis": {
            "backgroundcolor": "#E5ECF6",
            "gridcolor": "white",
            "gridwidth": 2,
            "linecolor": "white",
            "showbackground": true,
            "ticks": "",
            "zerolinecolor": "white"
           },
           "zaxis": {
            "backgroundcolor": "#E5ECF6",
            "gridcolor": "white",
            "gridwidth": 2,
            "linecolor": "white",
            "showbackground": true,
            "ticks": "",
            "zerolinecolor": "white"
           }
          },
          "shapedefaults": {
           "line": {
            "color": "#2a3f5f"
           }
          },
          "ternary": {
           "aaxis": {
            "gridcolor": "white",
            "linecolor": "white",
            "ticks": ""
           },
           "baxis": {
            "gridcolor": "white",
            "linecolor": "white",
            "ticks": ""
           },
           "bgcolor": "#E5ECF6",
           "caxis": {
            "gridcolor": "white",
            "linecolor": "white",
            "ticks": ""
           }
          },
          "title": {
           "x": 0.05
          },
          "xaxis": {
           "automargin": true,
           "gridcolor": "white",
           "linecolor": "white",
           "ticks": "",
           "title": {
            "standoff": 15
           },
           "zerolinecolor": "white",
           "zerolinewidth": 2
          },
          "yaxis": {
           "automargin": true,
           "gridcolor": "white",
           "linecolor": "white",
           "ticks": "",
           "title": {
            "standoff": 15
           },
           "zerolinecolor": "white",
           "zerolinewidth": 2
          }
         }
        },
        "title": {
         "text": "xor, variable x1, split by dist_weight"
        },
        "xaxis": {
         "anchor": "y",
         "domain": [
          0,
          1
         ],
         "title": {
          "text": "split variable"
         }
        },
        "yaxis": {
         "anchor": "x",
         "domain": [
          0,
          1
         ],
         "title": {
          "text": "rho"
         }
        }
       }
      }
     },
     "metadata": {},
     "output_type": "display_data"
    }
   ],
   "source": [
    "boxplots(\"dist_weight\")"
   ]
  },
  {
   "cell_type": "code",
   "execution_count": 246,
   "metadata": {},
   "outputs": [
    {
     "data": {
      "application/vnd.plotly.v1+json": {
       "config": {
        "plotlyServerURL": "https://plot.ly"
       },
       "data": [
        {
         "alignmentgroup": "True",
         "hovertemplate": "explanation=ale<br>split variable=%{x}<br>l2=%{y}<extra></extra>",
         "legendgroup": "ale",
         "marker": {
          "color": "#636efa"
         },
         "name": "ale",
         "notched": false,
         "offsetgroup": "ale",
         "orientation": "v",
         "quartilemethod": "exclusive",
         "showlegend": true,
         "type": "box",
         "x": [
          "dist_weight 0.0",
          "dist_weight 0.0",
          "dist_weight 0.0",
          "dist_weight 0.0",
          "dist_weight 0.0",
          "dist_weight 0.0",
          "dist_weight 0.0",
          "dist_weight 0.0",
          "dist_weight 0.0",
          "dist_weight 0.0",
          "dist_weight 0.0",
          "dist_weight 0.0",
          "dist_weight 0.0",
          "dist_weight 0.0",
          "dist_weight 0.0",
          "dist_weight 0.0",
          "dist_weight 0.0",
          "dist_weight 0.0",
          "dist_weight 0.001",
          "dist_weight 0.001",
          "dist_weight 0.001",
          "dist_weight 0.001",
          "dist_weight 0.001",
          "dist_weight 0.001",
          "dist_weight 0.001",
          "dist_weight 0.001",
          "dist_weight 0.001",
          "dist_weight 0.001",
          "dist_weight 0.001",
          "dist_weight 0.001",
          "dist_weight 0.001",
          "dist_weight 0.001",
          "dist_weight 0.001",
          "dist_weight 0.001",
          "dist_weight 0.001",
          "dist_weight 0.001",
          "dist_weight 0.01",
          "dist_weight 0.01",
          "dist_weight 0.01",
          "dist_weight 0.01",
          "dist_weight 0.01",
          "dist_weight 0.01",
          "dist_weight 0.01",
          "dist_weight 0.01",
          "dist_weight 0.01",
          "dist_weight 0.01",
          "dist_weight 0.01",
          "dist_weight 0.01",
          "dist_weight 0.01",
          "dist_weight 0.01",
          "dist_weight 0.01",
          "dist_weight 0.01",
          "dist_weight 0.01",
          "dist_weight 0.01",
          "dist_weight 0.1",
          "dist_weight 0.1",
          "dist_weight 0.1",
          "dist_weight 0.1",
          "dist_weight 0.1",
          "dist_weight 0.1",
          "dist_weight 0.1",
          "dist_weight 0.1",
          "dist_weight 0.1",
          "dist_weight 0.1",
          "dist_weight 0.1",
          "dist_weight 0.1",
          "dist_weight 0.1",
          "dist_weight 0.1",
          "dist_weight 0.1",
          "dist_weight 0.1",
          "dist_weight 0.1",
          "dist_weight 0.1",
          "dist_weight 1.0",
          "dist_weight 1.0",
          "dist_weight 1.0",
          "dist_weight 1.0",
          "dist_weight 1.0",
          "dist_weight 1.0",
          "dist_weight 1.0",
          "dist_weight 1.0",
          "dist_weight 1.0",
          "dist_weight 1.0",
          "dist_weight 1.0",
          "dist_weight 1.0",
          "dist_weight 1.0",
          "dist_weight 1.0",
          "dist_weight 1.0",
          "dist_weight 1.0",
          "dist_weight 1.0",
          "dist_weight 1.0"
         ],
         "x0": " ",
         "xaxis": "x",
         "y": [
          0.1031285403848192,
          0.1214083798596418,
          0.1516937370998237,
          0.1116209069772389,
          0.1460547123461799,
          0.093669700811062,
          0.1326908203106218,
          0.1054261777297685,
          0.0994476028842687,
          0.1022410207043614,
          0.0985248624972985,
          0.1026784885799001,
          0.1130293330691161,
          0.1106675035894248,
          0.0962280229245943,
          0.1345245712217961,
          0.1152249259844671,
          0.0924428466273338,
          0.1066649800186353,
          0.1251025982378456,
          0.154767299586031,
          0.1141057545282689,
          0.1312646214647192,
          0.0993703932817215,
          0.1379675978189466,
          0.0977935083932034,
          0.0998867165532405,
          0.098603340497287,
          0.0862381545803132,
          0.085362229388389,
          0.0991835245401881,
          0.101245467285704,
          0.0994791137384907,
          0.1155629132146195,
          0.112364391739296,
          0.0921839787929375,
          0.0884702379988526,
          0.1293597291401764,
          0.155106200970314,
          0.1085961759135616,
          0.1348575636777514,
          0.0942310359030571,
          0.1400956576853092,
          0.0884331184365375,
          0.0857293746402046,
          0.0958039802557951,
          0.0764250530585746,
          0.0850960980329504,
          0.0874698793353579,
          0.0924301490025854,
          0.0810087042062954,
          0.112577727847085,
          0.1040603047750077,
          0.0837566573616873,
          0.0591930745962173,
          0.1055083168661064,
          0.1383002294588953,
          0.0903587783890184,
          0.0943450786481098,
          0.0695023216380603,
          0.108062856787963,
          0.0577803577211086,
          0.0630781148364893,
          0.0704234993084342,
          0.0454846312359194,
          0.0642022522777938,
          0.0603696300296521,
          0.0668879852998038,
          0.0595340660202709,
          0.0936232273374975,
          0.078151033517566,
          0.0583724895383761,
          0.0196981614598581,
          0.033108097694229,
          0.0628226723637127,
          0.0291270221523149,
          0.0364901208765216,
          0.0243676606400684,
          0.0391168029273241,
          0.0228904182074322,
          0.0221967387621164,
          0.0226912183422634,
          0.0105889876411011,
          0.0189168838004163,
          0.0176645139413465,
          0.0204924003529258,
          0.0232438869806606,
          0.0312580544304955,
          0.020655725364347,
          0.0181091630624613
         ],
         "y0": " ",
         "yaxis": "y"
        },
        {
         "alignmentgroup": "True",
         "hovertemplate": "explanation=pd<br>split variable=%{x}<br>l2=%{y}<extra></extra>",
         "legendgroup": "pd",
         "marker": {
          "color": "#EF553B"
         },
         "name": "pd",
         "notched": false,
         "offsetgroup": "pd",
         "orientation": "v",
         "quartilemethod": "exclusive",
         "showlegend": true,
         "type": "box",
         "x": [
          "dist_weight 0.0",
          "dist_weight 0.0",
          "dist_weight 0.0",
          "dist_weight 0.0",
          "dist_weight 0.0",
          "dist_weight 0.0",
          "dist_weight 0.0",
          "dist_weight 0.0",
          "dist_weight 0.0",
          "dist_weight 0.0",
          "dist_weight 0.0",
          "dist_weight 0.0",
          "dist_weight 0.0",
          "dist_weight 0.0",
          "dist_weight 0.0",
          "dist_weight 0.0",
          "dist_weight 0.0",
          "dist_weight 0.0",
          "dist_weight 0.001",
          "dist_weight 0.001",
          "dist_weight 0.001",
          "dist_weight 0.001",
          "dist_weight 0.001",
          "dist_weight 0.001",
          "dist_weight 0.001",
          "dist_weight 0.001",
          "dist_weight 0.001",
          "dist_weight 0.001",
          "dist_weight 0.001",
          "dist_weight 0.001",
          "dist_weight 0.001",
          "dist_weight 0.001",
          "dist_weight 0.001",
          "dist_weight 0.001",
          "dist_weight 0.001",
          "dist_weight 0.001",
          "dist_weight 0.01",
          "dist_weight 0.01",
          "dist_weight 0.01",
          "dist_weight 0.01",
          "dist_weight 0.01",
          "dist_weight 0.01",
          "dist_weight 0.01",
          "dist_weight 0.01",
          "dist_weight 0.01",
          "dist_weight 0.01",
          "dist_weight 0.01",
          "dist_weight 0.01",
          "dist_weight 0.01",
          "dist_weight 0.01",
          "dist_weight 0.01",
          "dist_weight 0.01",
          "dist_weight 0.01",
          "dist_weight 0.01",
          "dist_weight 0.1",
          "dist_weight 0.1",
          "dist_weight 0.1",
          "dist_weight 0.1",
          "dist_weight 0.1",
          "dist_weight 0.1",
          "dist_weight 0.1",
          "dist_weight 0.1",
          "dist_weight 0.1",
          "dist_weight 0.1",
          "dist_weight 0.1",
          "dist_weight 0.1",
          "dist_weight 0.1",
          "dist_weight 0.1",
          "dist_weight 0.1",
          "dist_weight 0.1",
          "dist_weight 0.1",
          "dist_weight 0.1",
          "dist_weight 1.0",
          "dist_weight 1.0",
          "dist_weight 1.0",
          "dist_weight 1.0",
          "dist_weight 1.0",
          "dist_weight 1.0",
          "dist_weight 1.0",
          "dist_weight 1.0",
          "dist_weight 1.0",
          "dist_weight 1.0",
          "dist_weight 1.0",
          "dist_weight 1.0",
          "dist_weight 1.0",
          "dist_weight 1.0",
          "dist_weight 1.0",
          "dist_weight 1.0",
          "dist_weight 1.0",
          "dist_weight 1.0"
         ],
         "x0": " ",
         "xaxis": "x",
         "y": [
          0.092532866,
          0.12455968,
          0.15397696,
          0.11827157,
          0.116975784,
          0.102548994,
          0.12006888,
          0.117222436,
          0.101734966,
          0.108734354,
          0.09710136,
          0.10951467,
          0.10589682,
          0.10677882,
          0.091503695,
          0.11854798,
          0.11208146,
          0.10048989,
          0.08815447,
          0.12259748,
          0.15374103,
          0.11454058,
          0.11385521,
          0.102153756,
          0.11906763,
          0.112984076,
          0.10041066,
          0.10289606,
          0.09461465,
          0.10941108,
          0.10276278,
          0.104231015,
          0.09199429,
          0.11379959,
          0.109402396,
          0.097927175,
          0.07631847,
          0.11478661,
          0.14821114,
          0.10381609,
          0.10556658,
          0.09271926,
          0.11375234,
          0.09833635,
          0.09153482,
          0.085207224,
          0.08324884,
          0.10236601,
          0.08924628,
          0.093509875,
          0.0867165,
          0.09850861,
          0.09734517,
          0.08976668,
          0.05397698,
          0.088542186,
          0.12132551,
          0.079412274,
          0.08091923,
          0.07387473,
          0.08832076,
          0.06521392,
          0.070983686,
          0.06113567,
          0.057691284,
          0.07543768,
          0.060022768,
          0.067125894,
          0.06824061,
          0.07279151,
          0.06592645,
          0.064878434,
          0.01728327,
          0.030801367,
          0.049355734,
          0.02570984,
          0.029159537,
          0.02749987,
          0.032915723,
          0.020569608,
          0.028189756,
          0.020674018,
          0.016668892,
          0.025655601,
          0.016138867,
          0.021143738,
          0.025805052,
          0.023109961,
          0.02278516,
          0.022567263
         ],
         "y0": " ",
         "yaxis": "y"
        }
       ],
       "layout": {
        "boxmode": "group",
        "legend": {
         "title": {
          "text": "explanation"
         },
         "tracegroupgap": 0
        },
        "template": {
         "data": {
          "bar": [
           {
            "error_x": {
             "color": "#2a3f5f"
            },
            "error_y": {
             "color": "#2a3f5f"
            },
            "marker": {
             "line": {
              "color": "#E5ECF6",
              "width": 0.5
             },
             "pattern": {
              "fillmode": "overlay",
              "size": 10,
              "solidity": 0.2
             }
            },
            "type": "bar"
           }
          ],
          "barpolar": [
           {
            "marker": {
             "line": {
              "color": "#E5ECF6",
              "width": 0.5
             },
             "pattern": {
              "fillmode": "overlay",
              "size": 10,
              "solidity": 0.2
             }
            },
            "type": "barpolar"
           }
          ],
          "carpet": [
           {
            "aaxis": {
             "endlinecolor": "#2a3f5f",
             "gridcolor": "white",
             "linecolor": "white",
             "minorgridcolor": "white",
             "startlinecolor": "#2a3f5f"
            },
            "baxis": {
             "endlinecolor": "#2a3f5f",
             "gridcolor": "white",
             "linecolor": "white",
             "minorgridcolor": "white",
             "startlinecolor": "#2a3f5f"
            },
            "type": "carpet"
           }
          ],
          "choropleth": [
           {
            "colorbar": {
             "outlinewidth": 0,
             "ticks": ""
            },
            "type": "choropleth"
           }
          ],
          "contour": [
           {
            "colorbar": {
             "outlinewidth": 0,
             "ticks": ""
            },
            "colorscale": [
             [
              0,
              "#0d0887"
             ],
             [
              0.1111111111111111,
              "#46039f"
             ],
             [
              0.2222222222222222,
              "#7201a8"
             ],
             [
              0.3333333333333333,
              "#9c179e"
             ],
             [
              0.4444444444444444,
              "#bd3786"
             ],
             [
              0.5555555555555556,
              "#d8576b"
             ],
             [
              0.6666666666666666,
              "#ed7953"
             ],
             [
              0.7777777777777778,
              "#fb9f3a"
             ],
             [
              0.8888888888888888,
              "#fdca26"
             ],
             [
              1,
              "#f0f921"
             ]
            ],
            "type": "contour"
           }
          ],
          "contourcarpet": [
           {
            "colorbar": {
             "outlinewidth": 0,
             "ticks": ""
            },
            "type": "contourcarpet"
           }
          ],
          "heatmap": [
           {
            "colorbar": {
             "outlinewidth": 0,
             "ticks": ""
            },
            "colorscale": [
             [
              0,
              "#0d0887"
             ],
             [
              0.1111111111111111,
              "#46039f"
             ],
             [
              0.2222222222222222,
              "#7201a8"
             ],
             [
              0.3333333333333333,
              "#9c179e"
             ],
             [
              0.4444444444444444,
              "#bd3786"
             ],
             [
              0.5555555555555556,
              "#d8576b"
             ],
             [
              0.6666666666666666,
              "#ed7953"
             ],
             [
              0.7777777777777778,
              "#fb9f3a"
             ],
             [
              0.8888888888888888,
              "#fdca26"
             ],
             [
              1,
              "#f0f921"
             ]
            ],
            "type": "heatmap"
           }
          ],
          "heatmapgl": [
           {
            "colorbar": {
             "outlinewidth": 0,
             "ticks": ""
            },
            "colorscale": [
             [
              0,
              "#0d0887"
             ],
             [
              0.1111111111111111,
              "#46039f"
             ],
             [
              0.2222222222222222,
              "#7201a8"
             ],
             [
              0.3333333333333333,
              "#9c179e"
             ],
             [
              0.4444444444444444,
              "#bd3786"
             ],
             [
              0.5555555555555556,
              "#d8576b"
             ],
             [
              0.6666666666666666,
              "#ed7953"
             ],
             [
              0.7777777777777778,
              "#fb9f3a"
             ],
             [
              0.8888888888888888,
              "#fdca26"
             ],
             [
              1,
              "#f0f921"
             ]
            ],
            "type": "heatmapgl"
           }
          ],
          "histogram": [
           {
            "marker": {
             "pattern": {
              "fillmode": "overlay",
              "size": 10,
              "solidity": 0.2
             }
            },
            "type": "histogram"
           }
          ],
          "histogram2d": [
           {
            "colorbar": {
             "outlinewidth": 0,
             "ticks": ""
            },
            "colorscale": [
             [
              0,
              "#0d0887"
             ],
             [
              0.1111111111111111,
              "#46039f"
             ],
             [
              0.2222222222222222,
              "#7201a8"
             ],
             [
              0.3333333333333333,
              "#9c179e"
             ],
             [
              0.4444444444444444,
              "#bd3786"
             ],
             [
              0.5555555555555556,
              "#d8576b"
             ],
             [
              0.6666666666666666,
              "#ed7953"
             ],
             [
              0.7777777777777778,
              "#fb9f3a"
             ],
             [
              0.8888888888888888,
              "#fdca26"
             ],
             [
              1,
              "#f0f921"
             ]
            ],
            "type": "histogram2d"
           }
          ],
          "histogram2dcontour": [
           {
            "colorbar": {
             "outlinewidth": 0,
             "ticks": ""
            },
            "colorscale": [
             [
              0,
              "#0d0887"
             ],
             [
              0.1111111111111111,
              "#46039f"
             ],
             [
              0.2222222222222222,
              "#7201a8"
             ],
             [
              0.3333333333333333,
              "#9c179e"
             ],
             [
              0.4444444444444444,
              "#bd3786"
             ],
             [
              0.5555555555555556,
              "#d8576b"
             ],
             [
              0.6666666666666666,
              "#ed7953"
             ],
             [
              0.7777777777777778,
              "#fb9f3a"
             ],
             [
              0.8888888888888888,
              "#fdca26"
             ],
             [
              1,
              "#f0f921"
             ]
            ],
            "type": "histogram2dcontour"
           }
          ],
          "mesh3d": [
           {
            "colorbar": {
             "outlinewidth": 0,
             "ticks": ""
            },
            "type": "mesh3d"
           }
          ],
          "parcoords": [
           {
            "line": {
             "colorbar": {
              "outlinewidth": 0,
              "ticks": ""
             }
            },
            "type": "parcoords"
           }
          ],
          "pie": [
           {
            "automargin": true,
            "type": "pie"
           }
          ],
          "scatter": [
           {
            "fillpattern": {
             "fillmode": "overlay",
             "size": 10,
             "solidity": 0.2
            },
            "type": "scatter"
           }
          ],
          "scatter3d": [
           {
            "line": {
             "colorbar": {
              "outlinewidth": 0,
              "ticks": ""
             }
            },
            "marker": {
             "colorbar": {
              "outlinewidth": 0,
              "ticks": ""
             }
            },
            "type": "scatter3d"
           }
          ],
          "scattercarpet": [
           {
            "marker": {
             "colorbar": {
              "outlinewidth": 0,
              "ticks": ""
             }
            },
            "type": "scattercarpet"
           }
          ],
          "scattergeo": [
           {
            "marker": {
             "colorbar": {
              "outlinewidth": 0,
              "ticks": ""
             }
            },
            "type": "scattergeo"
           }
          ],
          "scattergl": [
           {
            "marker": {
             "colorbar": {
              "outlinewidth": 0,
              "ticks": ""
             }
            },
            "type": "scattergl"
           }
          ],
          "scattermapbox": [
           {
            "marker": {
             "colorbar": {
              "outlinewidth": 0,
              "ticks": ""
             }
            },
            "type": "scattermapbox"
           }
          ],
          "scatterpolar": [
           {
            "marker": {
             "colorbar": {
              "outlinewidth": 0,
              "ticks": ""
             }
            },
            "type": "scatterpolar"
           }
          ],
          "scatterpolargl": [
           {
            "marker": {
             "colorbar": {
              "outlinewidth": 0,
              "ticks": ""
             }
            },
            "type": "scatterpolargl"
           }
          ],
          "scatterternary": [
           {
            "marker": {
             "colorbar": {
              "outlinewidth": 0,
              "ticks": ""
             }
            },
            "type": "scatterternary"
           }
          ],
          "surface": [
           {
            "colorbar": {
             "outlinewidth": 0,
             "ticks": ""
            },
            "colorscale": [
             [
              0,
              "#0d0887"
             ],
             [
              0.1111111111111111,
              "#46039f"
             ],
             [
              0.2222222222222222,
              "#7201a8"
             ],
             [
              0.3333333333333333,
              "#9c179e"
             ],
             [
              0.4444444444444444,
              "#bd3786"
             ],
             [
              0.5555555555555556,
              "#d8576b"
             ],
             [
              0.6666666666666666,
              "#ed7953"
             ],
             [
              0.7777777777777778,
              "#fb9f3a"
             ],
             [
              0.8888888888888888,
              "#fdca26"
             ],
             [
              1,
              "#f0f921"
             ]
            ],
            "type": "surface"
           }
          ],
          "table": [
           {
            "cells": {
             "fill": {
              "color": "#EBF0F8"
             },
             "line": {
              "color": "white"
             }
            },
            "header": {
             "fill": {
              "color": "#C8D4E3"
             },
             "line": {
              "color": "white"
             }
            },
            "type": "table"
           }
          ]
         },
         "layout": {
          "annotationdefaults": {
           "arrowcolor": "#2a3f5f",
           "arrowhead": 0,
           "arrowwidth": 1
          },
          "autotypenumbers": "strict",
          "coloraxis": {
           "colorbar": {
            "outlinewidth": 0,
            "ticks": ""
           }
          },
          "colorscale": {
           "diverging": [
            [
             0,
             "#8e0152"
            ],
            [
             0.1,
             "#c51b7d"
            ],
            [
             0.2,
             "#de77ae"
            ],
            [
             0.3,
             "#f1b6da"
            ],
            [
             0.4,
             "#fde0ef"
            ],
            [
             0.5,
             "#f7f7f7"
            ],
            [
             0.6,
             "#e6f5d0"
            ],
            [
             0.7,
             "#b8e186"
            ],
            [
             0.8,
             "#7fbc41"
            ],
            [
             0.9,
             "#4d9221"
            ],
            [
             1,
             "#276419"
            ]
           ],
           "sequential": [
            [
             0,
             "#0d0887"
            ],
            [
             0.1111111111111111,
             "#46039f"
            ],
            [
             0.2222222222222222,
             "#7201a8"
            ],
            [
             0.3333333333333333,
             "#9c179e"
            ],
            [
             0.4444444444444444,
             "#bd3786"
            ],
            [
             0.5555555555555556,
             "#d8576b"
            ],
            [
             0.6666666666666666,
             "#ed7953"
            ],
            [
             0.7777777777777778,
             "#fb9f3a"
            ],
            [
             0.8888888888888888,
             "#fdca26"
            ],
            [
             1,
             "#f0f921"
            ]
           ],
           "sequentialminus": [
            [
             0,
             "#0d0887"
            ],
            [
             0.1111111111111111,
             "#46039f"
            ],
            [
             0.2222222222222222,
             "#7201a8"
            ],
            [
             0.3333333333333333,
             "#9c179e"
            ],
            [
             0.4444444444444444,
             "#bd3786"
            ],
            [
             0.5555555555555556,
             "#d8576b"
            ],
            [
             0.6666666666666666,
             "#ed7953"
            ],
            [
             0.7777777777777778,
             "#fb9f3a"
            ],
            [
             0.8888888888888888,
             "#fdca26"
            ],
            [
             1,
             "#f0f921"
            ]
           ]
          },
          "colorway": [
           "#636efa",
           "#EF553B",
           "#00cc96",
           "#ab63fa",
           "#FFA15A",
           "#19d3f3",
           "#FF6692",
           "#B6E880",
           "#FF97FF",
           "#FECB52"
          ],
          "font": {
           "color": "#2a3f5f"
          },
          "geo": {
           "bgcolor": "white",
           "lakecolor": "white",
           "landcolor": "#E5ECF6",
           "showlakes": true,
           "showland": true,
           "subunitcolor": "white"
          },
          "hoverlabel": {
           "align": "left"
          },
          "hovermode": "closest",
          "mapbox": {
           "style": "light"
          },
          "paper_bgcolor": "white",
          "plot_bgcolor": "#E5ECF6",
          "polar": {
           "angularaxis": {
            "gridcolor": "white",
            "linecolor": "white",
            "ticks": ""
           },
           "bgcolor": "#E5ECF6",
           "radialaxis": {
            "gridcolor": "white",
            "linecolor": "white",
            "ticks": ""
           }
          },
          "scene": {
           "xaxis": {
            "backgroundcolor": "#E5ECF6",
            "gridcolor": "white",
            "gridwidth": 2,
            "linecolor": "white",
            "showbackground": true,
            "ticks": "",
            "zerolinecolor": "white"
           },
           "yaxis": {
            "backgroundcolor": "#E5ECF6",
            "gridcolor": "white",
            "gridwidth": 2,
            "linecolor": "white",
            "showbackground": true,
            "ticks": "",
            "zerolinecolor": "white"
           },
           "zaxis": {
            "backgroundcolor": "#E5ECF6",
            "gridcolor": "white",
            "gridwidth": 2,
            "linecolor": "white",
            "showbackground": true,
            "ticks": "",
            "zerolinecolor": "white"
           }
          },
          "shapedefaults": {
           "line": {
            "color": "#2a3f5f"
           }
          },
          "ternary": {
           "aaxis": {
            "gridcolor": "white",
            "linecolor": "white",
            "ticks": ""
           },
           "baxis": {
            "gridcolor": "white",
            "linecolor": "white",
            "ticks": ""
           },
           "bgcolor": "#E5ECF6",
           "caxis": {
            "gridcolor": "white",
            "linecolor": "white",
            "ticks": ""
           }
          },
          "title": {
           "x": 0.05
          },
          "xaxis": {
           "automargin": true,
           "gridcolor": "white",
           "linecolor": "white",
           "ticks": "",
           "title": {
            "standoff": 15
           },
           "zerolinecolor": "white",
           "zerolinewidth": 2
          },
          "yaxis": {
           "automargin": true,
           "gridcolor": "white",
           "linecolor": "white",
           "ticks": "",
           "title": {
            "standoff": 15
           },
           "zerolinecolor": "white",
           "zerolinewidth": 2
          }
         }
        },
        "title": {
         "text": "adult, variable age, split by dist_weight"
        },
        "xaxis": {
         "anchor": "y",
         "domain": [
          0,
          1
         ],
         "title": {
          "text": "split variable"
         }
        },
        "yaxis": {
         "anchor": "x",
         "domain": [
          0,
          1
         ],
         "title": {
          "text": "l2"
         }
        }
       }
      }
     },
     "metadata": {},
     "output_type": "display_data"
    },
    {
     "data": {
      "application/vnd.plotly.v1+json": {
       "config": {
        "plotlyServerURL": "https://plot.ly"
       },
       "data": [
        {
         "alignmentgroup": "True",
         "hovertemplate": "explanation=ale<br>split variable=%{x}<br>l2=%{y}<extra></extra>",
         "legendgroup": "ale",
         "marker": {
          "color": "#636efa"
         },
         "name": "ale",
         "notched": false,
         "offsetgroup": "ale",
         "orientation": "v",
         "quartilemethod": "exclusive",
         "showlegend": true,
         "type": "box",
         "x": [
          "dist_weight 0.0",
          "dist_weight 0.0",
          "dist_weight 0.0",
          "dist_weight 0.0",
          "dist_weight 0.0",
          "dist_weight 0.0",
          "dist_weight 0.0",
          "dist_weight 0.0",
          "dist_weight 0.0",
          "dist_weight 0.0",
          "dist_weight 0.0",
          "dist_weight 0.0",
          "dist_weight 0.0",
          "dist_weight 0.0",
          "dist_weight 0.0",
          "dist_weight 0.0",
          "dist_weight 0.0",
          "dist_weight 0.0",
          "dist_weight 0.001",
          "dist_weight 0.001",
          "dist_weight 0.001",
          "dist_weight 0.001",
          "dist_weight 0.001",
          "dist_weight 0.001",
          "dist_weight 0.001",
          "dist_weight 0.001",
          "dist_weight 0.001",
          "dist_weight 0.001",
          "dist_weight 0.001",
          "dist_weight 0.001",
          "dist_weight 0.001",
          "dist_weight 0.001",
          "dist_weight 0.001",
          "dist_weight 0.001",
          "dist_weight 0.001",
          "dist_weight 0.001",
          "dist_weight 0.01",
          "dist_weight 0.01",
          "dist_weight 0.01",
          "dist_weight 0.01",
          "dist_weight 0.01",
          "dist_weight 0.01",
          "dist_weight 0.01",
          "dist_weight 0.01",
          "dist_weight 0.01",
          "dist_weight 0.01",
          "dist_weight 0.01",
          "dist_weight 0.01",
          "dist_weight 0.01",
          "dist_weight 0.01",
          "dist_weight 0.01",
          "dist_weight 0.01",
          "dist_weight 0.01",
          "dist_weight 0.01",
          "dist_weight 0.1",
          "dist_weight 0.1",
          "dist_weight 0.1",
          "dist_weight 0.1",
          "dist_weight 0.1",
          "dist_weight 0.1",
          "dist_weight 0.1",
          "dist_weight 0.1",
          "dist_weight 0.1",
          "dist_weight 0.1",
          "dist_weight 0.1",
          "dist_weight 0.1",
          "dist_weight 0.1",
          "dist_weight 0.1",
          "dist_weight 0.1",
          "dist_weight 0.1",
          "dist_weight 0.1",
          "dist_weight 0.1",
          "dist_weight 1.0",
          "dist_weight 1.0",
          "dist_weight 1.0",
          "dist_weight 1.0",
          "dist_weight 1.0",
          "dist_weight 1.0",
          "dist_weight 1.0",
          "dist_weight 1.0",
          "dist_weight 1.0",
          "dist_weight 1.0",
          "dist_weight 1.0",
          "dist_weight 1.0",
          "dist_weight 1.0",
          "dist_weight 1.0",
          "dist_weight 1.0",
          "dist_weight 1.0",
          "dist_weight 1.0",
          "dist_weight 1.0"
         ],
         "x0": " ",
         "xaxis": "x",
         "y": [
          0.112820380071653,
          0.1078715980382335,
          0.1055429198887764,
          0.1500238444251766,
          0.1059191269316993,
          0.1009297265072777,
          0.138531907858599,
          0.12058187433192,
          0.1084379706569206,
          0.1207362203814421,
          0.1052015944595071,
          0.1151630651089122,
          0.083139445086203,
          0.1285267117529568,
          0.0995720460719435,
          0.1440112475445474,
          0.1271150105305184,
          0.1003429463639428,
          0.1130328366081124,
          0.1080862100692597,
          0.1052728274271362,
          0.1500065218593876,
          0.104377480276086,
          0.1004567857880955,
          0.1410118635513145,
          0.1203552290858568,
          0.1083337119807076,
          0.123087952792521,
          0.1037648098957975,
          0.1138647667546292,
          0.0817244897731895,
          0.1285305880841019,
          0.099277806333366,
          0.1440109336977062,
          0.1265009211544222,
          0.1002062213366701,
          0.1163489825408751,
          0.1100747940228965,
          0.1078310296118258,
          0.1500593219863878,
          0.1039467708672807,
          0.1007593985301122,
          0.1455092691099112,
          0.1200067090155873,
          0.1090696798956302,
          0.1283423273450714,
          0.103767374123547,
          0.1137159427436594,
          0.0864118454438378,
          0.1276587463182779,
          0.1024134452622311,
          0.1440112389447355,
          0.1193264277882057,
          0.1003878702735748,
          0.1269005627322516,
          0.1218356661041984,
          0.1062097560750495,
          0.1557044195912511,
          0.1107491129502242,
          0.099092057753618,
          0.1646391107923513,
          0.1473079286621328,
          0.1059418157492719,
          0.1538843033812131,
          0.1049230918919987,
          0.1156387719886221,
          0.0813782487893433,
          0.1306754542520877,
          0.1035596143485543,
          0.1501427189613884,
          0.1244953578135959,
          0.1021731203911284,
          0.1258707745342211,
          0.1296342272446278,
          0.123814093762932,
          0.1488061257607973,
          0.1204634174405663,
          0.0845830459497786,
          0.1496585154919106,
          0.1456469501147104,
          0.124770426596416,
          0.1336014529123664,
          0.1207299801813714,
          0.1051028012251184,
          0.08397914029503,
          0.1366171624435654,
          0.1209516456181013,
          0.1450952861819376,
          0.1424348756470003,
          0.1056869906290563
         ],
         "y0": " ",
         "yaxis": "y"
        },
        {
         "alignmentgroup": "True",
         "hovertemplate": "explanation=pd<br>split variable=%{x}<br>l2=%{y}<extra></extra>",
         "legendgroup": "pd",
         "marker": {
          "color": "#EF553B"
         },
         "name": "pd",
         "notched": false,
         "offsetgroup": "pd",
         "orientation": "v",
         "quartilemethod": "exclusive",
         "showlegend": true,
         "type": "box",
         "x": [
          "dist_weight 0.0",
          "dist_weight 0.0",
          "dist_weight 0.0",
          "dist_weight 0.0",
          "dist_weight 0.0",
          "dist_weight 0.0",
          "dist_weight 0.0",
          "dist_weight 0.0",
          "dist_weight 0.0",
          "dist_weight 0.0",
          "dist_weight 0.0",
          "dist_weight 0.0",
          "dist_weight 0.0",
          "dist_weight 0.0",
          "dist_weight 0.0",
          "dist_weight 0.0",
          "dist_weight 0.0",
          "dist_weight 0.0",
          "dist_weight 0.001",
          "dist_weight 0.001",
          "dist_weight 0.001",
          "dist_weight 0.001",
          "dist_weight 0.001",
          "dist_weight 0.001",
          "dist_weight 0.001",
          "dist_weight 0.001",
          "dist_weight 0.001",
          "dist_weight 0.001",
          "dist_weight 0.001",
          "dist_weight 0.001",
          "dist_weight 0.001",
          "dist_weight 0.001",
          "dist_weight 0.001",
          "dist_weight 0.001",
          "dist_weight 0.001",
          "dist_weight 0.001",
          "dist_weight 0.01",
          "dist_weight 0.01",
          "dist_weight 0.01",
          "dist_weight 0.01",
          "dist_weight 0.01",
          "dist_weight 0.01",
          "dist_weight 0.01",
          "dist_weight 0.01",
          "dist_weight 0.01",
          "dist_weight 0.01",
          "dist_weight 0.01",
          "dist_weight 0.01",
          "dist_weight 0.01",
          "dist_weight 0.01",
          "dist_weight 0.01",
          "dist_weight 0.01",
          "dist_weight 0.01",
          "dist_weight 0.01",
          "dist_weight 0.1",
          "dist_weight 0.1",
          "dist_weight 0.1",
          "dist_weight 0.1",
          "dist_weight 0.1",
          "dist_weight 0.1",
          "dist_weight 0.1",
          "dist_weight 0.1",
          "dist_weight 0.1",
          "dist_weight 0.1",
          "dist_weight 0.1",
          "dist_weight 0.1",
          "dist_weight 0.1",
          "dist_weight 0.1",
          "dist_weight 0.1",
          "dist_weight 0.1",
          "dist_weight 0.1",
          "dist_weight 0.1",
          "dist_weight 1.0",
          "dist_weight 1.0",
          "dist_weight 1.0",
          "dist_weight 1.0",
          "dist_weight 1.0",
          "dist_weight 1.0",
          "dist_weight 1.0",
          "dist_weight 1.0",
          "dist_weight 1.0",
          "dist_weight 1.0",
          "dist_weight 1.0",
          "dist_weight 1.0",
          "dist_weight 1.0",
          "dist_weight 1.0",
          "dist_weight 1.0",
          "dist_weight 1.0",
          "dist_weight 1.0",
          "dist_weight 1.0"
         ],
         "x0": " ",
         "xaxis": "x",
         "y": [
          0.17311472,
          0.18297817,
          0.1515572,
          0.20667116,
          0.163011,
          0.12010706,
          0.20430158,
          0.2101009,
          0.15270688,
          0.19806585,
          0.16660956,
          0.15498255,
          0.11169542,
          0.19943514,
          0.16951711,
          0.2148914,
          0.18448569,
          0.18208759,
          0.17330684,
          0.1844671,
          0.1520914,
          0.20666565,
          0.16528071,
          0.1255515,
          0.20556134,
          0.20996955,
          0.15596694,
          0.20017445,
          0.17270413,
          0.15789679,
          0.1146469,
          0.19944708,
          0.17148569,
          0.21489066,
          0.18555273,
          0.18277349,
          0.17723571,
          0.18761314,
          0.15294228,
          0.2066041,
          0.17322372,
          0.12594023,
          0.2087623,
          0.21083057,
          0.1555877,
          0.20778336,
          0.17413203,
          0.16199572,
          0.11498495,
          0.20193808,
          0.17861727,
          0.21325433,
          0.19078285,
          0.18357727,
          0.18306027,
          0.1915914,
          0.14926957,
          0.21251829,
          0.17515938,
          0.13008057,
          0.21808347,
          0.21800093,
          0.15806277,
          0.22058527,
          0.16122054,
          0.16743496,
          0.12252626,
          0.20271903,
          0.17480145,
          0.2153244,
          0.19660918,
          0.18440478,
          0.1672807,
          0.17191952,
          0.14140974,
          0.20102488,
          0.15785953,
          0.122281484,
          0.19251966,
          0.19146152,
          0.14750329,
          0.191796,
          0.14717987,
          0.1529056,
          0.11056479,
          0.19624957,
          0.15692055,
          0.20222409,
          0.17984806,
          0.16805482
         ],
         "y0": " ",
         "yaxis": "y"
        }
       ],
       "layout": {
        "boxmode": "group",
        "legend": {
         "title": {
          "text": "explanation"
         },
         "tracegroupgap": 0
        },
        "template": {
         "data": {
          "bar": [
           {
            "error_x": {
             "color": "#2a3f5f"
            },
            "error_y": {
             "color": "#2a3f5f"
            },
            "marker": {
             "line": {
              "color": "#E5ECF6",
              "width": 0.5
             },
             "pattern": {
              "fillmode": "overlay",
              "size": 10,
              "solidity": 0.2
             }
            },
            "type": "bar"
           }
          ],
          "barpolar": [
           {
            "marker": {
             "line": {
              "color": "#E5ECF6",
              "width": 0.5
             },
             "pattern": {
              "fillmode": "overlay",
              "size": 10,
              "solidity": 0.2
             }
            },
            "type": "barpolar"
           }
          ],
          "carpet": [
           {
            "aaxis": {
             "endlinecolor": "#2a3f5f",
             "gridcolor": "white",
             "linecolor": "white",
             "minorgridcolor": "white",
             "startlinecolor": "#2a3f5f"
            },
            "baxis": {
             "endlinecolor": "#2a3f5f",
             "gridcolor": "white",
             "linecolor": "white",
             "minorgridcolor": "white",
             "startlinecolor": "#2a3f5f"
            },
            "type": "carpet"
           }
          ],
          "choropleth": [
           {
            "colorbar": {
             "outlinewidth": 0,
             "ticks": ""
            },
            "type": "choropleth"
           }
          ],
          "contour": [
           {
            "colorbar": {
             "outlinewidth": 0,
             "ticks": ""
            },
            "colorscale": [
             [
              0,
              "#0d0887"
             ],
             [
              0.1111111111111111,
              "#46039f"
             ],
             [
              0.2222222222222222,
              "#7201a8"
             ],
             [
              0.3333333333333333,
              "#9c179e"
             ],
             [
              0.4444444444444444,
              "#bd3786"
             ],
             [
              0.5555555555555556,
              "#d8576b"
             ],
             [
              0.6666666666666666,
              "#ed7953"
             ],
             [
              0.7777777777777778,
              "#fb9f3a"
             ],
             [
              0.8888888888888888,
              "#fdca26"
             ],
             [
              1,
              "#f0f921"
             ]
            ],
            "type": "contour"
           }
          ],
          "contourcarpet": [
           {
            "colorbar": {
             "outlinewidth": 0,
             "ticks": ""
            },
            "type": "contourcarpet"
           }
          ],
          "heatmap": [
           {
            "colorbar": {
             "outlinewidth": 0,
             "ticks": ""
            },
            "colorscale": [
             [
              0,
              "#0d0887"
             ],
             [
              0.1111111111111111,
              "#46039f"
             ],
             [
              0.2222222222222222,
              "#7201a8"
             ],
             [
              0.3333333333333333,
              "#9c179e"
             ],
             [
              0.4444444444444444,
              "#bd3786"
             ],
             [
              0.5555555555555556,
              "#d8576b"
             ],
             [
              0.6666666666666666,
              "#ed7953"
             ],
             [
              0.7777777777777778,
              "#fb9f3a"
             ],
             [
              0.8888888888888888,
              "#fdca26"
             ],
             [
              1,
              "#f0f921"
             ]
            ],
            "type": "heatmap"
           }
          ],
          "heatmapgl": [
           {
            "colorbar": {
             "outlinewidth": 0,
             "ticks": ""
            },
            "colorscale": [
             [
              0,
              "#0d0887"
             ],
             [
              0.1111111111111111,
              "#46039f"
             ],
             [
              0.2222222222222222,
              "#7201a8"
             ],
             [
              0.3333333333333333,
              "#9c179e"
             ],
             [
              0.4444444444444444,
              "#bd3786"
             ],
             [
              0.5555555555555556,
              "#d8576b"
             ],
             [
              0.6666666666666666,
              "#ed7953"
             ],
             [
              0.7777777777777778,
              "#fb9f3a"
             ],
             [
              0.8888888888888888,
              "#fdca26"
             ],
             [
              1,
              "#f0f921"
             ]
            ],
            "type": "heatmapgl"
           }
          ],
          "histogram": [
           {
            "marker": {
             "pattern": {
              "fillmode": "overlay",
              "size": 10,
              "solidity": 0.2
             }
            },
            "type": "histogram"
           }
          ],
          "histogram2d": [
           {
            "colorbar": {
             "outlinewidth": 0,
             "ticks": ""
            },
            "colorscale": [
             [
              0,
              "#0d0887"
             ],
             [
              0.1111111111111111,
              "#46039f"
             ],
             [
              0.2222222222222222,
              "#7201a8"
             ],
             [
              0.3333333333333333,
              "#9c179e"
             ],
             [
              0.4444444444444444,
              "#bd3786"
             ],
             [
              0.5555555555555556,
              "#d8576b"
             ],
             [
              0.6666666666666666,
              "#ed7953"
             ],
             [
              0.7777777777777778,
              "#fb9f3a"
             ],
             [
              0.8888888888888888,
              "#fdca26"
             ],
             [
              1,
              "#f0f921"
             ]
            ],
            "type": "histogram2d"
           }
          ],
          "histogram2dcontour": [
           {
            "colorbar": {
             "outlinewidth": 0,
             "ticks": ""
            },
            "colorscale": [
             [
              0,
              "#0d0887"
             ],
             [
              0.1111111111111111,
              "#46039f"
             ],
             [
              0.2222222222222222,
              "#7201a8"
             ],
             [
              0.3333333333333333,
              "#9c179e"
             ],
             [
              0.4444444444444444,
              "#bd3786"
             ],
             [
              0.5555555555555556,
              "#d8576b"
             ],
             [
              0.6666666666666666,
              "#ed7953"
             ],
             [
              0.7777777777777778,
              "#fb9f3a"
             ],
             [
              0.8888888888888888,
              "#fdca26"
             ],
             [
              1,
              "#f0f921"
             ]
            ],
            "type": "histogram2dcontour"
           }
          ],
          "mesh3d": [
           {
            "colorbar": {
             "outlinewidth": 0,
             "ticks": ""
            },
            "type": "mesh3d"
           }
          ],
          "parcoords": [
           {
            "line": {
             "colorbar": {
              "outlinewidth": 0,
              "ticks": ""
             }
            },
            "type": "parcoords"
           }
          ],
          "pie": [
           {
            "automargin": true,
            "type": "pie"
           }
          ],
          "scatter": [
           {
            "fillpattern": {
             "fillmode": "overlay",
             "size": 10,
             "solidity": 0.2
            },
            "type": "scatter"
           }
          ],
          "scatter3d": [
           {
            "line": {
             "colorbar": {
              "outlinewidth": 0,
              "ticks": ""
             }
            },
            "marker": {
             "colorbar": {
              "outlinewidth": 0,
              "ticks": ""
             }
            },
            "type": "scatter3d"
           }
          ],
          "scattercarpet": [
           {
            "marker": {
             "colorbar": {
              "outlinewidth": 0,
              "ticks": ""
             }
            },
            "type": "scattercarpet"
           }
          ],
          "scattergeo": [
           {
            "marker": {
             "colorbar": {
              "outlinewidth": 0,
              "ticks": ""
             }
            },
            "type": "scattergeo"
           }
          ],
          "scattergl": [
           {
            "marker": {
             "colorbar": {
              "outlinewidth": 0,
              "ticks": ""
             }
            },
            "type": "scattergl"
           }
          ],
          "scattermapbox": [
           {
            "marker": {
             "colorbar": {
              "outlinewidth": 0,
              "ticks": ""
             }
            },
            "type": "scattermapbox"
           }
          ],
          "scatterpolar": [
           {
            "marker": {
             "colorbar": {
              "outlinewidth": 0,
              "ticks": ""
             }
            },
            "type": "scatterpolar"
           }
          ],
          "scatterpolargl": [
           {
            "marker": {
             "colorbar": {
              "outlinewidth": 0,
              "ticks": ""
             }
            },
            "type": "scatterpolargl"
           }
          ],
          "scatterternary": [
           {
            "marker": {
             "colorbar": {
              "outlinewidth": 0,
              "ticks": ""
             }
            },
            "type": "scatterternary"
           }
          ],
          "surface": [
           {
            "colorbar": {
             "outlinewidth": 0,
             "ticks": ""
            },
            "colorscale": [
             [
              0,
              "#0d0887"
             ],
             [
              0.1111111111111111,
              "#46039f"
             ],
             [
              0.2222222222222222,
              "#7201a8"
             ],
             [
              0.3333333333333333,
              "#9c179e"
             ],
             [
              0.4444444444444444,
              "#bd3786"
             ],
             [
              0.5555555555555556,
              "#d8576b"
             ],
             [
              0.6666666666666666,
              "#ed7953"
             ],
             [
              0.7777777777777778,
              "#fb9f3a"
             ],
             [
              0.8888888888888888,
              "#fdca26"
             ],
             [
              1,
              "#f0f921"
             ]
            ],
            "type": "surface"
           }
          ],
          "table": [
           {
            "cells": {
             "fill": {
              "color": "#EBF0F8"
             },
             "line": {
              "color": "white"
             }
            },
            "header": {
             "fill": {
              "color": "#C8D4E3"
             },
             "line": {
              "color": "white"
             }
            },
            "type": "table"
           }
          ]
         },
         "layout": {
          "annotationdefaults": {
           "arrowcolor": "#2a3f5f",
           "arrowhead": 0,
           "arrowwidth": 1
          },
          "autotypenumbers": "strict",
          "coloraxis": {
           "colorbar": {
            "outlinewidth": 0,
            "ticks": ""
           }
          },
          "colorscale": {
           "diverging": [
            [
             0,
             "#8e0152"
            ],
            [
             0.1,
             "#c51b7d"
            ],
            [
             0.2,
             "#de77ae"
            ],
            [
             0.3,
             "#f1b6da"
            ],
            [
             0.4,
             "#fde0ef"
            ],
            [
             0.5,
             "#f7f7f7"
            ],
            [
             0.6,
             "#e6f5d0"
            ],
            [
             0.7,
             "#b8e186"
            ],
            [
             0.8,
             "#7fbc41"
            ],
            [
             0.9,
             "#4d9221"
            ],
            [
             1,
             "#276419"
            ]
           ],
           "sequential": [
            [
             0,
             "#0d0887"
            ],
            [
             0.1111111111111111,
             "#46039f"
            ],
            [
             0.2222222222222222,
             "#7201a8"
            ],
            [
             0.3333333333333333,
             "#9c179e"
            ],
            [
             0.4444444444444444,
             "#bd3786"
            ],
            [
             0.5555555555555556,
             "#d8576b"
            ],
            [
             0.6666666666666666,
             "#ed7953"
            ],
            [
             0.7777777777777778,
             "#fb9f3a"
            ],
            [
             0.8888888888888888,
             "#fdca26"
            ],
            [
             1,
             "#f0f921"
            ]
           ],
           "sequentialminus": [
            [
             0,
             "#0d0887"
            ],
            [
             0.1111111111111111,
             "#46039f"
            ],
            [
             0.2222222222222222,
             "#7201a8"
            ],
            [
             0.3333333333333333,
             "#9c179e"
            ],
            [
             0.4444444444444444,
             "#bd3786"
            ],
            [
             0.5555555555555556,
             "#d8576b"
            ],
            [
             0.6666666666666666,
             "#ed7953"
            ],
            [
             0.7777777777777778,
             "#fb9f3a"
            ],
            [
             0.8888888888888888,
             "#fdca26"
            ],
            [
             1,
             "#f0f921"
            ]
           ]
          },
          "colorway": [
           "#636efa",
           "#EF553B",
           "#00cc96",
           "#ab63fa",
           "#FFA15A",
           "#19d3f3",
           "#FF6692",
           "#B6E880",
           "#FF97FF",
           "#FECB52"
          ],
          "font": {
           "color": "#2a3f5f"
          },
          "geo": {
           "bgcolor": "white",
           "lakecolor": "white",
           "landcolor": "#E5ECF6",
           "showlakes": true,
           "showland": true,
           "subunitcolor": "white"
          },
          "hoverlabel": {
           "align": "left"
          },
          "hovermode": "closest",
          "mapbox": {
           "style": "light"
          },
          "paper_bgcolor": "white",
          "plot_bgcolor": "#E5ECF6",
          "polar": {
           "angularaxis": {
            "gridcolor": "white",
            "linecolor": "white",
            "ticks": ""
           },
           "bgcolor": "#E5ECF6",
           "radialaxis": {
            "gridcolor": "white",
            "linecolor": "white",
            "ticks": ""
           }
          },
          "scene": {
           "xaxis": {
            "backgroundcolor": "#E5ECF6",
            "gridcolor": "white",
            "gridwidth": 2,
            "linecolor": "white",
            "showbackground": true,
            "ticks": "",
            "zerolinecolor": "white"
           },
           "yaxis": {
            "backgroundcolor": "#E5ECF6",
            "gridcolor": "white",
            "gridwidth": 2,
            "linecolor": "white",
            "showbackground": true,
            "ticks": "",
            "zerolinecolor": "white"
           },
           "zaxis": {
            "backgroundcolor": "#E5ECF6",
            "gridcolor": "white",
            "gridwidth": 2,
            "linecolor": "white",
            "showbackground": true,
            "ticks": "",
            "zerolinecolor": "white"
           }
          },
          "shapedefaults": {
           "line": {
            "color": "#2a3f5f"
           }
          },
          "ternary": {
           "aaxis": {
            "gridcolor": "white",
            "linecolor": "white",
            "ticks": ""
           },
           "baxis": {
            "gridcolor": "white",
            "linecolor": "white",
            "ticks": ""
           },
           "bgcolor": "#E5ECF6",
           "caxis": {
            "gridcolor": "white",
            "linecolor": "white",
            "ticks": ""
           }
          },
          "title": {
           "x": 0.05
          },
          "xaxis": {
           "automargin": true,
           "gridcolor": "white",
           "linecolor": "white",
           "ticks": "",
           "title": {
            "standoff": 15
           },
           "zerolinecolor": "white",
           "zerolinewidth": 2
          },
          "yaxis": {
           "automargin": true,
           "gridcolor": "white",
           "linecolor": "white",
           "ticks": "",
           "title": {
            "standoff": 15
           },
           "zerolinecolor": "white",
           "zerolinewidth": 2
          }
         }
        },
        "title": {
         "text": "bike, variable atemp, split by dist_weight"
        },
        "xaxis": {
         "anchor": "y",
         "domain": [
          0,
          1
         ],
         "title": {
          "text": "split variable"
         }
        },
        "yaxis": {
         "anchor": "x",
         "domain": [
          0,
          1
         ],
         "title": {
          "text": "l2"
         }
        }
       }
      }
     },
     "metadata": {},
     "output_type": "display_data"
    },
    {
     "data": {
      "application/vnd.plotly.v1+json": {
       "config": {
        "plotlyServerURL": "https://plot.ly"
       },
       "data": [
        {
         "alignmentgroup": "True",
         "hovertemplate": "explanation=ale<br>split variable=%{x}<br>l2=%{y}<extra></extra>",
         "legendgroup": "ale",
         "marker": {
          "color": "#636efa"
         },
         "name": "ale",
         "notched": false,
         "offsetgroup": "ale",
         "orientation": "v",
         "quartilemethod": "exclusive",
         "showlegend": true,
         "type": "box",
         "x": [
          "dist_weight 0.0",
          "dist_weight 0.0",
          "dist_weight 0.0",
          "dist_weight 0.0",
          "dist_weight 0.0",
          "dist_weight 0.0",
          "dist_weight 0.0",
          "dist_weight 0.0",
          "dist_weight 0.0",
          "dist_weight 0.0",
          "dist_weight 0.0",
          "dist_weight 0.0",
          "dist_weight 0.0",
          "dist_weight 0.0",
          "dist_weight 0.0",
          "dist_weight 0.0",
          "dist_weight 0.0",
          "dist_weight 0.0",
          "dist_weight 0.0001",
          "dist_weight 0.0001",
          "dist_weight 0.0001",
          "dist_weight 0.0001",
          "dist_weight 0.0001",
          "dist_weight 0.0001",
          "dist_weight 0.0001",
          "dist_weight 0.0001",
          "dist_weight 0.0001",
          "dist_weight 0.0001",
          "dist_weight 0.0001",
          "dist_weight 0.0001",
          "dist_weight 0.0001",
          "dist_weight 0.0001",
          "dist_weight 0.0001",
          "dist_weight 0.0001",
          "dist_weight 0.0001",
          "dist_weight 0.0001",
          "dist_weight 0.001",
          "dist_weight 0.001",
          "dist_weight 0.001",
          "dist_weight 0.001",
          "dist_weight 0.001",
          "dist_weight 0.001",
          "dist_weight 0.001",
          "dist_weight 0.001",
          "dist_weight 0.001",
          "dist_weight 0.001",
          "dist_weight 0.001",
          "dist_weight 0.001",
          "dist_weight 0.001",
          "dist_weight 0.001",
          "dist_weight 0.001",
          "dist_weight 0.001",
          "dist_weight 0.001",
          "dist_weight 0.001",
          "dist_weight 0.01",
          "dist_weight 0.01",
          "dist_weight 0.01",
          "dist_weight 0.01",
          "dist_weight 0.01",
          "dist_weight 0.01",
          "dist_weight 0.01",
          "dist_weight 0.01",
          "dist_weight 0.01",
          "dist_weight 0.01",
          "dist_weight 0.01",
          "dist_weight 0.01",
          "dist_weight 0.01",
          "dist_weight 0.01",
          "dist_weight 0.01",
          "dist_weight 0.01",
          "dist_weight 0.01",
          "dist_weight 0.01",
          "dist_weight 0.1",
          "dist_weight 0.1",
          "dist_weight 0.1",
          "dist_weight 0.1",
          "dist_weight 0.1",
          "dist_weight 0.1",
          "dist_weight 0.1",
          "dist_weight 0.1",
          "dist_weight 0.1",
          "dist_weight 0.1",
          "dist_weight 0.1",
          "dist_weight 0.1",
          "dist_weight 0.1",
          "dist_weight 0.1",
          "dist_weight 0.1",
          "dist_weight 0.1",
          "dist_weight 0.1",
          "dist_weight 0.1",
          "dist_weight 1.0",
          "dist_weight 1.0",
          "dist_weight 1.0",
          "dist_weight 1.0",
          "dist_weight 1.0",
          "dist_weight 1.0",
          "dist_weight 1.0",
          "dist_weight 1.0",
          "dist_weight 1.0",
          "dist_weight 1.0",
          "dist_weight 1.0",
          "dist_weight 1.0",
          "dist_weight 1.0",
          "dist_weight 1.0",
          "dist_weight 1.0",
          "dist_weight 1.0",
          "dist_weight 1.0",
          "dist_weight 1.0"
         ],
         "x0": " ",
         "xaxis": "x",
         "y": [
          0.0259807625595819,
          0.0098192542323893,
          0.0261116781639679,
          0.0108772389923749,
          0.0146983529875299,
          0.0171980651882136,
          0.0191052369732975,
          0.0253532322362052,
          0.0051705117121875,
          0.0194184788452379,
          0.0181489543364259,
          0.0188509845832908,
          0.0188065852132753,
          0.0045660073162971,
          0.0158879470599378,
          0.0318238792607104,
          0.0045350798220152,
          0.0134558784100118,
          0.0257256863622506,
          0.0093753747164654,
          0.0266036724852207,
          0.0104683100528623,
          0.0146898322583807,
          0.0173917206597937,
          0.0186643348473585,
          0.0262296937456062,
          0.0061638634300022,
          0.0182490801445411,
          0.0146202857110225,
          0.0166369439426244,
          0.0196199507245015,
          0.0049570295313662,
          0.0201285536616555,
          0.0334673959744393,
          0.0042423480773107,
          0.012962057256441,
          0.0158858867601698,
          0.0124559149555852,
          0.0288596214940667,
          0.0104699737290061,
          0.0151293612163997,
          0.0188973409382521,
          0.0198361279291897,
          0.0297779894470563,
          0.00580506717732,
          0.0168465718461403,
          0.0132664917319272,
          0.0187402839856546,
          0.0216869943524126,
          0.0044384338548327,
          0.020407410004931,
          0.0338917477607053,
          0.0050685363436445,
          0.0119202315141813,
          0.0184682847173295,
          0.0113593513306004,
          0.0245670716642891,
          0.0135352768879465,
          0.0198227467383591,
          0.0122297550178236,
          0.0211387053600664,
          0.0285025946033117,
          0.0057825156902411,
          0.0229723164002169,
          0.0150173869631317,
          0.0180984326665715,
          0.0196635470457009,
          0.0014134230358546,
          0.0177930404858198,
          0.0316247410961225,
          0.0067336226973003,
          0.0155957953145658,
          0.0110965283600631,
          0.0089001031504707,
          0.0206078508066329,
          0.0075567536863465,
          0.0096648680306596,
          0.0181709185480069,
          0.0154395586012691,
          0.0169177379820487,
          0.0056330096883025,
          0.0182782817035288,
          0.0102059765688699,
          0.0198203745556633,
          0.0181097069299128,
          0.0018857832813316,
          0.0172976417754694,
          0.0255524288186911,
          0.0056053606420989,
          0.0137595915335533,
          0.0103802942729156,
          0.0052758733437278,
          0.0069798564610283,
          0.0039046841440163,
          0.003747370186899,
          0.0098316785200772,
          0.0047771045037335,
          0.0060309801397477,
          0.0039646107734242,
          0.0060057803613696,
          0.0055678136818727,
          0.0115471625939312,
          0.0068406690440167,
          0.003251867749482,
          0.0117760413260053,
          0.0047276791498008,
          0.0049923688145028,
          0.0065361138637882
         ],
         "y0": " ",
         "yaxis": "y"
        },
        {
         "alignmentgroup": "True",
         "hovertemplate": "explanation=pd<br>split variable=%{x}<br>l2=%{y}<extra></extra>",
         "legendgroup": "pd",
         "marker": {
          "color": "#EF553B"
         },
         "name": "pd",
         "notched": false,
         "offsetgroup": "pd",
         "orientation": "v",
         "quartilemethod": "exclusive",
         "showlegend": true,
         "type": "box",
         "x": [
          "dist_weight 0.0",
          "dist_weight 0.0",
          "dist_weight 0.0",
          "dist_weight 0.0",
          "dist_weight 0.0",
          "dist_weight 0.0",
          "dist_weight 0.0",
          "dist_weight 0.0",
          "dist_weight 0.0",
          "dist_weight 0.0",
          "dist_weight 0.0",
          "dist_weight 0.0",
          "dist_weight 0.0",
          "dist_weight 0.0",
          "dist_weight 0.0",
          "dist_weight 0.0",
          "dist_weight 0.0",
          "dist_weight 0.0",
          "dist_weight 0.0001",
          "dist_weight 0.0001",
          "dist_weight 0.0001",
          "dist_weight 0.0001",
          "dist_weight 0.0001",
          "dist_weight 0.0001",
          "dist_weight 0.0001",
          "dist_weight 0.0001",
          "dist_weight 0.0001",
          "dist_weight 0.0001",
          "dist_weight 0.0001",
          "dist_weight 0.0001",
          "dist_weight 0.0001",
          "dist_weight 0.0001",
          "dist_weight 0.0001",
          "dist_weight 0.0001",
          "dist_weight 0.0001",
          "dist_weight 0.0001",
          "dist_weight 0.001",
          "dist_weight 0.001",
          "dist_weight 0.001",
          "dist_weight 0.001",
          "dist_weight 0.001",
          "dist_weight 0.001",
          "dist_weight 0.001",
          "dist_weight 0.001",
          "dist_weight 0.001",
          "dist_weight 0.001",
          "dist_weight 0.001",
          "dist_weight 0.001",
          "dist_weight 0.001",
          "dist_weight 0.001",
          "dist_weight 0.001",
          "dist_weight 0.001",
          "dist_weight 0.001",
          "dist_weight 0.001",
          "dist_weight 0.01",
          "dist_weight 0.01",
          "dist_weight 0.01",
          "dist_weight 0.01",
          "dist_weight 0.01",
          "dist_weight 0.01",
          "dist_weight 0.01",
          "dist_weight 0.01",
          "dist_weight 0.01",
          "dist_weight 0.01",
          "dist_weight 0.01",
          "dist_weight 0.01",
          "dist_weight 0.01",
          "dist_weight 0.01",
          "dist_weight 0.01",
          "dist_weight 0.01",
          "dist_weight 0.01",
          "dist_weight 0.01",
          "dist_weight 0.1",
          "dist_weight 0.1",
          "dist_weight 0.1",
          "dist_weight 0.1",
          "dist_weight 0.1",
          "dist_weight 0.1",
          "dist_weight 0.1",
          "dist_weight 0.1",
          "dist_weight 0.1",
          "dist_weight 0.1",
          "dist_weight 0.1",
          "dist_weight 0.1",
          "dist_weight 0.1",
          "dist_weight 0.1",
          "dist_weight 0.1",
          "dist_weight 0.1",
          "dist_weight 0.1",
          "dist_weight 0.1",
          "dist_weight 1.0",
          "dist_weight 1.0",
          "dist_weight 1.0",
          "dist_weight 1.0",
          "dist_weight 1.0",
          "dist_weight 1.0",
          "dist_weight 1.0",
          "dist_weight 1.0",
          "dist_weight 1.0",
          "dist_weight 1.0",
          "dist_weight 1.0",
          "dist_weight 1.0",
          "dist_weight 1.0",
          "dist_weight 1.0",
          "dist_weight 1.0",
          "dist_weight 1.0",
          "dist_weight 1.0",
          "dist_weight 1.0"
         ],
         "x0": " ",
         "xaxis": "x",
         "y": [
          0.026928399,
          0.01773797,
          0.03763625,
          0.012314238,
          0.013707007,
          0.030071426,
          0.025533503,
          0.038270883,
          0.008745985,
          0.024021205,
          0.027047012,
          0.024480185,
          0.02358293,
          0.004048742,
          0.024131158,
          0.038755808,
          0.006982474,
          0.016893663,
          0.027009448,
          0.017080257,
          0.0381983,
          0.012209171,
          0.013706017,
          0.030281462,
          0.025192851,
          0.038216684,
          0.008509497,
          0.023856271,
          0.027050521,
          0.024743058,
          0.023526063,
          0.0042272666,
          0.02488532,
          0.039354138,
          0.0075021614,
          0.016985532,
          0.026920214,
          0.017183194,
          0.036744613,
          0.012233496,
          0.014893608,
          0.030142967,
          0.0251843,
          0.037277117,
          0.008449353,
          0.024209078,
          0.026401047,
          0.024699097,
          0.023952473,
          0.0039295214,
          0.025646571,
          0.038766347,
          0.007749333,
          0.016945839,
          0.025584808,
          0.011301279,
          0.033288322,
          0.013212402,
          0.028067736,
          0.016483188,
          0.024578854,
          0.03127747,
          0.008229412,
          0.023492476,
          0.024274923,
          0.024720702,
          0.022770919,
          0.0039952537,
          0.024475537,
          0.034764558,
          0.007294147,
          0.016904743,
          0.022116618,
          0.013365896,
          0.023427758,
          0.0074855913,
          0.0071693887,
          0.023065595,
          0.0190002,
          0.01829604,
          0.006327754,
          0.018166432,
          0.016710205,
          0.023307929,
          0.01694547,
          0.0033473345,
          0.021901015,
          0.0241998,
          0.005981397,
          0.015666306,
          0.010280939,
          0.0044605476,
          0.0073180995,
          0.0025581631,
          0.003160068,
          0.0105019435,
          0.0047387993,
          0.004957974,
          0.0025847186,
          0.0062746718,
          0.0059508453,
          0.0133982785,
          0.005527885,
          0.004257699,
          0.011264197,
          0.0056082974,
          0.0034239718,
          0.007406019
         ],
         "y0": " ",
         "yaxis": "y"
        }
       ],
       "layout": {
        "boxmode": "group",
        "legend": {
         "title": {
          "text": "explanation"
         },
         "tracegroupgap": 0
        },
        "template": {
         "data": {
          "bar": [
           {
            "error_x": {
             "color": "#2a3f5f"
            },
            "error_y": {
             "color": "#2a3f5f"
            },
            "marker": {
             "line": {
              "color": "#E5ECF6",
              "width": 0.5
             },
             "pattern": {
              "fillmode": "overlay",
              "size": 10,
              "solidity": 0.2
             }
            },
            "type": "bar"
           }
          ],
          "barpolar": [
           {
            "marker": {
             "line": {
              "color": "#E5ECF6",
              "width": 0.5
             },
             "pattern": {
              "fillmode": "overlay",
              "size": 10,
              "solidity": 0.2
             }
            },
            "type": "barpolar"
           }
          ],
          "carpet": [
           {
            "aaxis": {
             "endlinecolor": "#2a3f5f",
             "gridcolor": "white",
             "linecolor": "white",
             "minorgridcolor": "white",
             "startlinecolor": "#2a3f5f"
            },
            "baxis": {
             "endlinecolor": "#2a3f5f",
             "gridcolor": "white",
             "linecolor": "white",
             "minorgridcolor": "white",
             "startlinecolor": "#2a3f5f"
            },
            "type": "carpet"
           }
          ],
          "choropleth": [
           {
            "colorbar": {
             "outlinewidth": 0,
             "ticks": ""
            },
            "type": "choropleth"
           }
          ],
          "contour": [
           {
            "colorbar": {
             "outlinewidth": 0,
             "ticks": ""
            },
            "colorscale": [
             [
              0,
              "#0d0887"
             ],
             [
              0.1111111111111111,
              "#46039f"
             ],
             [
              0.2222222222222222,
              "#7201a8"
             ],
             [
              0.3333333333333333,
              "#9c179e"
             ],
             [
              0.4444444444444444,
              "#bd3786"
             ],
             [
              0.5555555555555556,
              "#d8576b"
             ],
             [
              0.6666666666666666,
              "#ed7953"
             ],
             [
              0.7777777777777778,
              "#fb9f3a"
             ],
             [
              0.8888888888888888,
              "#fdca26"
             ],
             [
              1,
              "#f0f921"
             ]
            ],
            "type": "contour"
           }
          ],
          "contourcarpet": [
           {
            "colorbar": {
             "outlinewidth": 0,
             "ticks": ""
            },
            "type": "contourcarpet"
           }
          ],
          "heatmap": [
           {
            "colorbar": {
             "outlinewidth": 0,
             "ticks": ""
            },
            "colorscale": [
             [
              0,
              "#0d0887"
             ],
             [
              0.1111111111111111,
              "#46039f"
             ],
             [
              0.2222222222222222,
              "#7201a8"
             ],
             [
              0.3333333333333333,
              "#9c179e"
             ],
             [
              0.4444444444444444,
              "#bd3786"
             ],
             [
              0.5555555555555556,
              "#d8576b"
             ],
             [
              0.6666666666666666,
              "#ed7953"
             ],
             [
              0.7777777777777778,
              "#fb9f3a"
             ],
             [
              0.8888888888888888,
              "#fdca26"
             ],
             [
              1,
              "#f0f921"
             ]
            ],
            "type": "heatmap"
           }
          ],
          "heatmapgl": [
           {
            "colorbar": {
             "outlinewidth": 0,
             "ticks": ""
            },
            "colorscale": [
             [
              0,
              "#0d0887"
             ],
             [
              0.1111111111111111,
              "#46039f"
             ],
             [
              0.2222222222222222,
              "#7201a8"
             ],
             [
              0.3333333333333333,
              "#9c179e"
             ],
             [
              0.4444444444444444,
              "#bd3786"
             ],
             [
              0.5555555555555556,
              "#d8576b"
             ],
             [
              0.6666666666666666,
              "#ed7953"
             ],
             [
              0.7777777777777778,
              "#fb9f3a"
             ],
             [
              0.8888888888888888,
              "#fdca26"
             ],
             [
              1,
              "#f0f921"
             ]
            ],
            "type": "heatmapgl"
           }
          ],
          "histogram": [
           {
            "marker": {
             "pattern": {
              "fillmode": "overlay",
              "size": 10,
              "solidity": 0.2
             }
            },
            "type": "histogram"
           }
          ],
          "histogram2d": [
           {
            "colorbar": {
             "outlinewidth": 0,
             "ticks": ""
            },
            "colorscale": [
             [
              0,
              "#0d0887"
             ],
             [
              0.1111111111111111,
              "#46039f"
             ],
             [
              0.2222222222222222,
              "#7201a8"
             ],
             [
              0.3333333333333333,
              "#9c179e"
             ],
             [
              0.4444444444444444,
              "#bd3786"
             ],
             [
              0.5555555555555556,
              "#d8576b"
             ],
             [
              0.6666666666666666,
              "#ed7953"
             ],
             [
              0.7777777777777778,
              "#fb9f3a"
             ],
             [
              0.8888888888888888,
              "#fdca26"
             ],
             [
              1,
              "#f0f921"
             ]
            ],
            "type": "histogram2d"
           }
          ],
          "histogram2dcontour": [
           {
            "colorbar": {
             "outlinewidth": 0,
             "ticks": ""
            },
            "colorscale": [
             [
              0,
              "#0d0887"
             ],
             [
              0.1111111111111111,
              "#46039f"
             ],
             [
              0.2222222222222222,
              "#7201a8"
             ],
             [
              0.3333333333333333,
              "#9c179e"
             ],
             [
              0.4444444444444444,
              "#bd3786"
             ],
             [
              0.5555555555555556,
              "#d8576b"
             ],
             [
              0.6666666666666666,
              "#ed7953"
             ],
             [
              0.7777777777777778,
              "#fb9f3a"
             ],
             [
              0.8888888888888888,
              "#fdca26"
             ],
             [
              1,
              "#f0f921"
             ]
            ],
            "type": "histogram2dcontour"
           }
          ],
          "mesh3d": [
           {
            "colorbar": {
             "outlinewidth": 0,
             "ticks": ""
            },
            "type": "mesh3d"
           }
          ],
          "parcoords": [
           {
            "line": {
             "colorbar": {
              "outlinewidth": 0,
              "ticks": ""
             }
            },
            "type": "parcoords"
           }
          ],
          "pie": [
           {
            "automargin": true,
            "type": "pie"
           }
          ],
          "scatter": [
           {
            "fillpattern": {
             "fillmode": "overlay",
             "size": 10,
             "solidity": 0.2
            },
            "type": "scatter"
           }
          ],
          "scatter3d": [
           {
            "line": {
             "colorbar": {
              "outlinewidth": 0,
              "ticks": ""
             }
            },
            "marker": {
             "colorbar": {
              "outlinewidth": 0,
              "ticks": ""
             }
            },
            "type": "scatter3d"
           }
          ],
          "scattercarpet": [
           {
            "marker": {
             "colorbar": {
              "outlinewidth": 0,
              "ticks": ""
             }
            },
            "type": "scattercarpet"
           }
          ],
          "scattergeo": [
           {
            "marker": {
             "colorbar": {
              "outlinewidth": 0,
              "ticks": ""
             }
            },
            "type": "scattergeo"
           }
          ],
          "scattergl": [
           {
            "marker": {
             "colorbar": {
              "outlinewidth": 0,
              "ticks": ""
             }
            },
            "type": "scattergl"
           }
          ],
          "scattermapbox": [
           {
            "marker": {
             "colorbar": {
              "outlinewidth": 0,
              "ticks": ""
             }
            },
            "type": "scattermapbox"
           }
          ],
          "scatterpolar": [
           {
            "marker": {
             "colorbar": {
              "outlinewidth": 0,
              "ticks": ""
             }
            },
            "type": "scatterpolar"
           }
          ],
          "scatterpolargl": [
           {
            "marker": {
             "colorbar": {
              "outlinewidth": 0,
              "ticks": ""
             }
            },
            "type": "scatterpolargl"
           }
          ],
          "scatterternary": [
           {
            "marker": {
             "colorbar": {
              "outlinewidth": 0,
              "ticks": ""
             }
            },
            "type": "scatterternary"
           }
          ],
          "surface": [
           {
            "colorbar": {
             "outlinewidth": 0,
             "ticks": ""
            },
            "colorscale": [
             [
              0,
              "#0d0887"
             ],
             [
              0.1111111111111111,
              "#46039f"
             ],
             [
              0.2222222222222222,
              "#7201a8"
             ],
             [
              0.3333333333333333,
              "#9c179e"
             ],
             [
              0.4444444444444444,
              "#bd3786"
             ],
             [
              0.5555555555555556,
              "#d8576b"
             ],
             [
              0.6666666666666666,
              "#ed7953"
             ],
             [
              0.7777777777777778,
              "#fb9f3a"
             ],
             [
              0.8888888888888888,
              "#fdca26"
             ],
             [
              1,
              "#f0f921"
             ]
            ],
            "type": "surface"
           }
          ],
          "table": [
           {
            "cells": {
             "fill": {
              "color": "#EBF0F8"
             },
             "line": {
              "color": "white"
             }
            },
            "header": {
             "fill": {
              "color": "#C8D4E3"
             },
             "line": {
              "color": "white"
             }
            },
            "type": "table"
           }
          ]
         },
         "layout": {
          "annotationdefaults": {
           "arrowcolor": "#2a3f5f",
           "arrowhead": 0,
           "arrowwidth": 1
          },
          "autotypenumbers": "strict",
          "coloraxis": {
           "colorbar": {
            "outlinewidth": 0,
            "ticks": ""
           }
          },
          "colorscale": {
           "diverging": [
            [
             0,
             "#8e0152"
            ],
            [
             0.1,
             "#c51b7d"
            ],
            [
             0.2,
             "#de77ae"
            ],
            [
             0.3,
             "#f1b6da"
            ],
            [
             0.4,
             "#fde0ef"
            ],
            [
             0.5,
             "#f7f7f7"
            ],
            [
             0.6,
             "#e6f5d0"
            ],
            [
             0.7,
             "#b8e186"
            ],
            [
             0.8,
             "#7fbc41"
            ],
            [
             0.9,
             "#4d9221"
            ],
            [
             1,
             "#276419"
            ]
           ],
           "sequential": [
            [
             0,
             "#0d0887"
            ],
            [
             0.1111111111111111,
             "#46039f"
            ],
            [
             0.2222222222222222,
             "#7201a8"
            ],
            [
             0.3333333333333333,
             "#9c179e"
            ],
            [
             0.4444444444444444,
             "#bd3786"
            ],
            [
             0.5555555555555556,
             "#d8576b"
            ],
            [
             0.6666666666666666,
             "#ed7953"
            ],
            [
             0.7777777777777778,
             "#fb9f3a"
            ],
            [
             0.8888888888888888,
             "#fdca26"
            ],
            [
             1,
             "#f0f921"
            ]
           ],
           "sequentialminus": [
            [
             0,
             "#0d0887"
            ],
            [
             0.1111111111111111,
             "#46039f"
            ],
            [
             0.2222222222222222,
             "#7201a8"
            ],
            [
             0.3333333333333333,
             "#9c179e"
            ],
            [
             0.4444444444444444,
             "#bd3786"
            ],
            [
             0.5555555555555556,
             "#d8576b"
            ],
            [
             0.6666666666666666,
             "#ed7953"
            ],
            [
             0.7777777777777778,
             "#fb9f3a"
            ],
            [
             0.8888888888888888,
             "#fdca26"
            ],
            [
             1,
             "#f0f921"
            ]
           ]
          },
          "colorway": [
           "#636efa",
           "#EF553B",
           "#00cc96",
           "#ab63fa",
           "#FFA15A",
           "#19d3f3",
           "#FF6692",
           "#B6E880",
           "#FF97FF",
           "#FECB52"
          ],
          "font": {
           "color": "#2a3f5f"
          },
          "geo": {
           "bgcolor": "white",
           "lakecolor": "white",
           "landcolor": "#E5ECF6",
           "showlakes": true,
           "showland": true,
           "subunitcolor": "white"
          },
          "hoverlabel": {
           "align": "left"
          },
          "hovermode": "closest",
          "mapbox": {
           "style": "light"
          },
          "paper_bgcolor": "white",
          "plot_bgcolor": "#E5ECF6",
          "polar": {
           "angularaxis": {
            "gridcolor": "white",
            "linecolor": "white",
            "ticks": ""
           },
           "bgcolor": "#E5ECF6",
           "radialaxis": {
            "gridcolor": "white",
            "linecolor": "white",
            "ticks": ""
           }
          },
          "scene": {
           "xaxis": {
            "backgroundcolor": "#E5ECF6",
            "gridcolor": "white",
            "gridwidth": 2,
            "linecolor": "white",
            "showbackground": true,
            "ticks": "",
            "zerolinecolor": "white"
           },
           "yaxis": {
            "backgroundcolor": "#E5ECF6",
            "gridcolor": "white",
            "gridwidth": 2,
            "linecolor": "white",
            "showbackground": true,
            "ticks": "",
            "zerolinecolor": "white"
           },
           "zaxis": {
            "backgroundcolor": "#E5ECF6",
            "gridcolor": "white",
            "gridwidth": 2,
            "linecolor": "white",
            "showbackground": true,
            "ticks": "",
            "zerolinecolor": "white"
           }
          },
          "shapedefaults": {
           "line": {
            "color": "#2a3f5f"
           }
          },
          "ternary": {
           "aaxis": {
            "gridcolor": "white",
            "linecolor": "white",
            "ticks": ""
           },
           "baxis": {
            "gridcolor": "white",
            "linecolor": "white",
            "ticks": ""
           },
           "bgcolor": "#E5ECF6",
           "caxis": {
            "gridcolor": "white",
            "linecolor": "white",
            "ticks": ""
           }
          },
          "title": {
           "x": 0.05
          },
          "xaxis": {
           "automargin": true,
           "gridcolor": "white",
           "linecolor": "white",
           "ticks": "",
           "title": {
            "standoff": 15
           },
           "zerolinecolor": "white",
           "zerolinewidth": 2
          },
          "yaxis": {
           "automargin": true,
           "gridcolor": "white",
           "linecolor": "white",
           "ticks": "",
           "title": {
            "standoff": 15
           },
           "zerolinecolor": "white",
           "zerolinewidth": 2
          }
         }
        },
        "title": {
         "text": "heart, variable age, split by dist_weight"
        },
        "xaxis": {
         "anchor": "y",
         "domain": [
          0,
          1
         ],
         "title": {
          "text": "split variable"
         }
        },
        "yaxis": {
         "anchor": "x",
         "domain": [
          0,
          1
         ],
         "title": {
          "text": "l2"
         }
        }
       }
      }
     },
     "metadata": {},
     "output_type": "display_data"
    },
    {
     "data": {
      "application/vnd.plotly.v1+json": {
       "config": {
        "plotlyServerURL": "https://plot.ly"
       },
       "data": [
        {
         "alignmentgroup": "True",
         "hovertemplate": "explanation=ale<br>split variable=%{x}<br>l2=%{y}<extra></extra>",
         "legendgroup": "ale",
         "marker": {
          "color": "#636efa"
         },
         "name": "ale",
         "notched": false,
         "offsetgroup": "ale",
         "orientation": "v",
         "quartilemethod": "exclusive",
         "showlegend": true,
         "type": "box",
         "x": [
          "dist_weight 0.0",
          "dist_weight 0.0",
          "dist_weight 0.0",
          "dist_weight 0.0",
          "dist_weight 0.0",
          "dist_weight 0.0",
          "dist_weight 0.0",
          "dist_weight 0.0",
          "dist_weight 0.0",
          "dist_weight 0.0",
          "dist_weight 0.0",
          "dist_weight 0.0",
          "dist_weight 0.0",
          "dist_weight 0.0",
          "dist_weight 0.0",
          "dist_weight 0.0",
          "dist_weight 0.0",
          "dist_weight 0.0",
          "dist_weight 0.001",
          "dist_weight 0.001",
          "dist_weight 0.001",
          "dist_weight 0.001",
          "dist_weight 0.001",
          "dist_weight 0.001",
          "dist_weight 0.001",
          "dist_weight 0.001",
          "dist_weight 0.001",
          "dist_weight 0.001",
          "dist_weight 0.001",
          "dist_weight 0.001",
          "dist_weight 0.001",
          "dist_weight 0.001",
          "dist_weight 0.001",
          "dist_weight 0.001",
          "dist_weight 0.001",
          "dist_weight 0.001",
          "dist_weight 0.01",
          "dist_weight 0.01",
          "dist_weight 0.01",
          "dist_weight 0.01",
          "dist_weight 0.01",
          "dist_weight 0.01",
          "dist_weight 0.01",
          "dist_weight 0.01",
          "dist_weight 0.01",
          "dist_weight 0.01",
          "dist_weight 0.01",
          "dist_weight 0.01",
          "dist_weight 0.01",
          "dist_weight 0.01",
          "dist_weight 0.01",
          "dist_weight 0.01",
          "dist_weight 0.01",
          "dist_weight 0.01",
          "dist_weight 0.1",
          "dist_weight 0.1",
          "dist_weight 0.1",
          "dist_weight 0.1",
          "dist_weight 0.1",
          "dist_weight 0.1",
          "dist_weight 0.1",
          "dist_weight 0.1",
          "dist_weight 0.1",
          "dist_weight 0.1",
          "dist_weight 0.1",
          "dist_weight 0.1",
          "dist_weight 0.1",
          "dist_weight 0.1",
          "dist_weight 0.1",
          "dist_weight 0.1",
          "dist_weight 0.1",
          "dist_weight 0.1",
          "dist_weight 1.0",
          "dist_weight 1.0",
          "dist_weight 1.0",
          "dist_weight 1.0",
          "dist_weight 1.0",
          "dist_weight 1.0",
          "dist_weight 1.0",
          "dist_weight 1.0",
          "dist_weight 1.0",
          "dist_weight 1.0",
          "dist_weight 1.0",
          "dist_weight 1.0",
          "dist_weight 1.0",
          "dist_weight 1.0",
          "dist_weight 1.0",
          "dist_weight 1.0",
          "dist_weight 1.0",
          "dist_weight 1.0",
          "dist_weight 1.0",
          "dist_weight 1.0",
          "dist_weight 1.0",
          "dist_weight 1.0"
         ],
         "x0": " ",
         "xaxis": "x",
         "y": [
          0.1072734070280931,
          0.1521264338039648,
          0.1724497524205578,
          0.1492393152120488,
          0.1472038587331411,
          0.1775185710838134,
          0.1329604862264309,
          0.1582393263396936,
          0.164369290728486,
          0.1177287400697546,
          0.1499101197087689,
          0.1650873253301344,
          0.1144389001287495,
          0.1840505192270959,
          0.1631905356348107,
          0.155396602795781,
          0.1767386063020863,
          0.1574859729218203,
          0.1029485450901266,
          0.1508970772864574,
          0.1721400017484806,
          0.1482860953242462,
          0.1447936041273688,
          0.1782495785788417,
          0.1333575306640055,
          0.1501963806738623,
          0.1675605851544712,
          0.1157104550092943,
          0.14750519188224,
          0.1647073603182491,
          0.113623500110227,
          0.1805955658469804,
          0.1584073795027614,
          0.1590042086296161,
          0.1690353524422018,
          0.1578598440311716,
          0.0956267910302795,
          0.132023925559545,
          0.1581504143069889,
          0.1340391344109099,
          0.1386058073233802,
          0.1665280123580466,
          0.1247555553832714,
          0.1435318634298281,
          0.1690255874605161,
          0.1122080445487087,
          0.1423221872919093,
          0.1700417036789077,
          0.1075246983531933,
          0.1853004032067474,
          0.1639520316969025,
          0.1268956690906016,
          0.1723647094758455,
          0.168083951092986,
          0.0716163236932623,
          0.0909254320531359,
          0.1172800774681172,
          0.0868336308914647,
          0.0984906819873428,
          0.1147783936573885,
          0.0870834455669084,
          0.1140411648375616,
          0.131261620806199,
          0.0823125472317751,
          0.0967839440867424,
          0.1333599208018848,
          0.0766628915075882,
          0.1338643998087799,
          0.1236544038490534,
          0.0828104523112868,
          0.12267721405647,
          0.1311059123200781,
          0.0227304363330872,
          0.0227304363330872,
          0.0193186949895374,
          0.0379676170662378,
          0.0198861444465988,
          0.0214012780906147,
          0.0300575567062217,
          0.0155016484319019,
          0.0354423856439883,
          0.0449057467695665,
          0.0305517698677913,
          0.0205673894474042,
          0.0205673894474042,
          0.0317539363859357,
          0.0272236668292229,
          0.0272236668292229,
          0.034369921444868,
          0.0367786642861051,
          0.0169690641443317,
          0.0169690641443317,
          0.0314109848026665,
          0.0363506194525693
         ],
         "y0": " ",
         "yaxis": "y"
        },
        {
         "alignmentgroup": "True",
         "hovertemplate": "explanation=pd<br>split variable=%{x}<br>l2=%{y}<extra></extra>",
         "legendgroup": "pd",
         "marker": {
          "color": "#EF553B"
         },
         "name": "pd",
         "notched": false,
         "offsetgroup": "pd",
         "orientation": "v",
         "quartilemethod": "exclusive",
         "showlegend": true,
         "type": "box",
         "x": [
          "dist_weight 0.0",
          "dist_weight 0.0",
          "dist_weight 0.0",
          "dist_weight 0.0",
          "dist_weight 0.0",
          "dist_weight 0.0",
          "dist_weight 0.0",
          "dist_weight 0.0",
          "dist_weight 0.0",
          "dist_weight 0.0",
          "dist_weight 0.0",
          "dist_weight 0.0",
          "dist_weight 0.0",
          "dist_weight 0.0",
          "dist_weight 0.0",
          "dist_weight 0.0",
          "dist_weight 0.0",
          "dist_weight 0.0",
          "dist_weight 0.001",
          "dist_weight 0.001",
          "dist_weight 0.001",
          "dist_weight 0.001",
          "dist_weight 0.001",
          "dist_weight 0.001",
          "dist_weight 0.001",
          "dist_weight 0.001",
          "dist_weight 0.001",
          "dist_weight 0.001",
          "dist_weight 0.001",
          "dist_weight 0.001",
          "dist_weight 0.001",
          "dist_weight 0.001",
          "dist_weight 0.001",
          "dist_weight 0.001",
          "dist_weight 0.001",
          "dist_weight 0.001",
          "dist_weight 0.01",
          "dist_weight 0.01",
          "dist_weight 0.01",
          "dist_weight 0.01",
          "dist_weight 0.01",
          "dist_weight 0.01",
          "dist_weight 0.01",
          "dist_weight 0.01",
          "dist_weight 0.01",
          "dist_weight 0.01",
          "dist_weight 0.01",
          "dist_weight 0.01",
          "dist_weight 0.01",
          "dist_weight 0.01",
          "dist_weight 0.01",
          "dist_weight 0.01",
          "dist_weight 0.01",
          "dist_weight 0.01",
          "dist_weight 0.1",
          "dist_weight 0.1",
          "dist_weight 0.1",
          "dist_weight 0.1",
          "dist_weight 0.1",
          "dist_weight 0.1",
          "dist_weight 0.1",
          "dist_weight 0.1",
          "dist_weight 0.1",
          "dist_weight 0.1",
          "dist_weight 0.1",
          "dist_weight 0.1",
          "dist_weight 0.1",
          "dist_weight 0.1",
          "dist_weight 0.1",
          "dist_weight 0.1",
          "dist_weight 0.1",
          "dist_weight 0.1",
          "dist_weight 1.0",
          "dist_weight 1.0",
          "dist_weight 1.0",
          "dist_weight 1.0",
          "dist_weight 1.0",
          "dist_weight 1.0",
          "dist_weight 1.0",
          "dist_weight 1.0",
          "dist_weight 1.0",
          "dist_weight 1.0",
          "dist_weight 1.0",
          "dist_weight 1.0",
          "dist_weight 1.0",
          "dist_weight 1.0",
          "dist_weight 1.0",
          "dist_weight 1.0",
          "dist_weight 1.0",
          "dist_weight 1.0",
          "dist_weight 1.0",
          "dist_weight 1.0",
          "dist_weight 1.0",
          "dist_weight 1.0"
         ],
         "x0": " ",
         "xaxis": "x",
         "y": [
          0.13411485,
          0.18073095,
          0.1951957,
          0.15176341,
          0.16328801,
          0.20176461,
          0.1395612,
          0.17672159,
          0.19082955,
          0.13324073,
          0.17062141,
          0.18277657,
          0.11816157,
          0.17444389,
          0.16264021,
          0.1446133,
          0.20108816,
          0.17821555,
          0.1317723,
          0.17991397,
          0.19350572,
          0.15069915,
          0.16083522,
          0.20053118,
          0.13720319,
          0.1719507,
          0.18868843,
          0.1319003,
          0.16628386,
          0.1816279,
          0.11773694,
          0.16985612,
          0.16186416,
          0.14941832,
          0.19921634,
          0.17707369,
          0.124569096,
          0.16625293,
          0.1746864,
          0.1370909,
          0.15368058,
          0.1864097,
          0.13203639,
          0.15797442,
          0.17943299,
          0.12617855,
          0.15394786,
          0.17514607,
          0.11446544,
          0.16329274,
          0.1558571,
          0.12518032,
          0.18640406,
          0.17271426,
          0.10194815,
          0.12680027,
          0.1304104,
          0.0889425,
          0.11242024,
          0.13678315,
          0.0913571,
          0.1191351,
          0.13616578,
          0.09763614,
          0.1096614,
          0.13260695,
          0.08307846,
          0.116316274,
          0.11574936,
          0.074250266,
          0.13093464,
          0.13397776,
          0.051932033,
          0.051932033,
          0.048928726,
          0.05079433,
          0.025522832,
          0.048574284,
          0.056256264,
          0.033531245,
          0.045514584,
          0.050076157,
          0.035896983,
          0.042638972,
          0.042638972,
          0.04949019,
          0.024283776,
          0.024283776,
          0.03635995,
          0.038481995,
          0.018342271,
          0.018342271,
          0.04442727,
          0.04726463
         ],
         "y0": " ",
         "yaxis": "y"
        }
       ],
       "layout": {
        "boxmode": "group",
        "legend": {
         "title": {
          "text": "explanation"
         },
         "tracegroupgap": 0
        },
        "template": {
         "data": {
          "bar": [
           {
            "error_x": {
             "color": "#2a3f5f"
            },
            "error_y": {
             "color": "#2a3f5f"
            },
            "marker": {
             "line": {
              "color": "#E5ECF6",
              "width": 0.5
             },
             "pattern": {
              "fillmode": "overlay",
              "size": 10,
              "solidity": 0.2
             }
            },
            "type": "bar"
           }
          ],
          "barpolar": [
           {
            "marker": {
             "line": {
              "color": "#E5ECF6",
              "width": 0.5
             },
             "pattern": {
              "fillmode": "overlay",
              "size": 10,
              "solidity": 0.2
             }
            },
            "type": "barpolar"
           }
          ],
          "carpet": [
           {
            "aaxis": {
             "endlinecolor": "#2a3f5f",
             "gridcolor": "white",
             "linecolor": "white",
             "minorgridcolor": "white",
             "startlinecolor": "#2a3f5f"
            },
            "baxis": {
             "endlinecolor": "#2a3f5f",
             "gridcolor": "white",
             "linecolor": "white",
             "minorgridcolor": "white",
             "startlinecolor": "#2a3f5f"
            },
            "type": "carpet"
           }
          ],
          "choropleth": [
           {
            "colorbar": {
             "outlinewidth": 0,
             "ticks": ""
            },
            "type": "choropleth"
           }
          ],
          "contour": [
           {
            "colorbar": {
             "outlinewidth": 0,
             "ticks": ""
            },
            "colorscale": [
             [
              0,
              "#0d0887"
             ],
             [
              0.1111111111111111,
              "#46039f"
             ],
             [
              0.2222222222222222,
              "#7201a8"
             ],
             [
              0.3333333333333333,
              "#9c179e"
             ],
             [
              0.4444444444444444,
              "#bd3786"
             ],
             [
              0.5555555555555556,
              "#d8576b"
             ],
             [
              0.6666666666666666,
              "#ed7953"
             ],
             [
              0.7777777777777778,
              "#fb9f3a"
             ],
             [
              0.8888888888888888,
              "#fdca26"
             ],
             [
              1,
              "#f0f921"
             ]
            ],
            "type": "contour"
           }
          ],
          "contourcarpet": [
           {
            "colorbar": {
             "outlinewidth": 0,
             "ticks": ""
            },
            "type": "contourcarpet"
           }
          ],
          "heatmap": [
           {
            "colorbar": {
             "outlinewidth": 0,
             "ticks": ""
            },
            "colorscale": [
             [
              0,
              "#0d0887"
             ],
             [
              0.1111111111111111,
              "#46039f"
             ],
             [
              0.2222222222222222,
              "#7201a8"
             ],
             [
              0.3333333333333333,
              "#9c179e"
             ],
             [
              0.4444444444444444,
              "#bd3786"
             ],
             [
              0.5555555555555556,
              "#d8576b"
             ],
             [
              0.6666666666666666,
              "#ed7953"
             ],
             [
              0.7777777777777778,
              "#fb9f3a"
             ],
             [
              0.8888888888888888,
              "#fdca26"
             ],
             [
              1,
              "#f0f921"
             ]
            ],
            "type": "heatmap"
           }
          ],
          "heatmapgl": [
           {
            "colorbar": {
             "outlinewidth": 0,
             "ticks": ""
            },
            "colorscale": [
             [
              0,
              "#0d0887"
             ],
             [
              0.1111111111111111,
              "#46039f"
             ],
             [
              0.2222222222222222,
              "#7201a8"
             ],
             [
              0.3333333333333333,
              "#9c179e"
             ],
             [
              0.4444444444444444,
              "#bd3786"
             ],
             [
              0.5555555555555556,
              "#d8576b"
             ],
             [
              0.6666666666666666,
              "#ed7953"
             ],
             [
              0.7777777777777778,
              "#fb9f3a"
             ],
             [
              0.8888888888888888,
              "#fdca26"
             ],
             [
              1,
              "#f0f921"
             ]
            ],
            "type": "heatmapgl"
           }
          ],
          "histogram": [
           {
            "marker": {
             "pattern": {
              "fillmode": "overlay",
              "size": 10,
              "solidity": 0.2
             }
            },
            "type": "histogram"
           }
          ],
          "histogram2d": [
           {
            "colorbar": {
             "outlinewidth": 0,
             "ticks": ""
            },
            "colorscale": [
             [
              0,
              "#0d0887"
             ],
             [
              0.1111111111111111,
              "#46039f"
             ],
             [
              0.2222222222222222,
              "#7201a8"
             ],
             [
              0.3333333333333333,
              "#9c179e"
             ],
             [
              0.4444444444444444,
              "#bd3786"
             ],
             [
              0.5555555555555556,
              "#d8576b"
             ],
             [
              0.6666666666666666,
              "#ed7953"
             ],
             [
              0.7777777777777778,
              "#fb9f3a"
             ],
             [
              0.8888888888888888,
              "#fdca26"
             ],
             [
              1,
              "#f0f921"
             ]
            ],
            "type": "histogram2d"
           }
          ],
          "histogram2dcontour": [
           {
            "colorbar": {
             "outlinewidth": 0,
             "ticks": ""
            },
            "colorscale": [
             [
              0,
              "#0d0887"
             ],
             [
              0.1111111111111111,
              "#46039f"
             ],
             [
              0.2222222222222222,
              "#7201a8"
             ],
             [
              0.3333333333333333,
              "#9c179e"
             ],
             [
              0.4444444444444444,
              "#bd3786"
             ],
             [
              0.5555555555555556,
              "#d8576b"
             ],
             [
              0.6666666666666666,
              "#ed7953"
             ],
             [
              0.7777777777777778,
              "#fb9f3a"
             ],
             [
              0.8888888888888888,
              "#fdca26"
             ],
             [
              1,
              "#f0f921"
             ]
            ],
            "type": "histogram2dcontour"
           }
          ],
          "mesh3d": [
           {
            "colorbar": {
             "outlinewidth": 0,
             "ticks": ""
            },
            "type": "mesh3d"
           }
          ],
          "parcoords": [
           {
            "line": {
             "colorbar": {
              "outlinewidth": 0,
              "ticks": ""
             }
            },
            "type": "parcoords"
           }
          ],
          "pie": [
           {
            "automargin": true,
            "type": "pie"
           }
          ],
          "scatter": [
           {
            "fillpattern": {
             "fillmode": "overlay",
             "size": 10,
             "solidity": 0.2
            },
            "type": "scatter"
           }
          ],
          "scatter3d": [
           {
            "line": {
             "colorbar": {
              "outlinewidth": 0,
              "ticks": ""
             }
            },
            "marker": {
             "colorbar": {
              "outlinewidth": 0,
              "ticks": ""
             }
            },
            "type": "scatter3d"
           }
          ],
          "scattercarpet": [
           {
            "marker": {
             "colorbar": {
              "outlinewidth": 0,
              "ticks": ""
             }
            },
            "type": "scattercarpet"
           }
          ],
          "scattergeo": [
           {
            "marker": {
             "colorbar": {
              "outlinewidth": 0,
              "ticks": ""
             }
            },
            "type": "scattergeo"
           }
          ],
          "scattergl": [
           {
            "marker": {
             "colorbar": {
              "outlinewidth": 0,
              "ticks": ""
             }
            },
            "type": "scattergl"
           }
          ],
          "scattermapbox": [
           {
            "marker": {
             "colorbar": {
              "outlinewidth": 0,
              "ticks": ""
             }
            },
            "type": "scattermapbox"
           }
          ],
          "scatterpolar": [
           {
            "marker": {
             "colorbar": {
              "outlinewidth": 0,
              "ticks": ""
             }
            },
            "type": "scatterpolar"
           }
          ],
          "scatterpolargl": [
           {
            "marker": {
             "colorbar": {
              "outlinewidth": 0,
              "ticks": ""
             }
            },
            "type": "scatterpolargl"
           }
          ],
          "scatterternary": [
           {
            "marker": {
             "colorbar": {
              "outlinewidth": 0,
              "ticks": ""
             }
            },
            "type": "scatterternary"
           }
          ],
          "surface": [
           {
            "colorbar": {
             "outlinewidth": 0,
             "ticks": ""
            },
            "colorscale": [
             [
              0,
              "#0d0887"
             ],
             [
              0.1111111111111111,
              "#46039f"
             ],
             [
              0.2222222222222222,
              "#7201a8"
             ],
             [
              0.3333333333333333,
              "#9c179e"
             ],
             [
              0.4444444444444444,
              "#bd3786"
             ],
             [
              0.5555555555555556,
              "#d8576b"
             ],
             [
              0.6666666666666666,
              "#ed7953"
             ],
             [
              0.7777777777777778,
              "#fb9f3a"
             ],
             [
              0.8888888888888888,
              "#fdca26"
             ],
             [
              1,
              "#f0f921"
             ]
            ],
            "type": "surface"
           }
          ],
          "table": [
           {
            "cells": {
             "fill": {
              "color": "#EBF0F8"
             },
             "line": {
              "color": "white"
             }
            },
            "header": {
             "fill": {
              "color": "#C8D4E3"
             },
             "line": {
              "color": "white"
             }
            },
            "type": "table"
           }
          ]
         },
         "layout": {
          "annotationdefaults": {
           "arrowcolor": "#2a3f5f",
           "arrowhead": 0,
           "arrowwidth": 1
          },
          "autotypenumbers": "strict",
          "coloraxis": {
           "colorbar": {
            "outlinewidth": 0,
            "ticks": ""
           }
          },
          "colorscale": {
           "diverging": [
            [
             0,
             "#8e0152"
            ],
            [
             0.1,
             "#c51b7d"
            ],
            [
             0.2,
             "#de77ae"
            ],
            [
             0.3,
             "#f1b6da"
            ],
            [
             0.4,
             "#fde0ef"
            ],
            [
             0.5,
             "#f7f7f7"
            ],
            [
             0.6,
             "#e6f5d0"
            ],
            [
             0.7,
             "#b8e186"
            ],
            [
             0.8,
             "#7fbc41"
            ],
            [
             0.9,
             "#4d9221"
            ],
            [
             1,
             "#276419"
            ]
           ],
           "sequential": [
            [
             0,
             "#0d0887"
            ],
            [
             0.1111111111111111,
             "#46039f"
            ],
            [
             0.2222222222222222,
             "#7201a8"
            ],
            [
             0.3333333333333333,
             "#9c179e"
            ],
            [
             0.4444444444444444,
             "#bd3786"
            ],
            [
             0.5555555555555556,
             "#d8576b"
            ],
            [
             0.6666666666666666,
             "#ed7953"
            ],
            [
             0.7777777777777778,
             "#fb9f3a"
            ],
            [
             0.8888888888888888,
             "#fdca26"
            ],
            [
             1,
             "#f0f921"
            ]
           ],
           "sequentialminus": [
            [
             0,
             "#0d0887"
            ],
            [
             0.1111111111111111,
             "#46039f"
            ],
            [
             0.2222222222222222,
             "#7201a8"
            ],
            [
             0.3333333333333333,
             "#9c179e"
            ],
            [
             0.4444444444444444,
             "#bd3786"
            ],
            [
             0.5555555555555556,
             "#d8576b"
            ],
            [
             0.6666666666666666,
             "#ed7953"
            ],
            [
             0.7777777777777778,
             "#fb9f3a"
            ],
            [
             0.8888888888888888,
             "#fdca26"
            ],
            [
             1,
             "#f0f921"
            ]
           ]
          },
          "colorway": [
           "#636efa",
           "#EF553B",
           "#00cc96",
           "#ab63fa",
           "#FFA15A",
           "#19d3f3",
           "#FF6692",
           "#B6E880",
           "#FF97FF",
           "#FECB52"
          ],
          "font": {
           "color": "#2a3f5f"
          },
          "geo": {
           "bgcolor": "white",
           "lakecolor": "white",
           "landcolor": "#E5ECF6",
           "showlakes": true,
           "showland": true,
           "subunitcolor": "white"
          },
          "hoverlabel": {
           "align": "left"
          },
          "hovermode": "closest",
          "mapbox": {
           "style": "light"
          },
          "paper_bgcolor": "white",
          "plot_bgcolor": "#E5ECF6",
          "polar": {
           "angularaxis": {
            "gridcolor": "white",
            "linecolor": "white",
            "ticks": ""
           },
           "bgcolor": "#E5ECF6",
           "radialaxis": {
            "gridcolor": "white",
            "linecolor": "white",
            "ticks": ""
           }
          },
          "scene": {
           "xaxis": {
            "backgroundcolor": "#E5ECF6",
            "gridcolor": "white",
            "gridwidth": 2,
            "linecolor": "white",
            "showbackground": true,
            "ticks": "",
            "zerolinecolor": "white"
           },
           "yaxis": {
            "backgroundcolor": "#E5ECF6",
            "gridcolor": "white",
            "gridwidth": 2,
            "linecolor": "white",
            "showbackground": true,
            "ticks": "",
            "zerolinecolor": "white"
           },
           "zaxis": {
            "backgroundcolor": "#E5ECF6",
            "gridcolor": "white",
            "gridwidth": 2,
            "linecolor": "white",
            "showbackground": true,
            "ticks": "",
            "zerolinecolor": "white"
           }
          },
          "shapedefaults": {
           "line": {
            "color": "#2a3f5f"
           }
          },
          "ternary": {
           "aaxis": {
            "gridcolor": "white",
            "linecolor": "white",
            "ticks": ""
           },
           "baxis": {
            "gridcolor": "white",
            "linecolor": "white",
            "ticks": ""
           },
           "bgcolor": "#E5ECF6",
           "caxis": {
            "gridcolor": "white",
            "linecolor": "white",
            "ticks": ""
           }
          },
          "title": {
           "x": 0.05
          },
          "xaxis": {
           "automargin": true,
           "gridcolor": "white",
           "linecolor": "white",
           "ticks": "",
           "title": {
            "standoff": 15
           },
           "zerolinecolor": "white",
           "zerolinewidth": 2
          },
          "yaxis": {
           "automargin": true,
           "gridcolor": "white",
           "linecolor": "white",
           "ticks": "",
           "title": {
            "standoff": 15
           },
           "zerolinecolor": "white",
           "zerolinewidth": 2
          }
         }
        },
        "title": {
         "text": "titanic, variable Age, split by dist_weight"
        },
        "xaxis": {
         "anchor": "y",
         "domain": [
          0,
          1
         ],
         "title": {
          "text": "split variable"
         }
        },
        "yaxis": {
         "anchor": "x",
         "domain": [
          0,
          1
         ],
         "title": {
          "text": "l2"
         }
        }
       }
      }
     },
     "metadata": {},
     "output_type": "display_data"
    },
    {
     "data": {
      "application/vnd.plotly.v1+json": {
       "config": {
        "plotlyServerURL": "https://plot.ly"
       },
       "data": [
        {
         "alignmentgroup": "True",
         "hovertemplate": "explanation=ale<br>split variable=%{x}<br>l2=%{y}<extra></extra>",
         "legendgroup": "ale",
         "marker": {
          "color": "#636efa"
         },
         "name": "ale",
         "notched": false,
         "offsetgroup": "ale",
         "orientation": "v",
         "quartilemethod": "exclusive",
         "showlegend": true,
         "type": "box",
         "x": [
          "dist_weight 0.0",
          "dist_weight 0.0",
          "dist_weight 0.0",
          "dist_weight 0.0",
          "dist_weight 0.0",
          "dist_weight 0.0",
          "dist_weight 0.0",
          "dist_weight 0.0",
          "dist_weight 0.0",
          "dist_weight 0.0",
          "dist_weight 0.0",
          "dist_weight 0.0",
          "dist_weight 0.0",
          "dist_weight 0.0",
          "dist_weight 0.0",
          "dist_weight 0.0",
          "dist_weight 0.0",
          "dist_weight 0.0",
          "dist_weight 0.001",
          "dist_weight 0.001",
          "dist_weight 0.001",
          "dist_weight 0.001",
          "dist_weight 0.001",
          "dist_weight 0.001",
          "dist_weight 0.001",
          "dist_weight 0.001",
          "dist_weight 0.001",
          "dist_weight 0.001",
          "dist_weight 0.001",
          "dist_weight 0.001",
          "dist_weight 0.001",
          "dist_weight 0.001",
          "dist_weight 0.001",
          "dist_weight 0.001",
          "dist_weight 0.001",
          "dist_weight 0.001",
          "dist_weight 0.01",
          "dist_weight 0.01",
          "dist_weight 0.01",
          "dist_weight 0.01",
          "dist_weight 0.01",
          "dist_weight 0.01",
          "dist_weight 0.01",
          "dist_weight 0.01",
          "dist_weight 0.01",
          "dist_weight 0.01",
          "dist_weight 0.01",
          "dist_weight 0.01",
          "dist_weight 0.01",
          "dist_weight 0.01",
          "dist_weight 0.01",
          "dist_weight 0.01",
          "dist_weight 0.01",
          "dist_weight 0.01",
          "dist_weight 0.1",
          "dist_weight 0.1",
          "dist_weight 0.1",
          "dist_weight 0.1",
          "dist_weight 0.1",
          "dist_weight 0.1",
          "dist_weight 0.1",
          "dist_weight 0.1",
          "dist_weight 0.1",
          "dist_weight 0.1",
          "dist_weight 0.1",
          "dist_weight 0.1",
          "dist_weight 0.1",
          "dist_weight 0.1",
          "dist_weight 0.1",
          "dist_weight 0.1",
          "dist_weight 0.1",
          "dist_weight 0.1",
          "dist_weight 1.0",
          "dist_weight 1.0",
          "dist_weight 1.0",
          "dist_weight 1.0",
          "dist_weight 1.0",
          "dist_weight 1.0",
          "dist_weight 1.0",
          "dist_weight 1.0",
          "dist_weight 1.0",
          "dist_weight 1.0",
          "dist_weight 1.0",
          "dist_weight 1.0",
          "dist_weight 1.0",
          "dist_weight 1.0",
          "dist_weight 1.0",
          "dist_weight 1.0",
          "dist_weight 1.0",
          "dist_weight 1.0",
          "dist_weight 1.0"
         ],
         "x0": " ",
         "xaxis": "x",
         "y": [
          0.1105390773606063,
          0.0429656860028057,
          0.0876423936952124,
          0.0345523288146211,
          0.1902320241347629,
          0.1279980507800149,
          0.053570225883894,
          0.2084942127375451,
          0.0589994200477989,
          0.1235541295110693,
          0.1798442688695954,
          0.1462810135539907,
          0.0789067699462869,
          0.2614856194281357,
          0.058891314600284,
          0.0502961521407189,
          0.1353863409123208,
          0.1457404122119034,
          0.1358131365887802,
          0.0420685611535302,
          0.1287463018374826,
          0.0593132449109522,
          0.1513013194617979,
          0.1678398288754994,
          0.0624840690029106,
          0.1916863269120518,
          0.0451311875751229,
          0.1322231890510948,
          0.1809403429342795,
          0.1591537942104921,
          0.1291813266358366,
          0.2788165154748909,
          0.0983453307904331,
          0.0708749012683649,
          0.1295748629331164,
          0.1510886116930339,
          0.100313482745913,
          0.0430353400389775,
          0.1006126591317731,
          0.0657891974242185,
          0.1502261423881363,
          0.1777721148549159,
          0.0729018187894712,
          0.1632548975885331,
          0.0495911059832151,
          0.1510461285143572,
          0.1663080346767621,
          0.150810231989091,
          0.122070809430638,
          0.2501583065268936,
          0.0421710151795766,
          0.0525839971806071,
          0.2230824737217564,
          0.1142504571638313,
          0.0790568028861379,
          0.0446864527937488,
          0.1734950505733989,
          0.0136939493776743,
          0.0387884327479174,
          0.1817843514268916,
          0.0464125868148999,
          0.0998191389388078,
          0.0188532855048954,
          0.0740382850048683,
          0.105223161401598,
          0.1774901400888087,
          0.0436940097194835,
          0.2099890164364629,
          0.1559372946845143,
          0.0231288622203969,
          0.1378287520427059,
          0.1387819109501532,
          0.0170766845158187,
          0.0167964503296936,
          0.025728642914105,
          0.0035496776363703,
          0.0246224809858881,
          0.0204053051723803,
          0.0116780241996494,
          0.0073187541929764,
          0.0642322595493055,
          0.0229443553949424,
          0.0255499532935537,
          0.0115746588968103,
          0.0195158593968669,
          0.0246944393848401,
          0.0156563030862351,
          0.0156563030862351,
          0.0125475585535198,
          0.0139687508858142,
          0.0090181122339267
         ],
         "y0": " ",
         "yaxis": "y"
        },
        {
         "alignmentgroup": "True",
         "hovertemplate": "explanation=pd<br>split variable=%{x}<br>l2=%{y}<extra></extra>",
         "legendgroup": "pd",
         "marker": {
          "color": "#EF553B"
         },
         "name": "pd",
         "notched": false,
         "offsetgroup": "pd",
         "orientation": "v",
         "quartilemethod": "exclusive",
         "showlegend": true,
         "type": "box",
         "x": [
          "dist_weight 0.0",
          "dist_weight 0.0",
          "dist_weight 0.0",
          "dist_weight 0.0",
          "dist_weight 0.0",
          "dist_weight 0.0",
          "dist_weight 0.0",
          "dist_weight 0.0",
          "dist_weight 0.0",
          "dist_weight 0.0",
          "dist_weight 0.0",
          "dist_weight 0.0",
          "dist_weight 0.0",
          "dist_weight 0.0",
          "dist_weight 0.0",
          "dist_weight 0.0",
          "dist_weight 0.0",
          "dist_weight 0.0",
          "dist_weight 0.001",
          "dist_weight 0.001",
          "dist_weight 0.001",
          "dist_weight 0.001",
          "dist_weight 0.001",
          "dist_weight 0.001",
          "dist_weight 0.001",
          "dist_weight 0.001",
          "dist_weight 0.001",
          "dist_weight 0.001",
          "dist_weight 0.001",
          "dist_weight 0.001",
          "dist_weight 0.001",
          "dist_weight 0.001",
          "dist_weight 0.001",
          "dist_weight 0.001",
          "dist_weight 0.001",
          "dist_weight 0.001",
          "dist_weight 0.01",
          "dist_weight 0.01",
          "dist_weight 0.01",
          "dist_weight 0.01",
          "dist_weight 0.01",
          "dist_weight 0.01",
          "dist_weight 0.01",
          "dist_weight 0.01",
          "dist_weight 0.01",
          "dist_weight 0.01",
          "dist_weight 0.01",
          "dist_weight 0.01",
          "dist_weight 0.01",
          "dist_weight 0.01",
          "dist_weight 0.01",
          "dist_weight 0.01",
          "dist_weight 0.01",
          "dist_weight 0.01",
          "dist_weight 0.1",
          "dist_weight 0.1",
          "dist_weight 0.1",
          "dist_weight 0.1",
          "dist_weight 0.1",
          "dist_weight 0.1",
          "dist_weight 0.1",
          "dist_weight 0.1",
          "dist_weight 0.1",
          "dist_weight 0.1",
          "dist_weight 0.1",
          "dist_weight 0.1",
          "dist_weight 0.1",
          "dist_weight 0.1",
          "dist_weight 0.1",
          "dist_weight 0.1",
          "dist_weight 0.1",
          "dist_weight 0.1",
          "dist_weight 1.0",
          "dist_weight 1.0",
          "dist_weight 1.0",
          "dist_weight 1.0",
          "dist_weight 1.0",
          "dist_weight 1.0",
          "dist_weight 1.0",
          "dist_weight 1.0",
          "dist_weight 1.0",
          "dist_weight 1.0",
          "dist_weight 1.0",
          "dist_weight 1.0",
          "dist_weight 1.0",
          "dist_weight 1.0",
          "dist_weight 1.0",
          "dist_weight 1.0",
          "dist_weight 1.0",
          "dist_weight 1.0",
          "dist_weight 1.0"
         ],
         "x0": " ",
         "xaxis": "x",
         "y": [
          0.16478917,
          0.17552932,
          0.21722452,
          0.14726107,
          0.2409853,
          0.2241826,
          0.19611952,
          0.27367884,
          0.22670205,
          0.22149198,
          0.26674503,
          0.23827131,
          0.13967879,
          0.27107444,
          0.21740974,
          0.05423682,
          0.23671736,
          0.2685269,
          0.16322361,
          0.16712707,
          0.22968896,
          0.14248297,
          0.22676757,
          0.233022,
          0.19238493,
          0.26463664,
          0.22753361,
          0.21484597,
          0.2608355,
          0.23842902,
          0.13263847,
          0.265052,
          0.22430329,
          0.05414448,
          0.24016277,
          0.26319936,
          0.15048377,
          0.14177348,
          0.21402854,
          0.12059307,
          0.18569283,
          0.22452193,
          0.17316866,
          0.22524652,
          0.22101414,
          0.1840868,
          0.22343281,
          0.23026107,
          0.10077277,
          0.23323676,
          0.22593725,
          0.04966532,
          0.21837005,
          0.24666075,
          0.10166377,
          0.102429494,
          0.17156702,
          0.07745234,
          0.12417599,
          0.18340032,
          0.1281039,
          0.14527723,
          0.18685102,
          0.1111663,
          0.15090045,
          0.18636112,
          0.04827899,
          0.15379517,
          0.20430674,
          0.027463745,
          0.15495601,
          0.17561966,
          0.03232856,
          0.036280382,
          0.08616616,
          0.027962705,
          0.037834477,
          0.07949182,
          0.05300842,
          0.051882505,
          0.103996664,
          0.029145962,
          0.051770523,
          0.0720271,
          0.009212082,
          0.052464377,
          0.07548014,
          0.07548014,
          0.0061661163,
          0.0544887,
          0.066134006
         ],
         "y0": " ",
         "yaxis": "y"
        }
       ],
       "layout": {
        "boxmode": "group",
        "legend": {
         "title": {
          "text": "explanation"
         },
         "tracegroupgap": 0
        },
        "template": {
         "data": {
          "bar": [
           {
            "error_x": {
             "color": "#2a3f5f"
            },
            "error_y": {
             "color": "#2a3f5f"
            },
            "marker": {
             "line": {
              "color": "#E5ECF6",
              "width": 0.5
             },
             "pattern": {
              "fillmode": "overlay",
              "size": 10,
              "solidity": 0.2
             }
            },
            "type": "bar"
           }
          ],
          "barpolar": [
           {
            "marker": {
             "line": {
              "color": "#E5ECF6",
              "width": 0.5
             },
             "pattern": {
              "fillmode": "overlay",
              "size": 10,
              "solidity": 0.2
             }
            },
            "type": "barpolar"
           }
          ],
          "carpet": [
           {
            "aaxis": {
             "endlinecolor": "#2a3f5f",
             "gridcolor": "white",
             "linecolor": "white",
             "minorgridcolor": "white",
             "startlinecolor": "#2a3f5f"
            },
            "baxis": {
             "endlinecolor": "#2a3f5f",
             "gridcolor": "white",
             "linecolor": "white",
             "minorgridcolor": "white",
             "startlinecolor": "#2a3f5f"
            },
            "type": "carpet"
           }
          ],
          "choropleth": [
           {
            "colorbar": {
             "outlinewidth": 0,
             "ticks": ""
            },
            "type": "choropleth"
           }
          ],
          "contour": [
           {
            "colorbar": {
             "outlinewidth": 0,
             "ticks": ""
            },
            "colorscale": [
             [
              0,
              "#0d0887"
             ],
             [
              0.1111111111111111,
              "#46039f"
             ],
             [
              0.2222222222222222,
              "#7201a8"
             ],
             [
              0.3333333333333333,
              "#9c179e"
             ],
             [
              0.4444444444444444,
              "#bd3786"
             ],
             [
              0.5555555555555556,
              "#d8576b"
             ],
             [
              0.6666666666666666,
              "#ed7953"
             ],
             [
              0.7777777777777778,
              "#fb9f3a"
             ],
             [
              0.8888888888888888,
              "#fdca26"
             ],
             [
              1,
              "#f0f921"
             ]
            ],
            "type": "contour"
           }
          ],
          "contourcarpet": [
           {
            "colorbar": {
             "outlinewidth": 0,
             "ticks": ""
            },
            "type": "contourcarpet"
           }
          ],
          "heatmap": [
           {
            "colorbar": {
             "outlinewidth": 0,
             "ticks": ""
            },
            "colorscale": [
             [
              0,
              "#0d0887"
             ],
             [
              0.1111111111111111,
              "#46039f"
             ],
             [
              0.2222222222222222,
              "#7201a8"
             ],
             [
              0.3333333333333333,
              "#9c179e"
             ],
             [
              0.4444444444444444,
              "#bd3786"
             ],
             [
              0.5555555555555556,
              "#d8576b"
             ],
             [
              0.6666666666666666,
              "#ed7953"
             ],
             [
              0.7777777777777778,
              "#fb9f3a"
             ],
             [
              0.8888888888888888,
              "#fdca26"
             ],
             [
              1,
              "#f0f921"
             ]
            ],
            "type": "heatmap"
           }
          ],
          "heatmapgl": [
           {
            "colorbar": {
             "outlinewidth": 0,
             "ticks": ""
            },
            "colorscale": [
             [
              0,
              "#0d0887"
             ],
             [
              0.1111111111111111,
              "#46039f"
             ],
             [
              0.2222222222222222,
              "#7201a8"
             ],
             [
              0.3333333333333333,
              "#9c179e"
             ],
             [
              0.4444444444444444,
              "#bd3786"
             ],
             [
              0.5555555555555556,
              "#d8576b"
             ],
             [
              0.6666666666666666,
              "#ed7953"
             ],
             [
              0.7777777777777778,
              "#fb9f3a"
             ],
             [
              0.8888888888888888,
              "#fdca26"
             ],
             [
              1,
              "#f0f921"
             ]
            ],
            "type": "heatmapgl"
           }
          ],
          "histogram": [
           {
            "marker": {
             "pattern": {
              "fillmode": "overlay",
              "size": 10,
              "solidity": 0.2
             }
            },
            "type": "histogram"
           }
          ],
          "histogram2d": [
           {
            "colorbar": {
             "outlinewidth": 0,
             "ticks": ""
            },
            "colorscale": [
             [
              0,
              "#0d0887"
             ],
             [
              0.1111111111111111,
              "#46039f"
             ],
             [
              0.2222222222222222,
              "#7201a8"
             ],
             [
              0.3333333333333333,
              "#9c179e"
             ],
             [
              0.4444444444444444,
              "#bd3786"
             ],
             [
              0.5555555555555556,
              "#d8576b"
             ],
             [
              0.6666666666666666,
              "#ed7953"
             ],
             [
              0.7777777777777778,
              "#fb9f3a"
             ],
             [
              0.8888888888888888,
              "#fdca26"
             ],
             [
              1,
              "#f0f921"
             ]
            ],
            "type": "histogram2d"
           }
          ],
          "histogram2dcontour": [
           {
            "colorbar": {
             "outlinewidth": 0,
             "ticks": ""
            },
            "colorscale": [
             [
              0,
              "#0d0887"
             ],
             [
              0.1111111111111111,
              "#46039f"
             ],
             [
              0.2222222222222222,
              "#7201a8"
             ],
             [
              0.3333333333333333,
              "#9c179e"
             ],
             [
              0.4444444444444444,
              "#bd3786"
             ],
             [
              0.5555555555555556,
              "#d8576b"
             ],
             [
              0.6666666666666666,
              "#ed7953"
             ],
             [
              0.7777777777777778,
              "#fb9f3a"
             ],
             [
              0.8888888888888888,
              "#fdca26"
             ],
             [
              1,
              "#f0f921"
             ]
            ],
            "type": "histogram2dcontour"
           }
          ],
          "mesh3d": [
           {
            "colorbar": {
             "outlinewidth": 0,
             "ticks": ""
            },
            "type": "mesh3d"
           }
          ],
          "parcoords": [
           {
            "line": {
             "colorbar": {
              "outlinewidth": 0,
              "ticks": ""
             }
            },
            "type": "parcoords"
           }
          ],
          "pie": [
           {
            "automargin": true,
            "type": "pie"
           }
          ],
          "scatter": [
           {
            "fillpattern": {
             "fillmode": "overlay",
             "size": 10,
             "solidity": 0.2
            },
            "type": "scatter"
           }
          ],
          "scatter3d": [
           {
            "line": {
             "colorbar": {
              "outlinewidth": 0,
              "ticks": ""
             }
            },
            "marker": {
             "colorbar": {
              "outlinewidth": 0,
              "ticks": ""
             }
            },
            "type": "scatter3d"
           }
          ],
          "scattercarpet": [
           {
            "marker": {
             "colorbar": {
              "outlinewidth": 0,
              "ticks": ""
             }
            },
            "type": "scattercarpet"
           }
          ],
          "scattergeo": [
           {
            "marker": {
             "colorbar": {
              "outlinewidth": 0,
              "ticks": ""
             }
            },
            "type": "scattergeo"
           }
          ],
          "scattergl": [
           {
            "marker": {
             "colorbar": {
              "outlinewidth": 0,
              "ticks": ""
             }
            },
            "type": "scattergl"
           }
          ],
          "scattermapbox": [
           {
            "marker": {
             "colorbar": {
              "outlinewidth": 0,
              "ticks": ""
             }
            },
            "type": "scattermapbox"
           }
          ],
          "scatterpolar": [
           {
            "marker": {
             "colorbar": {
              "outlinewidth": 0,
              "ticks": ""
             }
            },
            "type": "scatterpolar"
           }
          ],
          "scatterpolargl": [
           {
            "marker": {
             "colorbar": {
              "outlinewidth": 0,
              "ticks": ""
             }
            },
            "type": "scatterpolargl"
           }
          ],
          "scatterternary": [
           {
            "marker": {
             "colorbar": {
              "outlinewidth": 0,
              "ticks": ""
             }
            },
            "type": "scatterternary"
           }
          ],
          "surface": [
           {
            "colorbar": {
             "outlinewidth": 0,
             "ticks": ""
            },
            "colorscale": [
             [
              0,
              "#0d0887"
             ],
             [
              0.1111111111111111,
              "#46039f"
             ],
             [
              0.2222222222222222,
              "#7201a8"
             ],
             [
              0.3333333333333333,
              "#9c179e"
             ],
             [
              0.4444444444444444,
              "#bd3786"
             ],
             [
              0.5555555555555556,
              "#d8576b"
             ],
             [
              0.6666666666666666,
              "#ed7953"
             ],
             [
              0.7777777777777778,
              "#fb9f3a"
             ],
             [
              0.8888888888888888,
              "#fdca26"
             ],
             [
              1,
              "#f0f921"
             ]
            ],
            "type": "surface"
           }
          ],
          "table": [
           {
            "cells": {
             "fill": {
              "color": "#EBF0F8"
             },
             "line": {
              "color": "white"
             }
            },
            "header": {
             "fill": {
              "color": "#C8D4E3"
             },
             "line": {
              "color": "white"
             }
            },
            "type": "table"
           }
          ]
         },
         "layout": {
          "annotationdefaults": {
           "arrowcolor": "#2a3f5f",
           "arrowhead": 0,
           "arrowwidth": 1
          },
          "autotypenumbers": "strict",
          "coloraxis": {
           "colorbar": {
            "outlinewidth": 0,
            "ticks": ""
           }
          },
          "colorscale": {
           "diverging": [
            [
             0,
             "#8e0152"
            ],
            [
             0.1,
             "#c51b7d"
            ],
            [
             0.2,
             "#de77ae"
            ],
            [
             0.3,
             "#f1b6da"
            ],
            [
             0.4,
             "#fde0ef"
            ],
            [
             0.5,
             "#f7f7f7"
            ],
            [
             0.6,
             "#e6f5d0"
            ],
            [
             0.7,
             "#b8e186"
            ],
            [
             0.8,
             "#7fbc41"
            ],
            [
             0.9,
             "#4d9221"
            ],
            [
             1,
             "#276419"
            ]
           ],
           "sequential": [
            [
             0,
             "#0d0887"
            ],
            [
             0.1111111111111111,
             "#46039f"
            ],
            [
             0.2222222222222222,
             "#7201a8"
            ],
            [
             0.3333333333333333,
             "#9c179e"
            ],
            [
             0.4444444444444444,
             "#bd3786"
            ],
            [
             0.5555555555555556,
             "#d8576b"
            ],
            [
             0.6666666666666666,
             "#ed7953"
            ],
            [
             0.7777777777777778,
             "#fb9f3a"
            ],
            [
             0.8888888888888888,
             "#fdca26"
            ],
            [
             1,
             "#f0f921"
            ]
           ],
           "sequentialminus": [
            [
             0,
             "#0d0887"
            ],
            [
             0.1111111111111111,
             "#46039f"
            ],
            [
             0.2222222222222222,
             "#7201a8"
            ],
            [
             0.3333333333333333,
             "#9c179e"
            ],
            [
             0.4444444444444444,
             "#bd3786"
            ],
            [
             0.5555555555555556,
             "#d8576b"
            ],
            [
             0.6666666666666666,
             "#ed7953"
            ],
            [
             0.7777777777777778,
             "#fb9f3a"
            ],
            [
             0.8888888888888888,
             "#fdca26"
            ],
            [
             1,
             "#f0f921"
            ]
           ]
          },
          "colorway": [
           "#636efa",
           "#EF553B",
           "#00cc96",
           "#ab63fa",
           "#FFA15A",
           "#19d3f3",
           "#FF6692",
           "#B6E880",
           "#FF97FF",
           "#FECB52"
          ],
          "font": {
           "color": "#2a3f5f"
          },
          "geo": {
           "bgcolor": "white",
           "lakecolor": "white",
           "landcolor": "#E5ECF6",
           "showlakes": true,
           "showland": true,
           "subunitcolor": "white"
          },
          "hoverlabel": {
           "align": "left"
          },
          "hovermode": "closest",
          "mapbox": {
           "style": "light"
          },
          "paper_bgcolor": "white",
          "plot_bgcolor": "#E5ECF6",
          "polar": {
           "angularaxis": {
            "gridcolor": "white",
            "linecolor": "white",
            "ticks": ""
           },
           "bgcolor": "#E5ECF6",
           "radialaxis": {
            "gridcolor": "white",
            "linecolor": "white",
            "ticks": ""
           }
          },
          "scene": {
           "xaxis": {
            "backgroundcolor": "#E5ECF6",
            "gridcolor": "white",
            "gridwidth": 2,
            "linecolor": "white",
            "showbackground": true,
            "ticks": "",
            "zerolinecolor": "white"
           },
           "yaxis": {
            "backgroundcolor": "#E5ECF6",
            "gridcolor": "white",
            "gridwidth": 2,
            "linecolor": "white",
            "showbackground": true,
            "ticks": "",
            "zerolinecolor": "white"
           },
           "zaxis": {
            "backgroundcolor": "#E5ECF6",
            "gridcolor": "white",
            "gridwidth": 2,
            "linecolor": "white",
            "showbackground": true,
            "ticks": "",
            "zerolinecolor": "white"
           }
          },
          "shapedefaults": {
           "line": {
            "color": "#2a3f5f"
           }
          },
          "ternary": {
           "aaxis": {
            "gridcolor": "white",
            "linecolor": "white",
            "ticks": ""
           },
           "baxis": {
            "gridcolor": "white",
            "linecolor": "white",
            "ticks": ""
           },
           "bgcolor": "#E5ECF6",
           "caxis": {
            "gridcolor": "white",
            "linecolor": "white",
            "ticks": ""
           }
          },
          "title": {
           "x": 0.05
          },
          "xaxis": {
           "automargin": true,
           "gridcolor": "white",
           "linecolor": "white",
           "ticks": "",
           "title": {
            "standoff": 15
           },
           "zerolinecolor": "white",
           "zerolinewidth": 2
          },
          "yaxis": {
           "automargin": true,
           "gridcolor": "white",
           "linecolor": "white",
           "ticks": "",
           "title": {
            "standoff": 15
           },
           "zerolinecolor": "white",
           "zerolinewidth": 2
          }
         }
        },
        "title": {
         "text": "titanic, variable Fare, split by dist_weight"
        },
        "xaxis": {
         "anchor": "y",
         "domain": [
          0,
          1
         ],
         "title": {
          "text": "split variable"
         }
        },
        "yaxis": {
         "anchor": "x",
         "domain": [
          0,
          1
         ],
         "title": {
          "text": "l2"
         }
        }
       }
      }
     },
     "metadata": {},
     "output_type": "display_data"
    },
    {
     "data": {
      "application/vnd.plotly.v1+json": {
       "config": {
        "plotlyServerURL": "https://plot.ly"
       },
       "data": [
        {
         "alignmentgroup": "True",
         "hovertemplate": "explanation=ale<br>split variable=%{x}<br>l2=%{y}<extra></extra>",
         "legendgroup": "ale",
         "marker": {
          "color": "#636efa"
         },
         "name": "ale",
         "notched": false,
         "offsetgroup": "ale",
         "orientation": "v",
         "quartilemethod": "exclusive",
         "showlegend": true,
         "type": "box",
         "x": [
          "dist_weight 0.0",
          "dist_weight 0.0",
          "dist_weight 0.0",
          "dist_weight 0.0",
          "dist_weight 0.0",
          "dist_weight 0.0",
          "dist_weight 0.0",
          "dist_weight 0.0",
          "dist_weight 0.0",
          "dist_weight 0.0",
          "dist_weight 0.0",
          "dist_weight 0.0",
          "dist_weight 0.0",
          "dist_weight 0.0",
          "dist_weight 0.0",
          "dist_weight 0.0",
          "dist_weight 0.0",
          "dist_weight 0.0",
          "dist_weight 0.0",
          "dist_weight 0.001",
          "dist_weight 0.001",
          "dist_weight 0.001",
          "dist_weight 0.001",
          "dist_weight 0.001",
          "dist_weight 0.001",
          "dist_weight 0.001",
          "dist_weight 0.001",
          "dist_weight 0.001",
          "dist_weight 0.001",
          "dist_weight 0.001",
          "dist_weight 0.001",
          "dist_weight 0.001",
          "dist_weight 0.001",
          "dist_weight 0.001",
          "dist_weight 0.001",
          "dist_weight 0.001",
          "dist_weight 0.001",
          "dist_weight 0.01",
          "dist_weight 0.01",
          "dist_weight 0.01",
          "dist_weight 0.01",
          "dist_weight 0.01",
          "dist_weight 0.01",
          "dist_weight 0.01",
          "dist_weight 0.01",
          "dist_weight 0.01",
          "dist_weight 0.01",
          "dist_weight 0.01",
          "dist_weight 0.01",
          "dist_weight 0.01",
          "dist_weight 0.01",
          "dist_weight 0.01",
          "dist_weight 0.01",
          "dist_weight 0.01",
          "dist_weight 0.01",
          "dist_weight 0.1",
          "dist_weight 0.1",
          "dist_weight 0.1",
          "dist_weight 0.1",
          "dist_weight 0.1",
          "dist_weight 0.1",
          "dist_weight 0.1",
          "dist_weight 0.1",
          "dist_weight 0.1",
          "dist_weight 0.1",
          "dist_weight 0.1",
          "dist_weight 0.1",
          "dist_weight 0.1",
          "dist_weight 0.1",
          "dist_weight 0.1",
          "dist_weight 0.1",
          "dist_weight 0.1",
          "dist_weight 0.1",
          "dist_weight 1.0",
          "dist_weight 1.0",
          "dist_weight 1.0",
          "dist_weight 1.0",
          "dist_weight 1.0",
          "dist_weight 1.0",
          "dist_weight 1.0",
          "dist_weight 1.0",
          "dist_weight 1.0",
          "dist_weight 1.0",
          "dist_weight 1.0",
          "dist_weight 1.0",
          "dist_weight 1.0",
          "dist_weight 1.0",
          "dist_weight 1.0",
          "dist_weight 1.0",
          "dist_weight 1.0",
          "dist_weight 1.0"
         ],
         "x0": " ",
         "xaxis": "x",
         "y": [
          0.0574616594430214,
          0.0745747976493457,
          0.0752204355348356,
          0.0574616594430214,
          0.1216363095229816,
          0.1118848120405701,
          0.0834468648105181,
          0.0774791056677367,
          0.0769301198878626,
          0.0962795605782369,
          0.0702373543663782,
          0.0925525749330994,
          0.0559609649665634,
          0.0971504173097166,
          0.0988636286127674,
          0.1040915069978746,
          0.0870586195283945,
          0.0600524000446719,
          0.0484615412506418,
          0.0841781800032036,
          0.0466145865608415,
          0.0490562200112085,
          0.1153787787729295,
          0.1282625878880305,
          0.0919101401753275,
          0.0613968097121057,
          0.0345357599522393,
          0.0568107269104462,
          0.0594315657088458,
          0.0600024836053103,
          0.0457909469965056,
          0.0841138985443513,
          0.0673769780222299,
          0.0479319548384077,
          0.0879939230027226,
          0.0471286661848954,
          0.0581078377791745,
          0.0646640525693932,
          0.0398727003269921,
          0.0631937857233884,
          0.100870719468633,
          0.1063767995474488,
          0.0475816485371207,
          0.0566971265690426,
          0.0278670508524388,
          0.0310928431222455,
          0.0574068040729235,
          0.0494930735913496,
          0.0444001551552858,
          0.0697273112467716,
          0.0719575231997338,
          0.0592437860226668,
          0.0608169540809528,
          0.0603539677929685,
          0.0722699660202103,
          0.0820109681546748,
          0.0445142883947552,
          0.0467192322629954,
          0.0930636375140327,
          0.0910598618646212,
          0.1163708735858411,
          0.0543838581909221,
          0.0487049305082382,
          0.0278809921041044,
          0.0492175157238463,
          0.0378171847627284,
          0.034447077762008,
          0.0655034201722003,
          0.0589227850125221,
          0.0298170650183445,
          0.0484096570987818,
          0.0291850866367459,
          0.0518006558500474,
          0.0756685989841931,
          0.0629282449894139,
          0.0817877760351347,
          0.0906595404622844,
          0.0597577397182091,
          0.0572379525960742,
          0.0685090799269411,
          0.0301338068246267,
          0.0285101767207865,
          0.0328418064414422,
          0.0556416940786843,
          0.0594409647071926,
          0.048301604498754,
          0.0689443082617622,
          0.028168042200948,
          0.0137774502132066,
          0.0379763099553996,
          0.0206735346275129
         ],
         "y0": " ",
         "yaxis": "y"
        },
        {
         "alignmentgroup": "True",
         "hovertemplate": "explanation=pd<br>split variable=%{x}<br>l2=%{y}<extra></extra>",
         "legendgroup": "pd",
         "marker": {
          "color": "#EF553B"
         },
         "name": "pd",
         "notched": false,
         "offsetgroup": "pd",
         "orientation": "v",
         "quartilemethod": "exclusive",
         "showlegend": true,
         "type": "box",
         "x": [
          "dist_weight 0.0",
          "dist_weight 0.0",
          "dist_weight 0.0",
          "dist_weight 0.0",
          "dist_weight 0.0",
          "dist_weight 0.0",
          "dist_weight 0.0",
          "dist_weight 0.0",
          "dist_weight 0.0",
          "dist_weight 0.0",
          "dist_weight 0.0",
          "dist_weight 0.0",
          "dist_weight 0.0",
          "dist_weight 0.0",
          "dist_weight 0.0",
          "dist_weight 0.0",
          "dist_weight 0.0",
          "dist_weight 0.0",
          "dist_weight 0.0",
          "dist_weight 0.001",
          "dist_weight 0.001",
          "dist_weight 0.001",
          "dist_weight 0.001",
          "dist_weight 0.001",
          "dist_weight 0.001",
          "dist_weight 0.001",
          "dist_weight 0.001",
          "dist_weight 0.001",
          "dist_weight 0.001",
          "dist_weight 0.001",
          "dist_weight 0.001",
          "dist_weight 0.001",
          "dist_weight 0.001",
          "dist_weight 0.001",
          "dist_weight 0.001",
          "dist_weight 0.001",
          "dist_weight 0.001",
          "dist_weight 0.01",
          "dist_weight 0.01",
          "dist_weight 0.01",
          "dist_weight 0.01",
          "dist_weight 0.01",
          "dist_weight 0.01",
          "dist_weight 0.01",
          "dist_weight 0.01",
          "dist_weight 0.01",
          "dist_weight 0.01",
          "dist_weight 0.01",
          "dist_weight 0.01",
          "dist_weight 0.01",
          "dist_weight 0.01",
          "dist_weight 0.01",
          "dist_weight 0.01",
          "dist_weight 0.01",
          "dist_weight 0.01",
          "dist_weight 0.1",
          "dist_weight 0.1",
          "dist_weight 0.1",
          "dist_weight 0.1",
          "dist_weight 0.1",
          "dist_weight 0.1",
          "dist_weight 0.1",
          "dist_weight 0.1",
          "dist_weight 0.1",
          "dist_weight 0.1",
          "dist_weight 0.1",
          "dist_weight 0.1",
          "dist_weight 0.1",
          "dist_weight 0.1",
          "dist_weight 0.1",
          "dist_weight 0.1",
          "dist_weight 0.1",
          "dist_weight 0.1",
          "dist_weight 1.0",
          "dist_weight 1.0",
          "dist_weight 1.0",
          "dist_weight 1.0",
          "dist_weight 1.0",
          "dist_weight 1.0",
          "dist_weight 1.0",
          "dist_weight 1.0",
          "dist_weight 1.0",
          "dist_weight 1.0",
          "dist_weight 1.0",
          "dist_weight 1.0",
          "dist_weight 1.0",
          "dist_weight 1.0",
          "dist_weight 1.0",
          "dist_weight 1.0",
          "dist_weight 1.0",
          "dist_weight 1.0"
         ],
         "x0": " ",
         "xaxis": "x",
         "y": [
          0.049750533,
          0.073006034,
          0.05580513,
          0.049750533,
          0.10116332,
          0.07125682,
          0.048753522,
          0.072921515,
          0.0528543,
          0.038913727,
          0.06413081,
          0.055964418,
          0.045885824,
          0.07982156,
          0.06369529,
          0.06002243,
          0.067168936,
          0.052865487,
          0.04836825,
          0.07111257,
          0.048837073,
          0.041991085,
          0.09855352,
          0.06865629,
          0.048845455,
          0.06441584,
          0.044248093,
          0.034324847,
          0.056743633,
          0.04919929,
          0.044301193,
          0.07338987,
          0.059697684,
          0.05814927,
          0.065162234,
          0.048341718,
          0.04611045,
          0.07033938,
          0.046366006,
          0.037978824,
          0.09440714,
          0.06785041,
          0.044837687,
          0.061531644,
          0.04136339,
          0.03183782,
          0.04984229,
          0.04626169,
          0.041542098,
          0.070419,
          0.05767805,
          0.057436388,
          0.06280848,
          0.046549775,
          0.04212815,
          0.06557551,
          0.04430172,
          0.037388492,
          0.088098034,
          0.06641193,
          0.042534437,
          0.059984334,
          0.039649177,
          0.029620972,
          0.04536901,
          0.043587793,
          0.03741261,
          0.06621667,
          0.053878263,
          0.05292999,
          0.05994386,
          0.04248014,
          0.03748489,
          0.06410206,
          0.04194206,
          0.0330381,
          0.08572104,
          0.06315598,
          0.036580104,
          0.060207278,
          0.038814396,
          0.024316328,
          0.045862496,
          0.041864667,
          0.031690866,
          0.064198256,
          0.050774653,
          0.050178126,
          0.05595024,
          0.04125547,
          0.030938338
         ],
         "y0": " ",
         "yaxis": "y"
        }
       ],
       "layout": {
        "boxmode": "group",
        "legend": {
         "title": {
          "text": "explanation"
         },
         "tracegroupgap": 0
        },
        "template": {
         "data": {
          "bar": [
           {
            "error_x": {
             "color": "#2a3f5f"
            },
            "error_y": {
             "color": "#2a3f5f"
            },
            "marker": {
             "line": {
              "color": "#E5ECF6",
              "width": 0.5
             },
             "pattern": {
              "fillmode": "overlay",
              "size": 10,
              "solidity": 0.2
             }
            },
            "type": "bar"
           }
          ],
          "barpolar": [
           {
            "marker": {
             "line": {
              "color": "#E5ECF6",
              "width": 0.5
             },
             "pattern": {
              "fillmode": "overlay",
              "size": 10,
              "solidity": 0.2
             }
            },
            "type": "barpolar"
           }
          ],
          "carpet": [
           {
            "aaxis": {
             "endlinecolor": "#2a3f5f",
             "gridcolor": "white",
             "linecolor": "white",
             "minorgridcolor": "white",
             "startlinecolor": "#2a3f5f"
            },
            "baxis": {
             "endlinecolor": "#2a3f5f",
             "gridcolor": "white",
             "linecolor": "white",
             "minorgridcolor": "white",
             "startlinecolor": "#2a3f5f"
            },
            "type": "carpet"
           }
          ],
          "choropleth": [
           {
            "colorbar": {
             "outlinewidth": 0,
             "ticks": ""
            },
            "type": "choropleth"
           }
          ],
          "contour": [
           {
            "colorbar": {
             "outlinewidth": 0,
             "ticks": ""
            },
            "colorscale": [
             [
              0,
              "#0d0887"
             ],
             [
              0.1111111111111111,
              "#46039f"
             ],
             [
              0.2222222222222222,
              "#7201a8"
             ],
             [
              0.3333333333333333,
              "#9c179e"
             ],
             [
              0.4444444444444444,
              "#bd3786"
             ],
             [
              0.5555555555555556,
              "#d8576b"
             ],
             [
              0.6666666666666666,
              "#ed7953"
             ],
             [
              0.7777777777777778,
              "#fb9f3a"
             ],
             [
              0.8888888888888888,
              "#fdca26"
             ],
             [
              1,
              "#f0f921"
             ]
            ],
            "type": "contour"
           }
          ],
          "contourcarpet": [
           {
            "colorbar": {
             "outlinewidth": 0,
             "ticks": ""
            },
            "type": "contourcarpet"
           }
          ],
          "heatmap": [
           {
            "colorbar": {
             "outlinewidth": 0,
             "ticks": ""
            },
            "colorscale": [
             [
              0,
              "#0d0887"
             ],
             [
              0.1111111111111111,
              "#46039f"
             ],
             [
              0.2222222222222222,
              "#7201a8"
             ],
             [
              0.3333333333333333,
              "#9c179e"
             ],
             [
              0.4444444444444444,
              "#bd3786"
             ],
             [
              0.5555555555555556,
              "#d8576b"
             ],
             [
              0.6666666666666666,
              "#ed7953"
             ],
             [
              0.7777777777777778,
              "#fb9f3a"
             ],
             [
              0.8888888888888888,
              "#fdca26"
             ],
             [
              1,
              "#f0f921"
             ]
            ],
            "type": "heatmap"
           }
          ],
          "heatmapgl": [
           {
            "colorbar": {
             "outlinewidth": 0,
             "ticks": ""
            },
            "colorscale": [
             [
              0,
              "#0d0887"
             ],
             [
              0.1111111111111111,
              "#46039f"
             ],
             [
              0.2222222222222222,
              "#7201a8"
             ],
             [
              0.3333333333333333,
              "#9c179e"
             ],
             [
              0.4444444444444444,
              "#bd3786"
             ],
             [
              0.5555555555555556,
              "#d8576b"
             ],
             [
              0.6666666666666666,
              "#ed7953"
             ],
             [
              0.7777777777777778,
              "#fb9f3a"
             ],
             [
              0.8888888888888888,
              "#fdca26"
             ],
             [
              1,
              "#f0f921"
             ]
            ],
            "type": "heatmapgl"
           }
          ],
          "histogram": [
           {
            "marker": {
             "pattern": {
              "fillmode": "overlay",
              "size": 10,
              "solidity": 0.2
             }
            },
            "type": "histogram"
           }
          ],
          "histogram2d": [
           {
            "colorbar": {
             "outlinewidth": 0,
             "ticks": ""
            },
            "colorscale": [
             [
              0,
              "#0d0887"
             ],
             [
              0.1111111111111111,
              "#46039f"
             ],
             [
              0.2222222222222222,
              "#7201a8"
             ],
             [
              0.3333333333333333,
              "#9c179e"
             ],
             [
              0.4444444444444444,
              "#bd3786"
             ],
             [
              0.5555555555555556,
              "#d8576b"
             ],
             [
              0.6666666666666666,
              "#ed7953"
             ],
             [
              0.7777777777777778,
              "#fb9f3a"
             ],
             [
              0.8888888888888888,
              "#fdca26"
             ],
             [
              1,
              "#f0f921"
             ]
            ],
            "type": "histogram2d"
           }
          ],
          "histogram2dcontour": [
           {
            "colorbar": {
             "outlinewidth": 0,
             "ticks": ""
            },
            "colorscale": [
             [
              0,
              "#0d0887"
             ],
             [
              0.1111111111111111,
              "#46039f"
             ],
             [
              0.2222222222222222,
              "#7201a8"
             ],
             [
              0.3333333333333333,
              "#9c179e"
             ],
             [
              0.4444444444444444,
              "#bd3786"
             ],
             [
              0.5555555555555556,
              "#d8576b"
             ],
             [
              0.6666666666666666,
              "#ed7953"
             ],
             [
              0.7777777777777778,
              "#fb9f3a"
             ],
             [
              0.8888888888888888,
              "#fdca26"
             ],
             [
              1,
              "#f0f921"
             ]
            ],
            "type": "histogram2dcontour"
           }
          ],
          "mesh3d": [
           {
            "colorbar": {
             "outlinewidth": 0,
             "ticks": ""
            },
            "type": "mesh3d"
           }
          ],
          "parcoords": [
           {
            "line": {
             "colorbar": {
              "outlinewidth": 0,
              "ticks": ""
             }
            },
            "type": "parcoords"
           }
          ],
          "pie": [
           {
            "automargin": true,
            "type": "pie"
           }
          ],
          "scatter": [
           {
            "fillpattern": {
             "fillmode": "overlay",
             "size": 10,
             "solidity": 0.2
            },
            "type": "scatter"
           }
          ],
          "scatter3d": [
           {
            "line": {
             "colorbar": {
              "outlinewidth": 0,
              "ticks": ""
             }
            },
            "marker": {
             "colorbar": {
              "outlinewidth": 0,
              "ticks": ""
             }
            },
            "type": "scatter3d"
           }
          ],
          "scattercarpet": [
           {
            "marker": {
             "colorbar": {
              "outlinewidth": 0,
              "ticks": ""
             }
            },
            "type": "scattercarpet"
           }
          ],
          "scattergeo": [
           {
            "marker": {
             "colorbar": {
              "outlinewidth": 0,
              "ticks": ""
             }
            },
            "type": "scattergeo"
           }
          ],
          "scattergl": [
           {
            "marker": {
             "colorbar": {
              "outlinewidth": 0,
              "ticks": ""
             }
            },
            "type": "scattergl"
           }
          ],
          "scattermapbox": [
           {
            "marker": {
             "colorbar": {
              "outlinewidth": 0,
              "ticks": ""
             }
            },
            "type": "scattermapbox"
           }
          ],
          "scatterpolar": [
           {
            "marker": {
             "colorbar": {
              "outlinewidth": 0,
              "ticks": ""
             }
            },
            "type": "scatterpolar"
           }
          ],
          "scatterpolargl": [
           {
            "marker": {
             "colorbar": {
              "outlinewidth": 0,
              "ticks": ""
             }
            },
            "type": "scatterpolargl"
           }
          ],
          "scatterternary": [
           {
            "marker": {
             "colorbar": {
              "outlinewidth": 0,
              "ticks": ""
             }
            },
            "type": "scatterternary"
           }
          ],
          "surface": [
           {
            "colorbar": {
             "outlinewidth": 0,
             "ticks": ""
            },
            "colorscale": [
             [
              0,
              "#0d0887"
             ],
             [
              0.1111111111111111,
              "#46039f"
             ],
             [
              0.2222222222222222,
              "#7201a8"
             ],
             [
              0.3333333333333333,
              "#9c179e"
             ],
             [
              0.4444444444444444,
              "#bd3786"
             ],
             [
              0.5555555555555556,
              "#d8576b"
             ],
             [
              0.6666666666666666,
              "#ed7953"
             ],
             [
              0.7777777777777778,
              "#fb9f3a"
             ],
             [
              0.8888888888888888,
              "#fdca26"
             ],
             [
              1,
              "#f0f921"
             ]
            ],
            "type": "surface"
           }
          ],
          "table": [
           {
            "cells": {
             "fill": {
              "color": "#EBF0F8"
             },
             "line": {
              "color": "white"
             }
            },
            "header": {
             "fill": {
              "color": "#C8D4E3"
             },
             "line": {
              "color": "white"
             }
            },
            "type": "table"
           }
          ]
         },
         "layout": {
          "annotationdefaults": {
           "arrowcolor": "#2a3f5f",
           "arrowhead": 0,
           "arrowwidth": 1
          },
          "autotypenumbers": "strict",
          "coloraxis": {
           "colorbar": {
            "outlinewidth": 0,
            "ticks": ""
           }
          },
          "colorscale": {
           "diverging": [
            [
             0,
             "#8e0152"
            ],
            [
             0.1,
             "#c51b7d"
            ],
            [
             0.2,
             "#de77ae"
            ],
            [
             0.3,
             "#f1b6da"
            ],
            [
             0.4,
             "#fde0ef"
            ],
            [
             0.5,
             "#f7f7f7"
            ],
            [
             0.6,
             "#e6f5d0"
            ],
            [
             0.7,
             "#b8e186"
            ],
            [
             0.8,
             "#7fbc41"
            ],
            [
             0.9,
             "#4d9221"
            ],
            [
             1,
             "#276419"
            ]
           ],
           "sequential": [
            [
             0,
             "#0d0887"
            ],
            [
             0.1111111111111111,
             "#46039f"
            ],
            [
             0.2222222222222222,
             "#7201a8"
            ],
            [
             0.3333333333333333,
             "#9c179e"
            ],
            [
             0.4444444444444444,
             "#bd3786"
            ],
            [
             0.5555555555555556,
             "#d8576b"
            ],
            [
             0.6666666666666666,
             "#ed7953"
            ],
            [
             0.7777777777777778,
             "#fb9f3a"
            ],
            [
             0.8888888888888888,
             "#fdca26"
            ],
            [
             1,
             "#f0f921"
            ]
           ],
           "sequentialminus": [
            [
             0,
             "#0d0887"
            ],
            [
             0.1111111111111111,
             "#46039f"
            ],
            [
             0.2222222222222222,
             "#7201a8"
            ],
            [
             0.3333333333333333,
             "#9c179e"
            ],
            [
             0.4444444444444444,
             "#bd3786"
            ],
            [
             0.5555555555555556,
             "#d8576b"
            ],
            [
             0.6666666666666666,
             "#ed7953"
            ],
            [
             0.7777777777777778,
             "#fb9f3a"
            ],
            [
             0.8888888888888888,
             "#fdca26"
            ],
            [
             1,
             "#f0f921"
            ]
           ]
          },
          "colorway": [
           "#636efa",
           "#EF553B",
           "#00cc96",
           "#ab63fa",
           "#FFA15A",
           "#19d3f3",
           "#FF6692",
           "#B6E880",
           "#FF97FF",
           "#FECB52"
          ],
          "font": {
           "color": "#2a3f5f"
          },
          "geo": {
           "bgcolor": "white",
           "lakecolor": "white",
           "landcolor": "#E5ECF6",
           "showlakes": true,
           "showland": true,
           "subunitcolor": "white"
          },
          "hoverlabel": {
           "align": "left"
          },
          "hovermode": "closest",
          "mapbox": {
           "style": "light"
          },
          "paper_bgcolor": "white",
          "plot_bgcolor": "#E5ECF6",
          "polar": {
           "angularaxis": {
            "gridcolor": "white",
            "linecolor": "white",
            "ticks": ""
           },
           "bgcolor": "#E5ECF6",
           "radialaxis": {
            "gridcolor": "white",
            "linecolor": "white",
            "ticks": ""
           }
          },
          "scene": {
           "xaxis": {
            "backgroundcolor": "#E5ECF6",
            "gridcolor": "white",
            "gridwidth": 2,
            "linecolor": "white",
            "showbackground": true,
            "ticks": "",
            "zerolinecolor": "white"
           },
           "yaxis": {
            "backgroundcolor": "#E5ECF6",
            "gridcolor": "white",
            "gridwidth": 2,
            "linecolor": "white",
            "showbackground": true,
            "ticks": "",
            "zerolinecolor": "white"
           },
           "zaxis": {
            "backgroundcolor": "#E5ECF6",
            "gridcolor": "white",
            "gridwidth": 2,
            "linecolor": "white",
            "showbackground": true,
            "ticks": "",
            "zerolinecolor": "white"
           }
          },
          "shapedefaults": {
           "line": {
            "color": "#2a3f5f"
           }
          },
          "ternary": {
           "aaxis": {
            "gridcolor": "white",
            "linecolor": "white",
            "ticks": ""
           },
           "baxis": {
            "gridcolor": "white",
            "linecolor": "white",
            "ticks": ""
           },
           "bgcolor": "#E5ECF6",
           "caxis": {
            "gridcolor": "white",
            "linecolor": "white",
            "ticks": ""
           }
          },
          "title": {
           "x": 0.05
          },
          "xaxis": {
           "automargin": true,
           "gridcolor": "white",
           "linecolor": "white",
           "ticks": "",
           "title": {
            "standoff": 15
           },
           "zerolinecolor": "white",
           "zerolinewidth": 2
          },
          "yaxis": {
           "automargin": true,
           "gridcolor": "white",
           "linecolor": "white",
           "ticks": "",
           "title": {
            "standoff": 15
           },
           "zerolinecolor": "white",
           "zerolinewidth": 2
          }
         }
        },
        "title": {
         "text": "xor, variable x1, split by dist_weight"
        },
        "xaxis": {
         "anchor": "y",
         "domain": [
          0,
          1
         ],
         "title": {
          "text": "split variable"
         }
        },
        "yaxis": {
         "anchor": "x",
         "domain": [
          0,
          1
         ],
         "title": {
          "text": "l2"
         }
        }
       }
      }
     },
     "metadata": {},
     "output_type": "display_data"
    }
   ],
   "source": [
    "boxplots(\"dist_weight\", \"l2\")"
   ]
  },
  {
   "cell_type": "code",
   "execution_count": 247,
   "metadata": {},
   "outputs": [
    {
     "data": {
      "application/vnd.plotly.v1+json": {
       "config": {
        "plotlyServerURL": "https://plot.ly"
       },
       "data": [
        {
         "alignmentgroup": "True",
         "hovertemplate": "explanation=ale<br>split variable=%{x}<br>l2=%{y}<extra></extra>",
         "legendgroup": "ale",
         "marker": {
          "color": "#636efa"
         },
         "name": "ale",
         "notched": false,
         "offsetgroup": "ale",
         "orientation": "v",
         "quartilemethod": "exclusive",
         "showlegend": true,
         "type": "box",
         "x": [
          "size 32",
          "size 32",
          "size 32",
          "size 32",
          "size 32",
          "size 32",
          "size 32",
          "size 32",
          "size 32",
          "size 32",
          "size 32",
          "size 32",
          "size 32",
          "size 32",
          "size 32",
          "size 32",
          "size 32",
          "size 32",
          "size 32",
          "size 32",
          "size 32",
          "size 32",
          "size 32",
          "size 32",
          "size 32",
          "size 32",
          "size 32",
          "size 32",
          "size 32",
          "size 32",
          "size 64",
          "size 64",
          "size 64",
          "size 64",
          "size 64",
          "size 64",
          "size 64",
          "size 64",
          "size 64",
          "size 64",
          "size 64",
          "size 64",
          "size 64",
          "size 64",
          "size 64",
          "size 64",
          "size 64",
          "size 64",
          "size 64",
          "size 64",
          "size 64",
          "size 64",
          "size 64",
          "size 64",
          "size 64",
          "size 64",
          "size 64",
          "size 64",
          "size 64",
          "size 64",
          "size 128",
          "size 128",
          "size 128",
          "size 128",
          "size 128",
          "size 128",
          "size 128",
          "size 128",
          "size 128",
          "size 128",
          "size 128",
          "size 128",
          "size 128",
          "size 128",
          "size 128",
          "size 128",
          "size 128",
          "size 128",
          "size 128",
          "size 128",
          "size 128",
          "size 128",
          "size 128",
          "size 128",
          "size 128",
          "size 128",
          "size 128",
          "size 128",
          "size 128",
          "size 128"
         ],
         "x0": " ",
         "xaxis": "x",
         "y": [
          0.1031285403848192,
          0.1066649800186353,
          0.0884702379988526,
          0.0591930745962173,
          0.0196981614598581,
          0.1116209069772389,
          0.1141057545282689,
          0.1085961759135616,
          0.0903587783890184,
          0.0291270221523149,
          0.1326908203106218,
          0.1379675978189466,
          0.1400956576853092,
          0.108062856787963,
          0.0391168029273241,
          0.1022410207043614,
          0.098603340497287,
          0.0958039802557951,
          0.0704234993084342,
          0.0226912183422634,
          0.1130293330691161,
          0.0991835245401881,
          0.0874698793353579,
          0.0603696300296521,
          0.0176645139413465,
          0.1345245712217961,
          0.1155629132146195,
          0.112577727847085,
          0.0936232273374975,
          0.0312580544304955,
          0.1214083798596418,
          0.1251025982378456,
          0.1293597291401764,
          0.1055083168661064,
          0.033108097694229,
          0.1460547123461799,
          0.1312646214647192,
          0.1348575636777514,
          0.0943450786481098,
          0.0364901208765216,
          0.1054261777297685,
          0.0977935083932034,
          0.0884331184365375,
          0.0577803577211086,
          0.0228904182074322,
          0.0985248624972985,
          0.0862381545803132,
          0.0764250530585746,
          0.0454846312359194,
          0.0105889876411011,
          0.1106675035894248,
          0.101245467285704,
          0.0924301490025854,
          0.0668879852998038,
          0.0204924003529258,
          0.1152249259844671,
          0.112364391739296,
          0.1040603047750077,
          0.078151033517566,
          0.020655725364347,
          0.1516937370998237,
          0.154767299586031,
          0.155106200970314,
          0.1383002294588953,
          0.0628226723637127,
          0.093669700811062,
          0.0993703932817215,
          0.0942310359030571,
          0.0695023216380603,
          0.0243676606400684,
          0.0994476028842687,
          0.0998867165532405,
          0.0857293746402046,
          0.0630781148364893,
          0.0221967387621164,
          0.1026784885799001,
          0.085362229388389,
          0.0850960980329504,
          0.0642022522777938,
          0.0189168838004163,
          0.0962280229245943,
          0.0994791137384907,
          0.0810087042062954,
          0.0595340660202709,
          0.0232438869806606,
          0.0924428466273338,
          0.0921839787929375,
          0.0837566573616873,
          0.0583724895383761,
          0.0181091630624613
         ],
         "y0": " ",
         "yaxis": "y"
        },
        {
         "alignmentgroup": "True",
         "hovertemplate": "explanation=pd<br>split variable=%{x}<br>l2=%{y}<extra></extra>",
         "legendgroup": "pd",
         "marker": {
          "color": "#EF553B"
         },
         "name": "pd",
         "notched": false,
         "offsetgroup": "pd",
         "orientation": "v",
         "quartilemethod": "exclusive",
         "showlegend": true,
         "type": "box",
         "x": [
          "size 32",
          "size 32",
          "size 32",
          "size 32",
          "size 32",
          "size 32",
          "size 32",
          "size 32",
          "size 32",
          "size 32",
          "size 32",
          "size 32",
          "size 32",
          "size 32",
          "size 32",
          "size 32",
          "size 32",
          "size 32",
          "size 32",
          "size 32",
          "size 32",
          "size 32",
          "size 32",
          "size 32",
          "size 32",
          "size 32",
          "size 32",
          "size 32",
          "size 32",
          "size 32",
          "size 64",
          "size 64",
          "size 64",
          "size 64",
          "size 64",
          "size 64",
          "size 64",
          "size 64",
          "size 64",
          "size 64",
          "size 64",
          "size 64",
          "size 64",
          "size 64",
          "size 64",
          "size 64",
          "size 64",
          "size 64",
          "size 64",
          "size 64",
          "size 64",
          "size 64",
          "size 64",
          "size 64",
          "size 64",
          "size 64",
          "size 64",
          "size 64",
          "size 64",
          "size 64",
          "size 128",
          "size 128",
          "size 128",
          "size 128",
          "size 128",
          "size 128",
          "size 128",
          "size 128",
          "size 128",
          "size 128",
          "size 128",
          "size 128",
          "size 128",
          "size 128",
          "size 128",
          "size 128",
          "size 128",
          "size 128",
          "size 128",
          "size 128",
          "size 128",
          "size 128",
          "size 128",
          "size 128",
          "size 128",
          "size 128",
          "size 128",
          "size 128",
          "size 128",
          "size 128"
         ],
         "x0": " ",
         "xaxis": "x",
         "y": [
          0.092532866,
          0.08815447,
          0.07631847,
          0.05397698,
          0.01728327,
          0.11827157,
          0.11454058,
          0.10381609,
          0.079412274,
          0.02570984,
          0.12006888,
          0.11906763,
          0.11375234,
          0.08832076,
          0.032915723,
          0.108734354,
          0.10289606,
          0.085207224,
          0.06113567,
          0.020674018,
          0.10589682,
          0.10276278,
          0.08924628,
          0.060022768,
          0.016138867,
          0.11854798,
          0.11379959,
          0.09850861,
          0.07279151,
          0.023109961,
          0.12455968,
          0.12259748,
          0.11478661,
          0.088542186,
          0.030801367,
          0.116975784,
          0.11385521,
          0.10556658,
          0.08091923,
          0.029159537,
          0.117222436,
          0.112984076,
          0.09833635,
          0.06521392,
          0.020569608,
          0.09710136,
          0.09461465,
          0.08324884,
          0.057691284,
          0.016668892,
          0.10677882,
          0.104231015,
          0.093509875,
          0.067125894,
          0.021143738,
          0.11208146,
          0.109402396,
          0.09734517,
          0.06592645,
          0.02278516,
          0.15397696,
          0.15374103,
          0.14821114,
          0.12132551,
          0.049355734,
          0.102548994,
          0.102153756,
          0.09271926,
          0.07387473,
          0.02749987,
          0.101734966,
          0.10041066,
          0.09153482,
          0.070983686,
          0.028189756,
          0.10951467,
          0.10941108,
          0.10236601,
          0.07543768,
          0.025655601,
          0.091503695,
          0.09199429,
          0.0867165,
          0.06824061,
          0.025805052,
          0.10048989,
          0.097927175,
          0.08976668,
          0.064878434,
          0.022567263
         ],
         "y0": " ",
         "yaxis": "y"
        }
       ],
       "layout": {
        "boxmode": "group",
        "legend": {
         "title": {
          "text": "explanation"
         },
         "tracegroupgap": 0
        },
        "template": {
         "data": {
          "bar": [
           {
            "error_x": {
             "color": "#2a3f5f"
            },
            "error_y": {
             "color": "#2a3f5f"
            },
            "marker": {
             "line": {
              "color": "#E5ECF6",
              "width": 0.5
             },
             "pattern": {
              "fillmode": "overlay",
              "size": 10,
              "solidity": 0.2
             }
            },
            "type": "bar"
           }
          ],
          "barpolar": [
           {
            "marker": {
             "line": {
              "color": "#E5ECF6",
              "width": 0.5
             },
             "pattern": {
              "fillmode": "overlay",
              "size": 10,
              "solidity": 0.2
             }
            },
            "type": "barpolar"
           }
          ],
          "carpet": [
           {
            "aaxis": {
             "endlinecolor": "#2a3f5f",
             "gridcolor": "white",
             "linecolor": "white",
             "minorgridcolor": "white",
             "startlinecolor": "#2a3f5f"
            },
            "baxis": {
             "endlinecolor": "#2a3f5f",
             "gridcolor": "white",
             "linecolor": "white",
             "minorgridcolor": "white",
             "startlinecolor": "#2a3f5f"
            },
            "type": "carpet"
           }
          ],
          "choropleth": [
           {
            "colorbar": {
             "outlinewidth": 0,
             "ticks": ""
            },
            "type": "choropleth"
           }
          ],
          "contour": [
           {
            "colorbar": {
             "outlinewidth": 0,
             "ticks": ""
            },
            "colorscale": [
             [
              0,
              "#0d0887"
             ],
             [
              0.1111111111111111,
              "#46039f"
             ],
             [
              0.2222222222222222,
              "#7201a8"
             ],
             [
              0.3333333333333333,
              "#9c179e"
             ],
             [
              0.4444444444444444,
              "#bd3786"
             ],
             [
              0.5555555555555556,
              "#d8576b"
             ],
             [
              0.6666666666666666,
              "#ed7953"
             ],
             [
              0.7777777777777778,
              "#fb9f3a"
             ],
             [
              0.8888888888888888,
              "#fdca26"
             ],
             [
              1,
              "#f0f921"
             ]
            ],
            "type": "contour"
           }
          ],
          "contourcarpet": [
           {
            "colorbar": {
             "outlinewidth": 0,
             "ticks": ""
            },
            "type": "contourcarpet"
           }
          ],
          "heatmap": [
           {
            "colorbar": {
             "outlinewidth": 0,
             "ticks": ""
            },
            "colorscale": [
             [
              0,
              "#0d0887"
             ],
             [
              0.1111111111111111,
              "#46039f"
             ],
             [
              0.2222222222222222,
              "#7201a8"
             ],
             [
              0.3333333333333333,
              "#9c179e"
             ],
             [
              0.4444444444444444,
              "#bd3786"
             ],
             [
              0.5555555555555556,
              "#d8576b"
             ],
             [
              0.6666666666666666,
              "#ed7953"
             ],
             [
              0.7777777777777778,
              "#fb9f3a"
             ],
             [
              0.8888888888888888,
              "#fdca26"
             ],
             [
              1,
              "#f0f921"
             ]
            ],
            "type": "heatmap"
           }
          ],
          "heatmapgl": [
           {
            "colorbar": {
             "outlinewidth": 0,
             "ticks": ""
            },
            "colorscale": [
             [
              0,
              "#0d0887"
             ],
             [
              0.1111111111111111,
              "#46039f"
             ],
             [
              0.2222222222222222,
              "#7201a8"
             ],
             [
              0.3333333333333333,
              "#9c179e"
             ],
             [
              0.4444444444444444,
              "#bd3786"
             ],
             [
              0.5555555555555556,
              "#d8576b"
             ],
             [
              0.6666666666666666,
              "#ed7953"
             ],
             [
              0.7777777777777778,
              "#fb9f3a"
             ],
             [
              0.8888888888888888,
              "#fdca26"
             ],
             [
              1,
              "#f0f921"
             ]
            ],
            "type": "heatmapgl"
           }
          ],
          "histogram": [
           {
            "marker": {
             "pattern": {
              "fillmode": "overlay",
              "size": 10,
              "solidity": 0.2
             }
            },
            "type": "histogram"
           }
          ],
          "histogram2d": [
           {
            "colorbar": {
             "outlinewidth": 0,
             "ticks": ""
            },
            "colorscale": [
             [
              0,
              "#0d0887"
             ],
             [
              0.1111111111111111,
              "#46039f"
             ],
             [
              0.2222222222222222,
              "#7201a8"
             ],
             [
              0.3333333333333333,
              "#9c179e"
             ],
             [
              0.4444444444444444,
              "#bd3786"
             ],
             [
              0.5555555555555556,
              "#d8576b"
             ],
             [
              0.6666666666666666,
              "#ed7953"
             ],
             [
              0.7777777777777778,
              "#fb9f3a"
             ],
             [
              0.8888888888888888,
              "#fdca26"
             ],
             [
              1,
              "#f0f921"
             ]
            ],
            "type": "histogram2d"
           }
          ],
          "histogram2dcontour": [
           {
            "colorbar": {
             "outlinewidth": 0,
             "ticks": ""
            },
            "colorscale": [
             [
              0,
              "#0d0887"
             ],
             [
              0.1111111111111111,
              "#46039f"
             ],
             [
              0.2222222222222222,
              "#7201a8"
             ],
             [
              0.3333333333333333,
              "#9c179e"
             ],
             [
              0.4444444444444444,
              "#bd3786"
             ],
             [
              0.5555555555555556,
              "#d8576b"
             ],
             [
              0.6666666666666666,
              "#ed7953"
             ],
             [
              0.7777777777777778,
              "#fb9f3a"
             ],
             [
              0.8888888888888888,
              "#fdca26"
             ],
             [
              1,
              "#f0f921"
             ]
            ],
            "type": "histogram2dcontour"
           }
          ],
          "mesh3d": [
           {
            "colorbar": {
             "outlinewidth": 0,
             "ticks": ""
            },
            "type": "mesh3d"
           }
          ],
          "parcoords": [
           {
            "line": {
             "colorbar": {
              "outlinewidth": 0,
              "ticks": ""
             }
            },
            "type": "parcoords"
           }
          ],
          "pie": [
           {
            "automargin": true,
            "type": "pie"
           }
          ],
          "scatter": [
           {
            "fillpattern": {
             "fillmode": "overlay",
             "size": 10,
             "solidity": 0.2
            },
            "type": "scatter"
           }
          ],
          "scatter3d": [
           {
            "line": {
             "colorbar": {
              "outlinewidth": 0,
              "ticks": ""
             }
            },
            "marker": {
             "colorbar": {
              "outlinewidth": 0,
              "ticks": ""
             }
            },
            "type": "scatter3d"
           }
          ],
          "scattercarpet": [
           {
            "marker": {
             "colorbar": {
              "outlinewidth": 0,
              "ticks": ""
             }
            },
            "type": "scattercarpet"
           }
          ],
          "scattergeo": [
           {
            "marker": {
             "colorbar": {
              "outlinewidth": 0,
              "ticks": ""
             }
            },
            "type": "scattergeo"
           }
          ],
          "scattergl": [
           {
            "marker": {
             "colorbar": {
              "outlinewidth": 0,
              "ticks": ""
             }
            },
            "type": "scattergl"
           }
          ],
          "scattermapbox": [
           {
            "marker": {
             "colorbar": {
              "outlinewidth": 0,
              "ticks": ""
             }
            },
            "type": "scattermapbox"
           }
          ],
          "scatterpolar": [
           {
            "marker": {
             "colorbar": {
              "outlinewidth": 0,
              "ticks": ""
             }
            },
            "type": "scatterpolar"
           }
          ],
          "scatterpolargl": [
           {
            "marker": {
             "colorbar": {
              "outlinewidth": 0,
              "ticks": ""
             }
            },
            "type": "scatterpolargl"
           }
          ],
          "scatterternary": [
           {
            "marker": {
             "colorbar": {
              "outlinewidth": 0,
              "ticks": ""
             }
            },
            "type": "scatterternary"
           }
          ],
          "surface": [
           {
            "colorbar": {
             "outlinewidth": 0,
             "ticks": ""
            },
            "colorscale": [
             [
              0,
              "#0d0887"
             ],
             [
              0.1111111111111111,
              "#46039f"
             ],
             [
              0.2222222222222222,
              "#7201a8"
             ],
             [
              0.3333333333333333,
              "#9c179e"
             ],
             [
              0.4444444444444444,
              "#bd3786"
             ],
             [
              0.5555555555555556,
              "#d8576b"
             ],
             [
              0.6666666666666666,
              "#ed7953"
             ],
             [
              0.7777777777777778,
              "#fb9f3a"
             ],
             [
              0.8888888888888888,
              "#fdca26"
             ],
             [
              1,
              "#f0f921"
             ]
            ],
            "type": "surface"
           }
          ],
          "table": [
           {
            "cells": {
             "fill": {
              "color": "#EBF0F8"
             },
             "line": {
              "color": "white"
             }
            },
            "header": {
             "fill": {
              "color": "#C8D4E3"
             },
             "line": {
              "color": "white"
             }
            },
            "type": "table"
           }
          ]
         },
         "layout": {
          "annotationdefaults": {
           "arrowcolor": "#2a3f5f",
           "arrowhead": 0,
           "arrowwidth": 1
          },
          "autotypenumbers": "strict",
          "coloraxis": {
           "colorbar": {
            "outlinewidth": 0,
            "ticks": ""
           }
          },
          "colorscale": {
           "diverging": [
            [
             0,
             "#8e0152"
            ],
            [
             0.1,
             "#c51b7d"
            ],
            [
             0.2,
             "#de77ae"
            ],
            [
             0.3,
             "#f1b6da"
            ],
            [
             0.4,
             "#fde0ef"
            ],
            [
             0.5,
             "#f7f7f7"
            ],
            [
             0.6,
             "#e6f5d0"
            ],
            [
             0.7,
             "#b8e186"
            ],
            [
             0.8,
             "#7fbc41"
            ],
            [
             0.9,
             "#4d9221"
            ],
            [
             1,
             "#276419"
            ]
           ],
           "sequential": [
            [
             0,
             "#0d0887"
            ],
            [
             0.1111111111111111,
             "#46039f"
            ],
            [
             0.2222222222222222,
             "#7201a8"
            ],
            [
             0.3333333333333333,
             "#9c179e"
            ],
            [
             0.4444444444444444,
             "#bd3786"
            ],
            [
             0.5555555555555556,
             "#d8576b"
            ],
            [
             0.6666666666666666,
             "#ed7953"
            ],
            [
             0.7777777777777778,
             "#fb9f3a"
            ],
            [
             0.8888888888888888,
             "#fdca26"
            ],
            [
             1,
             "#f0f921"
            ]
           ],
           "sequentialminus": [
            [
             0,
             "#0d0887"
            ],
            [
             0.1111111111111111,
             "#46039f"
            ],
            [
             0.2222222222222222,
             "#7201a8"
            ],
            [
             0.3333333333333333,
             "#9c179e"
            ],
            [
             0.4444444444444444,
             "#bd3786"
            ],
            [
             0.5555555555555556,
             "#d8576b"
            ],
            [
             0.6666666666666666,
             "#ed7953"
            ],
            [
             0.7777777777777778,
             "#fb9f3a"
            ],
            [
             0.8888888888888888,
             "#fdca26"
            ],
            [
             1,
             "#f0f921"
            ]
           ]
          },
          "colorway": [
           "#636efa",
           "#EF553B",
           "#00cc96",
           "#ab63fa",
           "#FFA15A",
           "#19d3f3",
           "#FF6692",
           "#B6E880",
           "#FF97FF",
           "#FECB52"
          ],
          "font": {
           "color": "#2a3f5f"
          },
          "geo": {
           "bgcolor": "white",
           "lakecolor": "white",
           "landcolor": "#E5ECF6",
           "showlakes": true,
           "showland": true,
           "subunitcolor": "white"
          },
          "hoverlabel": {
           "align": "left"
          },
          "hovermode": "closest",
          "mapbox": {
           "style": "light"
          },
          "paper_bgcolor": "white",
          "plot_bgcolor": "#E5ECF6",
          "polar": {
           "angularaxis": {
            "gridcolor": "white",
            "linecolor": "white",
            "ticks": ""
           },
           "bgcolor": "#E5ECF6",
           "radialaxis": {
            "gridcolor": "white",
            "linecolor": "white",
            "ticks": ""
           }
          },
          "scene": {
           "xaxis": {
            "backgroundcolor": "#E5ECF6",
            "gridcolor": "white",
            "gridwidth": 2,
            "linecolor": "white",
            "showbackground": true,
            "ticks": "",
            "zerolinecolor": "white"
           },
           "yaxis": {
            "backgroundcolor": "#E5ECF6",
            "gridcolor": "white",
            "gridwidth": 2,
            "linecolor": "white",
            "showbackground": true,
            "ticks": "",
            "zerolinecolor": "white"
           },
           "zaxis": {
            "backgroundcolor": "#E5ECF6",
            "gridcolor": "white",
            "gridwidth": 2,
            "linecolor": "white",
            "showbackground": true,
            "ticks": "",
            "zerolinecolor": "white"
           }
          },
          "shapedefaults": {
           "line": {
            "color": "#2a3f5f"
           }
          },
          "ternary": {
           "aaxis": {
            "gridcolor": "white",
            "linecolor": "white",
            "ticks": ""
           },
           "baxis": {
            "gridcolor": "white",
            "linecolor": "white",
            "ticks": ""
           },
           "bgcolor": "#E5ECF6",
           "caxis": {
            "gridcolor": "white",
            "linecolor": "white",
            "ticks": ""
           }
          },
          "title": {
           "x": 0.05
          },
          "xaxis": {
           "automargin": true,
           "gridcolor": "white",
           "linecolor": "white",
           "ticks": "",
           "title": {
            "standoff": 15
           },
           "zerolinecolor": "white",
           "zerolinewidth": 2
          },
          "yaxis": {
           "automargin": true,
           "gridcolor": "white",
           "linecolor": "white",
           "ticks": "",
           "title": {
            "standoff": 15
           },
           "zerolinecolor": "white",
           "zerolinewidth": 2
          }
         }
        },
        "title": {
         "text": "adult, variable age, split by size"
        },
        "xaxis": {
         "anchor": "y",
         "domain": [
          0,
          1
         ],
         "title": {
          "text": "split variable"
         }
        },
        "yaxis": {
         "anchor": "x",
         "domain": [
          0,
          1
         ],
         "title": {
          "text": "l2"
         }
        }
       }
      }
     },
     "metadata": {},
     "output_type": "display_data"
    },
    {
     "data": {
      "application/vnd.plotly.v1+json": {
       "config": {
        "plotlyServerURL": "https://plot.ly"
       },
       "data": [
        {
         "alignmentgroup": "True",
         "hovertemplate": "explanation=ale<br>split variable=%{x}<br>l2=%{y}<extra></extra>",
         "legendgroup": "ale",
         "marker": {
          "color": "#636efa"
         },
         "name": "ale",
         "notched": false,
         "offsetgroup": "ale",
         "orientation": "v",
         "quartilemethod": "exclusive",
         "showlegend": true,
         "type": "box",
         "x": [
          "size 32",
          "size 32",
          "size 32",
          "size 32",
          "size 32",
          "size 32",
          "size 32",
          "size 32",
          "size 32",
          "size 32",
          "size 32",
          "size 32",
          "size 32",
          "size 32",
          "size 32",
          "size 32",
          "size 32",
          "size 32",
          "size 32",
          "size 32",
          "size 32",
          "size 32",
          "size 32",
          "size 32",
          "size 32",
          "size 32",
          "size 32",
          "size 32",
          "size 32",
          "size 32",
          "size 64",
          "size 64",
          "size 64",
          "size 64",
          "size 64",
          "size 64",
          "size 64",
          "size 64",
          "size 64",
          "size 64",
          "size 64",
          "size 64",
          "size 64",
          "size 64",
          "size 64",
          "size 64",
          "size 64",
          "size 64",
          "size 64",
          "size 64",
          "size 64",
          "size 64",
          "size 64",
          "size 64",
          "size 64",
          "size 64",
          "size 64",
          "size 64",
          "size 64",
          "size 64",
          "size 128",
          "size 128",
          "size 128",
          "size 128",
          "size 128",
          "size 128",
          "size 128",
          "size 128",
          "size 128",
          "size 128",
          "size 128",
          "size 128",
          "size 128",
          "size 128",
          "size 128",
          "size 128",
          "size 128",
          "size 128",
          "size 128",
          "size 128",
          "size 128",
          "size 128",
          "size 128",
          "size 128",
          "size 128",
          "size 128",
          "size 128",
          "size 128",
          "size 128",
          "size 128"
         ],
         "x0": " ",
         "xaxis": "x",
         "y": [
          0.112820380071653,
          0.1130328366081124,
          0.1163489825408751,
          0.1269005627322516,
          0.1258707745342211,
          0.1500238444251766,
          0.1500065218593876,
          0.1500593219863878,
          0.1557044195912511,
          0.1488061257607973,
          0.138531907858599,
          0.1410118635513145,
          0.1455092691099112,
          0.1646391107923513,
          0.1496585154919106,
          0.1207362203814421,
          0.123087952792521,
          0.1283423273450714,
          0.1538843033812131,
          0.1336014529123664,
          0.083139445086203,
          0.0817244897731895,
          0.0864118454438378,
          0.0813782487893433,
          0.08397914029503,
          0.1440112475445474,
          0.1440109336977062,
          0.1440112389447355,
          0.1501427189613884,
          0.1450952861819376,
          0.1078715980382335,
          0.1080862100692597,
          0.1100747940228965,
          0.1218356661041984,
          0.1296342272446278,
          0.1059191269316993,
          0.104377480276086,
          0.1039467708672807,
          0.1107491129502242,
          0.1204634174405663,
          0.12058187433192,
          0.1203552290858568,
          0.1200067090155873,
          0.1473079286621328,
          0.1456469501147104,
          0.1052015944595071,
          0.1037648098957975,
          0.103767374123547,
          0.1049230918919987,
          0.1207299801813714,
          0.1285267117529568,
          0.1285305880841019,
          0.1276587463182779,
          0.1306754542520877,
          0.1366171624435654,
          0.1271150105305184,
          0.1265009211544222,
          0.1193264277882057,
          0.1244953578135959,
          0.1424348756470003,
          0.1055429198887764,
          0.1052728274271362,
          0.1078310296118258,
          0.1062097560750495,
          0.123814093762932,
          0.1009297265072777,
          0.1004567857880955,
          0.1007593985301122,
          0.099092057753618,
          0.0845830459497786,
          0.1084379706569206,
          0.1083337119807076,
          0.1090696798956302,
          0.1059418157492719,
          0.124770426596416,
          0.1151630651089122,
          0.1138647667546292,
          0.1137159427436594,
          0.1156387719886221,
          0.1051028012251184,
          0.0995720460719435,
          0.099277806333366,
          0.1024134452622311,
          0.1035596143485543,
          0.1209516456181013,
          0.1003429463639428,
          0.1002062213366701,
          0.1003878702735748,
          0.1021731203911284,
          0.1056869906290563
         ],
         "y0": " ",
         "yaxis": "y"
        },
        {
         "alignmentgroup": "True",
         "hovertemplate": "explanation=pd<br>split variable=%{x}<br>l2=%{y}<extra></extra>",
         "legendgroup": "pd",
         "marker": {
          "color": "#EF553B"
         },
         "name": "pd",
         "notched": false,
         "offsetgroup": "pd",
         "orientation": "v",
         "quartilemethod": "exclusive",
         "showlegend": true,
         "type": "box",
         "x": [
          "size 32",
          "size 32",
          "size 32",
          "size 32",
          "size 32",
          "size 32",
          "size 32",
          "size 32",
          "size 32",
          "size 32",
          "size 32",
          "size 32",
          "size 32",
          "size 32",
          "size 32",
          "size 32",
          "size 32",
          "size 32",
          "size 32",
          "size 32",
          "size 32",
          "size 32",
          "size 32",
          "size 32",
          "size 32",
          "size 32",
          "size 32",
          "size 32",
          "size 32",
          "size 32",
          "size 64",
          "size 64",
          "size 64",
          "size 64",
          "size 64",
          "size 64",
          "size 64",
          "size 64",
          "size 64",
          "size 64",
          "size 64",
          "size 64",
          "size 64",
          "size 64",
          "size 64",
          "size 64",
          "size 64",
          "size 64",
          "size 64",
          "size 64",
          "size 64",
          "size 64",
          "size 64",
          "size 64",
          "size 64",
          "size 64",
          "size 64",
          "size 64",
          "size 64",
          "size 64",
          "size 128",
          "size 128",
          "size 128",
          "size 128",
          "size 128",
          "size 128",
          "size 128",
          "size 128",
          "size 128",
          "size 128",
          "size 128",
          "size 128",
          "size 128",
          "size 128",
          "size 128",
          "size 128",
          "size 128",
          "size 128",
          "size 128",
          "size 128",
          "size 128",
          "size 128",
          "size 128",
          "size 128",
          "size 128",
          "size 128",
          "size 128",
          "size 128",
          "size 128",
          "size 128"
         ],
         "x0": " ",
         "xaxis": "x",
         "y": [
          0.17311472,
          0.17330684,
          0.17723571,
          0.18306027,
          0.1672807,
          0.20667116,
          0.20666565,
          0.2066041,
          0.21251829,
          0.20102488,
          0.20430158,
          0.20556134,
          0.2087623,
          0.21808347,
          0.19251966,
          0.19806585,
          0.20017445,
          0.20778336,
          0.22058527,
          0.191796,
          0.11169542,
          0.1146469,
          0.11498495,
          0.12252626,
          0.11056479,
          0.2148914,
          0.21489066,
          0.21325433,
          0.2153244,
          0.20222409,
          0.18297817,
          0.1844671,
          0.18761314,
          0.1915914,
          0.17191952,
          0.163011,
          0.16528071,
          0.17322372,
          0.17515938,
          0.15785953,
          0.2101009,
          0.20996955,
          0.21083057,
          0.21800093,
          0.19146152,
          0.16660956,
          0.17270413,
          0.17413203,
          0.16122054,
          0.14717987,
          0.19943514,
          0.19944708,
          0.20193808,
          0.20271903,
          0.19624957,
          0.18448569,
          0.18555273,
          0.19078285,
          0.19660918,
          0.17984806,
          0.1515572,
          0.1520914,
          0.15294228,
          0.14926957,
          0.14140974,
          0.12010706,
          0.1255515,
          0.12594023,
          0.13008057,
          0.122281484,
          0.15270688,
          0.15596694,
          0.1555877,
          0.15806277,
          0.14750329,
          0.15498255,
          0.15789679,
          0.16199572,
          0.16743496,
          0.1529056,
          0.16951711,
          0.17148569,
          0.17861727,
          0.17480145,
          0.15692055,
          0.18208759,
          0.18277349,
          0.18357727,
          0.18440478,
          0.16805482
         ],
         "y0": " ",
         "yaxis": "y"
        }
       ],
       "layout": {
        "boxmode": "group",
        "legend": {
         "title": {
          "text": "explanation"
         },
         "tracegroupgap": 0
        },
        "template": {
         "data": {
          "bar": [
           {
            "error_x": {
             "color": "#2a3f5f"
            },
            "error_y": {
             "color": "#2a3f5f"
            },
            "marker": {
             "line": {
              "color": "#E5ECF6",
              "width": 0.5
             },
             "pattern": {
              "fillmode": "overlay",
              "size": 10,
              "solidity": 0.2
             }
            },
            "type": "bar"
           }
          ],
          "barpolar": [
           {
            "marker": {
             "line": {
              "color": "#E5ECF6",
              "width": 0.5
             },
             "pattern": {
              "fillmode": "overlay",
              "size": 10,
              "solidity": 0.2
             }
            },
            "type": "barpolar"
           }
          ],
          "carpet": [
           {
            "aaxis": {
             "endlinecolor": "#2a3f5f",
             "gridcolor": "white",
             "linecolor": "white",
             "minorgridcolor": "white",
             "startlinecolor": "#2a3f5f"
            },
            "baxis": {
             "endlinecolor": "#2a3f5f",
             "gridcolor": "white",
             "linecolor": "white",
             "minorgridcolor": "white",
             "startlinecolor": "#2a3f5f"
            },
            "type": "carpet"
           }
          ],
          "choropleth": [
           {
            "colorbar": {
             "outlinewidth": 0,
             "ticks": ""
            },
            "type": "choropleth"
           }
          ],
          "contour": [
           {
            "colorbar": {
             "outlinewidth": 0,
             "ticks": ""
            },
            "colorscale": [
             [
              0,
              "#0d0887"
             ],
             [
              0.1111111111111111,
              "#46039f"
             ],
             [
              0.2222222222222222,
              "#7201a8"
             ],
             [
              0.3333333333333333,
              "#9c179e"
             ],
             [
              0.4444444444444444,
              "#bd3786"
             ],
             [
              0.5555555555555556,
              "#d8576b"
             ],
             [
              0.6666666666666666,
              "#ed7953"
             ],
             [
              0.7777777777777778,
              "#fb9f3a"
             ],
             [
              0.8888888888888888,
              "#fdca26"
             ],
             [
              1,
              "#f0f921"
             ]
            ],
            "type": "contour"
           }
          ],
          "contourcarpet": [
           {
            "colorbar": {
             "outlinewidth": 0,
             "ticks": ""
            },
            "type": "contourcarpet"
           }
          ],
          "heatmap": [
           {
            "colorbar": {
             "outlinewidth": 0,
             "ticks": ""
            },
            "colorscale": [
             [
              0,
              "#0d0887"
             ],
             [
              0.1111111111111111,
              "#46039f"
             ],
             [
              0.2222222222222222,
              "#7201a8"
             ],
             [
              0.3333333333333333,
              "#9c179e"
             ],
             [
              0.4444444444444444,
              "#bd3786"
             ],
             [
              0.5555555555555556,
              "#d8576b"
             ],
             [
              0.6666666666666666,
              "#ed7953"
             ],
             [
              0.7777777777777778,
              "#fb9f3a"
             ],
             [
              0.8888888888888888,
              "#fdca26"
             ],
             [
              1,
              "#f0f921"
             ]
            ],
            "type": "heatmap"
           }
          ],
          "heatmapgl": [
           {
            "colorbar": {
             "outlinewidth": 0,
             "ticks": ""
            },
            "colorscale": [
             [
              0,
              "#0d0887"
             ],
             [
              0.1111111111111111,
              "#46039f"
             ],
             [
              0.2222222222222222,
              "#7201a8"
             ],
             [
              0.3333333333333333,
              "#9c179e"
             ],
             [
              0.4444444444444444,
              "#bd3786"
             ],
             [
              0.5555555555555556,
              "#d8576b"
             ],
             [
              0.6666666666666666,
              "#ed7953"
             ],
             [
              0.7777777777777778,
              "#fb9f3a"
             ],
             [
              0.8888888888888888,
              "#fdca26"
             ],
             [
              1,
              "#f0f921"
             ]
            ],
            "type": "heatmapgl"
           }
          ],
          "histogram": [
           {
            "marker": {
             "pattern": {
              "fillmode": "overlay",
              "size": 10,
              "solidity": 0.2
             }
            },
            "type": "histogram"
           }
          ],
          "histogram2d": [
           {
            "colorbar": {
             "outlinewidth": 0,
             "ticks": ""
            },
            "colorscale": [
             [
              0,
              "#0d0887"
             ],
             [
              0.1111111111111111,
              "#46039f"
             ],
             [
              0.2222222222222222,
              "#7201a8"
             ],
             [
              0.3333333333333333,
              "#9c179e"
             ],
             [
              0.4444444444444444,
              "#bd3786"
             ],
             [
              0.5555555555555556,
              "#d8576b"
             ],
             [
              0.6666666666666666,
              "#ed7953"
             ],
             [
              0.7777777777777778,
              "#fb9f3a"
             ],
             [
              0.8888888888888888,
              "#fdca26"
             ],
             [
              1,
              "#f0f921"
             ]
            ],
            "type": "histogram2d"
           }
          ],
          "histogram2dcontour": [
           {
            "colorbar": {
             "outlinewidth": 0,
             "ticks": ""
            },
            "colorscale": [
             [
              0,
              "#0d0887"
             ],
             [
              0.1111111111111111,
              "#46039f"
             ],
             [
              0.2222222222222222,
              "#7201a8"
             ],
             [
              0.3333333333333333,
              "#9c179e"
             ],
             [
              0.4444444444444444,
              "#bd3786"
             ],
             [
              0.5555555555555556,
              "#d8576b"
             ],
             [
              0.6666666666666666,
              "#ed7953"
             ],
             [
              0.7777777777777778,
              "#fb9f3a"
             ],
             [
              0.8888888888888888,
              "#fdca26"
             ],
             [
              1,
              "#f0f921"
             ]
            ],
            "type": "histogram2dcontour"
           }
          ],
          "mesh3d": [
           {
            "colorbar": {
             "outlinewidth": 0,
             "ticks": ""
            },
            "type": "mesh3d"
           }
          ],
          "parcoords": [
           {
            "line": {
             "colorbar": {
              "outlinewidth": 0,
              "ticks": ""
             }
            },
            "type": "parcoords"
           }
          ],
          "pie": [
           {
            "automargin": true,
            "type": "pie"
           }
          ],
          "scatter": [
           {
            "fillpattern": {
             "fillmode": "overlay",
             "size": 10,
             "solidity": 0.2
            },
            "type": "scatter"
           }
          ],
          "scatter3d": [
           {
            "line": {
             "colorbar": {
              "outlinewidth": 0,
              "ticks": ""
             }
            },
            "marker": {
             "colorbar": {
              "outlinewidth": 0,
              "ticks": ""
             }
            },
            "type": "scatter3d"
           }
          ],
          "scattercarpet": [
           {
            "marker": {
             "colorbar": {
              "outlinewidth": 0,
              "ticks": ""
             }
            },
            "type": "scattercarpet"
           }
          ],
          "scattergeo": [
           {
            "marker": {
             "colorbar": {
              "outlinewidth": 0,
              "ticks": ""
             }
            },
            "type": "scattergeo"
           }
          ],
          "scattergl": [
           {
            "marker": {
             "colorbar": {
              "outlinewidth": 0,
              "ticks": ""
             }
            },
            "type": "scattergl"
           }
          ],
          "scattermapbox": [
           {
            "marker": {
             "colorbar": {
              "outlinewidth": 0,
              "ticks": ""
             }
            },
            "type": "scattermapbox"
           }
          ],
          "scatterpolar": [
           {
            "marker": {
             "colorbar": {
              "outlinewidth": 0,
              "ticks": ""
             }
            },
            "type": "scatterpolar"
           }
          ],
          "scatterpolargl": [
           {
            "marker": {
             "colorbar": {
              "outlinewidth": 0,
              "ticks": ""
             }
            },
            "type": "scatterpolargl"
           }
          ],
          "scatterternary": [
           {
            "marker": {
             "colorbar": {
              "outlinewidth": 0,
              "ticks": ""
             }
            },
            "type": "scatterternary"
           }
          ],
          "surface": [
           {
            "colorbar": {
             "outlinewidth": 0,
             "ticks": ""
            },
            "colorscale": [
             [
              0,
              "#0d0887"
             ],
             [
              0.1111111111111111,
              "#46039f"
             ],
             [
              0.2222222222222222,
              "#7201a8"
             ],
             [
              0.3333333333333333,
              "#9c179e"
             ],
             [
              0.4444444444444444,
              "#bd3786"
             ],
             [
              0.5555555555555556,
              "#d8576b"
             ],
             [
              0.6666666666666666,
              "#ed7953"
             ],
             [
              0.7777777777777778,
              "#fb9f3a"
             ],
             [
              0.8888888888888888,
              "#fdca26"
             ],
             [
              1,
              "#f0f921"
             ]
            ],
            "type": "surface"
           }
          ],
          "table": [
           {
            "cells": {
             "fill": {
              "color": "#EBF0F8"
             },
             "line": {
              "color": "white"
             }
            },
            "header": {
             "fill": {
              "color": "#C8D4E3"
             },
             "line": {
              "color": "white"
             }
            },
            "type": "table"
           }
          ]
         },
         "layout": {
          "annotationdefaults": {
           "arrowcolor": "#2a3f5f",
           "arrowhead": 0,
           "arrowwidth": 1
          },
          "autotypenumbers": "strict",
          "coloraxis": {
           "colorbar": {
            "outlinewidth": 0,
            "ticks": ""
           }
          },
          "colorscale": {
           "diverging": [
            [
             0,
             "#8e0152"
            ],
            [
             0.1,
             "#c51b7d"
            ],
            [
             0.2,
             "#de77ae"
            ],
            [
             0.3,
             "#f1b6da"
            ],
            [
             0.4,
             "#fde0ef"
            ],
            [
             0.5,
             "#f7f7f7"
            ],
            [
             0.6,
             "#e6f5d0"
            ],
            [
             0.7,
             "#b8e186"
            ],
            [
             0.8,
             "#7fbc41"
            ],
            [
             0.9,
             "#4d9221"
            ],
            [
             1,
             "#276419"
            ]
           ],
           "sequential": [
            [
             0,
             "#0d0887"
            ],
            [
             0.1111111111111111,
             "#46039f"
            ],
            [
             0.2222222222222222,
             "#7201a8"
            ],
            [
             0.3333333333333333,
             "#9c179e"
            ],
            [
             0.4444444444444444,
             "#bd3786"
            ],
            [
             0.5555555555555556,
             "#d8576b"
            ],
            [
             0.6666666666666666,
             "#ed7953"
            ],
            [
             0.7777777777777778,
             "#fb9f3a"
            ],
            [
             0.8888888888888888,
             "#fdca26"
            ],
            [
             1,
             "#f0f921"
            ]
           ],
           "sequentialminus": [
            [
             0,
             "#0d0887"
            ],
            [
             0.1111111111111111,
             "#46039f"
            ],
            [
             0.2222222222222222,
             "#7201a8"
            ],
            [
             0.3333333333333333,
             "#9c179e"
            ],
            [
             0.4444444444444444,
             "#bd3786"
            ],
            [
             0.5555555555555556,
             "#d8576b"
            ],
            [
             0.6666666666666666,
             "#ed7953"
            ],
            [
             0.7777777777777778,
             "#fb9f3a"
            ],
            [
             0.8888888888888888,
             "#fdca26"
            ],
            [
             1,
             "#f0f921"
            ]
           ]
          },
          "colorway": [
           "#636efa",
           "#EF553B",
           "#00cc96",
           "#ab63fa",
           "#FFA15A",
           "#19d3f3",
           "#FF6692",
           "#B6E880",
           "#FF97FF",
           "#FECB52"
          ],
          "font": {
           "color": "#2a3f5f"
          },
          "geo": {
           "bgcolor": "white",
           "lakecolor": "white",
           "landcolor": "#E5ECF6",
           "showlakes": true,
           "showland": true,
           "subunitcolor": "white"
          },
          "hoverlabel": {
           "align": "left"
          },
          "hovermode": "closest",
          "mapbox": {
           "style": "light"
          },
          "paper_bgcolor": "white",
          "plot_bgcolor": "#E5ECF6",
          "polar": {
           "angularaxis": {
            "gridcolor": "white",
            "linecolor": "white",
            "ticks": ""
           },
           "bgcolor": "#E5ECF6",
           "radialaxis": {
            "gridcolor": "white",
            "linecolor": "white",
            "ticks": ""
           }
          },
          "scene": {
           "xaxis": {
            "backgroundcolor": "#E5ECF6",
            "gridcolor": "white",
            "gridwidth": 2,
            "linecolor": "white",
            "showbackground": true,
            "ticks": "",
            "zerolinecolor": "white"
           },
           "yaxis": {
            "backgroundcolor": "#E5ECF6",
            "gridcolor": "white",
            "gridwidth": 2,
            "linecolor": "white",
            "showbackground": true,
            "ticks": "",
            "zerolinecolor": "white"
           },
           "zaxis": {
            "backgroundcolor": "#E5ECF6",
            "gridcolor": "white",
            "gridwidth": 2,
            "linecolor": "white",
            "showbackground": true,
            "ticks": "",
            "zerolinecolor": "white"
           }
          },
          "shapedefaults": {
           "line": {
            "color": "#2a3f5f"
           }
          },
          "ternary": {
           "aaxis": {
            "gridcolor": "white",
            "linecolor": "white",
            "ticks": ""
           },
           "baxis": {
            "gridcolor": "white",
            "linecolor": "white",
            "ticks": ""
           },
           "bgcolor": "#E5ECF6",
           "caxis": {
            "gridcolor": "white",
            "linecolor": "white",
            "ticks": ""
           }
          },
          "title": {
           "x": 0.05
          },
          "xaxis": {
           "automargin": true,
           "gridcolor": "white",
           "linecolor": "white",
           "ticks": "",
           "title": {
            "standoff": 15
           },
           "zerolinecolor": "white",
           "zerolinewidth": 2
          },
          "yaxis": {
           "automargin": true,
           "gridcolor": "white",
           "linecolor": "white",
           "ticks": "",
           "title": {
            "standoff": 15
           },
           "zerolinecolor": "white",
           "zerolinewidth": 2
          }
         }
        },
        "title": {
         "text": "bike, variable atemp, split by size"
        },
        "xaxis": {
         "anchor": "y",
         "domain": [
          0,
          1
         ],
         "title": {
          "text": "split variable"
         }
        },
        "yaxis": {
         "anchor": "x",
         "domain": [
          0,
          1
         ],
         "title": {
          "text": "l2"
         }
        }
       }
      }
     },
     "metadata": {},
     "output_type": "display_data"
    },
    {
     "data": {
      "application/vnd.plotly.v1+json": {
       "config": {
        "plotlyServerURL": "https://plot.ly"
       },
       "data": [
        {
         "alignmentgroup": "True",
         "hovertemplate": "explanation=ale<br>split variable=%{x}<br>l2=%{y}<extra></extra>",
         "legendgroup": "ale",
         "marker": {
          "color": "#636efa"
         },
         "name": "ale",
         "notched": false,
         "offsetgroup": "ale",
         "orientation": "v",
         "quartilemethod": "exclusive",
         "showlegend": true,
         "type": "box",
         "x": [
          "size 32",
          "size 32",
          "size 32",
          "size 32",
          "size 32",
          "size 32",
          "size 32",
          "size 32",
          "size 32",
          "size 32",
          "size 32",
          "size 32",
          "size 32",
          "size 32",
          "size 32",
          "size 32",
          "size 32",
          "size 32",
          "size 32",
          "size 32",
          "size 32",
          "size 32",
          "size 32",
          "size 32",
          "size 32",
          "size 32",
          "size 32",
          "size 32",
          "size 32",
          "size 32",
          "size 32",
          "size 32",
          "size 32",
          "size 32",
          "size 32",
          "size 32",
          "size 64",
          "size 64",
          "size 64",
          "size 64",
          "size 64",
          "size 64",
          "size 64",
          "size 64",
          "size 64",
          "size 64",
          "size 64",
          "size 64",
          "size 64",
          "size 64",
          "size 64",
          "size 64",
          "size 64",
          "size 64",
          "size 64",
          "size 64",
          "size 64",
          "size 64",
          "size 64",
          "size 64",
          "size 64",
          "size 64",
          "size 64",
          "size 64",
          "size 64",
          "size 64",
          "size 64",
          "size 64",
          "size 64",
          "size 64",
          "size 64",
          "size 64",
          "size 128",
          "size 128",
          "size 128",
          "size 128",
          "size 128",
          "size 128",
          "size 128",
          "size 128",
          "size 128",
          "size 128",
          "size 128",
          "size 128",
          "size 128",
          "size 128",
          "size 128",
          "size 128",
          "size 128",
          "size 128",
          "size 128",
          "size 128",
          "size 128",
          "size 128",
          "size 128",
          "size 128",
          "size 128",
          "size 128",
          "size 128",
          "size 128",
          "size 128",
          "size 128",
          "size 128",
          "size 128",
          "size 128",
          "size 128",
          "size 128",
          "size 128"
         ],
         "x0": " ",
         "xaxis": "x",
         "y": [
          0.0245670716642891,
          0.0135352768879465,
          0.0211387053600664,
          0.0229723164002169,
          0.0196635470457009,
          0.0316247410961225,
          0.0261116781639679,
          0.0266036724852207,
          0.0288596214940667,
          0.0206078508066329,
          0.0069798564610283,
          0.0146983529875299,
          0.0146898322583807,
          0.0151293612163997,
          0.0096648680306596,
          0.003747370186899,
          0.0191052369732975,
          0.0186643348473585,
          0.0198361279291897,
          0.0154395586012691,
          0.0047771045037335,
          0.0194184788452379,
          0.0182490801445411,
          0.0168465718461403,
          0.0182782817035288,
          0.0060057803613696,
          0.0188065852132753,
          0.0196199507245015,
          0.0216869943524126,
          0.0181097069299128,
          0.0068406690440167,
          0.0318238792607104,
          0.0334673959744393,
          0.0338917477607053,
          0.0255524288186911,
          0.0047276791498008,
          0.0113593513306004,
          0.0198227467383591,
          0.0285025946033117,
          0.0150173869631317,
          0.0014134230358546,
          0.0067336226973003,
          0.0108772389923749,
          0.0104683100528623,
          0.0104699737290061,
          0.0075567536863465,
          0.0039046841440163,
          0.0171980651882136,
          0.0173917206597937,
          0.0188973409382521,
          0.0181709185480069,
          0.0098316785200772,
          0.0253532322362052,
          0.0262296937456062,
          0.0297779894470563,
          0.0169177379820487,
          0.0060309801397477,
          0.0181489543364259,
          0.0146202857110225,
          0.0132664917319272,
          0.0102059765688699,
          0.0055678136818727,
          0.0045660073162971,
          0.0049570295313662,
          0.0044384338548327,
          0.0018857832813316,
          0.003251867749482,
          0.0045350798220152,
          0.0042423480773107,
          0.0050685363436445,
          0.0056053606420989,
          0.0049923688145028,
          0.0184682847173295,
          0.0122297550178236,
          0.0057825156902411,
          0.0180984326665715,
          0.0177930404858198,
          0.0155957953145658,
          0.0259807625595819,
          0.0257256863622506,
          0.0158858867601698,
          0.0110965283600631,
          0.0103802942729156,
          0.0098192542323893,
          0.0093753747164654,
          0.0124559149555852,
          0.0089001031504707,
          0.0052758733437278,
          0.0051705117121875,
          0.0061638634300022,
          0.00580506717732,
          0.0056330096883025,
          0.0039646107734242,
          0.0188509845832908,
          0.0166369439426244,
          0.0187402839856546,
          0.0198203745556633,
          0.0115471625939312,
          0.0158879470599378,
          0.0201285536616555,
          0.020407410004931,
          0.0172976417754694,
          0.0117760413260053,
          0.0134558784100118,
          0.012962057256441,
          0.0119202315141813,
          0.0137595915335533,
          0.0065361138637882
         ],
         "y0": " ",
         "yaxis": "y"
        },
        {
         "alignmentgroup": "True",
         "hovertemplate": "explanation=pd<br>split variable=%{x}<br>l2=%{y}<extra></extra>",
         "legendgroup": "pd",
         "marker": {
          "color": "#EF553B"
         },
         "name": "pd",
         "notched": false,
         "offsetgroup": "pd",
         "orientation": "v",
         "quartilemethod": "exclusive",
         "showlegend": true,
         "type": "box",
         "x": [
          "size 32",
          "size 32",
          "size 32",
          "size 32",
          "size 32",
          "size 32",
          "size 32",
          "size 32",
          "size 32",
          "size 32",
          "size 32",
          "size 32",
          "size 32",
          "size 32",
          "size 32",
          "size 32",
          "size 32",
          "size 32",
          "size 32",
          "size 32",
          "size 32",
          "size 32",
          "size 32",
          "size 32",
          "size 32",
          "size 32",
          "size 32",
          "size 32",
          "size 32",
          "size 32",
          "size 32",
          "size 32",
          "size 32",
          "size 32",
          "size 32",
          "size 32",
          "size 64",
          "size 64",
          "size 64",
          "size 64",
          "size 64",
          "size 64",
          "size 64",
          "size 64",
          "size 64",
          "size 64",
          "size 64",
          "size 64",
          "size 64",
          "size 64",
          "size 64",
          "size 64",
          "size 64",
          "size 64",
          "size 64",
          "size 64",
          "size 64",
          "size 64",
          "size 64",
          "size 64",
          "size 64",
          "size 64",
          "size 64",
          "size 64",
          "size 64",
          "size 64",
          "size 64",
          "size 64",
          "size 64",
          "size 64",
          "size 64",
          "size 64",
          "size 128",
          "size 128",
          "size 128",
          "size 128",
          "size 128",
          "size 128",
          "size 128",
          "size 128",
          "size 128",
          "size 128",
          "size 128",
          "size 128",
          "size 128",
          "size 128",
          "size 128",
          "size 128",
          "size 128",
          "size 128",
          "size 128",
          "size 128",
          "size 128",
          "size 128",
          "size 128",
          "size 128",
          "size 128",
          "size 128",
          "size 128",
          "size 128",
          "size 128",
          "size 128",
          "size 128",
          "size 128",
          "size 128",
          "size 128",
          "size 128",
          "size 128"
         ],
         "x0": " ",
         "xaxis": "x",
         "y": [
          0.033288322,
          0.013212402,
          0.024578854,
          0.023492476,
          0.022770919,
          0.034764558,
          0.03763625,
          0.0381983,
          0.036744613,
          0.023427758,
          0.0073180995,
          0.013707007,
          0.013706017,
          0.014893608,
          0.0071693887,
          0.003160068,
          0.025533503,
          0.025192851,
          0.0251843,
          0.0190002,
          0.0047387993,
          0.024021205,
          0.023856271,
          0.024209078,
          0.018166432,
          0.0062746718,
          0.02358293,
          0.023526063,
          0.023952473,
          0.01694547,
          0.005527885,
          0.038755808,
          0.039354138,
          0.038766347,
          0.0241998,
          0.0056082974,
          0.011301279,
          0.028067736,
          0.03127747,
          0.024274923,
          0.0039952537,
          0.007294147,
          0.012314238,
          0.012209171,
          0.012233496,
          0.0074855913,
          0.0025581631,
          0.030071426,
          0.030281462,
          0.030142967,
          0.023065595,
          0.0105019435,
          0.038270883,
          0.038216684,
          0.037277117,
          0.01829604,
          0.004957974,
          0.027047012,
          0.027050521,
          0.026401047,
          0.016710205,
          0.0059508453,
          0.004048742,
          0.0042272666,
          0.0039295214,
          0.0033473345,
          0.004257699,
          0.006982474,
          0.0075021614,
          0.007749333,
          0.005981397,
          0.0034239718,
          0.025584808,
          0.016483188,
          0.008229412,
          0.024720702,
          0.024475537,
          0.016904743,
          0.026928399,
          0.027009448,
          0.026920214,
          0.022116618,
          0.010280939,
          0.01773797,
          0.017080257,
          0.017183194,
          0.013365896,
          0.0044605476,
          0.008745985,
          0.008509497,
          0.008449353,
          0.006327754,
          0.0025847186,
          0.024480185,
          0.024743058,
          0.024699097,
          0.023307929,
          0.0133982785,
          0.024131158,
          0.02488532,
          0.025646571,
          0.021901015,
          0.011264197,
          0.016893663,
          0.016985532,
          0.016945839,
          0.015666306,
          0.007406019
         ],
         "y0": " ",
         "yaxis": "y"
        }
       ],
       "layout": {
        "boxmode": "group",
        "legend": {
         "title": {
          "text": "explanation"
         },
         "tracegroupgap": 0
        },
        "template": {
         "data": {
          "bar": [
           {
            "error_x": {
             "color": "#2a3f5f"
            },
            "error_y": {
             "color": "#2a3f5f"
            },
            "marker": {
             "line": {
              "color": "#E5ECF6",
              "width": 0.5
             },
             "pattern": {
              "fillmode": "overlay",
              "size": 10,
              "solidity": 0.2
             }
            },
            "type": "bar"
           }
          ],
          "barpolar": [
           {
            "marker": {
             "line": {
              "color": "#E5ECF6",
              "width": 0.5
             },
             "pattern": {
              "fillmode": "overlay",
              "size": 10,
              "solidity": 0.2
             }
            },
            "type": "barpolar"
           }
          ],
          "carpet": [
           {
            "aaxis": {
             "endlinecolor": "#2a3f5f",
             "gridcolor": "white",
             "linecolor": "white",
             "minorgridcolor": "white",
             "startlinecolor": "#2a3f5f"
            },
            "baxis": {
             "endlinecolor": "#2a3f5f",
             "gridcolor": "white",
             "linecolor": "white",
             "minorgridcolor": "white",
             "startlinecolor": "#2a3f5f"
            },
            "type": "carpet"
           }
          ],
          "choropleth": [
           {
            "colorbar": {
             "outlinewidth": 0,
             "ticks": ""
            },
            "type": "choropleth"
           }
          ],
          "contour": [
           {
            "colorbar": {
             "outlinewidth": 0,
             "ticks": ""
            },
            "colorscale": [
             [
              0,
              "#0d0887"
             ],
             [
              0.1111111111111111,
              "#46039f"
             ],
             [
              0.2222222222222222,
              "#7201a8"
             ],
             [
              0.3333333333333333,
              "#9c179e"
             ],
             [
              0.4444444444444444,
              "#bd3786"
             ],
             [
              0.5555555555555556,
              "#d8576b"
             ],
             [
              0.6666666666666666,
              "#ed7953"
             ],
             [
              0.7777777777777778,
              "#fb9f3a"
             ],
             [
              0.8888888888888888,
              "#fdca26"
             ],
             [
              1,
              "#f0f921"
             ]
            ],
            "type": "contour"
           }
          ],
          "contourcarpet": [
           {
            "colorbar": {
             "outlinewidth": 0,
             "ticks": ""
            },
            "type": "contourcarpet"
           }
          ],
          "heatmap": [
           {
            "colorbar": {
             "outlinewidth": 0,
             "ticks": ""
            },
            "colorscale": [
             [
              0,
              "#0d0887"
             ],
             [
              0.1111111111111111,
              "#46039f"
             ],
             [
              0.2222222222222222,
              "#7201a8"
             ],
             [
              0.3333333333333333,
              "#9c179e"
             ],
             [
              0.4444444444444444,
              "#bd3786"
             ],
             [
              0.5555555555555556,
              "#d8576b"
             ],
             [
              0.6666666666666666,
              "#ed7953"
             ],
             [
              0.7777777777777778,
              "#fb9f3a"
             ],
             [
              0.8888888888888888,
              "#fdca26"
             ],
             [
              1,
              "#f0f921"
             ]
            ],
            "type": "heatmap"
           }
          ],
          "heatmapgl": [
           {
            "colorbar": {
             "outlinewidth": 0,
             "ticks": ""
            },
            "colorscale": [
             [
              0,
              "#0d0887"
             ],
             [
              0.1111111111111111,
              "#46039f"
             ],
             [
              0.2222222222222222,
              "#7201a8"
             ],
             [
              0.3333333333333333,
              "#9c179e"
             ],
             [
              0.4444444444444444,
              "#bd3786"
             ],
             [
              0.5555555555555556,
              "#d8576b"
             ],
             [
              0.6666666666666666,
              "#ed7953"
             ],
             [
              0.7777777777777778,
              "#fb9f3a"
             ],
             [
              0.8888888888888888,
              "#fdca26"
             ],
             [
              1,
              "#f0f921"
             ]
            ],
            "type": "heatmapgl"
           }
          ],
          "histogram": [
           {
            "marker": {
             "pattern": {
              "fillmode": "overlay",
              "size": 10,
              "solidity": 0.2
             }
            },
            "type": "histogram"
           }
          ],
          "histogram2d": [
           {
            "colorbar": {
             "outlinewidth": 0,
             "ticks": ""
            },
            "colorscale": [
             [
              0,
              "#0d0887"
             ],
             [
              0.1111111111111111,
              "#46039f"
             ],
             [
              0.2222222222222222,
              "#7201a8"
             ],
             [
              0.3333333333333333,
              "#9c179e"
             ],
             [
              0.4444444444444444,
              "#bd3786"
             ],
             [
              0.5555555555555556,
              "#d8576b"
             ],
             [
              0.6666666666666666,
              "#ed7953"
             ],
             [
              0.7777777777777778,
              "#fb9f3a"
             ],
             [
              0.8888888888888888,
              "#fdca26"
             ],
             [
              1,
              "#f0f921"
             ]
            ],
            "type": "histogram2d"
           }
          ],
          "histogram2dcontour": [
           {
            "colorbar": {
             "outlinewidth": 0,
             "ticks": ""
            },
            "colorscale": [
             [
              0,
              "#0d0887"
             ],
             [
              0.1111111111111111,
              "#46039f"
             ],
             [
              0.2222222222222222,
              "#7201a8"
             ],
             [
              0.3333333333333333,
              "#9c179e"
             ],
             [
              0.4444444444444444,
              "#bd3786"
             ],
             [
              0.5555555555555556,
              "#d8576b"
             ],
             [
              0.6666666666666666,
              "#ed7953"
             ],
             [
              0.7777777777777778,
              "#fb9f3a"
             ],
             [
              0.8888888888888888,
              "#fdca26"
             ],
             [
              1,
              "#f0f921"
             ]
            ],
            "type": "histogram2dcontour"
           }
          ],
          "mesh3d": [
           {
            "colorbar": {
             "outlinewidth": 0,
             "ticks": ""
            },
            "type": "mesh3d"
           }
          ],
          "parcoords": [
           {
            "line": {
             "colorbar": {
              "outlinewidth": 0,
              "ticks": ""
             }
            },
            "type": "parcoords"
           }
          ],
          "pie": [
           {
            "automargin": true,
            "type": "pie"
           }
          ],
          "scatter": [
           {
            "fillpattern": {
             "fillmode": "overlay",
             "size": 10,
             "solidity": 0.2
            },
            "type": "scatter"
           }
          ],
          "scatter3d": [
           {
            "line": {
             "colorbar": {
              "outlinewidth": 0,
              "ticks": ""
             }
            },
            "marker": {
             "colorbar": {
              "outlinewidth": 0,
              "ticks": ""
             }
            },
            "type": "scatter3d"
           }
          ],
          "scattercarpet": [
           {
            "marker": {
             "colorbar": {
              "outlinewidth": 0,
              "ticks": ""
             }
            },
            "type": "scattercarpet"
           }
          ],
          "scattergeo": [
           {
            "marker": {
             "colorbar": {
              "outlinewidth": 0,
              "ticks": ""
             }
            },
            "type": "scattergeo"
           }
          ],
          "scattergl": [
           {
            "marker": {
             "colorbar": {
              "outlinewidth": 0,
              "ticks": ""
             }
            },
            "type": "scattergl"
           }
          ],
          "scattermapbox": [
           {
            "marker": {
             "colorbar": {
              "outlinewidth": 0,
              "ticks": ""
             }
            },
            "type": "scattermapbox"
           }
          ],
          "scatterpolar": [
           {
            "marker": {
             "colorbar": {
              "outlinewidth": 0,
              "ticks": ""
             }
            },
            "type": "scatterpolar"
           }
          ],
          "scatterpolargl": [
           {
            "marker": {
             "colorbar": {
              "outlinewidth": 0,
              "ticks": ""
             }
            },
            "type": "scatterpolargl"
           }
          ],
          "scatterternary": [
           {
            "marker": {
             "colorbar": {
              "outlinewidth": 0,
              "ticks": ""
             }
            },
            "type": "scatterternary"
           }
          ],
          "surface": [
           {
            "colorbar": {
             "outlinewidth": 0,
             "ticks": ""
            },
            "colorscale": [
             [
              0,
              "#0d0887"
             ],
             [
              0.1111111111111111,
              "#46039f"
             ],
             [
              0.2222222222222222,
              "#7201a8"
             ],
             [
              0.3333333333333333,
              "#9c179e"
             ],
             [
              0.4444444444444444,
              "#bd3786"
             ],
             [
              0.5555555555555556,
              "#d8576b"
             ],
             [
              0.6666666666666666,
              "#ed7953"
             ],
             [
              0.7777777777777778,
              "#fb9f3a"
             ],
             [
              0.8888888888888888,
              "#fdca26"
             ],
             [
              1,
              "#f0f921"
             ]
            ],
            "type": "surface"
           }
          ],
          "table": [
           {
            "cells": {
             "fill": {
              "color": "#EBF0F8"
             },
             "line": {
              "color": "white"
             }
            },
            "header": {
             "fill": {
              "color": "#C8D4E3"
             },
             "line": {
              "color": "white"
             }
            },
            "type": "table"
           }
          ]
         },
         "layout": {
          "annotationdefaults": {
           "arrowcolor": "#2a3f5f",
           "arrowhead": 0,
           "arrowwidth": 1
          },
          "autotypenumbers": "strict",
          "coloraxis": {
           "colorbar": {
            "outlinewidth": 0,
            "ticks": ""
           }
          },
          "colorscale": {
           "diverging": [
            [
             0,
             "#8e0152"
            ],
            [
             0.1,
             "#c51b7d"
            ],
            [
             0.2,
             "#de77ae"
            ],
            [
             0.3,
             "#f1b6da"
            ],
            [
             0.4,
             "#fde0ef"
            ],
            [
             0.5,
             "#f7f7f7"
            ],
            [
             0.6,
             "#e6f5d0"
            ],
            [
             0.7,
             "#b8e186"
            ],
            [
             0.8,
             "#7fbc41"
            ],
            [
             0.9,
             "#4d9221"
            ],
            [
             1,
             "#276419"
            ]
           ],
           "sequential": [
            [
             0,
             "#0d0887"
            ],
            [
             0.1111111111111111,
             "#46039f"
            ],
            [
             0.2222222222222222,
             "#7201a8"
            ],
            [
             0.3333333333333333,
             "#9c179e"
            ],
            [
             0.4444444444444444,
             "#bd3786"
            ],
            [
             0.5555555555555556,
             "#d8576b"
            ],
            [
             0.6666666666666666,
             "#ed7953"
            ],
            [
             0.7777777777777778,
             "#fb9f3a"
            ],
            [
             0.8888888888888888,
             "#fdca26"
            ],
            [
             1,
             "#f0f921"
            ]
           ],
           "sequentialminus": [
            [
             0,
             "#0d0887"
            ],
            [
             0.1111111111111111,
             "#46039f"
            ],
            [
             0.2222222222222222,
             "#7201a8"
            ],
            [
             0.3333333333333333,
             "#9c179e"
            ],
            [
             0.4444444444444444,
             "#bd3786"
            ],
            [
             0.5555555555555556,
             "#d8576b"
            ],
            [
             0.6666666666666666,
             "#ed7953"
            ],
            [
             0.7777777777777778,
             "#fb9f3a"
            ],
            [
             0.8888888888888888,
             "#fdca26"
            ],
            [
             1,
             "#f0f921"
            ]
           ]
          },
          "colorway": [
           "#636efa",
           "#EF553B",
           "#00cc96",
           "#ab63fa",
           "#FFA15A",
           "#19d3f3",
           "#FF6692",
           "#B6E880",
           "#FF97FF",
           "#FECB52"
          ],
          "font": {
           "color": "#2a3f5f"
          },
          "geo": {
           "bgcolor": "white",
           "lakecolor": "white",
           "landcolor": "#E5ECF6",
           "showlakes": true,
           "showland": true,
           "subunitcolor": "white"
          },
          "hoverlabel": {
           "align": "left"
          },
          "hovermode": "closest",
          "mapbox": {
           "style": "light"
          },
          "paper_bgcolor": "white",
          "plot_bgcolor": "#E5ECF6",
          "polar": {
           "angularaxis": {
            "gridcolor": "white",
            "linecolor": "white",
            "ticks": ""
           },
           "bgcolor": "#E5ECF6",
           "radialaxis": {
            "gridcolor": "white",
            "linecolor": "white",
            "ticks": ""
           }
          },
          "scene": {
           "xaxis": {
            "backgroundcolor": "#E5ECF6",
            "gridcolor": "white",
            "gridwidth": 2,
            "linecolor": "white",
            "showbackground": true,
            "ticks": "",
            "zerolinecolor": "white"
           },
           "yaxis": {
            "backgroundcolor": "#E5ECF6",
            "gridcolor": "white",
            "gridwidth": 2,
            "linecolor": "white",
            "showbackground": true,
            "ticks": "",
            "zerolinecolor": "white"
           },
           "zaxis": {
            "backgroundcolor": "#E5ECF6",
            "gridcolor": "white",
            "gridwidth": 2,
            "linecolor": "white",
            "showbackground": true,
            "ticks": "",
            "zerolinecolor": "white"
           }
          },
          "shapedefaults": {
           "line": {
            "color": "#2a3f5f"
           }
          },
          "ternary": {
           "aaxis": {
            "gridcolor": "white",
            "linecolor": "white",
            "ticks": ""
           },
           "baxis": {
            "gridcolor": "white",
            "linecolor": "white",
            "ticks": ""
           },
           "bgcolor": "#E5ECF6",
           "caxis": {
            "gridcolor": "white",
            "linecolor": "white",
            "ticks": ""
           }
          },
          "title": {
           "x": 0.05
          },
          "xaxis": {
           "automargin": true,
           "gridcolor": "white",
           "linecolor": "white",
           "ticks": "",
           "title": {
            "standoff": 15
           },
           "zerolinecolor": "white",
           "zerolinewidth": 2
          },
          "yaxis": {
           "automargin": true,
           "gridcolor": "white",
           "linecolor": "white",
           "ticks": "",
           "title": {
            "standoff": 15
           },
           "zerolinecolor": "white",
           "zerolinewidth": 2
          }
         }
        },
        "title": {
         "text": "heart, variable age, split by size"
        },
        "xaxis": {
         "anchor": "y",
         "domain": [
          0,
          1
         ],
         "title": {
          "text": "split variable"
         }
        },
        "yaxis": {
         "anchor": "x",
         "domain": [
          0,
          1
         ],
         "title": {
          "text": "l2"
         }
        }
       }
      }
     },
     "metadata": {},
     "output_type": "display_data"
    },
    {
     "data": {
      "application/vnd.plotly.v1+json": {
       "config": {
        "plotlyServerURL": "https://plot.ly"
       },
       "data": [
        {
         "alignmentgroup": "True",
         "hovertemplate": "explanation=ale<br>split variable=%{x}<br>l2=%{y}<extra></extra>",
         "legendgroup": "ale",
         "marker": {
          "color": "#636efa"
         },
         "name": "ale",
         "notched": false,
         "offsetgroup": "ale",
         "orientation": "v",
         "quartilemethod": "exclusive",
         "showlegend": true,
         "type": "box",
         "x": [
          "size 32",
          "size 32",
          "size 32",
          "size 32",
          "size 32",
          "size 32",
          "size 32",
          "size 32",
          "size 32",
          "size 32",
          "size 32",
          "size 32",
          "size 32",
          "size 32",
          "size 32",
          "size 32",
          "size 32",
          "size 32",
          "size 32",
          "size 32",
          "size 32",
          "size 32",
          "size 32",
          "size 32",
          "size 32",
          "size 32",
          "size 32",
          "size 32",
          "size 32",
          "size 32",
          "size 32",
          "size 32",
          "size 32",
          "size 64",
          "size 64",
          "size 64",
          "size 64",
          "size 64",
          "size 64",
          "size 64",
          "size 64",
          "size 64",
          "size 64",
          "size 64",
          "size 64",
          "size 64",
          "size 64",
          "size 64",
          "size 64",
          "size 64",
          "size 64",
          "size 64",
          "size 64",
          "size 64",
          "size 64",
          "size 64",
          "size 64",
          "size 64",
          "size 64",
          "size 64",
          "size 64",
          "size 64",
          "size 64",
          "size 64",
          "size 128",
          "size 128",
          "size 128",
          "size 128",
          "size 128",
          "size 128",
          "size 128",
          "size 128",
          "size 128",
          "size 128",
          "size 128",
          "size 128",
          "size 128",
          "size 128",
          "size 128",
          "size 128",
          "size 128",
          "size 128",
          "size 128",
          "size 128",
          "size 128",
          "size 128",
          "size 128",
          "size 128",
          "size 128",
          "size 128",
          "size 128",
          "size 128",
          "size 128",
          "size 128"
         ],
         "x0": " ",
         "xaxis": "x",
         "y": [
          0.1072734070280931,
          0.1029485450901266,
          0.0956267910302795,
          0.0716163236932623,
          0.0227304363330872,
          0.0227304363330872,
          0.1492393152120488,
          0.1482860953242462,
          0.1340391344109099,
          0.0868336308914647,
          0.0198861444465988,
          0.1329604862264309,
          0.1333575306640055,
          0.1247555553832714,
          0.0870834455669084,
          0.0155016484319019,
          0.1177287400697546,
          0.1157104550092943,
          0.1122080445487087,
          0.0823125472317751,
          0.0305517698677913,
          0.1144389001287495,
          0.113623500110227,
          0.1075246983531933,
          0.0766628915075882,
          0.0272236668292229,
          0.0272236668292229,
          0.155396602795781,
          0.1590042086296161,
          0.1268956690906016,
          0.0828104523112868,
          0.0169690641443317,
          0.0169690641443317,
          0.1521264338039648,
          0.1508970772864574,
          0.132023925559545,
          0.0909254320531359,
          0.0193186949895374,
          0.1472038587331411,
          0.1447936041273688,
          0.1386058073233802,
          0.0984906819873428,
          0.0214012780906147,
          0.1582393263396936,
          0.1501963806738623,
          0.1435318634298281,
          0.1140411648375616,
          0.0354423856439883,
          0.1499101197087689,
          0.14750519188224,
          0.1423221872919093,
          0.0967839440867424,
          0.0205673894474042,
          0.0205673894474042,
          0.1840505192270959,
          0.1805955658469804,
          0.1853004032067474,
          0.1338643998087799,
          0.034369921444868,
          0.1767386063020863,
          0.1690353524422018,
          0.1723647094758455,
          0.12267721405647,
          0.0314109848026665,
          0.1724497524205578,
          0.1721400017484806,
          0.1581504143069889,
          0.1172800774681172,
          0.0379676170662378,
          0.1775185710838134,
          0.1782495785788417,
          0.1665280123580466,
          0.1147783936573885,
          0.0300575567062217,
          0.164369290728486,
          0.1675605851544712,
          0.1690255874605161,
          0.131261620806199,
          0.0449057467695665,
          0.1650873253301344,
          0.1647073603182491,
          0.1700417036789077,
          0.1333599208018848,
          0.0317539363859357,
          0.1631905356348107,
          0.1584073795027614,
          0.1639520316969025,
          0.1236544038490534,
          0.0367786642861051,
          0.1574859729218203,
          0.1578598440311716,
          0.168083951092986,
          0.1311059123200781,
          0.0363506194525693
         ],
         "y0": " ",
         "yaxis": "y"
        },
        {
         "alignmentgroup": "True",
         "hovertemplate": "explanation=pd<br>split variable=%{x}<br>l2=%{y}<extra></extra>",
         "legendgroup": "pd",
         "marker": {
          "color": "#EF553B"
         },
         "name": "pd",
         "notched": false,
         "offsetgroup": "pd",
         "orientation": "v",
         "quartilemethod": "exclusive",
         "showlegend": true,
         "type": "box",
         "x": [
          "size 32",
          "size 32",
          "size 32",
          "size 32",
          "size 32",
          "size 32",
          "size 32",
          "size 32",
          "size 32",
          "size 32",
          "size 32",
          "size 32",
          "size 32",
          "size 32",
          "size 32",
          "size 32",
          "size 32",
          "size 32",
          "size 32",
          "size 32",
          "size 32",
          "size 32",
          "size 32",
          "size 32",
          "size 32",
          "size 32",
          "size 32",
          "size 32",
          "size 32",
          "size 32",
          "size 32",
          "size 32",
          "size 32",
          "size 64",
          "size 64",
          "size 64",
          "size 64",
          "size 64",
          "size 64",
          "size 64",
          "size 64",
          "size 64",
          "size 64",
          "size 64",
          "size 64",
          "size 64",
          "size 64",
          "size 64",
          "size 64",
          "size 64",
          "size 64",
          "size 64",
          "size 64",
          "size 64",
          "size 64",
          "size 64",
          "size 64",
          "size 64",
          "size 64",
          "size 64",
          "size 64",
          "size 64",
          "size 64",
          "size 64",
          "size 128",
          "size 128",
          "size 128",
          "size 128",
          "size 128",
          "size 128",
          "size 128",
          "size 128",
          "size 128",
          "size 128",
          "size 128",
          "size 128",
          "size 128",
          "size 128",
          "size 128",
          "size 128",
          "size 128",
          "size 128",
          "size 128",
          "size 128",
          "size 128",
          "size 128",
          "size 128",
          "size 128",
          "size 128",
          "size 128",
          "size 128",
          "size 128",
          "size 128",
          "size 128"
         ],
         "x0": " ",
         "xaxis": "x",
         "y": [
          0.13411485,
          0.1317723,
          0.124569096,
          0.10194815,
          0.051932033,
          0.051932033,
          0.15176341,
          0.15069915,
          0.1370909,
          0.0889425,
          0.025522832,
          0.1395612,
          0.13720319,
          0.13203639,
          0.0913571,
          0.033531245,
          0.13324073,
          0.1319003,
          0.12617855,
          0.09763614,
          0.035896983,
          0.11816157,
          0.11773694,
          0.11446544,
          0.08307846,
          0.024283776,
          0.024283776,
          0.1446133,
          0.14941832,
          0.12518032,
          0.074250266,
          0.018342271,
          0.018342271,
          0.18073095,
          0.17991397,
          0.16625293,
          0.12680027,
          0.048928726,
          0.16328801,
          0.16083522,
          0.15368058,
          0.11242024,
          0.048574284,
          0.17672159,
          0.1719507,
          0.15797442,
          0.1191351,
          0.045514584,
          0.17062141,
          0.16628386,
          0.15394786,
          0.1096614,
          0.042638972,
          0.042638972,
          0.17444389,
          0.16985612,
          0.16329274,
          0.116316274,
          0.03635995,
          0.20108816,
          0.19921634,
          0.18640406,
          0.13093464,
          0.04442727,
          0.1951957,
          0.19350572,
          0.1746864,
          0.1304104,
          0.05079433,
          0.20176461,
          0.20053118,
          0.1864097,
          0.13678315,
          0.056256264,
          0.19082955,
          0.18868843,
          0.17943299,
          0.13616578,
          0.050076157,
          0.18277657,
          0.1816279,
          0.17514607,
          0.13260695,
          0.04949019,
          0.16264021,
          0.16186416,
          0.1558571,
          0.11574936,
          0.038481995,
          0.17821555,
          0.17707369,
          0.17271426,
          0.13397776,
          0.04726463
         ],
         "y0": " ",
         "yaxis": "y"
        }
       ],
       "layout": {
        "boxmode": "group",
        "legend": {
         "title": {
          "text": "explanation"
         },
         "tracegroupgap": 0
        },
        "template": {
         "data": {
          "bar": [
           {
            "error_x": {
             "color": "#2a3f5f"
            },
            "error_y": {
             "color": "#2a3f5f"
            },
            "marker": {
             "line": {
              "color": "#E5ECF6",
              "width": 0.5
             },
             "pattern": {
              "fillmode": "overlay",
              "size": 10,
              "solidity": 0.2
             }
            },
            "type": "bar"
           }
          ],
          "barpolar": [
           {
            "marker": {
             "line": {
              "color": "#E5ECF6",
              "width": 0.5
             },
             "pattern": {
              "fillmode": "overlay",
              "size": 10,
              "solidity": 0.2
             }
            },
            "type": "barpolar"
           }
          ],
          "carpet": [
           {
            "aaxis": {
             "endlinecolor": "#2a3f5f",
             "gridcolor": "white",
             "linecolor": "white",
             "minorgridcolor": "white",
             "startlinecolor": "#2a3f5f"
            },
            "baxis": {
             "endlinecolor": "#2a3f5f",
             "gridcolor": "white",
             "linecolor": "white",
             "minorgridcolor": "white",
             "startlinecolor": "#2a3f5f"
            },
            "type": "carpet"
           }
          ],
          "choropleth": [
           {
            "colorbar": {
             "outlinewidth": 0,
             "ticks": ""
            },
            "type": "choropleth"
           }
          ],
          "contour": [
           {
            "colorbar": {
             "outlinewidth": 0,
             "ticks": ""
            },
            "colorscale": [
             [
              0,
              "#0d0887"
             ],
             [
              0.1111111111111111,
              "#46039f"
             ],
             [
              0.2222222222222222,
              "#7201a8"
             ],
             [
              0.3333333333333333,
              "#9c179e"
             ],
             [
              0.4444444444444444,
              "#bd3786"
             ],
             [
              0.5555555555555556,
              "#d8576b"
             ],
             [
              0.6666666666666666,
              "#ed7953"
             ],
             [
              0.7777777777777778,
              "#fb9f3a"
             ],
             [
              0.8888888888888888,
              "#fdca26"
             ],
             [
              1,
              "#f0f921"
             ]
            ],
            "type": "contour"
           }
          ],
          "contourcarpet": [
           {
            "colorbar": {
             "outlinewidth": 0,
             "ticks": ""
            },
            "type": "contourcarpet"
           }
          ],
          "heatmap": [
           {
            "colorbar": {
             "outlinewidth": 0,
             "ticks": ""
            },
            "colorscale": [
             [
              0,
              "#0d0887"
             ],
             [
              0.1111111111111111,
              "#46039f"
             ],
             [
              0.2222222222222222,
              "#7201a8"
             ],
             [
              0.3333333333333333,
              "#9c179e"
             ],
             [
              0.4444444444444444,
              "#bd3786"
             ],
             [
              0.5555555555555556,
              "#d8576b"
             ],
             [
              0.6666666666666666,
              "#ed7953"
             ],
             [
              0.7777777777777778,
              "#fb9f3a"
             ],
             [
              0.8888888888888888,
              "#fdca26"
             ],
             [
              1,
              "#f0f921"
             ]
            ],
            "type": "heatmap"
           }
          ],
          "heatmapgl": [
           {
            "colorbar": {
             "outlinewidth": 0,
             "ticks": ""
            },
            "colorscale": [
             [
              0,
              "#0d0887"
             ],
             [
              0.1111111111111111,
              "#46039f"
             ],
             [
              0.2222222222222222,
              "#7201a8"
             ],
             [
              0.3333333333333333,
              "#9c179e"
             ],
             [
              0.4444444444444444,
              "#bd3786"
             ],
             [
              0.5555555555555556,
              "#d8576b"
             ],
             [
              0.6666666666666666,
              "#ed7953"
             ],
             [
              0.7777777777777778,
              "#fb9f3a"
             ],
             [
              0.8888888888888888,
              "#fdca26"
             ],
             [
              1,
              "#f0f921"
             ]
            ],
            "type": "heatmapgl"
           }
          ],
          "histogram": [
           {
            "marker": {
             "pattern": {
              "fillmode": "overlay",
              "size": 10,
              "solidity": 0.2
             }
            },
            "type": "histogram"
           }
          ],
          "histogram2d": [
           {
            "colorbar": {
             "outlinewidth": 0,
             "ticks": ""
            },
            "colorscale": [
             [
              0,
              "#0d0887"
             ],
             [
              0.1111111111111111,
              "#46039f"
             ],
             [
              0.2222222222222222,
              "#7201a8"
             ],
             [
              0.3333333333333333,
              "#9c179e"
             ],
             [
              0.4444444444444444,
              "#bd3786"
             ],
             [
              0.5555555555555556,
              "#d8576b"
             ],
             [
              0.6666666666666666,
              "#ed7953"
             ],
             [
              0.7777777777777778,
              "#fb9f3a"
             ],
             [
              0.8888888888888888,
              "#fdca26"
             ],
             [
              1,
              "#f0f921"
             ]
            ],
            "type": "histogram2d"
           }
          ],
          "histogram2dcontour": [
           {
            "colorbar": {
             "outlinewidth": 0,
             "ticks": ""
            },
            "colorscale": [
             [
              0,
              "#0d0887"
             ],
             [
              0.1111111111111111,
              "#46039f"
             ],
             [
              0.2222222222222222,
              "#7201a8"
             ],
             [
              0.3333333333333333,
              "#9c179e"
             ],
             [
              0.4444444444444444,
              "#bd3786"
             ],
             [
              0.5555555555555556,
              "#d8576b"
             ],
             [
              0.6666666666666666,
              "#ed7953"
             ],
             [
              0.7777777777777778,
              "#fb9f3a"
             ],
             [
              0.8888888888888888,
              "#fdca26"
             ],
             [
              1,
              "#f0f921"
             ]
            ],
            "type": "histogram2dcontour"
           }
          ],
          "mesh3d": [
           {
            "colorbar": {
             "outlinewidth": 0,
             "ticks": ""
            },
            "type": "mesh3d"
           }
          ],
          "parcoords": [
           {
            "line": {
             "colorbar": {
              "outlinewidth": 0,
              "ticks": ""
             }
            },
            "type": "parcoords"
           }
          ],
          "pie": [
           {
            "automargin": true,
            "type": "pie"
           }
          ],
          "scatter": [
           {
            "fillpattern": {
             "fillmode": "overlay",
             "size": 10,
             "solidity": 0.2
            },
            "type": "scatter"
           }
          ],
          "scatter3d": [
           {
            "line": {
             "colorbar": {
              "outlinewidth": 0,
              "ticks": ""
             }
            },
            "marker": {
             "colorbar": {
              "outlinewidth": 0,
              "ticks": ""
             }
            },
            "type": "scatter3d"
           }
          ],
          "scattercarpet": [
           {
            "marker": {
             "colorbar": {
              "outlinewidth": 0,
              "ticks": ""
             }
            },
            "type": "scattercarpet"
           }
          ],
          "scattergeo": [
           {
            "marker": {
             "colorbar": {
              "outlinewidth": 0,
              "ticks": ""
             }
            },
            "type": "scattergeo"
           }
          ],
          "scattergl": [
           {
            "marker": {
             "colorbar": {
              "outlinewidth": 0,
              "ticks": ""
             }
            },
            "type": "scattergl"
           }
          ],
          "scattermapbox": [
           {
            "marker": {
             "colorbar": {
              "outlinewidth": 0,
              "ticks": ""
             }
            },
            "type": "scattermapbox"
           }
          ],
          "scatterpolar": [
           {
            "marker": {
             "colorbar": {
              "outlinewidth": 0,
              "ticks": ""
             }
            },
            "type": "scatterpolar"
           }
          ],
          "scatterpolargl": [
           {
            "marker": {
             "colorbar": {
              "outlinewidth": 0,
              "ticks": ""
             }
            },
            "type": "scatterpolargl"
           }
          ],
          "scatterternary": [
           {
            "marker": {
             "colorbar": {
              "outlinewidth": 0,
              "ticks": ""
             }
            },
            "type": "scatterternary"
           }
          ],
          "surface": [
           {
            "colorbar": {
             "outlinewidth": 0,
             "ticks": ""
            },
            "colorscale": [
             [
              0,
              "#0d0887"
             ],
             [
              0.1111111111111111,
              "#46039f"
             ],
             [
              0.2222222222222222,
              "#7201a8"
             ],
             [
              0.3333333333333333,
              "#9c179e"
             ],
             [
              0.4444444444444444,
              "#bd3786"
             ],
             [
              0.5555555555555556,
              "#d8576b"
             ],
             [
              0.6666666666666666,
              "#ed7953"
             ],
             [
              0.7777777777777778,
              "#fb9f3a"
             ],
             [
              0.8888888888888888,
              "#fdca26"
             ],
             [
              1,
              "#f0f921"
             ]
            ],
            "type": "surface"
           }
          ],
          "table": [
           {
            "cells": {
             "fill": {
              "color": "#EBF0F8"
             },
             "line": {
              "color": "white"
             }
            },
            "header": {
             "fill": {
              "color": "#C8D4E3"
             },
             "line": {
              "color": "white"
             }
            },
            "type": "table"
           }
          ]
         },
         "layout": {
          "annotationdefaults": {
           "arrowcolor": "#2a3f5f",
           "arrowhead": 0,
           "arrowwidth": 1
          },
          "autotypenumbers": "strict",
          "coloraxis": {
           "colorbar": {
            "outlinewidth": 0,
            "ticks": ""
           }
          },
          "colorscale": {
           "diverging": [
            [
             0,
             "#8e0152"
            ],
            [
             0.1,
             "#c51b7d"
            ],
            [
             0.2,
             "#de77ae"
            ],
            [
             0.3,
             "#f1b6da"
            ],
            [
             0.4,
             "#fde0ef"
            ],
            [
             0.5,
             "#f7f7f7"
            ],
            [
             0.6,
             "#e6f5d0"
            ],
            [
             0.7,
             "#b8e186"
            ],
            [
             0.8,
             "#7fbc41"
            ],
            [
             0.9,
             "#4d9221"
            ],
            [
             1,
             "#276419"
            ]
           ],
           "sequential": [
            [
             0,
             "#0d0887"
            ],
            [
             0.1111111111111111,
             "#46039f"
            ],
            [
             0.2222222222222222,
             "#7201a8"
            ],
            [
             0.3333333333333333,
             "#9c179e"
            ],
            [
             0.4444444444444444,
             "#bd3786"
            ],
            [
             0.5555555555555556,
             "#d8576b"
            ],
            [
             0.6666666666666666,
             "#ed7953"
            ],
            [
             0.7777777777777778,
             "#fb9f3a"
            ],
            [
             0.8888888888888888,
             "#fdca26"
            ],
            [
             1,
             "#f0f921"
            ]
           ],
           "sequentialminus": [
            [
             0,
             "#0d0887"
            ],
            [
             0.1111111111111111,
             "#46039f"
            ],
            [
             0.2222222222222222,
             "#7201a8"
            ],
            [
             0.3333333333333333,
             "#9c179e"
            ],
            [
             0.4444444444444444,
             "#bd3786"
            ],
            [
             0.5555555555555556,
             "#d8576b"
            ],
            [
             0.6666666666666666,
             "#ed7953"
            ],
            [
             0.7777777777777778,
             "#fb9f3a"
            ],
            [
             0.8888888888888888,
             "#fdca26"
            ],
            [
             1,
             "#f0f921"
            ]
           ]
          },
          "colorway": [
           "#636efa",
           "#EF553B",
           "#00cc96",
           "#ab63fa",
           "#FFA15A",
           "#19d3f3",
           "#FF6692",
           "#B6E880",
           "#FF97FF",
           "#FECB52"
          ],
          "font": {
           "color": "#2a3f5f"
          },
          "geo": {
           "bgcolor": "white",
           "lakecolor": "white",
           "landcolor": "#E5ECF6",
           "showlakes": true,
           "showland": true,
           "subunitcolor": "white"
          },
          "hoverlabel": {
           "align": "left"
          },
          "hovermode": "closest",
          "mapbox": {
           "style": "light"
          },
          "paper_bgcolor": "white",
          "plot_bgcolor": "#E5ECF6",
          "polar": {
           "angularaxis": {
            "gridcolor": "white",
            "linecolor": "white",
            "ticks": ""
           },
           "bgcolor": "#E5ECF6",
           "radialaxis": {
            "gridcolor": "white",
            "linecolor": "white",
            "ticks": ""
           }
          },
          "scene": {
           "xaxis": {
            "backgroundcolor": "#E5ECF6",
            "gridcolor": "white",
            "gridwidth": 2,
            "linecolor": "white",
            "showbackground": true,
            "ticks": "",
            "zerolinecolor": "white"
           },
           "yaxis": {
            "backgroundcolor": "#E5ECF6",
            "gridcolor": "white",
            "gridwidth": 2,
            "linecolor": "white",
            "showbackground": true,
            "ticks": "",
            "zerolinecolor": "white"
           },
           "zaxis": {
            "backgroundcolor": "#E5ECF6",
            "gridcolor": "white",
            "gridwidth": 2,
            "linecolor": "white",
            "showbackground": true,
            "ticks": "",
            "zerolinecolor": "white"
           }
          },
          "shapedefaults": {
           "line": {
            "color": "#2a3f5f"
           }
          },
          "ternary": {
           "aaxis": {
            "gridcolor": "white",
            "linecolor": "white",
            "ticks": ""
           },
           "baxis": {
            "gridcolor": "white",
            "linecolor": "white",
            "ticks": ""
           },
           "bgcolor": "#E5ECF6",
           "caxis": {
            "gridcolor": "white",
            "linecolor": "white",
            "ticks": ""
           }
          },
          "title": {
           "x": 0.05
          },
          "xaxis": {
           "automargin": true,
           "gridcolor": "white",
           "linecolor": "white",
           "ticks": "",
           "title": {
            "standoff": 15
           },
           "zerolinecolor": "white",
           "zerolinewidth": 2
          },
          "yaxis": {
           "automargin": true,
           "gridcolor": "white",
           "linecolor": "white",
           "ticks": "",
           "title": {
            "standoff": 15
           },
           "zerolinecolor": "white",
           "zerolinewidth": 2
          }
         }
        },
        "title": {
         "text": "titanic, variable Age, split by size"
        },
        "xaxis": {
         "anchor": "y",
         "domain": [
          0,
          1
         ],
         "title": {
          "text": "split variable"
         }
        },
        "yaxis": {
         "anchor": "x",
         "domain": [
          0,
          1
         ],
         "title": {
          "text": "l2"
         }
        }
       }
      }
     },
     "metadata": {},
     "output_type": "display_data"
    },
    {
     "data": {
      "application/vnd.plotly.v1+json": {
       "config": {
        "plotlyServerURL": "https://plot.ly"
       },
       "data": [
        {
         "alignmentgroup": "True",
         "hovertemplate": "explanation=ale<br>split variable=%{x}<br>l2=%{y}<extra></extra>",
         "legendgroup": "ale",
         "marker": {
          "color": "#636efa"
         },
         "name": "ale",
         "notched": false,
         "offsetgroup": "ale",
         "orientation": "v",
         "quartilemethod": "exclusive",
         "showlegend": true,
         "type": "box",
         "x": [
          "size 32",
          "size 32",
          "size 32",
          "size 32",
          "size 32",
          "size 32",
          "size 32",
          "size 32",
          "size 32",
          "size 32",
          "size 32",
          "size 32",
          "size 32",
          "size 32",
          "size 32",
          "size 32",
          "size 32",
          "size 32",
          "size 32",
          "size 32",
          "size 32",
          "size 32",
          "size 32",
          "size 32",
          "size 32",
          "size 32",
          "size 32",
          "size 32",
          "size 32",
          "size 32",
          "size 64",
          "size 64",
          "size 64",
          "size 64",
          "size 64",
          "size 64",
          "size 64",
          "size 64",
          "size 64",
          "size 64",
          "size 64",
          "size 64",
          "size 64",
          "size 64",
          "size 64",
          "size 64",
          "size 64",
          "size 64",
          "size 64",
          "size 64",
          "size 64",
          "size 64",
          "size 64",
          "size 64",
          "size 64",
          "size 64",
          "size 64",
          "size 64",
          "size 64",
          "size 64",
          "size 128",
          "size 128",
          "size 128",
          "size 128",
          "size 128",
          "size 128",
          "size 128",
          "size 128",
          "size 128",
          "size 128",
          "size 128",
          "size 128",
          "size 128",
          "size 128",
          "size 128",
          "size 128",
          "size 128",
          "size 128",
          "size 128",
          "size 128",
          "size 128",
          "size 128",
          "size 128",
          "size 128",
          "size 128",
          "size 128",
          "size 128",
          "size 128",
          "size 128",
          "size 128",
          "size 128"
         ],
         "x0": " ",
         "xaxis": "x",
         "y": [
          0.1105390773606063,
          0.1358131365887802,
          0.100313482745913,
          0.0790568028861379,
          0.0170766845158187,
          0.0345523288146211,
          0.0593132449109522,
          0.0657891974242185,
          0.0136939493776743,
          0.0035496776363703,
          0.053570225883894,
          0.0624840690029106,
          0.0729018187894712,
          0.0464125868148999,
          0.0116780241996494,
          0.1235541295110693,
          0.1322231890510948,
          0.1510461285143572,
          0.0740382850048683,
          0.0229443553949424,
          0.0789067699462869,
          0.1291813266358366,
          0.122070809430638,
          0.0436940097194835,
          0.0195158593968669,
          0.0502961521407189,
          0.0708749012683649,
          0.0525839971806071,
          0.0231288622203969,
          0.0125475585535198,
          0.0429656860028057,
          0.0420685611535302,
          0.0430353400389775,
          0.0446864527937488,
          0.0167964503296936,
          0.1902320241347629,
          0.1513013194617979,
          0.1502261423881363,
          0.0387884327479174,
          0.0246224809858881,
          0.2084942127375451,
          0.1916863269120518,
          0.1632548975885331,
          0.0998191389388078,
          0.0073187541929764,
          0.1798442688695954,
          0.1809403429342795,
          0.1663080346767621,
          0.105223161401598,
          0.0255499532935537,
          0.2614856194281357,
          0.2788165154748909,
          0.2501583065268936,
          0.2099890164364629,
          0.0246944393848401,
          0.1353863409123208,
          0.1295748629331164,
          0.2230824737217564,
          0.1378287520427059,
          0.0139687508858142,
          0.0876423936952124,
          0.1287463018374826,
          0.1006126591317731,
          0.1734950505733989,
          0.025728642914105,
          0.1279980507800149,
          0.1678398288754994,
          0.1777721148549159,
          0.1817843514268916,
          0.0204053051723803,
          0.0589994200477989,
          0.0451311875751229,
          0.0495911059832151,
          0.0188532855048954,
          0.0642322595493055,
          0.1462810135539907,
          0.1591537942104921,
          0.150810231989091,
          0.1774901400888087,
          0.0115746588968103,
          0.058891314600284,
          0.0983453307904331,
          0.0421710151795766,
          0.1559372946845143,
          0.0156563030862351,
          0.0156563030862351,
          0.1457404122119034,
          0.1510886116930339,
          0.1142504571638313,
          0.1387819109501532,
          0.0090181122339267
         ],
         "y0": " ",
         "yaxis": "y"
        },
        {
         "alignmentgroup": "True",
         "hovertemplate": "explanation=pd<br>split variable=%{x}<br>l2=%{y}<extra></extra>",
         "legendgroup": "pd",
         "marker": {
          "color": "#EF553B"
         },
         "name": "pd",
         "notched": false,
         "offsetgroup": "pd",
         "orientation": "v",
         "quartilemethod": "exclusive",
         "showlegend": true,
         "type": "box",
         "x": [
          "size 32",
          "size 32",
          "size 32",
          "size 32",
          "size 32",
          "size 32",
          "size 32",
          "size 32",
          "size 32",
          "size 32",
          "size 32",
          "size 32",
          "size 32",
          "size 32",
          "size 32",
          "size 32",
          "size 32",
          "size 32",
          "size 32",
          "size 32",
          "size 32",
          "size 32",
          "size 32",
          "size 32",
          "size 32",
          "size 32",
          "size 32",
          "size 32",
          "size 32",
          "size 32",
          "size 64",
          "size 64",
          "size 64",
          "size 64",
          "size 64",
          "size 64",
          "size 64",
          "size 64",
          "size 64",
          "size 64",
          "size 64",
          "size 64",
          "size 64",
          "size 64",
          "size 64",
          "size 64",
          "size 64",
          "size 64",
          "size 64",
          "size 64",
          "size 64",
          "size 64",
          "size 64",
          "size 64",
          "size 64",
          "size 64",
          "size 64",
          "size 64",
          "size 64",
          "size 64",
          "size 128",
          "size 128",
          "size 128",
          "size 128",
          "size 128",
          "size 128",
          "size 128",
          "size 128",
          "size 128",
          "size 128",
          "size 128",
          "size 128",
          "size 128",
          "size 128",
          "size 128",
          "size 128",
          "size 128",
          "size 128",
          "size 128",
          "size 128",
          "size 128",
          "size 128",
          "size 128",
          "size 128",
          "size 128",
          "size 128",
          "size 128",
          "size 128",
          "size 128",
          "size 128",
          "size 128"
         ],
         "x0": " ",
         "xaxis": "x",
         "y": [
          0.16478917,
          0.16322361,
          0.15048377,
          0.10166377,
          0.03232856,
          0.14726107,
          0.14248297,
          0.12059307,
          0.07745234,
          0.027962705,
          0.19611952,
          0.19238493,
          0.17316866,
          0.1281039,
          0.05300842,
          0.22149198,
          0.21484597,
          0.1840868,
          0.1111663,
          0.029145962,
          0.13967879,
          0.13263847,
          0.10077277,
          0.04827899,
          0.009212082,
          0.05423682,
          0.05414448,
          0.04966532,
          0.027463745,
          0.0061661163,
          0.17552932,
          0.16712707,
          0.14177348,
          0.102429494,
          0.036280382,
          0.2409853,
          0.22676757,
          0.18569283,
          0.12417599,
          0.037834477,
          0.27367884,
          0.26463664,
          0.22524652,
          0.14527723,
          0.051882505,
          0.26674503,
          0.2608355,
          0.22343281,
          0.15090045,
          0.051770523,
          0.27107444,
          0.265052,
          0.23323676,
          0.15379517,
          0.052464377,
          0.23671736,
          0.24016277,
          0.21837005,
          0.15495601,
          0.0544887,
          0.21722452,
          0.22968896,
          0.21402854,
          0.17156702,
          0.08616616,
          0.2241826,
          0.233022,
          0.22452193,
          0.18340032,
          0.07949182,
          0.22670205,
          0.22753361,
          0.22101414,
          0.18685102,
          0.103996664,
          0.23827131,
          0.23842902,
          0.23026107,
          0.18636112,
          0.0720271,
          0.21740974,
          0.22430329,
          0.22593725,
          0.20430674,
          0.07548014,
          0.07548014,
          0.2685269,
          0.26319936,
          0.24666075,
          0.17561966,
          0.066134006
         ],
         "y0": " ",
         "yaxis": "y"
        }
       ],
       "layout": {
        "boxmode": "group",
        "legend": {
         "title": {
          "text": "explanation"
         },
         "tracegroupgap": 0
        },
        "template": {
         "data": {
          "bar": [
           {
            "error_x": {
             "color": "#2a3f5f"
            },
            "error_y": {
             "color": "#2a3f5f"
            },
            "marker": {
             "line": {
              "color": "#E5ECF6",
              "width": 0.5
             },
             "pattern": {
              "fillmode": "overlay",
              "size": 10,
              "solidity": 0.2
             }
            },
            "type": "bar"
           }
          ],
          "barpolar": [
           {
            "marker": {
             "line": {
              "color": "#E5ECF6",
              "width": 0.5
             },
             "pattern": {
              "fillmode": "overlay",
              "size": 10,
              "solidity": 0.2
             }
            },
            "type": "barpolar"
           }
          ],
          "carpet": [
           {
            "aaxis": {
             "endlinecolor": "#2a3f5f",
             "gridcolor": "white",
             "linecolor": "white",
             "minorgridcolor": "white",
             "startlinecolor": "#2a3f5f"
            },
            "baxis": {
             "endlinecolor": "#2a3f5f",
             "gridcolor": "white",
             "linecolor": "white",
             "minorgridcolor": "white",
             "startlinecolor": "#2a3f5f"
            },
            "type": "carpet"
           }
          ],
          "choropleth": [
           {
            "colorbar": {
             "outlinewidth": 0,
             "ticks": ""
            },
            "type": "choropleth"
           }
          ],
          "contour": [
           {
            "colorbar": {
             "outlinewidth": 0,
             "ticks": ""
            },
            "colorscale": [
             [
              0,
              "#0d0887"
             ],
             [
              0.1111111111111111,
              "#46039f"
             ],
             [
              0.2222222222222222,
              "#7201a8"
             ],
             [
              0.3333333333333333,
              "#9c179e"
             ],
             [
              0.4444444444444444,
              "#bd3786"
             ],
             [
              0.5555555555555556,
              "#d8576b"
             ],
             [
              0.6666666666666666,
              "#ed7953"
             ],
             [
              0.7777777777777778,
              "#fb9f3a"
             ],
             [
              0.8888888888888888,
              "#fdca26"
             ],
             [
              1,
              "#f0f921"
             ]
            ],
            "type": "contour"
           }
          ],
          "contourcarpet": [
           {
            "colorbar": {
             "outlinewidth": 0,
             "ticks": ""
            },
            "type": "contourcarpet"
           }
          ],
          "heatmap": [
           {
            "colorbar": {
             "outlinewidth": 0,
             "ticks": ""
            },
            "colorscale": [
             [
              0,
              "#0d0887"
             ],
             [
              0.1111111111111111,
              "#46039f"
             ],
             [
              0.2222222222222222,
              "#7201a8"
             ],
             [
              0.3333333333333333,
              "#9c179e"
             ],
             [
              0.4444444444444444,
              "#bd3786"
             ],
             [
              0.5555555555555556,
              "#d8576b"
             ],
             [
              0.6666666666666666,
              "#ed7953"
             ],
             [
              0.7777777777777778,
              "#fb9f3a"
             ],
             [
              0.8888888888888888,
              "#fdca26"
             ],
             [
              1,
              "#f0f921"
             ]
            ],
            "type": "heatmap"
           }
          ],
          "heatmapgl": [
           {
            "colorbar": {
             "outlinewidth": 0,
             "ticks": ""
            },
            "colorscale": [
             [
              0,
              "#0d0887"
             ],
             [
              0.1111111111111111,
              "#46039f"
             ],
             [
              0.2222222222222222,
              "#7201a8"
             ],
             [
              0.3333333333333333,
              "#9c179e"
             ],
             [
              0.4444444444444444,
              "#bd3786"
             ],
             [
              0.5555555555555556,
              "#d8576b"
             ],
             [
              0.6666666666666666,
              "#ed7953"
             ],
             [
              0.7777777777777778,
              "#fb9f3a"
             ],
             [
              0.8888888888888888,
              "#fdca26"
             ],
             [
              1,
              "#f0f921"
             ]
            ],
            "type": "heatmapgl"
           }
          ],
          "histogram": [
           {
            "marker": {
             "pattern": {
              "fillmode": "overlay",
              "size": 10,
              "solidity": 0.2
             }
            },
            "type": "histogram"
           }
          ],
          "histogram2d": [
           {
            "colorbar": {
             "outlinewidth": 0,
             "ticks": ""
            },
            "colorscale": [
             [
              0,
              "#0d0887"
             ],
             [
              0.1111111111111111,
              "#46039f"
             ],
             [
              0.2222222222222222,
              "#7201a8"
             ],
             [
              0.3333333333333333,
              "#9c179e"
             ],
             [
              0.4444444444444444,
              "#bd3786"
             ],
             [
              0.5555555555555556,
              "#d8576b"
             ],
             [
              0.6666666666666666,
              "#ed7953"
             ],
             [
              0.7777777777777778,
              "#fb9f3a"
             ],
             [
              0.8888888888888888,
              "#fdca26"
             ],
             [
              1,
              "#f0f921"
             ]
            ],
            "type": "histogram2d"
           }
          ],
          "histogram2dcontour": [
           {
            "colorbar": {
             "outlinewidth": 0,
             "ticks": ""
            },
            "colorscale": [
             [
              0,
              "#0d0887"
             ],
             [
              0.1111111111111111,
              "#46039f"
             ],
             [
              0.2222222222222222,
              "#7201a8"
             ],
             [
              0.3333333333333333,
              "#9c179e"
             ],
             [
              0.4444444444444444,
              "#bd3786"
             ],
             [
              0.5555555555555556,
              "#d8576b"
             ],
             [
              0.6666666666666666,
              "#ed7953"
             ],
             [
              0.7777777777777778,
              "#fb9f3a"
             ],
             [
              0.8888888888888888,
              "#fdca26"
             ],
             [
              1,
              "#f0f921"
             ]
            ],
            "type": "histogram2dcontour"
           }
          ],
          "mesh3d": [
           {
            "colorbar": {
             "outlinewidth": 0,
             "ticks": ""
            },
            "type": "mesh3d"
           }
          ],
          "parcoords": [
           {
            "line": {
             "colorbar": {
              "outlinewidth": 0,
              "ticks": ""
             }
            },
            "type": "parcoords"
           }
          ],
          "pie": [
           {
            "automargin": true,
            "type": "pie"
           }
          ],
          "scatter": [
           {
            "fillpattern": {
             "fillmode": "overlay",
             "size": 10,
             "solidity": 0.2
            },
            "type": "scatter"
           }
          ],
          "scatter3d": [
           {
            "line": {
             "colorbar": {
              "outlinewidth": 0,
              "ticks": ""
             }
            },
            "marker": {
             "colorbar": {
              "outlinewidth": 0,
              "ticks": ""
             }
            },
            "type": "scatter3d"
           }
          ],
          "scattercarpet": [
           {
            "marker": {
             "colorbar": {
              "outlinewidth": 0,
              "ticks": ""
             }
            },
            "type": "scattercarpet"
           }
          ],
          "scattergeo": [
           {
            "marker": {
             "colorbar": {
              "outlinewidth": 0,
              "ticks": ""
             }
            },
            "type": "scattergeo"
           }
          ],
          "scattergl": [
           {
            "marker": {
             "colorbar": {
              "outlinewidth": 0,
              "ticks": ""
             }
            },
            "type": "scattergl"
           }
          ],
          "scattermapbox": [
           {
            "marker": {
             "colorbar": {
              "outlinewidth": 0,
              "ticks": ""
             }
            },
            "type": "scattermapbox"
           }
          ],
          "scatterpolar": [
           {
            "marker": {
             "colorbar": {
              "outlinewidth": 0,
              "ticks": ""
             }
            },
            "type": "scatterpolar"
           }
          ],
          "scatterpolargl": [
           {
            "marker": {
             "colorbar": {
              "outlinewidth": 0,
              "ticks": ""
             }
            },
            "type": "scatterpolargl"
           }
          ],
          "scatterternary": [
           {
            "marker": {
             "colorbar": {
              "outlinewidth": 0,
              "ticks": ""
             }
            },
            "type": "scatterternary"
           }
          ],
          "surface": [
           {
            "colorbar": {
             "outlinewidth": 0,
             "ticks": ""
            },
            "colorscale": [
             [
              0,
              "#0d0887"
             ],
             [
              0.1111111111111111,
              "#46039f"
             ],
             [
              0.2222222222222222,
              "#7201a8"
             ],
             [
              0.3333333333333333,
              "#9c179e"
             ],
             [
              0.4444444444444444,
              "#bd3786"
             ],
             [
              0.5555555555555556,
              "#d8576b"
             ],
             [
              0.6666666666666666,
              "#ed7953"
             ],
             [
              0.7777777777777778,
              "#fb9f3a"
             ],
             [
              0.8888888888888888,
              "#fdca26"
             ],
             [
              1,
              "#f0f921"
             ]
            ],
            "type": "surface"
           }
          ],
          "table": [
           {
            "cells": {
             "fill": {
              "color": "#EBF0F8"
             },
             "line": {
              "color": "white"
             }
            },
            "header": {
             "fill": {
              "color": "#C8D4E3"
             },
             "line": {
              "color": "white"
             }
            },
            "type": "table"
           }
          ]
         },
         "layout": {
          "annotationdefaults": {
           "arrowcolor": "#2a3f5f",
           "arrowhead": 0,
           "arrowwidth": 1
          },
          "autotypenumbers": "strict",
          "coloraxis": {
           "colorbar": {
            "outlinewidth": 0,
            "ticks": ""
           }
          },
          "colorscale": {
           "diverging": [
            [
             0,
             "#8e0152"
            ],
            [
             0.1,
             "#c51b7d"
            ],
            [
             0.2,
             "#de77ae"
            ],
            [
             0.3,
             "#f1b6da"
            ],
            [
             0.4,
             "#fde0ef"
            ],
            [
             0.5,
             "#f7f7f7"
            ],
            [
             0.6,
             "#e6f5d0"
            ],
            [
             0.7,
             "#b8e186"
            ],
            [
             0.8,
             "#7fbc41"
            ],
            [
             0.9,
             "#4d9221"
            ],
            [
             1,
             "#276419"
            ]
           ],
           "sequential": [
            [
             0,
             "#0d0887"
            ],
            [
             0.1111111111111111,
             "#46039f"
            ],
            [
             0.2222222222222222,
             "#7201a8"
            ],
            [
             0.3333333333333333,
             "#9c179e"
            ],
            [
             0.4444444444444444,
             "#bd3786"
            ],
            [
             0.5555555555555556,
             "#d8576b"
            ],
            [
             0.6666666666666666,
             "#ed7953"
            ],
            [
             0.7777777777777778,
             "#fb9f3a"
            ],
            [
             0.8888888888888888,
             "#fdca26"
            ],
            [
             1,
             "#f0f921"
            ]
           ],
           "sequentialminus": [
            [
             0,
             "#0d0887"
            ],
            [
             0.1111111111111111,
             "#46039f"
            ],
            [
             0.2222222222222222,
             "#7201a8"
            ],
            [
             0.3333333333333333,
             "#9c179e"
            ],
            [
             0.4444444444444444,
             "#bd3786"
            ],
            [
             0.5555555555555556,
             "#d8576b"
            ],
            [
             0.6666666666666666,
             "#ed7953"
            ],
            [
             0.7777777777777778,
             "#fb9f3a"
            ],
            [
             0.8888888888888888,
             "#fdca26"
            ],
            [
             1,
             "#f0f921"
            ]
           ]
          },
          "colorway": [
           "#636efa",
           "#EF553B",
           "#00cc96",
           "#ab63fa",
           "#FFA15A",
           "#19d3f3",
           "#FF6692",
           "#B6E880",
           "#FF97FF",
           "#FECB52"
          ],
          "font": {
           "color": "#2a3f5f"
          },
          "geo": {
           "bgcolor": "white",
           "lakecolor": "white",
           "landcolor": "#E5ECF6",
           "showlakes": true,
           "showland": true,
           "subunitcolor": "white"
          },
          "hoverlabel": {
           "align": "left"
          },
          "hovermode": "closest",
          "mapbox": {
           "style": "light"
          },
          "paper_bgcolor": "white",
          "plot_bgcolor": "#E5ECF6",
          "polar": {
           "angularaxis": {
            "gridcolor": "white",
            "linecolor": "white",
            "ticks": ""
           },
           "bgcolor": "#E5ECF6",
           "radialaxis": {
            "gridcolor": "white",
            "linecolor": "white",
            "ticks": ""
           }
          },
          "scene": {
           "xaxis": {
            "backgroundcolor": "#E5ECF6",
            "gridcolor": "white",
            "gridwidth": 2,
            "linecolor": "white",
            "showbackground": true,
            "ticks": "",
            "zerolinecolor": "white"
           },
           "yaxis": {
            "backgroundcolor": "#E5ECF6",
            "gridcolor": "white",
            "gridwidth": 2,
            "linecolor": "white",
            "showbackground": true,
            "ticks": "",
            "zerolinecolor": "white"
           },
           "zaxis": {
            "backgroundcolor": "#E5ECF6",
            "gridcolor": "white",
            "gridwidth": 2,
            "linecolor": "white",
            "showbackground": true,
            "ticks": "",
            "zerolinecolor": "white"
           }
          },
          "shapedefaults": {
           "line": {
            "color": "#2a3f5f"
           }
          },
          "ternary": {
           "aaxis": {
            "gridcolor": "white",
            "linecolor": "white",
            "ticks": ""
           },
           "baxis": {
            "gridcolor": "white",
            "linecolor": "white",
            "ticks": ""
           },
           "bgcolor": "#E5ECF6",
           "caxis": {
            "gridcolor": "white",
            "linecolor": "white",
            "ticks": ""
           }
          },
          "title": {
           "x": 0.05
          },
          "xaxis": {
           "automargin": true,
           "gridcolor": "white",
           "linecolor": "white",
           "ticks": "",
           "title": {
            "standoff": 15
           },
           "zerolinecolor": "white",
           "zerolinewidth": 2
          },
          "yaxis": {
           "automargin": true,
           "gridcolor": "white",
           "linecolor": "white",
           "ticks": "",
           "title": {
            "standoff": 15
           },
           "zerolinecolor": "white",
           "zerolinewidth": 2
          }
         }
        },
        "title": {
         "text": "titanic, variable Fare, split by size"
        },
        "xaxis": {
         "anchor": "y",
         "domain": [
          0,
          1
         ],
         "title": {
          "text": "split variable"
         }
        },
        "yaxis": {
         "anchor": "x",
         "domain": [
          0,
          1
         ],
         "title": {
          "text": "l2"
         }
        }
       }
      }
     },
     "metadata": {},
     "output_type": "display_data"
    },
    {
     "data": {
      "application/vnd.plotly.v1+json": {
       "config": {
        "plotlyServerURL": "https://plot.ly"
       },
       "data": [
        {
         "alignmentgroup": "True",
         "hovertemplate": "explanation=ale<br>split variable=%{x}<br>l2=%{y}<extra></extra>",
         "legendgroup": "ale",
         "marker": {
          "color": "#636efa"
         },
         "name": "ale",
         "notched": false,
         "offsetgroup": "ale",
         "orientation": "v",
         "quartilemethod": "exclusive",
         "showlegend": true,
         "type": "box",
         "x": [
          "size 32",
          "size 32",
          "size 32",
          "size 32",
          "size 32",
          "size 32",
          "size 32",
          "size 32",
          "size 32",
          "size 32",
          "size 32",
          "size 32",
          "size 32",
          "size 32",
          "size 32",
          "size 32",
          "size 32",
          "size 32",
          "size 32",
          "size 32",
          "size 32",
          "size 32",
          "size 32",
          "size 32",
          "size 32",
          "size 32",
          "size 32",
          "size 32",
          "size 32",
          "size 32",
          "size 64",
          "size 64",
          "size 64",
          "size 64",
          "size 64",
          "size 64",
          "size 64",
          "size 64",
          "size 64",
          "size 64",
          "size 64",
          "size 64",
          "size 64",
          "size 64",
          "size 64",
          "size 64",
          "size 64",
          "size 64",
          "size 64",
          "size 64",
          "size 64",
          "size 64",
          "size 64",
          "size 64",
          "size 64",
          "size 64",
          "size 64",
          "size 64",
          "size 64",
          "size 64",
          "size 128",
          "size 128",
          "size 128",
          "size 128",
          "size 128",
          "size 128",
          "size 128",
          "size 128",
          "size 128",
          "size 128",
          "size 128",
          "size 128",
          "size 128",
          "size 128",
          "size 128",
          "size 128",
          "size 128",
          "size 128",
          "size 128",
          "size 128",
          "size 128",
          "size 128",
          "size 128",
          "size 128",
          "size 128",
          "size 128",
          "size 128",
          "size 128",
          "size 128",
          "size 128",
          "size 128"
         ],
         "x0": " ",
         "xaxis": "x",
         "y": [
          0.0745747976493457,
          0.0841781800032036,
          0.0646640525693932,
          0.0820109681546748,
          0.0756685989841931,
          0.1216363095229816,
          0.1153787787729295,
          0.100870719468633,
          0.0930636375140327,
          0.0906595404622844,
          0.0774791056677367,
          0.0613968097121057,
          0.0566971265690426,
          0.0543838581909221,
          0.0685090799269411,
          0.0702373543663782,
          0.0594315657088458,
          0.0574068040729235,
          0.0492175157238463,
          0.0328418064414422,
          0.0971504173097166,
          0.0841138985443513,
          0.0697273112467716,
          0.0655034201722003,
          0.048301604498754,
          0.0870586195283945,
          0.0879939230027226,
          0.0608169540809528,
          0.0484096570987818,
          0.0137774502132066,
          0.0752204355348356,
          0.0466145865608415,
          0.0398727003269921,
          0.0445142883947552,
          0.0629282449894139,
          0.1118848120405701,
          0.1282625878880305,
          0.1063767995474488,
          0.0910598618646212,
          0.0597577397182091,
          0.0769301198878626,
          0.0345357599522393,
          0.0278670508524388,
          0.0487049305082382,
          0.0301338068246267,
          0.0925525749330994,
          0.0600024836053103,
          0.0494930735913496,
          0.0378171847627284,
          0.0556416940786843,
          0.0988636286127674,
          0.0673769780222299,
          0.0719575231997338,
          0.0589227850125221,
          0.0689443082617622,
          0.0600524000446719,
          0.0471286661848954,
          0.0603539677929685,
          0.0291850866367459,
          0.0379763099553996,
          0.0574616594430214,
          0.0574616594430214,
          0.0490562200112085,
          0.0631937857233884,
          0.0467192322629954,
          0.0817877760351347,
          0.0834468648105181,
          0.0919101401753275,
          0.0475816485371207,
          0.1163708735858411,
          0.0572379525960742,
          0.0962795605782369,
          0.0568107269104462,
          0.0310928431222455,
          0.0278809921041044,
          0.0285101767207865,
          0.0559609649665634,
          0.0457909469965056,
          0.0444001551552858,
          0.034447077762008,
          0.0594409647071926,
          0.1040915069978746,
          0.0479319548384077,
          0.0592437860226668,
          0.0298170650183445,
          0.028168042200948,
          0.0484615412506418,
          0.0581078377791745,
          0.0722699660202103,
          0.0518006558500474,
          0.0206735346275129
         ],
         "y0": " ",
         "yaxis": "y"
        },
        {
         "alignmentgroup": "True",
         "hovertemplate": "explanation=pd<br>split variable=%{x}<br>l2=%{y}<extra></extra>",
         "legendgroup": "pd",
         "marker": {
          "color": "#EF553B"
         },
         "name": "pd",
         "notched": false,
         "offsetgroup": "pd",
         "orientation": "v",
         "quartilemethod": "exclusive",
         "showlegend": true,
         "type": "box",
         "x": [
          "size 32",
          "size 32",
          "size 32",
          "size 32",
          "size 32",
          "size 32",
          "size 32",
          "size 32",
          "size 32",
          "size 32",
          "size 32",
          "size 32",
          "size 32",
          "size 32",
          "size 32",
          "size 32",
          "size 32",
          "size 32",
          "size 32",
          "size 32",
          "size 32",
          "size 32",
          "size 32",
          "size 32",
          "size 32",
          "size 32",
          "size 32",
          "size 32",
          "size 32",
          "size 32",
          "size 64",
          "size 64",
          "size 64",
          "size 64",
          "size 64",
          "size 64",
          "size 64",
          "size 64",
          "size 64",
          "size 64",
          "size 64",
          "size 64",
          "size 64",
          "size 64",
          "size 64",
          "size 64",
          "size 64",
          "size 64",
          "size 64",
          "size 64",
          "size 64",
          "size 64",
          "size 64",
          "size 64",
          "size 64",
          "size 64",
          "size 64",
          "size 64",
          "size 64",
          "size 64",
          "size 128",
          "size 128",
          "size 128",
          "size 128",
          "size 128",
          "size 128",
          "size 128",
          "size 128",
          "size 128",
          "size 128",
          "size 128",
          "size 128",
          "size 128",
          "size 128",
          "size 128",
          "size 128",
          "size 128",
          "size 128",
          "size 128",
          "size 128",
          "size 128",
          "size 128",
          "size 128",
          "size 128",
          "size 128",
          "size 128",
          "size 128",
          "size 128",
          "size 128",
          "size 128",
          "size 128"
         ],
         "x0": " ",
         "xaxis": "x",
         "y": [
          0.073006034,
          0.07111257,
          0.07033938,
          0.06557551,
          0.06410206,
          0.10116332,
          0.09855352,
          0.09440714,
          0.088098034,
          0.08572104,
          0.072921515,
          0.06441584,
          0.061531644,
          0.059984334,
          0.060207278,
          0.06413081,
          0.056743633,
          0.04984229,
          0.04536901,
          0.045862496,
          0.07982156,
          0.07338987,
          0.070419,
          0.06621667,
          0.064198256,
          0.067168936,
          0.065162234,
          0.06280848,
          0.05994386,
          0.05595024,
          0.05580513,
          0.048837073,
          0.046366006,
          0.04430172,
          0.04194206,
          0.07125682,
          0.06865629,
          0.06785041,
          0.06641193,
          0.06315598,
          0.0528543,
          0.044248093,
          0.04136339,
          0.039649177,
          0.038814396,
          0.055964418,
          0.04919929,
          0.04626169,
          0.043587793,
          0.041864667,
          0.06369529,
          0.059697684,
          0.05767805,
          0.053878263,
          0.050774653,
          0.052865487,
          0.048341718,
          0.046549775,
          0.04248014,
          0.04125547,
          0.049750533,
          0.049750533,
          0.041991085,
          0.037978824,
          0.037388492,
          0.0330381,
          0.048753522,
          0.048845455,
          0.044837687,
          0.042534437,
          0.036580104,
          0.038913727,
          0.034324847,
          0.03183782,
          0.029620972,
          0.024316328,
          0.045885824,
          0.044301193,
          0.041542098,
          0.03741261,
          0.031690866,
          0.06002243,
          0.05814927,
          0.057436388,
          0.05292999,
          0.050178126,
          0.04836825,
          0.04611045,
          0.04212815,
          0.03748489,
          0.030938338
         ],
         "y0": " ",
         "yaxis": "y"
        }
       ],
       "layout": {
        "boxmode": "group",
        "legend": {
         "title": {
          "text": "explanation"
         },
         "tracegroupgap": 0
        },
        "template": {
         "data": {
          "bar": [
           {
            "error_x": {
             "color": "#2a3f5f"
            },
            "error_y": {
             "color": "#2a3f5f"
            },
            "marker": {
             "line": {
              "color": "#E5ECF6",
              "width": 0.5
             },
             "pattern": {
              "fillmode": "overlay",
              "size": 10,
              "solidity": 0.2
             }
            },
            "type": "bar"
           }
          ],
          "barpolar": [
           {
            "marker": {
             "line": {
              "color": "#E5ECF6",
              "width": 0.5
             },
             "pattern": {
              "fillmode": "overlay",
              "size": 10,
              "solidity": 0.2
             }
            },
            "type": "barpolar"
           }
          ],
          "carpet": [
           {
            "aaxis": {
             "endlinecolor": "#2a3f5f",
             "gridcolor": "white",
             "linecolor": "white",
             "minorgridcolor": "white",
             "startlinecolor": "#2a3f5f"
            },
            "baxis": {
             "endlinecolor": "#2a3f5f",
             "gridcolor": "white",
             "linecolor": "white",
             "minorgridcolor": "white",
             "startlinecolor": "#2a3f5f"
            },
            "type": "carpet"
           }
          ],
          "choropleth": [
           {
            "colorbar": {
             "outlinewidth": 0,
             "ticks": ""
            },
            "type": "choropleth"
           }
          ],
          "contour": [
           {
            "colorbar": {
             "outlinewidth": 0,
             "ticks": ""
            },
            "colorscale": [
             [
              0,
              "#0d0887"
             ],
             [
              0.1111111111111111,
              "#46039f"
             ],
             [
              0.2222222222222222,
              "#7201a8"
             ],
             [
              0.3333333333333333,
              "#9c179e"
             ],
             [
              0.4444444444444444,
              "#bd3786"
             ],
             [
              0.5555555555555556,
              "#d8576b"
             ],
             [
              0.6666666666666666,
              "#ed7953"
             ],
             [
              0.7777777777777778,
              "#fb9f3a"
             ],
             [
              0.8888888888888888,
              "#fdca26"
             ],
             [
              1,
              "#f0f921"
             ]
            ],
            "type": "contour"
           }
          ],
          "contourcarpet": [
           {
            "colorbar": {
             "outlinewidth": 0,
             "ticks": ""
            },
            "type": "contourcarpet"
           }
          ],
          "heatmap": [
           {
            "colorbar": {
             "outlinewidth": 0,
             "ticks": ""
            },
            "colorscale": [
             [
              0,
              "#0d0887"
             ],
             [
              0.1111111111111111,
              "#46039f"
             ],
             [
              0.2222222222222222,
              "#7201a8"
             ],
             [
              0.3333333333333333,
              "#9c179e"
             ],
             [
              0.4444444444444444,
              "#bd3786"
             ],
             [
              0.5555555555555556,
              "#d8576b"
             ],
             [
              0.6666666666666666,
              "#ed7953"
             ],
             [
              0.7777777777777778,
              "#fb9f3a"
             ],
             [
              0.8888888888888888,
              "#fdca26"
             ],
             [
              1,
              "#f0f921"
             ]
            ],
            "type": "heatmap"
           }
          ],
          "heatmapgl": [
           {
            "colorbar": {
             "outlinewidth": 0,
             "ticks": ""
            },
            "colorscale": [
             [
              0,
              "#0d0887"
             ],
             [
              0.1111111111111111,
              "#46039f"
             ],
             [
              0.2222222222222222,
              "#7201a8"
             ],
             [
              0.3333333333333333,
              "#9c179e"
             ],
             [
              0.4444444444444444,
              "#bd3786"
             ],
             [
              0.5555555555555556,
              "#d8576b"
             ],
             [
              0.6666666666666666,
              "#ed7953"
             ],
             [
              0.7777777777777778,
              "#fb9f3a"
             ],
             [
              0.8888888888888888,
              "#fdca26"
             ],
             [
              1,
              "#f0f921"
             ]
            ],
            "type": "heatmapgl"
           }
          ],
          "histogram": [
           {
            "marker": {
             "pattern": {
              "fillmode": "overlay",
              "size": 10,
              "solidity": 0.2
             }
            },
            "type": "histogram"
           }
          ],
          "histogram2d": [
           {
            "colorbar": {
             "outlinewidth": 0,
             "ticks": ""
            },
            "colorscale": [
             [
              0,
              "#0d0887"
             ],
             [
              0.1111111111111111,
              "#46039f"
             ],
             [
              0.2222222222222222,
              "#7201a8"
             ],
             [
              0.3333333333333333,
              "#9c179e"
             ],
             [
              0.4444444444444444,
              "#bd3786"
             ],
             [
              0.5555555555555556,
              "#d8576b"
             ],
             [
              0.6666666666666666,
              "#ed7953"
             ],
             [
              0.7777777777777778,
              "#fb9f3a"
             ],
             [
              0.8888888888888888,
              "#fdca26"
             ],
             [
              1,
              "#f0f921"
             ]
            ],
            "type": "histogram2d"
           }
          ],
          "histogram2dcontour": [
           {
            "colorbar": {
             "outlinewidth": 0,
             "ticks": ""
            },
            "colorscale": [
             [
              0,
              "#0d0887"
             ],
             [
              0.1111111111111111,
              "#46039f"
             ],
             [
              0.2222222222222222,
              "#7201a8"
             ],
             [
              0.3333333333333333,
              "#9c179e"
             ],
             [
              0.4444444444444444,
              "#bd3786"
             ],
             [
              0.5555555555555556,
              "#d8576b"
             ],
             [
              0.6666666666666666,
              "#ed7953"
             ],
             [
              0.7777777777777778,
              "#fb9f3a"
             ],
             [
              0.8888888888888888,
              "#fdca26"
             ],
             [
              1,
              "#f0f921"
             ]
            ],
            "type": "histogram2dcontour"
           }
          ],
          "mesh3d": [
           {
            "colorbar": {
             "outlinewidth": 0,
             "ticks": ""
            },
            "type": "mesh3d"
           }
          ],
          "parcoords": [
           {
            "line": {
             "colorbar": {
              "outlinewidth": 0,
              "ticks": ""
             }
            },
            "type": "parcoords"
           }
          ],
          "pie": [
           {
            "automargin": true,
            "type": "pie"
           }
          ],
          "scatter": [
           {
            "fillpattern": {
             "fillmode": "overlay",
             "size": 10,
             "solidity": 0.2
            },
            "type": "scatter"
           }
          ],
          "scatter3d": [
           {
            "line": {
             "colorbar": {
              "outlinewidth": 0,
              "ticks": ""
             }
            },
            "marker": {
             "colorbar": {
              "outlinewidth": 0,
              "ticks": ""
             }
            },
            "type": "scatter3d"
           }
          ],
          "scattercarpet": [
           {
            "marker": {
             "colorbar": {
              "outlinewidth": 0,
              "ticks": ""
             }
            },
            "type": "scattercarpet"
           }
          ],
          "scattergeo": [
           {
            "marker": {
             "colorbar": {
              "outlinewidth": 0,
              "ticks": ""
             }
            },
            "type": "scattergeo"
           }
          ],
          "scattergl": [
           {
            "marker": {
             "colorbar": {
              "outlinewidth": 0,
              "ticks": ""
             }
            },
            "type": "scattergl"
           }
          ],
          "scattermapbox": [
           {
            "marker": {
             "colorbar": {
              "outlinewidth": 0,
              "ticks": ""
             }
            },
            "type": "scattermapbox"
           }
          ],
          "scatterpolar": [
           {
            "marker": {
             "colorbar": {
              "outlinewidth": 0,
              "ticks": ""
             }
            },
            "type": "scatterpolar"
           }
          ],
          "scatterpolargl": [
           {
            "marker": {
             "colorbar": {
              "outlinewidth": 0,
              "ticks": ""
             }
            },
            "type": "scatterpolargl"
           }
          ],
          "scatterternary": [
           {
            "marker": {
             "colorbar": {
              "outlinewidth": 0,
              "ticks": ""
             }
            },
            "type": "scatterternary"
           }
          ],
          "surface": [
           {
            "colorbar": {
             "outlinewidth": 0,
             "ticks": ""
            },
            "colorscale": [
             [
              0,
              "#0d0887"
             ],
             [
              0.1111111111111111,
              "#46039f"
             ],
             [
              0.2222222222222222,
              "#7201a8"
             ],
             [
              0.3333333333333333,
              "#9c179e"
             ],
             [
              0.4444444444444444,
              "#bd3786"
             ],
             [
              0.5555555555555556,
              "#d8576b"
             ],
             [
              0.6666666666666666,
              "#ed7953"
             ],
             [
              0.7777777777777778,
              "#fb9f3a"
             ],
             [
              0.8888888888888888,
              "#fdca26"
             ],
             [
              1,
              "#f0f921"
             ]
            ],
            "type": "surface"
           }
          ],
          "table": [
           {
            "cells": {
             "fill": {
              "color": "#EBF0F8"
             },
             "line": {
              "color": "white"
             }
            },
            "header": {
             "fill": {
              "color": "#C8D4E3"
             },
             "line": {
              "color": "white"
             }
            },
            "type": "table"
           }
          ]
         },
         "layout": {
          "annotationdefaults": {
           "arrowcolor": "#2a3f5f",
           "arrowhead": 0,
           "arrowwidth": 1
          },
          "autotypenumbers": "strict",
          "coloraxis": {
           "colorbar": {
            "outlinewidth": 0,
            "ticks": ""
           }
          },
          "colorscale": {
           "diverging": [
            [
             0,
             "#8e0152"
            ],
            [
             0.1,
             "#c51b7d"
            ],
            [
             0.2,
             "#de77ae"
            ],
            [
             0.3,
             "#f1b6da"
            ],
            [
             0.4,
             "#fde0ef"
            ],
            [
             0.5,
             "#f7f7f7"
            ],
            [
             0.6,
             "#e6f5d0"
            ],
            [
             0.7,
             "#b8e186"
            ],
            [
             0.8,
             "#7fbc41"
            ],
            [
             0.9,
             "#4d9221"
            ],
            [
             1,
             "#276419"
            ]
           ],
           "sequential": [
            [
             0,
             "#0d0887"
            ],
            [
             0.1111111111111111,
             "#46039f"
            ],
            [
             0.2222222222222222,
             "#7201a8"
            ],
            [
             0.3333333333333333,
             "#9c179e"
            ],
            [
             0.4444444444444444,
             "#bd3786"
            ],
            [
             0.5555555555555556,
             "#d8576b"
            ],
            [
             0.6666666666666666,
             "#ed7953"
            ],
            [
             0.7777777777777778,
             "#fb9f3a"
            ],
            [
             0.8888888888888888,
             "#fdca26"
            ],
            [
             1,
             "#f0f921"
            ]
           ],
           "sequentialminus": [
            [
             0,
             "#0d0887"
            ],
            [
             0.1111111111111111,
             "#46039f"
            ],
            [
             0.2222222222222222,
             "#7201a8"
            ],
            [
             0.3333333333333333,
             "#9c179e"
            ],
            [
             0.4444444444444444,
             "#bd3786"
            ],
            [
             0.5555555555555556,
             "#d8576b"
            ],
            [
             0.6666666666666666,
             "#ed7953"
            ],
            [
             0.7777777777777778,
             "#fb9f3a"
            ],
            [
             0.8888888888888888,
             "#fdca26"
            ],
            [
             1,
             "#f0f921"
            ]
           ]
          },
          "colorway": [
           "#636efa",
           "#EF553B",
           "#00cc96",
           "#ab63fa",
           "#FFA15A",
           "#19d3f3",
           "#FF6692",
           "#B6E880",
           "#FF97FF",
           "#FECB52"
          ],
          "font": {
           "color": "#2a3f5f"
          },
          "geo": {
           "bgcolor": "white",
           "lakecolor": "white",
           "landcolor": "#E5ECF6",
           "showlakes": true,
           "showland": true,
           "subunitcolor": "white"
          },
          "hoverlabel": {
           "align": "left"
          },
          "hovermode": "closest",
          "mapbox": {
           "style": "light"
          },
          "paper_bgcolor": "white",
          "plot_bgcolor": "#E5ECF6",
          "polar": {
           "angularaxis": {
            "gridcolor": "white",
            "linecolor": "white",
            "ticks": ""
           },
           "bgcolor": "#E5ECF6",
           "radialaxis": {
            "gridcolor": "white",
            "linecolor": "white",
            "ticks": ""
           }
          },
          "scene": {
           "xaxis": {
            "backgroundcolor": "#E5ECF6",
            "gridcolor": "white",
            "gridwidth": 2,
            "linecolor": "white",
            "showbackground": true,
            "ticks": "",
            "zerolinecolor": "white"
           },
           "yaxis": {
            "backgroundcolor": "#E5ECF6",
            "gridcolor": "white",
            "gridwidth": 2,
            "linecolor": "white",
            "showbackground": true,
            "ticks": "",
            "zerolinecolor": "white"
           },
           "zaxis": {
            "backgroundcolor": "#E5ECF6",
            "gridcolor": "white",
            "gridwidth": 2,
            "linecolor": "white",
            "showbackground": true,
            "ticks": "",
            "zerolinecolor": "white"
           }
          },
          "shapedefaults": {
           "line": {
            "color": "#2a3f5f"
           }
          },
          "ternary": {
           "aaxis": {
            "gridcolor": "white",
            "linecolor": "white",
            "ticks": ""
           },
           "baxis": {
            "gridcolor": "white",
            "linecolor": "white",
            "ticks": ""
           },
           "bgcolor": "#E5ECF6",
           "caxis": {
            "gridcolor": "white",
            "linecolor": "white",
            "ticks": ""
           }
          },
          "title": {
           "x": 0.05
          },
          "xaxis": {
           "automargin": true,
           "gridcolor": "white",
           "linecolor": "white",
           "ticks": "",
           "title": {
            "standoff": 15
           },
           "zerolinecolor": "white",
           "zerolinewidth": 2
          },
          "yaxis": {
           "automargin": true,
           "gridcolor": "white",
           "linecolor": "white",
           "ticks": "",
           "title": {
            "standoff": 15
           },
           "zerolinecolor": "white",
           "zerolinewidth": 2
          }
         }
        },
        "title": {
         "text": "xor, variable x1, split by size"
        },
        "xaxis": {
         "anchor": "y",
         "domain": [
          0,
          1
         ],
         "title": {
          "text": "split variable"
         }
        },
        "yaxis": {
         "anchor": "x",
         "domain": [
          0,
          1
         ],
         "title": {
          "text": "l2"
         }
        }
       }
      }
     },
     "metadata": {},
     "output_type": "display_data"
    }
   ],
   "source": [
    "boxplots(\"size\", \"l2\")"
   ]
  },
  {
   "cell_type": "code",
   "execution_count": null,
   "metadata": {},
   "outputs": [],
   "source": []
  },
  {
   "cell_type": "code",
   "execution_count": null,
   "metadata": {},
   "outputs": [],
   "source": []
  }
 ],
 "metadata": {
  "kernelspec": {
   "display_name": "env_xai",
   "language": "python",
   "name": "python3"
  },
  "language_info": {
   "codemirror_mode": {
    "name": "ipython",
    "version": 3
   },
   "file_extension": ".py",
   "mimetype": "text/x-python",
   "name": "python",
   "nbconvert_exporter": "python",
   "pygments_lexer": "ipython3",
   "version": "3.8.10"
  },
  "orig_nbformat": 4,
  "vscode": {
   "interpreter": {
    "hash": "9fa5bebc7f2b9d6bc871dff4233df537dbdbb49e718271b3c66c259dc3a1f877"
   }
  }
 },
 "nbformat": 4,
 "nbformat_minor": 2
}
